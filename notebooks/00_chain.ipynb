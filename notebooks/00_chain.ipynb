{
 "cells": [
  {
   "cell_type": "markdown",
   "metadata": {},
   "source": [
    "참고\n",
    "- `@trace_function()` 은 제가 자체적으로 작성한 데코레이터입니다. 경로는 `utils/util.py` 입니다.\n",
    "\n",
    "- 랭그래프를 실행하기 위한 라이브러리 목록은 `modules/base.py` 에 있습니다."
   ]
  },
  {
   "cell_type": "code",
   "execution_count": 1,
   "metadata": {},
   "outputs": [],
   "source": [
    "from modules.base import *"
   ]
  },
  {
   "cell_type": "markdown",
   "metadata": {},
   "source": [
    "#### 답변 생성하기"
   ]
  },
  {
   "cell_type": "markdown",
   "metadata": {},
   "source": [
    "---"
   ]
  },
  {
   "cell_type": "code",
   "execution_count": 2,
   "metadata": {},
   "outputs": [
    {
     "data": {
      "text/plain": [
       "[HumanMessage(content='안녕하세요', additional_kwargs={}, response_metadata={}),\n",
       " AIMessage(content='네~ 안녕하세요. 무엇을 도와드릴까요?', additional_kwargs={}, response_metadata={}),\n",
       " HumanMessage(content='고래에 대해서 알려주세요~', additional_kwargs={}, response_metadata={})]"
      ]
     },
     "execution_count": 2,
     "metadata": {},
     "output_type": "execute_result"
    }
   ],
   "source": [
    "messages = [HumanMessage(content=f\"안녕하세요\"),\n",
    "            AIMessage(content=f\"네~ 안녕하세요. 무엇을 도와드릴까요?\"),\n",
    "            HumanMessage(content=f\"고래에 대해서 알려주세요~\")]\n",
    "messages"
   ]
  },
  {
   "cell_type": "markdown",
   "metadata": {},
   "source": [
    "##### 1. OpenAI 모델 사용하기"
   ]
  },
  {
   "cell_type": "code",
   "execution_count": 16,
   "metadata": {},
   "outputs": [
    {
     "name": "stdout",
     "output_type": "stream",
     "text": [
      "고래는 해양 포유류의 일종으로, 주로 바다에서 생활합니다. 고래는 다양한 종류가 있으며, 그 크기와 특성에 따라 여러 범주로 나눌 수 있습니다. 여기 몇 가지 주요 특징을 알려드릴게요:\n",
      "\n",
      "1. **크기**: 고래는 세계에서 가장 큰 동물 중 하나로, 대왕고래(블루웨일)는 지구상에서 가장 큰 동물입니다. 대왕고래는 길이가 최대 30미터에 달할 수 있습니다.\n",
      "\n",
      "2. **종류**: 고래는 두 가지 주요 그룹으로 나뉩니다: 수염고래와 이빨고래입니다. \n",
      "   - 수염고래는 수염판을 이용해 플랑크톤과 작은 물고기를 걸러 먹습니다. 대왕고래, 혹등고래 등이 여기에 속합니다.\n",
      "   - 이빨고래는 이빨을 가지고 있어 물고기나 오징어 등을 사냥합니다. 돌고래, 향유고래 등이 여기에 속합니다.\n",
      "\n",
      "3. **호흡**: 고래는 포유류이기 때문에 아가미가 아닌 폐로 호흡합니다. 그래서 수면 위로 올라와 공기를 들이마셔야 합니다.\n",
      "\n",
      "4. **지능**: 고래는 높은 지능을 가지고 있으며, 특히 돌고래는 매우 사회적이고 복잡한 의사소통 능력을 가지고 있는 것으로 알려져 있습니다.\n",
      "\n",
      "5. **소리**: 고래는 의사소통을 위해 소리를 사용합니다. 특히, 수염고래는 '고래 노래'라고 불리는 소리를 내며, 이는 여러 가지 목적(예: 짝짓기, 길 찾기 등)으로 사용됩니다.\n",
      "\n",
      "6. **보전 상태**: 많은 고래 종들이 인간의 활동(예: 고래잡이, 해양 오염 등)으로 인해 위협받고 있으며, 여러 종이 멸종 위기에 처해 있습니다. 그래서 전 세계적으로 고래 보호 노력이 이루어지고 있습니다.\n",
      "\n",
      "고래에 관해 더 궁금한 점이 있으면 언제든지 물어보세요!"
     ]
    }
   ],
   "source": [
    "for chunk in llm.stream(messages):\n",
    "    print(chunk.content, end=\"\", flush=True)"
   ]
  },
  {
   "cell_type": "markdown",
   "metadata": {},
   "source": [
    "##### 2. HuggingFace 모델 사용하기"
   ]
  },
  {
   "cell_type": "code",
   "execution_count": 6,
   "metadata": {},
   "outputs": [],
   "source": [
    "from langchain_huggingface import HuggingFaceEndpoint\n",
    "from langchain_huggingface import ChatHuggingFace\n",
    "\n",
    "llm_endpoint = HuggingFaceEndpoint(\n",
    "    endpoint_url=\"http://192.168.1.21:17011\", # Endpoint 주소 (TGI 사용)\n",
    "    huggingfacehub_api_token=os.getenv(\"HF_API_TOKEN\"), # HuggingFace API 토큰\n",
    "    max_new_tokens=4096,\n",
    "    top_k=1,\n",
    "    top_p=0.001,\n",
    "    temperature=0.001,\n",
    "    repetition_penalty=1.03,\n",
    ")\n",
    "\n",
    "huggingface_llm = ChatHuggingFace(\n",
    "    llm=llm_endpoint,\n",
    "    # model_id=\"beomi/gemma-ko-2b\", # 사용할 HuggingFace 모델 이름\n",
    "    model_id=\"google/gemma-2-2b-it\",\n",
    "    stream_mode=True\n",
    ").bind(max_tokens=4096)"
   ]
  },
  {
   "cell_type": "code",
   "execution_count": 4,
   "metadata": {},
   "outputs": [],
   "source": [
    "# huggingface_llm.tokenizer.chat_template = \"{{ bos_token }}{% if messages[0]['role'] == 'system' %}{{ raise_exception('System role not supported') }}{% endif %}{% for message in messages %}{% if (message['role'] == 'user') != (loop.index0 % 2 == 0) %}{{ raise_exception('Conversation roles must alternate user/assistant/user/assistant/...') }}{% endif %}{% if (message['role'] == 'assistant') %}{% set role = 'model' %}{% else %}{% set role = message['role'] %}{% endif %}{{ '<start_of_turn>' + role + '\\n' + message['content'] | trim + '<end_of_turn>\\n' }}{% endfor %}{% if add_generation_prompt %}{{'<start_of_turn>model\\n'}}{% endif %}\""
   ]
  },
  {
   "cell_type": "code",
   "execution_count": 7,
   "metadata": {},
   "outputs": [
    {
     "name": "stdout",
     "output_type": "stream",
     "text": [
      "고래에 대해 알려드릴게요! 😊\n",
      "\n",
      "**고래는 세계에서 가장 큰 육상 동물 중 하나이며, 상징적인 존재이다.** 🌊🐳\n",
      "\n",
      "고래의 종류에는 \n",
      "\n",
      "* **늙은 고래:** 심오하고 조용한 존재로, 오늘의 역사에 영향을 미칠 수 있는 것을 상상해 보세요.\n",
      "* **어린 고래:** **어려운 지적 그림자와 함께하는 이야기**, 어린 취침 시간에 꿈꿔보고 싶어 할 때, 시대의 빛을 찾아드릴 수 있어.\n",
      "\n",
      "각각의 종류들은 서로 다른 특징을 가지고 있고, 서로 다른 역할을 합니다.\n",
      "\n",
      "좀 더 자세한 내용을 알고 싶으시면, 어떤 종류의 고래에 대한 정보를 원하시나요? 예를 들어:\n",
      "\n",
      "* **어떤 종류의 고래가 어떤 특징을 가지고 있나요?**\n",
      "* **특별한 상황이나 지역적으로 큰 고래 이야기가 있나요?**\n",
      "* **고래속에 살고 있던 원숭이는 어쩔 수 없을까요?** \n",
      "\n",
      "\n",
      "\n",
      " 궁금한 점이 있으면 언제든지 말씀해주세요. 🐳🌊 ❤️ \n"
     ]
    }
   ],
   "source": [
    "for chunk in huggingface_llm.stream(messages):\n",
    "    print(chunk.content, end=\"\", flush=True)"
   ]
  }
 ],
 "metadata": {
  "kernelspec": {
   "display_name": "langchain",
   "language": "python",
   "name": "langchain"
  },
  "language_info": {
   "codemirror_mode": {
    "name": "ipython",
    "version": 3
   },
   "file_extension": ".py",
   "mimetype": "text/x-python",
   "name": "python",
   "nbconvert_exporter": "python",
   "pygments_lexer": "ipython3",
   "version": "3.11.11"
  }
 },
 "nbformat": 4,
 "nbformat_minor": 2
}
