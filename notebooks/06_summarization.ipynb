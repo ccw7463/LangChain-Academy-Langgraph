{
 "cells": [
  {
   "cell_type": "code",
   "execution_count": 1,
   "metadata": {},
   "outputs": [],
   "source": [
    "from modules.base import *"
   ]
  },
  {
   "cell_type": "markdown",
   "metadata": {},
   "source": [
    "#### 요약 사용하기"
   ]
  },
  {
   "cell_type": "markdown",
   "metadata": {},
   "source": [
    "---"
   ]
  },
  {
   "cell_type": "code",
   "execution_count": 2,
   "metadata": {},
   "outputs": [],
   "source": [
    "LIMIT_LENGTH = 12 # 대화기록이 특정길이 넘어갈경우 일부삭제"
   ]
  },
  {
   "cell_type": "code",
   "execution_count": 3,
   "metadata": {},
   "outputs": [],
   "source": [
    "class State(MessagesState):\n",
    "    summary: str\n",
    "\n",
    "def node_conversation(state: State, \n",
    "                      config: RunnableConfig):\n",
    "    \n",
    "    summary = state.get(\"summary\", \"\")\n",
    "    if summary:\n",
    "        system_message = f\"다음은 지금까지의 대화 요약입니다. {summary}\\n\\n\"\n",
    "        messages = [SystemMessage(content=system_message)] + state[\"messages\"]\n",
    "    else:\n",
    "        messages = state[\"messages\"]\n",
    "    response = llm.invoke(messages, config)\n",
    "    return {\"messages\": response}\n",
    "\n",
    "def node_should_continue(state: State):    \n",
    "    messages = state[\"messages\"]\n",
    "    if len(messages) >= LIMIT_LENGTH:\n",
    "        print(f\"{YELLOW}\\n대화 길이가 {LIMIT_LENGTH} 이상 ({LIMIT_LENGTH//2}번 이상 대화 주고받음) 이므로 요약 노드로 이동합니다.\\n{RESET}\")\n",
    "        return \"node_summarize_conversation\"\n",
    "    return END\n",
    "\n",
    "def node_summarize_conversation(state: State):\n",
    "    summary = state.get(\"summary\", \"\")\n",
    "    if summary:\n",
    "        summary_message = (\n",
    "            f\"다음은 지금까지의 대화 요약입니다. {summary}\\n\\n\"\n",
    "            \"새로운 메시지를 고려하여 요약 내용을 업데이트하세요.\"\n",
    "        )\n",
    "    else:\n",
    "        summary_message = \"위 내용을 요약하세요.\"\n",
    "    messages = state[\"messages\"] + [HumanMessage(content=summary_message)]\n",
    "    response = llm.invoke(messages)\n",
    "    delete_messages = [RemoveMessage(id=m.id) for m in state[\"messages\"][:LIMIT_LENGTH//2]]\n",
    "    return {\"summary\": response.content, \"messages\": delete_messages}\n",
    "\n",
    "workflow = StateGraph(State)\n",
    "workflow.add_node(\"node_conversation\", node_conversation)\n",
    "workflow.add_node(\"node_summarize_conversation\", node_summarize_conversation)\n",
    "workflow.add_edge(START, \"node_conversation\")\n",
    "workflow.add_conditional_edges(\"node_conversation\", node_should_continue)\n",
    "workflow.add_edge(\"node_summarize_conversation\", END)\n",
    "ShortTermMemory = MemorySaver()\n",
    "graph = workflow.compile(checkpointer=ShortTermMemory)"
   ]
  },
  {
   "cell_type": "code",
   "execution_count": 4,
   "metadata": {},
   "outputs": [],
   "source": [
    "config = {\"configurable\": {\"thread_id\": \"first_chat\", \n",
    "                           \"user_id\": \"changwoo\"}}"
   ]
  },
  {
   "cell_type": "code",
   "execution_count": 5,
   "metadata": {},
   "outputs": [
    {
     "data": {
      "text/plain": [
       "{'messages': [HumanMessage(content='안녕 나는 창우라고해', additional_kwargs={}, response_metadata={}, id='b0a0e16e-f320-4669-9f64-956e96a272ab'),\n",
       "  AIMessage(content='안녕하세요, 창우님! 만나서 반갑습니다. 어떻게 도와드릴까요?', additional_kwargs={'refusal': None}, response_metadata={'token_usage': {'completion_tokens': 21, 'prompt_tokens': 14, 'total_tokens': 35, 'completion_tokens_details': {'accepted_prediction_tokens': 0, 'audio_tokens': 0, 'reasoning_tokens': 0, 'rejected_prediction_tokens': 0}, 'prompt_tokens_details': {'audio_tokens': 0, 'cached_tokens': 0}}, 'model_name': 'gpt-4o-2024-08-06', 'system_fingerprint': 'fp_703d4ff298', 'finish_reason': 'stop', 'logprobs': None}, id='run-064de447-7b46-4c4e-81e3-d4553a5be302-0', usage_metadata={'input_tokens': 14, 'output_tokens': 21, 'total_tokens': 35, 'input_token_details': {'audio': 0, 'cache_read': 0}, 'output_token_details': {'audio': 0, 'reasoning': 0}})]}"
      ]
     },
     "execution_count": 5,
     "metadata": {},
     "output_type": "execute_result"
    }
   ],
   "source": [
    "graph.invoke({\"messages\":\"안녕 나는 창우라고해\"}, config=config)"
   ]
  },
  {
   "cell_type": "code",
   "execution_count": 6,
   "metadata": {},
   "outputs": [
    {
     "data": {
      "text/plain": [
       "{'messages': [HumanMessage(content='안녕 나는 창우라고해', additional_kwargs={}, response_metadata={}, id='b0a0e16e-f320-4669-9f64-956e96a272ab'),\n",
       "  AIMessage(content='안녕하세요, 창우님! 만나서 반갑습니다. 어떻게 도와드릴까요?', additional_kwargs={'refusal': None}, response_metadata={'token_usage': {'completion_tokens': 21, 'prompt_tokens': 14, 'total_tokens': 35, 'completion_tokens_details': {'accepted_prediction_tokens': 0, 'audio_tokens': 0, 'reasoning_tokens': 0, 'rejected_prediction_tokens': 0}, 'prompt_tokens_details': {'audio_tokens': 0, 'cached_tokens': 0}}, 'model_name': 'gpt-4o-2024-08-06', 'system_fingerprint': 'fp_703d4ff298', 'finish_reason': 'stop', 'logprobs': None}, id='run-064de447-7b46-4c4e-81e3-d4553a5be302-0', usage_metadata={'input_tokens': 14, 'output_tokens': 21, 'total_tokens': 35, 'input_token_details': {'audio': 0, 'cache_read': 0}, 'output_token_details': {'audio': 0, 'reasoning': 0}}),\n",
       "  HumanMessage(content='나는 올해 30살이고, 현재 부산대학교에서 박사과정을 하고있어.', additional_kwargs={}, response_metadata={}, id='e993f5ae-106a-455b-8279-041b60ae8626'),\n",
       "  AIMessage(content='멋지네요, 창우님! 부산대학교에서 박사과정을 하고 계시다니 정말 대단해요. 어떤 분야를 연구하고 계신가요? 연구 주제에 대해 이야기해주시면 좋을 것 같아요.', additional_kwargs={'refusal': None}, response_metadata={'token_usage': {'completion_tokens': 53, 'prompt_tokens': 61, 'total_tokens': 114, 'completion_tokens_details': {'accepted_prediction_tokens': 0, 'audio_tokens': 0, 'reasoning_tokens': 0, 'rejected_prediction_tokens': 0}, 'prompt_tokens_details': {'audio_tokens': 0, 'cached_tokens': 0}}, 'model_name': 'gpt-4o-2024-08-06', 'system_fingerprint': 'fp_b7d65f1a5b', 'finish_reason': 'stop', 'logprobs': None}, id='run-175933f7-c885-4244-8136-993c7f3fd6d1-0', usage_metadata={'input_tokens': 61, 'output_tokens': 53, 'total_tokens': 114, 'input_token_details': {'audio': 0, 'cache_read': 0}, 'output_token_details': {'audio': 0, 'reasoning': 0}})]}"
      ]
     },
     "execution_count": 6,
     "metadata": {},
     "output_type": "execute_result"
    }
   ],
   "source": [
    "graph.invoke({\"messages\":\"나는 올해 30살이고, 현재 부산대학교에서 박사과정을 하고있어.\"}, config=config)"
   ]
  },
  {
   "cell_type": "code",
   "execution_count": 7,
   "metadata": {},
   "outputs": [
    {
     "data": {
      "text/plain": [
       "{'messages': [HumanMessage(content='안녕 나는 창우라고해', additional_kwargs={}, response_metadata={}, id='b0a0e16e-f320-4669-9f64-956e96a272ab'),\n",
       "  AIMessage(content='안녕하세요, 창우님! 만나서 반갑습니다. 어떻게 도와드릴까요?', additional_kwargs={'refusal': None}, response_metadata={'token_usage': {'completion_tokens': 21, 'prompt_tokens': 14, 'total_tokens': 35, 'completion_tokens_details': {'accepted_prediction_tokens': 0, 'audio_tokens': 0, 'reasoning_tokens': 0, 'rejected_prediction_tokens': 0}, 'prompt_tokens_details': {'audio_tokens': 0, 'cached_tokens': 0}}, 'model_name': 'gpt-4o-2024-08-06', 'system_fingerprint': 'fp_703d4ff298', 'finish_reason': 'stop', 'logprobs': None}, id='run-064de447-7b46-4c4e-81e3-d4553a5be302-0', usage_metadata={'input_tokens': 14, 'output_tokens': 21, 'total_tokens': 35, 'input_token_details': {'audio': 0, 'cache_read': 0}, 'output_token_details': {'audio': 0, 'reasoning': 0}}),\n",
       "  HumanMessage(content='나는 올해 30살이고, 현재 부산대학교에서 박사과정을 하고있어.', additional_kwargs={}, response_metadata={}, id='e993f5ae-106a-455b-8279-041b60ae8626'),\n",
       "  AIMessage(content='멋지네요, 창우님! 부산대학교에서 박사과정을 하고 계시다니 정말 대단해요. 어떤 분야를 연구하고 계신가요? 연구 주제에 대해 이야기해주시면 좋을 것 같아요.', additional_kwargs={'refusal': None}, response_metadata={'token_usage': {'completion_tokens': 53, 'prompt_tokens': 61, 'total_tokens': 114, 'completion_tokens_details': {'accepted_prediction_tokens': 0, 'audio_tokens': 0, 'reasoning_tokens': 0, 'rejected_prediction_tokens': 0}, 'prompt_tokens_details': {'audio_tokens': 0, 'cached_tokens': 0}}, 'model_name': 'gpt-4o-2024-08-06', 'system_fingerprint': 'fp_b7d65f1a5b', 'finish_reason': 'stop', 'logprobs': None}, id='run-175933f7-c885-4244-8136-993c7f3fd6d1-0', usage_metadata={'input_tokens': 61, 'output_tokens': 53, 'total_tokens': 114, 'input_token_details': {'audio': 0, 'cache_read': 0}, 'output_token_details': {'audio': 0, 'reasoning': 0}}),\n",
       "  HumanMessage(content='내 전공은 인공지능이고, 요즘 LLM 분야에 관심이 많아.', additional_kwargs={}, response_metadata={}, id='9fc10d7b-5243-47cc-9c78-56798632ef6f'),\n",
       "  AIMessage(content='인공지능 분야에서 연구하고 계시다니 정말 흥미롭네요! 특히 대형 언어 모델(LLM)에 관심이 많다고 하셨는데, 이 분야는 최근 굉장히 빠르게 발전하고 있어 많은 연구자들이 주목하고 있는 주제죠. 특정한 LLM의 응용이나 기술적인 측면에 대해 연구하고 계신 부분이 있나요? 아니면 향후 연구 계획이나 목표가 있으신가요?', additional_kwargs={'refusal': None}, response_metadata={'token_usage': {'completion_tokens': 99, 'prompt_tokens': 141, 'total_tokens': 240, 'completion_tokens_details': {'accepted_prediction_tokens': 0, 'audio_tokens': 0, 'reasoning_tokens': 0, 'rejected_prediction_tokens': 0}, 'prompt_tokens_details': {'audio_tokens': 0, 'cached_tokens': 0}}, 'model_name': 'gpt-4o-2024-08-06', 'system_fingerprint': 'fp_703d4ff298', 'finish_reason': 'stop', 'logprobs': None}, id='run-c0c5f96e-8b23-47c5-ab7a-b8a9d52d0864-0', usage_metadata={'input_tokens': 141, 'output_tokens': 99, 'total_tokens': 240, 'input_token_details': {'audio': 0, 'cache_read': 0}, 'output_token_details': {'audio': 0, 'reasoning': 0}})]}"
      ]
     },
     "execution_count": 7,
     "metadata": {},
     "output_type": "execute_result"
    }
   ],
   "source": [
    "graph.invoke({\"messages\":\"내 전공은 인공지능이고, 요즘 LLM 분야에 관심이 많아.\"}, config=config)"
   ]
  },
  {
   "cell_type": "code",
   "execution_count": 8,
   "metadata": {},
   "outputs": [
    {
     "data": {
      "text/plain": [
       "{'messages': [HumanMessage(content='안녕 나는 창우라고해', additional_kwargs={}, response_metadata={}, id='b0a0e16e-f320-4669-9f64-956e96a272ab'),\n",
       "  AIMessage(content='안녕하세요, 창우님! 만나서 반갑습니다. 어떻게 도와드릴까요?', additional_kwargs={'refusal': None}, response_metadata={'token_usage': {'completion_tokens': 21, 'prompt_tokens': 14, 'total_tokens': 35, 'completion_tokens_details': {'accepted_prediction_tokens': 0, 'audio_tokens': 0, 'reasoning_tokens': 0, 'rejected_prediction_tokens': 0}, 'prompt_tokens_details': {'audio_tokens': 0, 'cached_tokens': 0}}, 'model_name': 'gpt-4o-2024-08-06', 'system_fingerprint': 'fp_703d4ff298', 'finish_reason': 'stop', 'logprobs': None}, id='run-064de447-7b46-4c4e-81e3-d4553a5be302-0', usage_metadata={'input_tokens': 14, 'output_tokens': 21, 'total_tokens': 35, 'input_token_details': {'audio': 0, 'cache_read': 0}, 'output_token_details': {'audio': 0, 'reasoning': 0}}),\n",
       "  HumanMessage(content='나는 올해 30살이고, 현재 부산대학교에서 박사과정을 하고있어.', additional_kwargs={}, response_metadata={}, id='e993f5ae-106a-455b-8279-041b60ae8626'),\n",
       "  AIMessage(content='멋지네요, 창우님! 부산대학교에서 박사과정을 하고 계시다니 정말 대단해요. 어떤 분야를 연구하고 계신가요? 연구 주제에 대해 이야기해주시면 좋을 것 같아요.', additional_kwargs={'refusal': None}, response_metadata={'token_usage': {'completion_tokens': 53, 'prompt_tokens': 61, 'total_tokens': 114, 'completion_tokens_details': {'accepted_prediction_tokens': 0, 'audio_tokens': 0, 'reasoning_tokens': 0, 'rejected_prediction_tokens': 0}, 'prompt_tokens_details': {'audio_tokens': 0, 'cached_tokens': 0}}, 'model_name': 'gpt-4o-2024-08-06', 'system_fingerprint': 'fp_b7d65f1a5b', 'finish_reason': 'stop', 'logprobs': None}, id='run-175933f7-c885-4244-8136-993c7f3fd6d1-0', usage_metadata={'input_tokens': 61, 'output_tokens': 53, 'total_tokens': 114, 'input_token_details': {'audio': 0, 'cache_read': 0}, 'output_token_details': {'audio': 0, 'reasoning': 0}}),\n",
       "  HumanMessage(content='내 전공은 인공지능이고, 요즘 LLM 분야에 관심이 많아.', additional_kwargs={}, response_metadata={}, id='9fc10d7b-5243-47cc-9c78-56798632ef6f'),\n",
       "  AIMessage(content='인공지능 분야에서 연구하고 계시다니 정말 흥미롭네요! 특히 대형 언어 모델(LLM)에 관심이 많다고 하셨는데, 이 분야는 최근 굉장히 빠르게 발전하고 있어 많은 연구자들이 주목하고 있는 주제죠. 특정한 LLM의 응용이나 기술적인 측면에 대해 연구하고 계신 부분이 있나요? 아니면 향후 연구 계획이나 목표가 있으신가요?', additional_kwargs={'refusal': None}, response_metadata={'token_usage': {'completion_tokens': 99, 'prompt_tokens': 141, 'total_tokens': 240, 'completion_tokens_details': {'accepted_prediction_tokens': 0, 'audio_tokens': 0, 'reasoning_tokens': 0, 'rejected_prediction_tokens': 0}, 'prompt_tokens_details': {'audio_tokens': 0, 'cached_tokens': 0}}, 'model_name': 'gpt-4o-2024-08-06', 'system_fingerprint': 'fp_703d4ff298', 'finish_reason': 'stop', 'logprobs': None}, id='run-c0c5f96e-8b23-47c5-ab7a-b8a9d52d0864-0', usage_metadata={'input_tokens': 141, 'output_tokens': 99, 'total_tokens': 240, 'input_token_details': {'audio': 0, 'cache_read': 0}, 'output_token_details': {'audio': 0, 'reasoning': 0}}),\n",
       "  HumanMessage(content='내 취미는 헬스장에서 운동하는거야', additional_kwargs={}, response_metadata={}, id='b01efa7c-9911-4376-8b34-40cc1f3f2aec'),\n",
       "  AIMessage(content='운동은 건강을 유지하고 스트레스를 해소하는 데 정말 좋은 취미죠! 헬스장에서 어떤 종류의 운동을 주로 하시나요? 웨이트 트레이닝, 유산소 운동, 혹은 다른 특별한 프로그램을 따르시는지 궁금하네요.', additional_kwargs={'refusal': None}, response_metadata={'token_usage': {'completion_tokens': 64, 'prompt_tokens': 259, 'total_tokens': 323, 'completion_tokens_details': {'accepted_prediction_tokens': 0, 'audio_tokens': 0, 'reasoning_tokens': 0, 'rejected_prediction_tokens': 0}, 'prompt_tokens_details': {'audio_tokens': 0, 'cached_tokens': 0}}, 'model_name': 'gpt-4o-2024-08-06', 'system_fingerprint': 'fp_703d4ff298', 'finish_reason': 'stop', 'logprobs': None}, id='run-e2d87550-80ac-4a60-9e58-881e60c73acd-0', usage_metadata={'input_tokens': 259, 'output_tokens': 64, 'total_tokens': 323, 'input_token_details': {'audio': 0, 'cache_read': 0}, 'output_token_details': {'audio': 0, 'reasoning': 0}})]}"
      ]
     },
     "execution_count": 8,
     "metadata": {},
     "output_type": "execute_result"
    }
   ],
   "source": [
    "graph.invoke({\"messages\":\"내 취미는 헬스장에서 운동하는거야\"}, config=config)"
   ]
  },
  {
   "cell_type": "code",
   "execution_count": 9,
   "metadata": {},
   "outputs": [
    {
     "data": {
      "text/plain": [
       "{'messages': [HumanMessage(content='안녕 나는 창우라고해', additional_kwargs={}, response_metadata={}, id='b0a0e16e-f320-4669-9f64-956e96a272ab'),\n",
       "  AIMessage(content='안녕하세요, 창우님! 만나서 반갑습니다. 어떻게 도와드릴까요?', additional_kwargs={'refusal': None}, response_metadata={'token_usage': {'completion_tokens': 21, 'prompt_tokens': 14, 'total_tokens': 35, 'completion_tokens_details': {'accepted_prediction_tokens': 0, 'audio_tokens': 0, 'reasoning_tokens': 0, 'rejected_prediction_tokens': 0}, 'prompt_tokens_details': {'audio_tokens': 0, 'cached_tokens': 0}}, 'model_name': 'gpt-4o-2024-08-06', 'system_fingerprint': 'fp_703d4ff298', 'finish_reason': 'stop', 'logprobs': None}, id='run-064de447-7b46-4c4e-81e3-d4553a5be302-0', usage_metadata={'input_tokens': 14, 'output_tokens': 21, 'total_tokens': 35, 'input_token_details': {'audio': 0, 'cache_read': 0}, 'output_token_details': {'audio': 0, 'reasoning': 0}}),\n",
       "  HumanMessage(content='나는 올해 30살이고, 현재 부산대학교에서 박사과정을 하고있어.', additional_kwargs={}, response_metadata={}, id='e993f5ae-106a-455b-8279-041b60ae8626'),\n",
       "  AIMessage(content='멋지네요, 창우님! 부산대학교에서 박사과정을 하고 계시다니 정말 대단해요. 어떤 분야를 연구하고 계신가요? 연구 주제에 대해 이야기해주시면 좋을 것 같아요.', additional_kwargs={'refusal': None}, response_metadata={'token_usage': {'completion_tokens': 53, 'prompt_tokens': 61, 'total_tokens': 114, 'completion_tokens_details': {'accepted_prediction_tokens': 0, 'audio_tokens': 0, 'reasoning_tokens': 0, 'rejected_prediction_tokens': 0}, 'prompt_tokens_details': {'audio_tokens': 0, 'cached_tokens': 0}}, 'model_name': 'gpt-4o-2024-08-06', 'system_fingerprint': 'fp_b7d65f1a5b', 'finish_reason': 'stop', 'logprobs': None}, id='run-175933f7-c885-4244-8136-993c7f3fd6d1-0', usage_metadata={'input_tokens': 61, 'output_tokens': 53, 'total_tokens': 114, 'input_token_details': {'audio': 0, 'cache_read': 0}, 'output_token_details': {'audio': 0, 'reasoning': 0}}),\n",
       "  HumanMessage(content='내 전공은 인공지능이고, 요즘 LLM 분야에 관심이 많아.', additional_kwargs={}, response_metadata={}, id='9fc10d7b-5243-47cc-9c78-56798632ef6f'),\n",
       "  AIMessage(content='인공지능 분야에서 연구하고 계시다니 정말 흥미롭네요! 특히 대형 언어 모델(LLM)에 관심이 많다고 하셨는데, 이 분야는 최근 굉장히 빠르게 발전하고 있어 많은 연구자들이 주목하고 있는 주제죠. 특정한 LLM의 응용이나 기술적인 측면에 대해 연구하고 계신 부분이 있나요? 아니면 향후 연구 계획이나 목표가 있으신가요?', additional_kwargs={'refusal': None}, response_metadata={'token_usage': {'completion_tokens': 99, 'prompt_tokens': 141, 'total_tokens': 240, 'completion_tokens_details': {'accepted_prediction_tokens': 0, 'audio_tokens': 0, 'reasoning_tokens': 0, 'rejected_prediction_tokens': 0}, 'prompt_tokens_details': {'audio_tokens': 0, 'cached_tokens': 0}}, 'model_name': 'gpt-4o-2024-08-06', 'system_fingerprint': 'fp_703d4ff298', 'finish_reason': 'stop', 'logprobs': None}, id='run-c0c5f96e-8b23-47c5-ab7a-b8a9d52d0864-0', usage_metadata={'input_tokens': 141, 'output_tokens': 99, 'total_tokens': 240, 'input_token_details': {'audio': 0, 'cache_read': 0}, 'output_token_details': {'audio': 0, 'reasoning': 0}}),\n",
       "  HumanMessage(content='내 취미는 헬스장에서 운동하는거야', additional_kwargs={}, response_metadata={}, id='b01efa7c-9911-4376-8b34-40cc1f3f2aec'),\n",
       "  AIMessage(content='운동은 건강을 유지하고 스트레스를 해소하는 데 정말 좋은 취미죠! 헬스장에서 어떤 종류의 운동을 주로 하시나요? 웨이트 트레이닝, 유산소 운동, 혹은 다른 특별한 프로그램을 따르시는지 궁금하네요.', additional_kwargs={'refusal': None}, response_metadata={'token_usage': {'completion_tokens': 64, 'prompt_tokens': 259, 'total_tokens': 323, 'completion_tokens_details': {'accepted_prediction_tokens': 0, 'audio_tokens': 0, 'reasoning_tokens': 0, 'rejected_prediction_tokens': 0}, 'prompt_tokens_details': {'audio_tokens': 0, 'cached_tokens': 0}}, 'model_name': 'gpt-4o-2024-08-06', 'system_fingerprint': 'fp_703d4ff298', 'finish_reason': 'stop', 'logprobs': None}, id='run-e2d87550-80ac-4a60-9e58-881e60c73acd-0', usage_metadata={'input_tokens': 259, 'output_tokens': 64, 'total_tokens': 323, 'input_token_details': {'audio': 0, 'cache_read': 0}, 'output_token_details': {'audio': 0, 'reasoning': 0}}),\n",
       "  HumanMessage(content='내가 제일 좋아하는 음식은 돼지고기고, 싫어하는 음식은 딱히 없어.', additional_kwargs={}, response_metadata={}, id='da3ca565-cb67-415e-a095-dba684c89b41'),\n",
       "  AIMessage(content='돼지고기를 좋아하시는군요! 다양한 요리로 즐길 수 있어서 많은 사람들이 좋아하는 음식 중 하나죠. 삼겹살, 제육볶음, 보쌈 등 여러 가지 요리가 떠오르네요. 특별히 좋아하는 돼지고기 요리가 있으신가요? 그리고 다양한 음식을 즐기신다니 음식 탐험을 하기에 좋은 입맛을 가지신 것 같아요!', additional_kwargs={'refusal': None}, response_metadata={'token_usage': {'completion_tokens': 92, 'prompt_tokens': 355, 'total_tokens': 447, 'completion_tokens_details': {'accepted_prediction_tokens': 0, 'audio_tokens': 0, 'reasoning_tokens': 0, 'rejected_prediction_tokens': 0}, 'prompt_tokens_details': {'audio_tokens': 0, 'cached_tokens': 0}}, 'model_name': 'gpt-4o-2024-08-06', 'system_fingerprint': 'fp_703d4ff298', 'finish_reason': 'stop', 'logprobs': None}, id='run-d20cebe1-75a4-446a-9fe3-dfb1a70f967d-0', usage_metadata={'input_tokens': 355, 'output_tokens': 92, 'total_tokens': 447, 'input_token_details': {'audio': 0, 'cache_read': 0}, 'output_token_details': {'audio': 0, 'reasoning': 0}})]}"
      ]
     },
     "execution_count": 9,
     "metadata": {},
     "output_type": "execute_result"
    }
   ],
   "source": [
    "graph.invoke({\"messages\":\"내가 제일 좋아하는 음식은 돼지고기고, 싫어하는 음식은 딱히 없어.\"}, config=config)"
   ]
  },
  {
   "cell_type": "code",
   "execution_count": 10,
   "metadata": {},
   "outputs": [
    {
     "name": "stdout",
     "output_type": "stream",
     "text": [
      "\u001b[93m\n",
      "대화 길이가 12 이상 (6번 이상 대화 주고받음) 이므로 요약 노드로 이동합니다.\n",
      "\u001b[0m\n"
     ]
    },
    {
     "data": {
      "text/plain": [
       "{'messages': [HumanMessage(content='내 취미는 헬스장에서 운동하는거야', additional_kwargs={}, response_metadata={}, id='b01efa7c-9911-4376-8b34-40cc1f3f2aec'),\n",
       "  AIMessage(content='운동은 건강을 유지하고 스트레스를 해소하는 데 정말 좋은 취미죠! 헬스장에서 어떤 종류의 운동을 주로 하시나요? 웨이트 트레이닝, 유산소 운동, 혹은 다른 특별한 프로그램을 따르시는지 궁금하네요.', additional_kwargs={'refusal': None}, response_metadata={'token_usage': {'completion_tokens': 64, 'prompt_tokens': 259, 'total_tokens': 323, 'completion_tokens_details': {'accepted_prediction_tokens': 0, 'audio_tokens': 0, 'reasoning_tokens': 0, 'rejected_prediction_tokens': 0}, 'prompt_tokens_details': {'audio_tokens': 0, 'cached_tokens': 0}}, 'model_name': 'gpt-4o-2024-08-06', 'system_fingerprint': 'fp_703d4ff298', 'finish_reason': 'stop', 'logprobs': None}, id='run-e2d87550-80ac-4a60-9e58-881e60c73acd-0', usage_metadata={'input_tokens': 259, 'output_tokens': 64, 'total_tokens': 323, 'input_token_details': {'audio': 0, 'cache_read': 0}, 'output_token_details': {'audio': 0, 'reasoning': 0}}),\n",
       "  HumanMessage(content='내가 제일 좋아하는 음식은 돼지고기고, 싫어하는 음식은 딱히 없어.', additional_kwargs={}, response_metadata={}, id='da3ca565-cb67-415e-a095-dba684c89b41'),\n",
       "  AIMessage(content='돼지고기를 좋아하시는군요! 다양한 요리로 즐길 수 있어서 많은 사람들이 좋아하는 음식 중 하나죠. 삼겹살, 제육볶음, 보쌈 등 여러 가지 요리가 떠오르네요. 특별히 좋아하는 돼지고기 요리가 있으신가요? 그리고 다양한 음식을 즐기신다니 음식 탐험을 하기에 좋은 입맛을 가지신 것 같아요!', additional_kwargs={'refusal': None}, response_metadata={'token_usage': {'completion_tokens': 92, 'prompt_tokens': 355, 'total_tokens': 447, 'completion_tokens_details': {'accepted_prediction_tokens': 0, 'audio_tokens': 0, 'reasoning_tokens': 0, 'rejected_prediction_tokens': 0}, 'prompt_tokens_details': {'audio_tokens': 0, 'cached_tokens': 0}}, 'model_name': 'gpt-4o-2024-08-06', 'system_fingerprint': 'fp_703d4ff298', 'finish_reason': 'stop', 'logprobs': None}, id='run-d20cebe1-75a4-446a-9fe3-dfb1a70f967d-0', usage_metadata={'input_tokens': 355, 'output_tokens': 92, 'total_tokens': 447, 'input_token_details': {'audio': 0, 'cache_read': 0}, 'output_token_details': {'audio': 0, 'reasoning': 0}}),\n",
       "  HumanMessage(content='내 가족관계는 아버지, 어머니, 형, 형수님, 조카 2명이야.', additional_kwargs={}, response_metadata={}, id='5de536ba-f99c-4f3d-9088-44fe29fe1ed9'),\n",
       "  AIMessage(content='정말 화목한 가족을 두고 계시네요! 형님과 형수님, 그리고 조카들까지 함께라면 가족 모임이 즐거울 것 같아요. 조카들과 함께 시간을 보내는 것도 즐거운 일이겠죠? 가족들과의 특별한 추억이나 함께 즐기는 활동이 있으신가요?', additional_kwargs={'refusal': None}, response_metadata={'token_usage': {'completion_tokens': 73, 'prompt_tokens': 479, 'total_tokens': 552, 'completion_tokens_details': {'accepted_prediction_tokens': 0, 'audio_tokens': 0, 'reasoning_tokens': 0, 'rejected_prediction_tokens': 0}, 'prompt_tokens_details': {'audio_tokens': 0, 'cached_tokens': 0}}, 'model_name': 'gpt-4o-2024-08-06', 'system_fingerprint': 'fp_703d4ff298', 'finish_reason': 'stop', 'logprobs': None}, id='run-8c2f0ca1-20ae-4761-ae26-06821af6e8b6-0', usage_metadata={'input_tokens': 479, 'output_tokens': 73, 'total_tokens': 552, 'input_token_details': {'audio': 0, 'cache_read': 0}, 'output_token_details': {'audio': 0, 'reasoning': 0}})],\n",
       " 'summary': '창우님은 30살로, 부산대학교에서 인공지능 박사과정을 밟고 있으며, 특히 대형 언어 모델(LLM)에 관심이 많습니다. 취미로는 헬스장에서 운동을 즐기며, 가장 좋아하는 음식은 돼지고기입니다. 가족으로는 부모님, 형, 형수님과 조카 두 명이 있습니다.'}"
      ]
     },
     "execution_count": 10,
     "metadata": {},
     "output_type": "execute_result"
    }
   ],
   "source": [
    "graph.invoke({\"messages\":\"내 가족관계는 아버지, 어머니, 형, 형수님, 조카 2명이야.\"}, config=config)"
   ]
  },
  {
   "cell_type": "code",
   "execution_count": 11,
   "metadata": {},
   "outputs": [
    {
     "data": {
      "text/plain": [
       "{'messages': [HumanMessage(content='내 취미는 헬스장에서 운동하는거야', additional_kwargs={}, response_metadata={}, id='b01efa7c-9911-4376-8b34-40cc1f3f2aec'),\n",
       "  AIMessage(content='운동은 건강을 유지하고 스트레스를 해소하는 데 정말 좋은 취미죠! 헬스장에서 어떤 종류의 운동을 주로 하시나요? 웨이트 트레이닝, 유산소 운동, 혹은 다른 특별한 프로그램을 따르시는지 궁금하네요.', additional_kwargs={'refusal': None}, response_metadata={'token_usage': {'completion_tokens': 64, 'prompt_tokens': 259, 'total_tokens': 323, 'completion_tokens_details': {'accepted_prediction_tokens': 0, 'audio_tokens': 0, 'reasoning_tokens': 0, 'rejected_prediction_tokens': 0}, 'prompt_tokens_details': {'audio_tokens': 0, 'cached_tokens': 0}}, 'model_name': 'gpt-4o-2024-08-06', 'system_fingerprint': 'fp_703d4ff298', 'finish_reason': 'stop', 'logprobs': None}, id='run-e2d87550-80ac-4a60-9e58-881e60c73acd-0', usage_metadata={'input_tokens': 259, 'output_tokens': 64, 'total_tokens': 323, 'input_token_details': {'audio': 0, 'cache_read': 0}, 'output_token_details': {'audio': 0, 'reasoning': 0}}),\n",
       "  HumanMessage(content='내가 제일 좋아하는 음식은 돼지고기고, 싫어하는 음식은 딱히 없어.', additional_kwargs={}, response_metadata={}, id='da3ca565-cb67-415e-a095-dba684c89b41'),\n",
       "  AIMessage(content='돼지고기를 좋아하시는군요! 다양한 요리로 즐길 수 있어서 많은 사람들이 좋아하는 음식 중 하나죠. 삼겹살, 제육볶음, 보쌈 등 여러 가지 요리가 떠오르네요. 특별히 좋아하는 돼지고기 요리가 있으신가요? 그리고 다양한 음식을 즐기신다니 음식 탐험을 하기에 좋은 입맛을 가지신 것 같아요!', additional_kwargs={'refusal': None}, response_metadata={'token_usage': {'completion_tokens': 92, 'prompt_tokens': 355, 'total_tokens': 447, 'completion_tokens_details': {'accepted_prediction_tokens': 0, 'audio_tokens': 0, 'reasoning_tokens': 0, 'rejected_prediction_tokens': 0}, 'prompt_tokens_details': {'audio_tokens': 0, 'cached_tokens': 0}}, 'model_name': 'gpt-4o-2024-08-06', 'system_fingerprint': 'fp_703d4ff298', 'finish_reason': 'stop', 'logprobs': None}, id='run-d20cebe1-75a4-446a-9fe3-dfb1a70f967d-0', usage_metadata={'input_tokens': 355, 'output_tokens': 92, 'total_tokens': 447, 'input_token_details': {'audio': 0, 'cache_read': 0}, 'output_token_details': {'audio': 0, 'reasoning': 0}}),\n",
       "  HumanMessage(content='내 가족관계는 아버지, 어머니, 형, 형수님, 조카 2명이야.', additional_kwargs={}, response_metadata={}, id='5de536ba-f99c-4f3d-9088-44fe29fe1ed9'),\n",
       "  AIMessage(content='정말 화목한 가족을 두고 계시네요! 형님과 형수님, 그리고 조카들까지 함께라면 가족 모임이 즐거울 것 같아요. 조카들과 함께 시간을 보내는 것도 즐거운 일이겠죠? 가족들과의 특별한 추억이나 함께 즐기는 활동이 있으신가요?', additional_kwargs={'refusal': None}, response_metadata={'token_usage': {'completion_tokens': 73, 'prompt_tokens': 479, 'total_tokens': 552, 'completion_tokens_details': {'accepted_prediction_tokens': 0, 'audio_tokens': 0, 'reasoning_tokens': 0, 'rejected_prediction_tokens': 0}, 'prompt_tokens_details': {'audio_tokens': 0, 'cached_tokens': 0}}, 'model_name': 'gpt-4o-2024-08-06', 'system_fingerprint': 'fp_703d4ff298', 'finish_reason': 'stop', 'logprobs': None}, id='run-8c2f0ca1-20ae-4761-ae26-06821af6e8b6-0', usage_metadata={'input_tokens': 479, 'output_tokens': 73, 'total_tokens': 552, 'input_token_details': {'audio': 0, 'cache_read': 0}, 'output_token_details': {'audio': 0, 'reasoning': 0}}),\n",
       "  HumanMessage(content='내 키는 179이고 체중은 84kg이야.', additional_kwargs={}, response_metadata={}, id='2a6dc473-91dc-4549-b749-e839c6ade9c3'),\n",
       "  AIMessage(content='키와 체중을 보니 운동을 통해 좋은 체격을 유지하고 계신 것 같아요. 헬스장에서의 운동이 도움이 많이 되겠어요. 혹시 운동 목표나 특정한 피트니스 목표가 있으신가요? 예를 들어, 근육량을 늘리거나 체력을 향상시키는 것처럼요.', additional_kwargs={'refusal': None}, response_metadata={'token_usage': {'completion_tokens': 74, 'prompt_tokens': 433, 'total_tokens': 507, 'completion_tokens_details': {'accepted_prediction_tokens': 0, 'audio_tokens': 0, 'reasoning_tokens': 0, 'rejected_prediction_tokens': 0}, 'prompt_tokens_details': {'audio_tokens': 0, 'cached_tokens': 0}}, 'model_name': 'gpt-4o-2024-08-06', 'system_fingerprint': 'fp_b7d65f1a5b', 'finish_reason': 'stop', 'logprobs': None}, id='run-b75e998e-4826-4568-b478-e2d896b77a13-0', usage_metadata={'input_tokens': 433, 'output_tokens': 74, 'total_tokens': 507, 'input_token_details': {'audio': 0, 'cache_read': 0}, 'output_token_details': {'audio': 0, 'reasoning': 0}})],\n",
       " 'summary': '창우님은 30살로, 부산대학교에서 인공지능 박사과정을 밟고 있으며, 특히 대형 언어 모델(LLM)에 관심이 많습니다. 취미로는 헬스장에서 운동을 즐기며, 가장 좋아하는 음식은 돼지고기입니다. 가족으로는 부모님, 형, 형수님과 조카 두 명이 있습니다.'}"
      ]
     },
     "execution_count": 11,
     "metadata": {},
     "output_type": "execute_result"
    }
   ],
   "source": [
    "graph.invoke({\"messages\":\"내 키는 179이고 체중은 84kg이야.\"}, config=config)"
   ]
  }
 ],
 "metadata": {
  "kernelspec": {
   "display_name": "langchain",
   "language": "python",
   "name": "langchain"
  },
  "language_info": {
   "codemirror_mode": {
    "name": "ipython",
    "version": 3
   },
   "file_extension": ".py",
   "mimetype": "text/x-python",
   "name": "python",
   "nbconvert_exporter": "python",
   "pygments_lexer": "ipython3",
   "version": "3.11.11"
  }
 },
 "nbformat": 4,
 "nbformat_minor": 2
}
