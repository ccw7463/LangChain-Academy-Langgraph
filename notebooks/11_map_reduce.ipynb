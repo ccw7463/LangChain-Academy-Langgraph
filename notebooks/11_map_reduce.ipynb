{
 "cells": [
  {
   "cell_type": "code",
   "execution_count": 1,
   "metadata": {},
   "outputs": [],
   "source": [
    "from modules.base import *"
   ]
  },
  {
   "cell_type": "markdown",
   "metadata": {},
   "source": [
    "#### Map-Reduce\n",
    "\n",
    "- 여러가지 선택지 중 하나 선택하는 형태 구현\n",
    "\n",
    "- 인덱싱을 위해 pydantic 활용"
   ]
  },
  {
   "cell_type": "markdown",
   "metadata": {},
   "source": [
    "---"
   ]
  },
  {
   "cell_type": "code",
   "execution_count": 2,
   "metadata": {},
   "outputs": [],
   "source": [
    "translation_prompt = \"\"\"아래 한국어 내용을 3가지 방식으로 영어로 번역해주세요.\n",
    "\n",
    "번역할 내용:\n",
    "{messages}\n",
    "\n",
    "영어로 번역한 내용 3가지:\"\"\"\n",
    "\n",
    "summary_prompt = \"\"\"please summarize the following messages in English.\n",
    "\n",
    "{translation}\n",
    "\n",
    "summary:\"\"\"\n",
    "\n",
    "select_best_summary_prompt = \"\"\"다음 영어 요약들중에 가장 올바르게 요약된 것을 선택하세요.\n",
    "\n",
    "한국어 내용 : \n",
    "{messages}\n",
    "\n",
    "영어 요약들 : \n",
    "{summaries}\n",
    "\n",
    "요약의 ID는 0부터 시작합니다.\n",
    "\"\"\""
   ]
  },
  {
   "cell_type": "code",
   "execution_count": 3,
   "metadata": {},
   "outputs": [],
   "source": [
    "# pydantic\n",
    "class TranslationState(BaseModel):\n",
    "    translations_lst: list[str] # 번역 리스트\n",
    "\n",
    "class SummaryState(BaseModel):\n",
    "    summary: str # 요약 내용\n",
    "    \n",
    "class BestSummary(BaseModel):\n",
    "    id: int # 요약 중 가장 올바른 텍스트의 인덱스\n",
    "\n",
    "# 기본 상태\n",
    "class OverallState(TypedDict):\n",
    "    messages: str # 사용자 입력\n",
    "    translation: str # 번역내용\n",
    "    translations_lst: Annotated[list, add] # 번역 리스트\n",
    "    summary_lst: Annotated[list, add] # 요약 리스트\n",
    "    best_selected_summary: str # 요약 중 가장 올바른 텍스트"
   ]
  },
  {
   "cell_type": "code",
   "execution_count": 4,
   "metadata": {},
   "outputs": [],
   "source": [
    "@trace_function(only_func_name=False, print_json_format=True)\n",
    "def node_generate_translations(state: OverallState):\n",
    "    prompt = translation_prompt.format(messages=state[\"messages\"])\n",
    "    response = llm.with_structured_output(TranslationState).invoke(prompt)\n",
    "    return {\"translations_lst\": response.translations_lst}\n",
    "\n",
    "@trace_function(only_func_name=False, print_json_format=True)\n",
    "def continue_to_summary(state: OverallState):\n",
    "    return [Send(\"node_generate_summary\", {\"translation\": s}) for s in state[\"translations_lst\"]]\n",
    "\n",
    "@trace_function(only_func_name=False, print_json_format=True)\n",
    "def node_generate_summary(state: OverallState):\n",
    "    prompt = summary_prompt.format(translation=state[\"translation\"])\n",
    "    response = llm.with_structured_output(SummaryState).invoke(prompt)\n",
    "    return {\"summary_lst\": [response.summary]}\n",
    "\n",
    "@trace_function(only_func_name=False, print_json_format=True)\n",
    "def node_best_summary(state: OverallState):\n",
    "    summaries = \"\\n\\n\".join(state[\"summary_lst\"])\n",
    "    prompt = select_best_summary_prompt.format(messages=state[\"messages\"], \n",
    "                                               summaries=summaries)\n",
    "    response = llm.with_structured_output(BestSummary).invoke(prompt)\n",
    "    return {\"best_selected_summary\": state[\"summary_lst\"][response.id]}"
   ]
  },
  {
   "cell_type": "code",
   "execution_count": 5,
   "metadata": {},
   "outputs": [
    {
     "data": {
      "image/png": "[encoded data removed]",
      "text/plain": [
       "<IPython.core.display.Image object>"
      ]
     },
     "execution_count": 5,
     "metadata": {},
     "output_type": "execute_result"
    }
   ],
   "source": [
    "builder = StateGraph(OverallState)\n",
    "builder.add_node(\"node_generate_translations\", node_generate_translations)\n",
    "builder.add_node(\"node_generate_summary\", node_generate_summary)\n",
    "builder.add_node(\"node_best_summary\", node_best_summary)\n",
    "builder.add_edge(START, \"node_generate_translations\")\n",
    "builder.add_conditional_edges(\"node_generate_translations\", continue_to_summary, [\"node_generate_summary\"])\n",
    "builder.add_edge(\"node_generate_summary\", \"node_best_summary\")\n",
    "builder.add_edge(\"node_best_summary\", END)\n",
    "graph = builder.compile()\n",
    "Image(graph.get_graph().draw_mermaid_png())"
   ]
  },
  {
   "cell_type": "code",
   "execution_count": 6,
   "metadata": {},
   "outputs": [
    {
     "name": "stdout",
     "output_type": "stream",
     "text": [
      "\u001b[92m\n",
      "🚀 Passing Through [node_generate_translations] ..\u001b[0m\n",
      "\u001b[91m\n",
      "#### [Input State]\u001b[0m\n",
      "args: [\n",
      "    {\n",
      "        \"messages\": \"고래는 해양 포유류로, 바다에 살면서도 육지 동물처럼 허파로 호흡을 합니다. 고래는 크게 이빨고래와 수염고래로 나눌 수 있습니다. 고래는 크기가 매우 다양하며, 세계에서 가장 큰 동물인 **대왕고래(블루웨일)**는 길이가 약 30미터에 달할 수 있습니다. 사회적이고 지능이 높은 동물로, 의사소통과 협동 사냥을 하는 경우도 많습니다.\",\n",
      "        \"translations_lst\": [],\n",
      "        \"summary_lst\": []\n",
      "    }\n",
      "]\n",
      "\u001b[94m\n",
      "#### [Output State]\u001b[0m\n",
      "result: {\n",
      "    \"translations_lst\": [\n",
      "        \"Whales are marine mammals that live in the sea but breathe with lungs like land animals. Whales can be broadly classified into toothed whales and baleen whales. They vary greatly in size, with the blue whale, the largest animal in the world, reaching lengths of up to 30 meters. Whales are social and intelligent creatures, often engaging in communication and cooperative hunting.\",\n",
      "        \"Whales, as marine mammals, inhabit the ocean but breathe through lungs similar to terrestrial animals. They can be categorized into two main groups: toothed whales and baleen whales. Whales exhibit significant size variation, with the blue whale, the largest animal globally, potentially reaching a length of approximately 30 meters. Known for their social nature and high intelligence, whales frequently communicate and hunt in groups.\",\n",
      "        \"As marine mammals, whales live in the ocean and breathe air through lungs, similar to land animals. They are mainly divided into toothed whales and baleen whales. Whales vary in size, with the blue whale, the largest animal on Earth, growing up to 30 meters long. These intelligent and social animals often communicate and hunt cooperatively.\"\n",
      "    ]\n",
      "}\n",
      "\u001b[92m\n",
      "🚀 Passing Through [continue_to_summary] ..\u001b[0m\n",
      "\u001b[91m\n",
      "#### [Input State]\u001b[0m\n",
      "args: [\n",
      "    {\n",
      "        \"translations_lst\": [\n",
      "            \"Whales are marine mammals that live in the sea but breathe with lungs like land animals. Whales can be broadly classified into toothed whales and baleen whales. They vary greatly in size, with the blue whale, the largest animal in the world, reaching lengths of up to 30 meters. Whales are social and intelligent creatures, often engaging in communication and cooperative hunting.\",\n",
      "            \"Whales, as marine mammals, inhabit the ocean but breathe through lungs similar to terrestrial animals. They can be categorized into two main groups: toothed whales and baleen whales. Whales exhibit significant size variation, with the blue whale, the largest animal globally, potentially reaching a length of approximately 30 meters. Known for their social nature and high intelligence, whales frequently communicate and hunt in groups.\",\n",
      "            \"As marine mammals, whales live in the ocean and breathe air through lungs, similar to land animals. They are mainly divided into toothed whales and baleen whales. Whales vary in size, with the blue whale, the largest animal on Earth, growing up to 30 meters long. These intelligent and social animals often communicate and hunt cooperatively.\"\n",
      "        ],\n",
      "        \"messages\": \"고래는 해양 포유류로, 바다에 살면서도 육지 동물처럼 허파로 호흡을 합니다. 고래는 크게 이빨고래와 수염고래로 나눌 수 있습니다. 고래는 크기가 매우 다양하며, 세계에서 가장 큰 동물인 **대왕고래(블루웨일)**는 길이가 약 30미터에 달할 수 있습니다. 사회적이고 지능이 높은 동물로, 의사소통과 협동 사냥을 하는 경우도 많습니다.\",\n",
      "        \"summary_lst\": []\n",
      "    }\n",
      "]\n",
      "\u001b[94m\n",
      "#### [Output State]\u001b[0m\n",
      "result: [\n",
      "    \"Send(node='node_generate_summary', arg={'translation': 'Whales are marine mammals that live in the sea but breathe with lungs like land animals. Whales can be broadly classified into toothed whales and baleen whales. They vary greatly in size, with the blue whale, the largest animal in the world, reaching lengths of up to 30 meters. Whales are social and intelligent creatures, often engaging in communication and cooperative hunting.'})\",\n",
      "    \"Send(node='node_generate_summary', arg={'translation': 'Whales, as marine mammals, inhabit the ocean but breathe through lungs similar to terrestrial animals. They can be categorized into two main groups: toothed whales and baleen whales. Whales exhibit significant size variation, with the blue whale, the largest animal globally, potentially reaching a length of approximately 30 meters. Known for their social nature and high intelligence, whales frequently communicate and hunt in groups.'})\",\n",
      "    \"Send(node='node_generate_summary', arg={'translation': 'As marine mammals, whales live in the ocean and breathe air through lungs, similar to land animals. They are mainly divided into toothed whales and baleen whales. Whales vary in size, with the blue whale, the largest animal on Earth, growing up to 30 meters long. These intelligent and social animals often communicate and hunt cooperatively.'})\"\n",
      "]\n",
      "\u001b[92m\n",
      "🚀 Passing Through [node_generate_summary] ..\u001b[0m\n",
      "\u001b[91m\n",
      "#### [Input State]\u001b[0m\n",
      "args: [\n",
      "    {\n",
      "        \"translation\": \"Whales are marine mammals that live in the sea but breathe with lungs like land animals. Whales can be broadly classified into toothed whales and baleen whales. They vary greatly in size, with the blue whale, the largest animal in the world, reaching lengths of up to 30 meters. Whales are social and intelligent creatures, often engaging in communication and cooperative hunting.\"\n",
      "    }\n",
      "]\n",
      "\u001b[92m\n",
      "🚀 Passing Through [node_generate_summary] ..\u001b[0m\n",
      "\u001b[91m\n",
      "#### [Input State]\u001b[0m\n",
      "args: [\n",
      "    {\n",
      "        \"translation\": \"Whales, as marine mammals, inhabit the ocean but breathe through lungs similar to terrestrial animals. They can be categorized into two main groups: toothed whales and baleen whales. Whales exhibit significant size variation, with the blue whale, the largest animal globally, potentially reaching a length of approximately 30 meters. Known for their social nature and high intelligence, whales frequently communicate and hunt in groups.\"\n",
      "    }\n",
      "]\n",
      "\u001b[92m\n",
      "🚀 Passing Through [node_generate_summary] ..\u001b[0m\n",
      "\u001b[91m\n",
      "#### [Input State]\u001b[0m\n",
      "args: [\n",
      "    {\n",
      "        \"translation\": \"As marine mammals, whales live in the ocean and breathe air through lungs, similar to land animals. They are mainly divided into toothed whales and baleen whales. Whales vary in size, with the blue whale, the largest animal on Earth, growing up to 30 meters long. These intelligent and social animals often communicate and hunt cooperatively.\"\n",
      "    }\n",
      "]\n",
      "\u001b[94m\n",
      "#### [Output State]\u001b[0m\n",
      "result: {\n",
      "    \"summary_lst\": [\n",
      "        \"Whales are marine mammals that live in the sea and breathe with lungs. They are divided into toothed and baleen whales and vary in size, with the blue whale being the largest. Whales are social, intelligent, and engage in communication and cooperative hunting.\"\n",
      "    ]\n",
      "}\n",
      "\u001b[94m\n",
      "#### [Output State]\u001b[0m\n",
      "result: {\n",
      "    \"summary_lst\": [\n",
      "        \"Whales are marine mammals that live in the ocean and breathe air through lungs. They are categorized into toothed and baleen whales, varying in size, with the blue whale being the largest. Whales are intelligent, social, and often communicate and hunt together.\"\n",
      "    ]\n",
      "}\n",
      "\u001b[94m\n",
      "#### [Output State]\u001b[0m\n",
      "result: {\n",
      "    \"summary_lst\": [\n",
      "        \"Whales are ocean-dwelling marine mammals that breathe air like land animals. They are divided into toothed and baleen categories. Whales vary greatly in size, with the blue whale being the largest, reaching up to 30 meters in length. They are social and intelligent, often communicating and hunting in groups.\"\n",
      "    ]\n",
      "}\n",
      "\u001b[92m\n",
      "🚀 Passing Through [node_best_summary] ..\u001b[0m\n",
      "\u001b[91m\n",
      "#### [Input State]\u001b[0m\n",
      "args: [\n",
      "    {\n",
      "        \"messages\": \"고래는 해양 포유류로, 바다에 살면서도 육지 동물처럼 허파로 호흡을 합니다. 고래는 크게 이빨고래와 수염고래로 나눌 수 있습니다. 고래는 크기가 매우 다양하며, 세계에서 가장 큰 동물인 **대왕고래(블루웨일)**는 길이가 약 30미터에 달할 수 있습니다. 사회적이고 지능이 높은 동물로, 의사소통과 협동 사냥을 하는 경우도 많습니다.\",\n",
      "        \"translations_lst\": [\n",
      "            \"Whales are marine mammals that live in the sea but breathe with lungs like land animals. Whales can be broadly classified into toothed whales and baleen whales. They vary greatly in size, with the blue whale, the largest animal in the world, reaching lengths of up to 30 meters. Whales are social and intelligent creatures, often engaging in communication and cooperative hunting.\",\n",
      "            \"Whales, as marine mammals, inhabit the ocean but breathe through lungs similar to terrestrial animals. They can be categorized into two main groups: toothed whales and baleen whales. Whales exhibit significant size variation, with the blue whale, the largest animal globally, potentially reaching a length of approximately 30 meters. Known for their social nature and high intelligence, whales frequently communicate and hunt in groups.\",\n",
      "            \"As marine mammals, whales live in the ocean and breathe air through lungs, similar to land animals. They are mainly divided into toothed whales and baleen whales. Whales vary in size, with the blue whale, the largest animal on Earth, growing up to 30 meters long. These intelligent and social animals often communicate and hunt cooperatively.\"\n",
      "        ],\n",
      "        \"summary_lst\": [\n",
      "            \"Whales are marine mammals that live in the sea and breathe with lungs. They are divided into toothed and baleen whales and vary in size, with the blue whale being the largest. Whales are social, intelligent, and engage in communication and cooperative hunting.\",\n",
      "            \"Whales are ocean-dwelling marine mammals that breathe air like land animals. They are divided into toothed and baleen categories. Whales vary greatly in size, with the blue whale being the largest, reaching up to 30 meters in length. They are social and intelligent, often communicating and hunting in groups.\",\n",
      "            \"Whales are marine mammals that live in the ocean and breathe air through lungs. They are categorized into toothed and baleen whales, varying in size, with the blue whale being the largest. Whales are intelligent, social, and often communicate and hunt together.\"\n",
      "        ]\n",
      "    }\n",
      "]\n",
      "\u001b[94m\n",
      "#### [Output State]\u001b[0m\n",
      "result: {\n",
      "    \"best_selected_summary\": \"Whales are ocean-dwelling marine mammals that breathe air like land animals. They are divided into toothed and baleen categories. Whales vary greatly in size, with the blue whale being the largest, reaching up to 30 meters in length. They are social and intelligent, often communicating and hunting in groups.\"\n",
      "}\n"
     ]
    },
    {
     "data": {
      "text/plain": [
       "{'messages': '고래는 해양 포유류로, 바다에 살면서도 육지 동물처럼 허파로 호흡을 합니다. 고래는 크게 이빨고래와 수염고래로 나눌 수 있습니다. 고래는 크기가 매우 다양하며, 세계에서 가장 큰 동물인 **대왕고래(블루웨일)**는 길이가 약 30미터에 달할 수 있습니다. 사회적이고 지능이 높은 동물로, 의사소통과 협동 사냥을 하는 경우도 많습니다.',\n",
       " 'translations_lst': ['Whales are marine mammals that live in the sea but breathe with lungs like land animals. Whales can be broadly classified into toothed whales and baleen whales. They vary greatly in size, with the blue whale, the largest animal in the world, reaching lengths of up to 30 meters. Whales are social and intelligent creatures, often engaging in communication and cooperative hunting.',\n",
       "  'Whales, as marine mammals, inhabit the ocean but breathe through lungs similar to terrestrial animals. They can be categorized into two main groups: toothed whales and baleen whales. Whales exhibit significant size variation, with the blue whale, the largest animal globally, potentially reaching a length of approximately 30 meters. Known for their social nature and high intelligence, whales frequently communicate and hunt in groups.',\n",
       "  'As marine mammals, whales live in the ocean and breathe air through lungs, similar to land animals. They are mainly divided into toothed whales and baleen whales. Whales vary in size, with the blue whale, the largest animal on Earth, growing up to 30 meters long. These intelligent and social animals often communicate and hunt cooperatively.'],\n",
       " 'summary_lst': ['Whales are marine mammals that live in the sea and breathe with lungs. They are divided into toothed and baleen whales and vary in size, with the blue whale being the largest. Whales are social, intelligent, and engage in communication and cooperative hunting.',\n",
       "  'Whales are ocean-dwelling marine mammals that breathe air like land animals. They are divided into toothed and baleen categories. Whales vary greatly in size, with the blue whale being the largest, reaching up to 30 meters in length. They are social and intelligent, often communicating and hunting in groups.',\n",
       "  'Whales are marine mammals that live in the ocean and breathe air through lungs. They are categorized into toothed and baleen whales, varying in size, with the blue whale being the largest. Whales are intelligent, social, and often communicate and hunt together.'],\n",
       " 'best_selected_summary': 'Whales are ocean-dwelling marine mammals that breathe air like land animals. They are divided into toothed and baleen categories. Whales vary greatly in size, with the blue whale being the largest, reaching up to 30 meters in length. They are social and intelligent, often communicating and hunting in groups.'}"
      ]
     },
     "execution_count": 6,
     "metadata": {},
     "output_type": "execute_result"
    }
   ],
   "source": [
    "graph.invoke({\"messages\": \"고래는 해양 포유류로, 바다에 살면서도 육지 동물처럼 허파로 호흡을 합니다. 고래는 크게 이빨고래와 수염고래로 나눌 수 있습니다. 고래는 크기가 매우 다양하며, 세계에서 가장 큰 동물인 **대왕고래(블루웨일)**는 길이가 약 30미터에 달할 수 있습니다. 사회적이고 지능이 높은 동물로, 의사소통과 협동 사냥을 하는 경우도 많습니다.\"})"
   ]
  }
 ],
 "metadata": {
  "kernelspec": {
   "display_name": "langgraph",
   "language": "python",
   "name": "langgraph"
  },
  "language_info": {
   "codemirror_mode": {
    "name": "ipython",
    "version": 3
   },
   "file_extension": ".py",
   "mimetype": "text/x-python",
   "name": "python",
   "nbconvert_exporter": "python",
   "pygments_lexer": "ipython3",
   "version": "3.11.11"
  }
 },
 "nbformat": 4,
 "nbformat_minor": 2
}
