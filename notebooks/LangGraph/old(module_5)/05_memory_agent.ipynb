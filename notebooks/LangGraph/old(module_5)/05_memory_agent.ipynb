{
 "cells": [
  {
   "cell_type": "code",
   "execution_count": 1,
   "metadata": {},
   "outputs": [],
   "source": [
    "import os\n",
    "from dotenv import load_dotenv\n",
    "from pydantic import BaseModel, Field\n",
    "from langchain_openai import ChatOpenAI\n",
    "from langchain_core.messages import HumanMessage, SystemMessage, AIMessage\n",
    "\n",
    "# JSON 기반 데이터 스키마 생성 및 관리(검증, 업데이트 등)에 사용되는 Python 패키지로, 현재 AI/에이전트 시스템에서 많이 사용됨\n",
    "from trustcall import create_extractor\n",
    "\n",
    "load_dotenv()\n",
    "os.environ[\"LANGCHAIN_API_KEY\"] = os.getenv(\"LANGCHAIN_API_KEY\")\n",
    "os.environ[\"OPENAI_API_KEY\"] = os.getenv(\"OPENAI_API_KEY\")\n",
    "os.environ[\"LANGCHAIN_TRACING_V2\"] = \"true\"\n",
    "os.environ[\"LANGCHAIN_PROJECT\"] = \"langchain-academy\""
   ]
  },
  {
   "cell_type": "markdown",
   "metadata": {},
   "source": [
    "### Memory Extractor Test"
   ]
  },
  {
   "cell_type": "markdown",
   "metadata": {},
   "source": [
    "Test Conversations"
   ]
  },
  {
   "cell_type": "code",
   "execution_count": 2,
   "metadata": {},
   "outputs": [],
   "source": [
    "# Conversation\n",
    "conversation = [HumanMessage(content=\"Hi, I'm Changwoo.\"), \n",
    "                AIMessage(content=\"Nice to meet you, Changwoo.\"), \n",
    "                HumanMessage(content=\"I'm 29 years old, and i have been studying Artificial Intelligence\")]\n",
    "\n",
    "# Run\n",
    "MESSAGE = [SystemMessage(content=\"Extract memories from the following conversation:\")] + conversation"
   ]
  },
  {
   "cell_type": "markdown",
   "metadata": {},
   "source": [
    "Define Tool and Model, then Invoke"
   ]
  },
  {
   "cell_type": "code",
   "execution_count": 3,
   "metadata": {},
   "outputs": [
    {
     "data": {
      "text/plain": [
       "{'messages': [AIMessage(content='', additional_kwargs={'tool_calls': [{'id': 'call_OWSJgjeUGmUAMtu6ilq3aMKA', 'function': {'arguments': '{\"content\":\"Changwoo is 29 years old and has been studying Artificial Intelligence.\"}', 'name': 'MemoryTool'}, 'type': 'function'}], 'refusal': None}, response_metadata={'token_usage': {'completion_tokens': 18, 'prompt_tokens': 155, 'total_tokens': 173, 'completion_tokens_details': {'accepted_prediction_tokens': 0, 'audio_tokens': 0, 'reasoning_tokens': 0, 'rejected_prediction_tokens': 0}, 'prompt_tokens_details': {'audio_tokens': 0, 'cached_tokens': 0}}, 'model_name': 'gpt-4o-2024-08-06', 'system_fingerprint': 'fp_831e067d82', 'finish_reason': 'stop', 'logprobs': None}, id='run-4f128dc4-8fa6-480c-b971-d9548ccc9b36-0', tool_calls=[{'name': 'MemoryTool', 'args': {'content': 'Changwoo is 29 years old and has been studying Artificial Intelligence.'}, 'id': 'call_OWSJgjeUGmUAMtu6ilq3aMKA', 'type': 'tool_call'}], usage_metadata={'input_tokens': 155, 'output_tokens': 18, 'total_tokens': 173, 'input_token_details': {'audio': 0, 'cache_read': 0}, 'output_token_details': {'audio': 0, 'reasoning': 0}})],\n",
       " 'responses': [MemoryTool(content='Changwoo is 29 years old and has been studying Artificial Intelligence.')],\n",
       " 'response_metadata': [{'id': 'call_OWSJgjeUGmUAMtu6ilq3aMKA'}],\n",
       " 'attempts': 1}"
      ]
     },
     "execution_count": 3,
     "metadata": {},
     "output_type": "execute_result"
    }
   ],
   "source": [
    "class MemoryTool(BaseModel):\n",
    "    \"\"\"\n",
    "        Des:\n",
    "            Tool for Long Term Memory\n",
    "            -> 'responses': [MemoryTool(content=...)]\n",
    "    \"\"\"\n",
    "    content: str = Field(description=\"The main content of the memory. For example: User expressed interest in learning about French.\")\n",
    "    # content: str = Field(description=\"The main content of the memory. For example: [Name]:Minsu, [Age]:35\")\n",
    "    \n",
    "model = ChatOpenAI(model=\"gpt-4o\", temperature=0)\n",
    "memory_extractor = create_extractor(\n",
    "    model, # language model\n",
    "    tools=[MemoryTool], # tool list for extraction\n",
    "    tool_choice=\"MemoryTool\", # prioritized tool\n",
    "    enable_inserts=True, # enable insert mode (update existing memory, create new memory)\n",
    ")\n",
    "\n",
    "result = memory_extractor.invoke({\"messages\": MESSAGE})\n",
    "result"
   ]
  },
  {
   "cell_type": "markdown",
   "metadata": {},
   "source": [
    "Add Conversations"
   ]
  },
  {
   "cell_type": "code",
   "execution_count": 4,
   "metadata": {},
   "outputs": [
    {
     "name": "stdout",
     "output_type": "stream",
     "text": [
      "==== Previous Memories ====\n",
      "[('0', 'MemoryTool', {'content': 'Changwoo is 29 years old and has been studying Artificial Intelligence.'})]\n"
     ]
    }
   ],
   "source": [
    "# New Conversation\n",
    "updated_conversation = [AIMessage(content=\"That's great, by the way, what is your hobby?\"), \n",
    "                        HumanMessage(content=\"My hobby is working out in the gym.\"),                        \n",
    "                        AIMessage(content=\"Sounds good, Do you have any plans for the weekend?\"),\n",
    "                        HumanMessage(content=\"I'm thinking about going to the parent's house to help them prepare for the restaurant.\"),]\n",
    "\n",
    "# Previous Memories\n",
    "existing_memories = []\n",
    "for i, memory in enumerate(result[\"responses\"]):\n",
    "    existing_memories.append((str(i), \"MemoryTool\", memory.model_dump()))\n",
    "print(\"==== Previous Memories ====\")\n",
    "print(existing_memories)"
   ]
  },
  {
   "cell_type": "code",
   "execution_count": 5,
   "metadata": {},
   "outputs": [],
   "source": [
    "class Spy:\n",
    "    '''\n",
    "        Des:\n",
    "            monitor and collect information about the tool calls\n",
    "    '''\n",
    "    def __init__(self):\n",
    "        '''Initialize a list of tools that were called during execution'''\n",
    "        self.called_tools = []\n",
    "\n",
    "    def __call__(self, run):\n",
    "        '''Collect information about the tool calls made by the extractor.'''\n",
    "        q = [run]\n",
    "        while q:\n",
    "            r = q.pop()\n",
    "            if r.child_runs:\n",
    "                q.extend(r.child_runs)\n",
    "            if r.run_type == \"chat_model\":\n",
    "                self.called_tools.append(\n",
    "                    r.outputs[\"generations\"][0][0][\"message\"][\"kwargs\"][\"tool_calls\"]\n",
    "                )\n",
    "\n",
    "spy = Spy()\n",
    "tool_call_tracker = memory_extractor.with_listeners(on_end=spy)\n",
    "# tool_call_tracker = memory_extractor.with_listeners()"
   ]
  },
  {
   "cell_type": "code",
   "execution_count": 6,
   "metadata": {},
   "outputs": [
    {
     "data": {
      "text/plain": [
       "{'messages': [AIMessage(content='', additional_kwargs={'updated_docs': {'call_yTdio7dx0F58UqeBmLUFOjkQ': '0'}}, response_metadata={}, id='1e1fe3cc-cd7a-4b2e-84c8-bba45f7e3ae5', tool_calls=[{'name': 'MemoryTool', 'args': {'content': \"Changwoo is 29 years old and has been studying Artificial Intelligence. His hobby is working out in the gym. He plans to go to his parent's house this weekend to help them prepare for the restaurant.\"}, 'id': 'call_yTdio7dx0F58UqeBmLUFOjkQ', 'type': 'tool_call'}, {'name': 'MemoryTool', 'args': {'content': \"User's hobby is working out in the gym.\"}, 'id': 'call_s6XGIljw2Gjt8x3qmbwDIuBB', 'type': 'tool_call'}, {'name': 'MemoryTool', 'args': {'content': \"User plans to go to their parent's house this weekend to help them prepare for the restaurant.\"}, 'id': 'call_TYC81crakZrhIbRgIovSNT2a', 'type': 'tool_call'}])],\n",
       " 'responses': [MemoryTool(content=\"Changwoo is 29 years old and has been studying Artificial Intelligence. His hobby is working out in the gym. He plans to go to his parent's house this weekend to help them prepare for the restaurant.\"),\n",
       "  MemoryTool(content=\"User's hobby is working out in the gym.\"),\n",
       "  MemoryTool(content=\"User plans to go to their parent's house this weekend to help them prepare for the restaurant.\")],\n",
       " 'response_metadata': [{'id': 'call_yTdio7dx0F58UqeBmLUFOjkQ',\n",
       "   'json_doc_id': '0'},\n",
       "  {'id': 'call_s6XGIljw2Gjt8x3qmbwDIuBB'},\n",
       "  {'id': 'call_TYC81crakZrhIbRgIovSNT2a'}],\n",
       " 'attempts': 1}"
      ]
     },
     "execution_count": 6,
     "metadata": {},
     "output_type": "execute_result"
    }
   ],
   "source": [
    "result = tool_call_tracker.invoke({\"messages\": updated_conversation, \n",
    "                                   \"existing\": existing_memories,})\n",
    "result"
   ]
  },
  {
   "cell_type": "code",
   "execution_count": 7,
   "metadata": {},
   "outputs": [
    {
     "data": {
      "text/plain": [
       "[[{'name': 'PatchDoc',\n",
       "   'args': {'json_doc_id': '0',\n",
       "    'planned_edits': \"Update the existing MemoryTool instance to include the user's hobby and weekend plans. The content field should reflect these new details.\",\n",
       "    'patches': [{'op': 'replace',\n",
       "      'path': '/content',\n",
       "      'value': \"Changwoo is 29 years old and has been studying Artificial Intelligence. His hobby is working out in the gym. He plans to go to his parent's house this weekend to help them prepare for the restaurant.\"}]},\n",
       "   'id': 'call_yTdio7dx0F58UqeBmLUFOjkQ',\n",
       "   'type': 'tool_call'},\n",
       "  {'name': 'MemoryTool',\n",
       "   'args': {'content': \"User's hobby is working out in the gym.\"},\n",
       "   'id': 'call_s6XGIljw2Gjt8x3qmbwDIuBB',\n",
       "   'type': 'tool_call'},\n",
       "  {'name': 'MemoryTool',\n",
       "   'args': {'content': \"User plans to go to their parent's house this weekend to help them prepare for the restaurant.\"},\n",
       "   'id': 'call_TYC81crakZrhIbRgIovSNT2a',\n",
       "   'type': 'tool_call'}]]"
      ]
     },
     "execution_count": 7,
     "metadata": {},
     "output_type": "execute_result"
    }
   ],
   "source": [
    "# Inspect the tool calls result\n",
    "spy.called_tools"
   ]
  },
  {
   "cell_type": "code",
   "execution_count": 8,
   "metadata": {},
   "outputs": [
    {
     "name": "stdout",
     "output_type": "stream",
     "text": [
      "Document 0 updated:\n",
      "Plan: Update the existing MemoryTool instance to include the user's hobby and weekend plans. The content field should reflect these new details.\n",
      "Added content: Changwoo is 29 years old and has been studying Artificial Intelligence. His hobby is working out in the gym. He plans to go to his parent's house this weekend to help them prepare for the restaurant.\n",
      "\n",
      "New MemoryTool created:\n",
      "Content: {'content': \"User's hobby is working out in the gym.\"}\n",
      "\n",
      "New MemoryTool created:\n",
      "Content: {'content': \"User plans to go to their parent's house this weekend to help them prepare for the restaurant.\"}\n"
     ]
    }
   ],
   "source": [
    "def extract_tool_info(tool_calls, \n",
    "                      schema_name):\n",
    "    \"\"\"\n",
    "        Des:\n",
    "            Extract information from tool calls for both patches and new memories.\n",
    "\n",
    "        Args:\n",
    "            tool_calls: List of tool calls from the model\n",
    "            schema_name: Name of the schema tool (e.g., \"MemoryTool\", \"ToDo\", \"ProfileTool\")\n",
    "    \"\"\"\n",
    "    # Initialize list of changes\n",
    "    changes = []\n",
    "    \n",
    "    # Iterate through tool calls and check changes\n",
    "    for call_group in tool_calls:\n",
    "        for call in call_group:\n",
    "            if call['name'] == 'PatchDoc': # Update memory\n",
    "                changes.append({\n",
    "                    'type': 'update',\n",
    "                    'doc_id': call['args']['json_doc_id'],\n",
    "                    'planned_edits': call['args']['planned_edits'],\n",
    "                    'value': call['args']['patches'][0]['value']\n",
    "                })\n",
    "            elif call['name'] == schema_name: # Add new memory\n",
    "                changes.append({\n",
    "                    'type': 'new',\n",
    "                    'value': call['args']\n",
    "                })\n",
    "    \n",
    "    # Format results as a single string\n",
    "    result_parts = []\n",
    "    for change in changes:\n",
    "        if change['type'] == 'update':\n",
    "            result_parts.append(\n",
    "                f\"Document {change['doc_id']} updated:\\n\"\n",
    "                f\"Plan: {change['planned_edits']}\\n\"\n",
    "                f\"Added content: {change['value']}\"\n",
    "            )\n",
    "        else:\n",
    "            result_parts.append(\n",
    "                f\"New {schema_name} created:\\n\"\n",
    "                f\"Content: {change['value']}\"\n",
    "            )\n",
    "    \n",
    "    return \"\\n\\n\".join(result_parts)\n",
    "\n",
    "schema_name = \"MemoryTool\"\n",
    "changes = extract_tool_info(spy.called_tools, schema_name)\n",
    "print(changes)"
   ]
  },
  {
   "cell_type": "markdown",
   "metadata": {},
   "source": [
    "## Todo List Agent"
   ]
  },
  {
   "cell_type": "code",
   "execution_count": 9,
   "metadata": {},
   "outputs": [],
   "source": [
    "from typing import TypedDict, Literal\n",
    "import uuid\n",
    "from IPython.display import Image, display\n",
    "from datetime import datetime\n",
    "from trustcall import create_extractor\n",
    "from typing import Optional\n",
    "from pydantic import BaseModel, Field\n",
    "from langchain_core.runnables import RunnableConfig\n",
    "from langchain_core.messages import merge_message_runs, HumanMessage, SystemMessage\n",
    "from langgraph.checkpoint.memory import MemorySaver\n",
    "from langgraph.graph import StateGraph, MessagesState, END, START\n",
    "from langgraph.store.base import BaseStore\n",
    "from langgraph.store.memory import InMemoryStore\n",
    "from langchain_openai import ChatOpenAI"
   ]
  },
  {
   "cell_type": "markdown",
   "metadata": {},
   "source": [
    "Define Tools"
   ]
  },
  {
   "cell_type": "code",
   "execution_count": 10,
   "metadata": {},
   "outputs": [],
   "source": [
    "class UpdateMemoryTool(TypedDict):\n",
    "    \"\"\"\n",
    "        Des:\n",
    "            Decision on what memory type to update \n",
    "            -> option 1 : user (semantic memory)\n",
    "            -> option 2 : todo (episodic memory)\n",
    "            -> option 3 : instructions (procedural memory)\n",
    "            -> 'responses': [MemoryTool(content=...)]\n",
    "    \"\"\"\n",
    "    update_type: Literal['user', 'todo', 'instructions']\n",
    "    \n",
    "class ProfileTool(BaseModel):\n",
    "    \"\"\"\n",
    "        Des:\n",
    "            The profile of the user\n",
    "    \"\"\"\n",
    "    name: Optional[str] = Field(description=\"The user's name\", default=None)\n",
    "    location: Optional[str] = Field(description=\"The user's location\", default=None)\n",
    "    job: Optional[str] = Field(description=\"The user's job\", default=None)\n",
    "    connections: list[str] = Field(\n",
    "        description=\"Personal connection of the user, such as family members, friends, or coworkers\",\n",
    "        default_factory=list\n",
    "    )\n",
    "    interests: list[str] = Field(\n",
    "        description=\"Interests that the user has\", \n",
    "        default_factory=list\n",
    "    )\n",
    "    \n",
    "class ToDoTool(BaseModel):\n",
    "    task: str = Field(description=\"The task to be completed.\")\n",
    "    time_to_complete: Optional[int] = Field(description=\"Estimated time to complete the task (minutes).\")\n",
    "    deadline: Optional[datetime] = Field(\n",
    "        description=\"When the task needs to be completed by (if applicable)\",\n",
    "        default=None\n",
    "    )\n",
    "    solutions: list[str] = Field(\n",
    "        description=\"List of specific, actionable solutions (e.g., specific ideas, service providers, or concrete options relevant to completing the task)\",\n",
    "        min_items=1,\n",
    "        default_factory=list\n",
    "    )\n",
    "    status: Literal[\"not started\", \"in progress\", \"done\", \"archived\"] = Field(\n",
    "        description=\"Current status of the task\",\n",
    "        default=\"not started\"\n",
    "    )"
   ]
  },
  {
   "cell_type": "markdown",
   "metadata": {},
   "source": [
    "Define Prompts"
   ]
  },
  {
   "cell_type": "code",
   "execution_count": 11,
   "metadata": {},
   "outputs": [],
   "source": [
    "# Role : Chatbot System Message (Chatbot Behavior Guidelines)\n",
    "MODEL_SYSTEM_MESSAGE = \"\"\"You are a helpful chatbot. \n",
    "\n",
    "You are designed to be a companion to a user, helping them keep track of their ToDo list.\n",
    "\n",
    "You have a long term memory which keeps track of three things:\n",
    "1. The user's profile (general information about them) \n",
    "2. The user's ToDo list\n",
    "3. General instructions for updating the ToDo list\n",
    "\n",
    "Here is the current User Profile (may be empty if no information has been collected yet):\n",
    "<user_profile>\n",
    "{user_profile}\n",
    "</user_profile>\n",
    "\n",
    "Here is the current ToDo List (may be empty if no tasks have been added yet):\n",
    "<todo>\n",
    "{todo}\n",
    "</todo>\n",
    "\n",
    "Here are the current user-specified preferences for updating the ToDo list (may be empty if no preferences have been specified yet):\n",
    "<instructions>\n",
    "{instructions}\n",
    "</instructions>\n",
    "\n",
    "Here are your instructions for reasoning about the user's messages:\n",
    "\n",
    "1. Reason carefully about the user's messages as presented below. \n",
    "\n",
    "2. Decide whether any of the your long-term memory should be updated:\n",
    "- If personal information was provided about the user, update the user's profile by calling UpdateMemoryTool tool with type `user`\n",
    "- If tasks are mentioned, update the ToDo list by calling UpdateMemoryTool tool with type `todo`\n",
    "- If the user has specified preferences for how to update the ToDo list, update the instructions by calling UpdateMemoryTool tool with type `instructions`\n",
    "\n",
    "3. Tell the user that you have updated your memory, if appropriate:\n",
    "- Do not tell the user you have updated the user's profile\n",
    "- Tell the user them when you update the todo list\n",
    "- Do not tell the user that you have updated instructions\n",
    "\n",
    "4. Err on the side of updating the todo list. No need to ask for explicit permission.\n",
    "\n",
    "5. Respond naturally to user user after a tool call was made to save memories, or if no tool call was made.\"\"\"\n",
    "\n",
    "\n",
    "# Role : Select Information to retain about the User (Profile and ToDo)\n",
    "MEMORY_SELECTION_INSTRUCTION = \"\"\"Reflect on following interaction. \n",
    "\n",
    "Use the provided tools to retain any necessary memories about the user. \n",
    "\n",
    "Use parallel tool calling to handle updates and insertions simultaneously.\n",
    "\n",
    "System Time: {time}\"\"\"\n",
    "\n",
    "# Role : Update Instructions\n",
    "CREATE_INSTRUCTIONS = \"\"\"Reflect on the following interaction.\n",
    "\n",
    "Based on this interaction, update your instructions for how to update ToDo list items. \n",
    "\n",
    "Use any feedback from the user to update how they like to have items added, etc.\n",
    "\n",
    "Your current instructions are:\n",
    "\n",
    "<current_instructions>\n",
    "{current_instructions}\n",
    "</current_instructions>\"\"\""
   ]
  },
  {
   "cell_type": "markdown",
   "metadata": {},
   "source": [
    "Define Agent (Node)"
   ]
  },
  {
   "cell_type": "code",
   "execution_count": 12,
   "metadata": {},
   "outputs": [],
   "source": [
    "def task_mAIstro(state: MessagesState, \n",
    "                 config: RunnableConfig, \n",
    "                 store: BaseStore):\n",
    "    \"\"\"\n",
    "        Des:\n",
    "            Agent for chatbot\n",
    "    \"\"\"\n",
    "    \n",
    "    # Get the user ID from the config\n",
    "    USER_ID = config[\"configurable\"][\"user_id\"]\n",
    "\n",
    "    # Retrieve profile memory from the store\n",
    "    NAMESPACE = (\"profile\", USER_ID)\n",
    "    memories = store.search(NAMESPACE)\n",
    "    if memories:\n",
    "        user_profile = memories[0].value\n",
    "    else:\n",
    "        user_profile = None\n",
    "\n",
    "    # Retrieve task memory from the store\n",
    "    NAMESPACE = (\"todo\", USER_ID)\n",
    "    memories = store.search(NAMESPACE)\n",
    "    todo = \"\\n\".join(f\"{mem.value}\" for mem in memories)\n",
    "\n",
    "    # Retrieve custom instructions\n",
    "    NAMESPACE = (\"instructions\", USER_ID)\n",
    "    memories = store.search(NAMESPACE)\n",
    "    if memories:\n",
    "        instructions = memories[0].value\n",
    "    else:\n",
    "        instructions = \"\"\n",
    "    \n",
    "    SYSTEM_MESSAGE = MODEL_SYSTEM_MESSAGE.format(user_profile=user_profile, todo=todo, instructions=instructions)\n",
    "    MESSAGE = [SystemMessage(content=SYSTEM_MESSAGE)] + state[\"messages\"]\n",
    "    response = model.bind_tools([UpdateMemoryTool], \n",
    "                                parallel_tool_calls=False).invoke(MESSAGE)\n",
    "\n",
    "    return {\"messages\": [response]}"
   ]
  },
  {
   "cell_type": "markdown",
   "metadata": {},
   "source": [
    "Define other Nodes and Functions"
   ]
  },
  {
   "cell_type": "code",
   "execution_count": 13,
   "metadata": {},
   "outputs": [],
   "source": [
    "def update_profile(state: MessagesState, \n",
    "                   config: RunnableConfig, \n",
    "                   store: BaseStore):\n",
    "    \"\"\"\n",
    "        Des:\n",
    "            Update Profile Memory\n",
    "    \"\"\"\n",
    "    # Get the user ID from the config\n",
    "    USER_ID = config[\"configurable\"][\"user_id\"]\n",
    "\n",
    "    # Define the namespace for the memories\n",
    "    NAMESPACE = (\"profile\", USER_ID)\n",
    "    \n",
    "    # Memories\n",
    "    memories = store.search(NAMESPACE)\n",
    "    existing_memories = []\n",
    "    if memories:\n",
    "        for memory in memories:\n",
    "            existing_memories.append((memory.key, \"ProfileTool\", memory.value))\n",
    "    else:\n",
    "        existing_memories = None\n",
    "\n",
    "    # Current Message\n",
    "    SYSTEM_MESSAGE=MEMORY_SELECTION_INSTRUCTION.format(time=datetime.now().isoformat())\n",
    "    MESSAGE = [SystemMessage(content=SYSTEM_MESSAGE)] + state[\"messages\"][:-1]\n",
    "    MESSAGE=list(merge_message_runs(messages=MESSAGE))\n",
    "\n",
    "    profile_extractor = create_extractor(\n",
    "        model,\n",
    "        tools=[ProfileTool],\n",
    "        tool_choice=\"ProfileTool\",\n",
    "    )\n",
    "\n",
    "    # Invoke the extractor\n",
    "    result = profile_extractor.invoke({\"messages\": MESSAGE, \n",
    "                                       \"existing\": existing_memories})\n",
    "\n",
    "    # Save the memories\n",
    "    for response, response_metadata in zip(result[\"responses\"], result[\"response_metadata\"]):\n",
    "        store.put(NAMESPACE,\n",
    "                  response_metadata.get(\"json_doc_id\", str(uuid.uuid4())),\n",
    "                  response.model_dump(mode=\"json\"))\n",
    "\n",
    "    # Respond to the tool call made in task_mAIstro, confirming the update\n",
    "    tool_calls = state['messages'][-1].tool_calls\n",
    "    return {\"messages\": [{\"role\": \"tool\", \n",
    "                          \"content\": \"updated profile\", \n",
    "                          \"tool_call_id\":tool_calls[0]['id']}]}\n",
    "\n",
    "\n",
    "def update_todos(state: MessagesState, \n",
    "                 config: RunnableConfig, \n",
    "                 store: BaseStore):\n",
    "    \"\"\"\n",
    "        Des:\n",
    "            Update ToDo Memory\n",
    "    \"\"\"\n",
    "    # Get the user ID from the config\n",
    "    USER_ID = config[\"configurable\"][\"user_id\"]\n",
    "\n",
    "    # Define the namespace for the memories\n",
    "    NAMESPACE = (\"todo\", USER_ID)\n",
    "\n",
    "    # Memories\n",
    "    memories = store.search(NAMESPACE)\n",
    "    \n",
    "    if memories:\n",
    "        existing_memories = []\n",
    "        for memory in memories:\n",
    "            existing_memories.append((memory.key, \"ToDoTool\", memory.value))\n",
    "    else:\n",
    "        existing_memories = None\n",
    "\n",
    "    # Merge the chat history and the instruction\n",
    "    SYSTEM_MESSAGE=MEMORY_SELECTION_INSTRUCTION.format(time=datetime.now().isoformat())\n",
    "    MESSAGE = [SystemMessage(content=SYSTEM_MESSAGE)] + state[\"messages\"][:-1]\n",
    "    MESSAGE=list(merge_message_runs(messages=MESSAGE))\n",
    "\n",
    "    # Create the Trustcall extractor for updating the ToDo list \n",
    "    spy = Spy()\n",
    "    todo_extractor = create_extractor(\n",
    "        model,\n",
    "        tools=[ToDoTool],   \n",
    "        tool_choice=\"ToDoTool\",\n",
    "        enable_inserts=True\n",
    "    ).with_listeners(on_end=spy)\n",
    "\n",
    "    # Invoke the extractor\n",
    "    result = todo_extractor.invoke({\"messages\": MESSAGE, \n",
    "                                    \"existing\": existing_memories})\n",
    "\n",
    "    # Save the memories from Trustcall to the store\n",
    "    for response, response_metadata in zip(result[\"responses\"], result[\"response_metadata\"]):\n",
    "        store.put(NAMESPACE,\n",
    "                  response_metadata.get(\"json_doc_id\", str(uuid.uuid4())),\n",
    "                  response.model_dump(mode=\"json\"),\n",
    "            )\n",
    "        \n",
    "    # Respond to the tool call made in task_mAIstro, confirming the update\n",
    "    tool_calls = state['messages'][-1].tool_calls\n",
    "\n",
    "    # Message to task_mAIstro for changes\n",
    "    todo_update_msg = extract_tool_info(spy.called_tools, \"ToDoTool\")\n",
    "    return {\"messages\": [{\"role\": \"tool\", \n",
    "                          \"content\": todo_update_msg, \n",
    "                          \"tool_call_id\":tool_calls[0]['id']}]}\n",
    "\n",
    "def update_instructions(state: MessagesState, \n",
    "                        config: RunnableConfig, \n",
    "                        store: BaseStore):\n",
    "    \"\"\"\n",
    "        Des:\n",
    "            Update Instructions\n",
    "    \"\"\"\n",
    "    \n",
    "    # Get the user ID from the config\n",
    "    USER_ID = config[\"configurable\"][\"user_id\"]\n",
    "    \n",
    "    # Define the namespace for the memories\n",
    "    NAMESPACE = (\"instructions\", USER_ID)\n",
    "\n",
    "    existing_memory = store.get(NAMESPACE, \"user_instructions\")\n",
    "        \n",
    "    # Format the memory in the system prompt\n",
    "    SYSTEM_MESSAGE = CREATE_INSTRUCTIONS.format(current_instructions=existing_memory.value if existing_memory else None)\n",
    "    MESSAGE = [SystemMessage(content=SYSTEM_MESSAGE)] + state[\"messages\"][:-1] + [HumanMessage(content=\"Please update the instructions based on the conversation\")]\n",
    "    response = model.invoke(MESSAGE)\n",
    "\n",
    "    # Overwrite the existing memory in the store \n",
    "    key = \"user_instructions\"\n",
    "    store.put(NAMESPACE, key, {\"memory\": response.content})\n",
    "    \n",
    "    # Respond to the tool call made in task_mAIstro, confirming the update\n",
    "    tool_calls = state['messages'][-1].tool_calls\n",
    "    return {\"messages\": [{\"role\": \"tool\", \n",
    "                          \"content\": \"updated instructions\", \n",
    "                          \"tool_call_id\":tool_calls[0]['id']}]}"
   ]
  },
  {
   "cell_type": "markdown",
   "metadata": {},
   "source": [
    "Define Edge"
   ]
  },
  {
   "cell_type": "code",
   "execution_count": 14,
   "metadata": {},
   "outputs": [],
   "source": [
    "def route_message(state: MessagesState, \n",
    "                  config: RunnableConfig, \n",
    "                  store: BaseStore) -> Literal[END, \"update_todos\", \"update_instructions\", \"update_profile\"]:\n",
    "    \"\"\"\n",
    "        Des:\n",
    "            Route the message to the appropriate node based on the tool call\n",
    "    \"\"\"\n",
    "    message = state['messages'][-1]\n",
    "    if len(message.tool_calls) ==0:\n",
    "        return END\n",
    "    else:\n",
    "        tool_call = message.tool_calls[0]\n",
    "        if tool_call['args']['update_type'] == \"user\":\n",
    "            return \"update_profile\"\n",
    "        elif tool_call['args']['update_type'] == \"todo\":\n",
    "            return \"update_todos\"\n",
    "        elif tool_call['args']['update_type'] == \"instructions\":\n",
    "            return \"update_instructions\"\n",
    "        else:\n",
    "            raise ValueError"
   ]
  },
  {
   "cell_type": "markdown",
   "metadata": {},
   "source": [
    "Define Graph"
   ]
  },
  {
   "cell_type": "code",
   "execution_count": 15,
   "metadata": {},
   "outputs": [
    {
     "data": {
      "image/png": "[encoded data removed]",
      "text/plain": [
       "<IPython.core.display.Image object>"
      ]
     },
     "metadata": {},
     "output_type": "display_data"
    }
   ],
   "source": [
    "# Create the graph + all nodes\n",
    "builder = StateGraph(MessagesState)\n",
    "\n",
    "# Define the flow of the memory extraction process\n",
    "builder.add_node(task_mAIstro)\n",
    "builder.add_node(update_todos)\n",
    "builder.add_node(update_profile)\n",
    "builder.add_node(update_instructions)\n",
    "\n",
    "builder.add_edge(START, \"task_mAIstro\")\n",
    "builder.add_conditional_edges(\"task_mAIstro\", route_message)\n",
    "builder.add_edge(\"update_todos\", \"task_mAIstro\")\n",
    "builder.add_edge(\"update_profile\", \"task_mAIstro\")\n",
    "builder.add_edge(\"update_instructions\", \"task_mAIstro\")\n",
    "\n",
    "# Store for long-term (across-thread) memory\n",
    "LongTermMemory = InMemoryStore()\n",
    "\n",
    "# Checkpointer for short-term (within-thread) memory\n",
    "ShortTermMemory = MemorySaver()\n",
    "\n",
    "# We compile the graph with the checkpointer and store\n",
    "graph = builder.compile(checkpointer=ShortTermMemory, \n",
    "                        store=LongTermMemory)\n",
    "\n",
    "# View\n",
    "display(Image(graph.get_graph(xray=1).draw_mermaid_png()))"
   ]
  },
  {
   "cell_type": "markdown",
   "metadata": {},
   "source": [
    "## Chat Test"
   ]
  },
  {
   "cell_type": "markdown",
   "metadata": {},
   "source": [
    "Set Configuration"
   ]
  },
  {
   "cell_type": "code",
   "execution_count": 16,
   "metadata": {},
   "outputs": [],
   "source": [
    "THREAD_ID = \"3\"\n",
    "USER_ID = \"changwoo_test1\"\n",
    "config = {\"configurable\": {\"thread_id\": THREAD_ID, \n",
    "                           \"user_id\": USER_ID}}"
   ]
  },
  {
   "cell_type": "markdown",
   "metadata": {},
   "source": [
    "Chat (1) Create Profile"
   ]
  },
  {
   "cell_type": "code",
   "execution_count": 17,
   "metadata": {},
   "outputs": [
    {
     "name": "stdout",
     "output_type": "stream",
     "text": [
      "================================\u001b[1m Human Message \u001b[0m=================================\n",
      "\n",
      "My name is changwoo. I live in Busan, and I'm 29 years old\n",
      "==================================\u001b[1m Ai Message \u001b[0m==================================\n",
      "Tool Calls:\n",
      "  UpdateMemoryTool (call_zzp3jH0IUEuh7Jv5fkpVHBV8)\n",
      " Call ID: call_zzp3jH0IUEuh7Jv5fkpVHBV8\n",
      "  Args:\n",
      "    update_type: user\n",
      "=================================\u001b[1m Tool Message \u001b[0m=================================\n",
      "\n",
      "updated profile\n",
      "==================================\u001b[1m Ai Message \u001b[0m==================================\n",
      "\n",
      "Got it! If there's anything else you'd like to share or need help with, feel free to let me know.\n"
     ]
    }
   ],
   "source": [
    "MESSAGE = [HumanMessage(content=\"My name is changwoo. I live in Busan, and I'm 29 years old\")]\n",
    "for chunk in graph.stream({\"messages\":MESSAGE}, \n",
    "                          config, \n",
    "                          stream_mode=\"values\"):\n",
    "    chunk[\"messages\"][-1].pretty_print()"
   ]
  },
  {
   "cell_type": "markdown",
   "metadata": {},
   "source": [
    "Chat (2) Create ToDo"
   ]
  },
  {
   "cell_type": "code",
   "execution_count": 18,
   "metadata": {},
   "outputs": [
    {
     "name": "stdout",
     "output_type": "stream",
     "text": [
      "================================\u001b[1m Human Message \u001b[0m=================================\n",
      "\n",
      "I have to buy a new filter for my water dispenser.\n"
     ]
    },
    {
     "name": "stdout",
     "output_type": "stream",
     "text": [
      "==================================\u001b[1m Ai Message \u001b[0m==================================\n",
      "Tool Calls:\n",
      "  UpdateMemoryTool (call_nFvaDt7WkvnMOqidkbCPA8cw)\n",
      " Call ID: call_nFvaDt7WkvnMOqidkbCPA8cw\n",
      "  Args:\n",
      "    update_type: todo\n",
      "=================================\u001b[1m Tool Message \u001b[0m=================================\n",
      "\n",
      "New ToDoTool created:\n",
      "Content: {'task': 'Buy a new filter for the water dispenser', 'time_to_complete': 30, 'solutions': ['Check local appliance stores in Busan', 'Look for online options like Amazon or local e-commerce sites', \"Contact the water dispenser's manufacturer for compatible filters\"], 'status': 'not started'}\n",
      "==================================\u001b[1m Ai Message \u001b[0m==================================\n",
      "\n",
      "I've added \"Buy a new filter for the water dispenser\" to your ToDo list. If you need any help with this task, just let me know!\n"
     ]
    }
   ],
   "source": [
    "MESSAGE = [HumanMessage(content=\"I have to buy a new filter for my water dispenser.\")]\n",
    "for chunk in graph.stream({\"messages\":MESSAGE}, \n",
    "                          config, \n",
    "                          stream_mode=\"values\"):\n",
    "    chunk[\"messages\"][-1].pretty_print()"
   ]
  },
  {
   "cell_type": "markdown",
   "metadata": {},
   "source": [
    "Chat (3) Update Instructions"
   ]
  },
  {
   "cell_type": "code",
   "execution_count": 19,
   "metadata": {},
   "outputs": [
    {
     "name": "stdout",
     "output_type": "stream",
     "text": [
      "================================\u001b[1m Human Message \u001b[0m=================================\n",
      "\n",
      "When creating or updating them, \n",
      "start the sentence with key terms/words enclosed in square brackets ([, ]).\n",
      "\n",
      "For Example,\n",
      "\n",
      "If Taks is 'I check the train scedule in this week', then\n",
      "\n",
      "ToDo is '[train scedule]:Check the train scedule in this week'\n",
      "==================================\u001b[1m Ai Message \u001b[0m==================================\n",
      "Tool Calls:\n",
      "  UpdateMemoryTool (call_A6sgrOytn36kHS2IJhOH57Xk)\n",
      " Call ID: call_A6sgrOytn36kHS2IJhOH57Xk\n",
      "  Args:\n",
      "    update_type: instructions\n",
      "=================================\u001b[1m Tool Message \u001b[0m=================================\n",
      "\n",
      "updated instructions\n",
      "==================================\u001b[1m Ai Message \u001b[0m==================================\n",
      "\n",
      "Got it! I'll make sure to format your ToDo list items with key terms in square brackets. If there's anything else you need, just let me know!\n"
     ]
    }
   ],
   "source": [
    "MESSAGE = \"\"\"When creating or updating them, \n",
    "start the sentence with key terms/words enclosed in square brackets ([, ]).\n",
    "\n",
    "For Example,\n",
    "\n",
    "If Taks is 'I check the train scedule in this week', then\n",
    "\n",
    "ToDo is '[train scedule]:Check the train scedule in this week'\"\"\"\n",
    "\n",
    "for chunk in graph.stream({\"messages\": MESSAGE}, \n",
    "                          config, \n",
    "                          stream_mode=\"values\"):\n",
    "    chunk[\"messages\"][-1].pretty_print()"
   ]
  },
  {
   "cell_type": "markdown",
   "metadata": {},
   "source": [
    "Check the Instructions"
   ]
  },
  {
   "cell_type": "code",
   "execution_count": 26,
   "metadata": {},
   "outputs": [
    {
     "name": "stdout",
     "output_type": "stream",
     "text": [
      "{'memory': \"<current_instructions>\\nWhen creating or updating ToDo list items, start the sentence with key terms/words enclosed in square brackets ([, ]). For example, if the task is 'I check the train schedule this week', then the ToDo should be '[train schedule]: Check the train schedule this week'.\\n</current_instructions>\"}\n"
     ]
    }
   ],
   "source": [
    "for memory in LongTermMemory.search((\"instructions\", USER_ID)):\n",
    "    print(memory.value)"
   ]
  },
  {
   "cell_type": "markdown",
   "metadata": {},
   "source": [
    "Chat (4) Create another ToDo"
   ]
  },
  {
   "cell_type": "code",
   "execution_count": 27,
   "metadata": {},
   "outputs": [
    {
     "name": "stdout",
     "output_type": "stream",
     "text": [
      "================================\u001b[1m Human Message \u001b[0m=================================\n",
      "\n",
      "I need to fix the lamp in my bathroom.\n",
      "==================================\u001b[1m Ai Message \u001b[0m==================================\n",
      "Tool Calls:\n",
      "  UpdateMemoryTool (call_BwcIU7aHOYIJW4eCL42QC7Yf)\n",
      " Call ID: call_BwcIU7aHOYIJW4eCL42QC7Yf\n",
      "  Args:\n",
      "    update_type: todo\n",
      "Spy > call 함수 호출\n",
      "=================================\u001b[1m Tool Message \u001b[0m=================================\n",
      "\n",
      "Document 2032fee7-a87b-4cf0-8c30-1b1c4659576d updated:\n",
      "Plan: 1. Add a key term in square brackets to the task description for better identification.\n",
      "Added content: [lamp]: Fix the lamp in my bathroom\n",
      "==================================\u001b[1m Ai Message \u001b[0m==================================\n",
      "\n",
      "I've updated your ToDo list with the task \"[lamp]: Fix the lamp in my bathroom.\" If there's anything else you need, just let me know!\n"
     ]
    }
   ],
   "source": [
    "MESSAGE = [HumanMessage(content=\"I need to fix the lamp in my bathroom.\")]\n",
    "for chunk in graph.stream({\"messages\": MESSAGE}, config, stream_mode=\"values\"):\n",
    "    chunk[\"messages\"][-1].pretty_print()"
   ]
  },
  {
   "cell_type": "markdown",
   "metadata": {},
   "source": [
    "Check ToDo list"
   ]
  },
  {
   "cell_type": "code",
   "execution_count": 30,
   "metadata": {},
   "outputs": [
    {
     "name": "stdout",
     "output_type": "stream",
     "text": [
      "{'task': '[water filter]: Buy a new filter for water dispenser', 'time_to_complete': 30, 'deadline': None, 'solutions': ['Check local appliance stores in Busan', 'Order online from a retailer like Amazon or a local Korean e-commerce site', 'Visit a nearby department store'], 'status': 'not started'}\n",
      "{'task': '[lamp]: Fix the lamp in my bathroom', 'time_to_complete': 45, 'deadline': None, 'solutions': ['Check the bulb and replace if necessary', 'Inspect the wiring for any issues', 'Contact an electrician if the problem persists'], 'status': 'not started'}\n"
     ]
    }
   ],
   "source": [
    "for memory in LongTermMemory.search((\"todo\", USER_ID)):\n",
    "    print(memory.value)"
   ]
  },
  {
   "cell_type": "markdown",
   "metadata": {},
   "source": [
    "Chat (5) Update ToDo"
   ]
  },
  {
   "cell_type": "code",
   "execution_count": 31,
   "metadata": {},
   "outputs": [
    {
     "name": "stdout",
     "output_type": "stream",
     "text": [
      "================================\u001b[1m Human Message \u001b[0m=================================\n",
      "\n",
      "For the fixing lamp, I need to do that until next week.\n",
      "==================================\u001b[1m Ai Message \u001b[0m==================================\n",
      "Tool Calls:\n",
      "  UpdateMemoryTool (call_CLfmAgyBIKGodfUwcNUcxlzB)\n",
      " Call ID: call_CLfmAgyBIKGodfUwcNUcxlzB\n",
      "  Args:\n",
      "    update_type: todo\n",
      "Spy > call 함수 호출\n",
      "=================================\u001b[1m Tool Message \u001b[0m=================================\n",
      "\n",
      "Document 2032fee7-a87b-4cf0-8c30-1b1c4659576d updated:\n",
      "Plan: 1. Add a deadline to the task to ensure it is completed by next week.\n",
      "Added content: 2024-12-04T00:00:00\n",
      "==================================\u001b[1m Ai Message \u001b[0m==================================\n",
      "\n",
      "I've updated the task \"[lamp]: Fix the lamp in my bathroom\" with a deadline for next week. If there's anything else you need, feel free to ask!\n"
     ]
    }
   ],
   "source": [
    "MESSAGE = [HumanMessage(content=\"For the fixing lamp, I need to do that until next week.\")]\n",
    "for chunk in graph.stream({\"messages\": MESSAGE}, config, stream_mode=\"values\"):\n",
    "    chunk[\"messages\"][-1].pretty_print()"
   ]
  },
  {
   "cell_type": "code",
   "execution_count": 36,
   "metadata": {},
   "outputs": [
    {
     "name": "stdout",
     "output_type": "stream",
     "text": [
      "{'task': '[water filter]: Buy a new filter for water dispenser', 'time_to_complete': 30, 'deadline': None, 'solutions': ['Check local appliance stores in Busan', 'Order online from a retailer like Amazon or a local Korean e-commerce site', 'Visit a nearby department store'], 'status': 'not started'}\n",
      "{'task': '[lamp]: Fix the lamp in my bathroom', 'time_to_complete': 45, 'deadline': '2024-12-04T00:00:00', 'solutions': ['Check the bulb and replace if necessary', 'Inspect the wiring for any issues', 'Contact an electrician if the problem persists'], 'status': 'not started'}\n"
     ]
    }
   ],
   "source": [
    "for memory in LongTermMemory.search((\"todo\", USER_ID)):\n",
    "    print(memory.value)"
   ]
  }
 ],
 "metadata": {
  "kernelspec": {
   "display_name": "langchain_env",
   "language": "python",
   "name": "langchain_env"
  },
  "language_info": {
   "codemirror_mode": {
    "name": "ipython",
    "version": 3
   },
   "file_extension": ".py",
   "mimetype": "text/x-python",
   "name": "python",
   "nbconvert_exporter": "python",
   "pygments_lexer": "ipython3",
   "version": "3.10.12"
  }
 },
 "nbformat": 4,
 "nbformat_minor": 4
}
