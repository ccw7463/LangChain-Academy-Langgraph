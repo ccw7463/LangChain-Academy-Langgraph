{
 "cells": [
  {
   "cell_type": "code",
   "execution_count": 1,
   "metadata": {},
   "outputs": [],
   "source": [
    "import os\n",
    "from dotenv import load_dotenv\n",
    "import uuid\n",
    "from langgraph.store.memory import InMemoryStore\n",
    "load_dotenv()\n",
    "os.environ[\"LANGCHAIN_API_KEY\"] = os.getenv(\"LANGCHAIN_API_KEY\")\n",
    "os.environ[\"OPENAI_API_KEY\"] = os.getenv(\"OPENAI_API_KEY\")\n",
    "os.environ[\"LANGCHAIN_TRACING_V2\"] = \"true\"\n",
    "os.environ[\"LANGCHAIN_PROJECT\"] = \"langchain-academy\""
   ]
  },
  {
   "cell_type": "markdown",
   "metadata": {},
   "source": [
    "참고) https://langchain-ai.github.io/langgraph/reference/store/#langgraph.store.base.SearchOp"
   ]
  },
  {
   "cell_type": "code",
   "execution_count": 2,
   "metadata": {},
   "outputs": [],
   "source": [
    "LongTermMemory = InMemoryStore()"
   ]
  },
  {
   "cell_type": "code",
   "execution_count": 3,
   "metadata": {},
   "outputs": [],
   "source": [
    "NAMESPACE = (\"memories\", \"changwoo\") \n",
    "\n",
    "key = \"personal_info\"\n",
    "value = {\"age\" : \"29\", \n",
    "         \"major\": \"Computer Engineering\",\n",
    "         \"hobby\": \"working out\",\n",
    "         \"favorite_food\": \"pork\"}\n",
    "\n",
    "LongTermMemory.put(NAMESPACE,  # directory, user name\n",
    "                   key,  # sub_directory\n",
    "                   value) # values\n",
    "\n",
    "key = \"Education_level\"\n",
    "value = {\"Bachelor's degree\" : \"Electrical Engineering\", \n",
    "         \"Master's degree\": \"Computer Engineering\",\n",
    "         \"Doctoral degree\": \"Computer Engineering\"}\n",
    "\n",
    "LongTermMemory.put(NAMESPACE,  # directory, user name\n",
    "                   key,  # sub_directory\n",
    "                   value) # values"
   ]
  },
  {
   "cell_type": "code",
   "execution_count": 4,
   "metadata": {},
   "outputs": [
    {
     "name": "stdout",
     "output_type": "stream",
     "text": [
      "==== NAMESPACE 영역 데이터 ====\n",
      "{'value': {'age': '29', 'major': 'Computer Engineering', 'hobby': 'working out', 'favorite_food': 'pork'}, 'key': 'personal_info', 'namespace': ['memories', 'changwoo'], 'created_at': '2024-11-27T08:36:29.961334+00:00', 'updated_at': '2024-11-27T08:36:29.961335+00:00'}\n",
      "{'value': {\"Bachelor's degree\": 'Electrical Engineering', \"Master's degree\": 'Computer Engineering', 'Doctoral degree': 'Computer Engineering'}, 'key': 'Education_level', 'namespace': ['memories', 'changwoo'], 'created_at': '2024-11-27T08:36:29.961397+00:00', 'updated_at': '2024-11-27T08:36:29.961398+00:00'}\n",
      "\n",
      "==== NAMESPACE 영역 personal_info 데이터 ====\n",
      "{'value': {'age': '29', 'major': 'Computer Engineering', 'hobby': 'working out', 'favorite_food': 'pork'}, 'key': 'personal_info', 'namespace': ['memories', 'changwoo'], 'created_at': '2024-11-27T08:36:29.961334+00:00', 'updated_at': '2024-11-27T08:36:29.961335+00:00'}\n",
      "\n",
      "==== NAMESPACE 영역 Education_level 데이터 ====\n",
      "{'value': {\"Bachelor's degree\": 'Electrical Engineering', \"Master's degree\": 'Computer Engineering', 'Doctoral degree': 'Computer Engineering'}, 'key': 'Education_level', 'namespace': ['memories', 'changwoo'], 'created_at': '2024-11-27T08:36:29.961397+00:00', 'updated_at': '2024-11-27T08:36:29.961398+00:00'}\n"
     ]
    }
   ],
   "source": [
    "# search with namespace (search)\n",
    "memories = LongTermMemory.search(NAMESPACE)\n",
    "print(\"==== NAMESPACE 영역 데이터 ====\")\n",
    "for memory in memories:\n",
    "    print(memory.dict())\n",
    "\n",
    "\n",
    "# search with namespace and key (get)\n",
    "print(\"\\n==== NAMESPACE 영역 personal_info 데이터 ====\")\n",
    "memory = LongTermMemory.get(NAMESPACE,\"personal_info\")\n",
    "print(memory.dict())\n",
    "\n",
    "print(\"\\n==== NAMESPACE 영역 Education_level 데이터 ====\")\n",
    "memory = LongTermMemory.get(NAMESPACE,\"Education_level\")\n",
    "print(memory.dict())"
   ]
  },
  {
   "cell_type": "markdown",
   "metadata": {},
   "source": [
    "## Set up the graph"
   ]
  },
  {
   "cell_type": "markdown",
   "metadata": {},
   "source": [
    "Define Model"
   ]
  },
  {
   "cell_type": "code",
   "execution_count": 3,
   "metadata": {},
   "outputs": [
    {
     "ename": "ImportError",
     "evalue": "cannot import name 'Tensor' from 'torch' (unknown location)",
     "output_type": "error",
     "traceback": [
      "\u001b[0;31m---------------------------------------------------------------------------\u001b[0m",
      "\u001b[0;31mImportError\u001b[0m                               Traceback (most recent call last)",
      "Cell \u001b[0;32mIn[3], line 2\u001b[0m\n\u001b[1;32m      1\u001b[0m \u001b[38;5;28;01mimport\u001b[39;00m \u001b[38;5;21;01mtorch\u001b[39;00m\n\u001b[0;32m----> 2\u001b[0m \u001b[38;5;28;01mfrom\u001b[39;00m \u001b[38;5;21;01mtorch\u001b[39;00m \u001b[38;5;28;01mimport\u001b[39;00m Tensor\n",
      "\u001b[0;31mImportError\u001b[0m: cannot import name 'Tensor' from 'torch' (unknown location)"
     ]
    }
   ],
   "source": [
    "import torch\n",
    "from torch import Tensor"
   ]
  },
  {
   "cell_type": "code",
   "execution_count": 1,
   "metadata": {},
   "outputs": [
    {
     "name": "stderr",
     "output_type": "stream",
     "text": [
      "/root/.cache/pypoetry/virtualenvs/langchain-study-repo-jLHV_RkI-py3.10/lib/python3.10/site-packages/tqdm/auto.py:21: TqdmWarning: IProgress not found. Please update jupyter and ipywidgets. See https://ipywidgets.readthedocs.io/en/stable/user_install.html\n",
      "  from .autonotebook import tqdm as notebook_tqdm\n"
     ]
    },
    {
     "ename": "ImportError",
     "evalue": "cannot import name 'Tensor' from 'torch' (unknown location)",
     "output_type": "error",
     "traceback": [
      "\u001b[0;31m---------------------------------------------------------------------------\u001b[0m",
      "\u001b[0;31mImportError\u001b[0m                               Traceback (most recent call last)",
      "Cell \u001b[0;32mIn[1], line 6\u001b[0m\n\u001b[1;32m      2\u001b[0m \u001b[38;5;28;01mfrom\u001b[39;00m \u001b[38;5;21;01mlangchain_openai\u001b[39;00m \u001b[38;5;28;01mimport\u001b[39;00m ChatOpenAI\n\u001b[1;32m      3\u001b[0m \u001b[38;5;66;03m# LLM = ChatOpenAI(model=\"gpt-4o\", \u001b[39;00m\n\u001b[1;32m      4\u001b[0m \u001b[38;5;66;03m#                  temperature=0) \u001b[39;00m\n\u001b[0;32m----> 6\u001b[0m \u001b[38;5;28;01mfrom\u001b[39;00m \u001b[38;5;21;01mmodels\u001b[39;00m\u001b[38;5;21;01m.\u001b[39;00m\u001b[38;5;21;01mmodel\u001b[39;00m \u001b[38;5;28;01mimport\u001b[39;00m LLM\n",
      "File \u001b[0;32m/workspace/changwoo/Langchain/models/model.py:8\u001b[0m\n\u001b[1;32m      5\u001b[0m \u001b[38;5;28;01mfrom\u001b[39;00m \u001b[38;5;21;01mlangchain_huggingface\u001b[39;00m \u001b[38;5;28;01mimport\u001b[39;00m ChatHuggingFace\n\u001b[1;32m      6\u001b[0m \u001b[38;5;28;01mfrom\u001b[39;00m \u001b[38;5;21;01mlangchain_core\u001b[39;00m\u001b[38;5;21;01m.\u001b[39;00m\u001b[38;5;21;01mmessages\u001b[39;00m \u001b[38;5;28;01mimport\u001b[39;00m HumanMessage, SystemMessage, AIMessage\n\u001b[0;32m----> 8\u001b[0m LLM \u001b[38;5;241m=\u001b[39m \u001b[43mChatHuggingFace\u001b[49m\u001b[43m(\u001b[49m\n\u001b[1;32m      9\u001b[0m \u001b[43m    \u001b[49m\u001b[43mllm\u001b[49m\u001b[38;5;241;43m=\u001b[39;49m\u001b[43mHuggingFaceEndpoint\u001b[49m\u001b[43m(\u001b[49m\n\u001b[1;32m     10\u001b[0m \u001b[43m        \u001b[49m\u001b[43mendpoint_url\u001b[49m\u001b[38;5;241;43m=\u001b[39;49m\u001b[43mURLConfig\u001b[49m\u001b[38;5;241;43m.\u001b[39;49m\u001b[43mMODEL_URL\u001b[49m\u001b[43m,\u001b[49m\n\u001b[1;32m     11\u001b[0m \u001b[43m        \u001b[49m\u001b[43mhuggingfacehub_api_token\u001b[49m\u001b[38;5;241;43m=\u001b[39;49m\u001b[43mHFConfig\u001b[49m\u001b[38;5;241;43m.\u001b[39;49m\u001b[43mHF_API_TOKEN\u001b[49m\u001b[43m,\u001b[49m\n\u001b[1;32m     12\u001b[0m \u001b[43m        \u001b[49m\u001b[43mmax_new_tokens\u001b[49m\u001b[38;5;241;43m=\u001b[39;49m\u001b[43mModelConfig\u001b[49m\u001b[38;5;241;43m.\u001b[39;49m\u001b[43mMAX_NEW_TOKENS\u001b[49m\u001b[43m,\u001b[49m\n\u001b[1;32m     13\u001b[0m \u001b[43m        \u001b[49m\u001b[43mtop_k\u001b[49m\u001b[38;5;241;43m=\u001b[39;49m\u001b[43mModelConfig\u001b[49m\u001b[38;5;241;43m.\u001b[39;49m\u001b[43mTOP_K\u001b[49m\u001b[43m,\u001b[49m\n\u001b[1;32m     14\u001b[0m \u001b[43m        \u001b[49m\u001b[43mtop_p\u001b[49m\u001b[38;5;241;43m=\u001b[39;49m\u001b[43mModelConfig\u001b[49m\u001b[38;5;241;43m.\u001b[39;49m\u001b[43mTOP_P\u001b[49m\u001b[43m,\u001b[49m\n\u001b[1;32m     15\u001b[0m \u001b[43m        \u001b[49m\u001b[43mtemperature\u001b[49m\u001b[38;5;241;43m=\u001b[39;49m\u001b[43mModelConfig\u001b[49m\u001b[38;5;241;43m.\u001b[39;49m\u001b[43mTEMPERATURE\u001b[49m\u001b[43m,\u001b[49m\n\u001b[1;32m     16\u001b[0m \u001b[43m        \u001b[49m\u001b[43mrepetition_penalty\u001b[49m\u001b[38;5;241;43m=\u001b[39;49m\u001b[43mModelConfig\u001b[49m\u001b[38;5;241;43m.\u001b[39;49m\u001b[43mREPETATION_PENALTY\u001b[49m\u001b[43m,\u001b[49m\n\u001b[1;32m     17\u001b[0m \u001b[43m        \u001b[49m\u001b[43mstreaming\u001b[49m\u001b[38;5;241;43m=\u001b[39;49m\u001b[38;5;28;43;01mTrue\u001b[39;49;00m\u001b[43m,\u001b[49m\n\u001b[1;32m     18\u001b[0m \u001b[43m        \u001b[49m\u001b[43mstop_sequences\u001b[49m\u001b[38;5;241;43m=\u001b[39;49m\u001b[43m[\u001b[49m\u001b[38;5;124;43m\"\u001b[39;49m\u001b[38;5;124;43m<|im_end|>\u001b[39;49m\u001b[38;5;124;43m\"\u001b[39;49m\u001b[43m]\u001b[49m\n\u001b[1;32m     19\u001b[0m \u001b[43m    \u001b[49m\u001b[43m)\u001b[49m\u001b[43m,\u001b[49m\n\u001b[1;32m     20\u001b[0m \u001b[43m    \u001b[49m\u001b[43mmodel_id\u001b[49m\u001b[38;5;241;43m=\u001b[39;49m\u001b[43mUsedConfig\u001b[49m\u001b[38;5;241;43m.\u001b[39;49m\u001b[43mMODEL\u001b[49m\n\u001b[1;32m     21\u001b[0m \u001b[43m)\u001b[49m\n",
      "File \u001b[0;32m~/.cache/pypoetry/virtualenvs/langchain-study-repo-jLHV_RkI-py3.10/lib/python3.10/site-packages/langchain_huggingface/chat_models/huggingface.py:319\u001b[0m, in \u001b[0;36mChatHuggingFace.__init__\u001b[0;34m(self, **kwargs)\u001b[0m\n\u001b[1;32m    316\u001b[0m \u001b[38;5;28;01mdef\u001b[39;00m \u001b[38;5;21m__init__\u001b[39m(\u001b[38;5;28mself\u001b[39m, \u001b[38;5;241m*\u001b[39m\u001b[38;5;241m*\u001b[39mkwargs: Any):\n\u001b[1;32m    317\u001b[0m     \u001b[38;5;28msuper\u001b[39m()\u001b[38;5;241m.\u001b[39m\u001b[38;5;21m__init__\u001b[39m(\u001b[38;5;241m*\u001b[39m\u001b[38;5;241m*\u001b[39mkwargs)\n\u001b[0;32m--> 319\u001b[0m     \u001b[38;5;28;01mfrom\u001b[39;00m \u001b[38;5;21;01mtransformers\u001b[39;00m \u001b[38;5;28;01mimport\u001b[39;00m AutoTokenizer  \u001b[38;5;66;03m# type: ignore[import]\u001b[39;00m\n\u001b[1;32m    321\u001b[0m     \u001b[38;5;28mself\u001b[39m\u001b[38;5;241m.\u001b[39m_resolve_model_id()\n\u001b[1;32m    323\u001b[0m     \u001b[38;5;28mself\u001b[39m\u001b[38;5;241m.\u001b[39mtokenizer \u001b[38;5;241m=\u001b[39m (\n\u001b[1;32m    324\u001b[0m         AutoTokenizer\u001b[38;5;241m.\u001b[39mfrom_pretrained(\u001b[38;5;28mself\u001b[39m\u001b[38;5;241m.\u001b[39mmodel_id)\n\u001b[1;32m    325\u001b[0m         \u001b[38;5;28;01mif\u001b[39;00m \u001b[38;5;28mself\u001b[39m\u001b[38;5;241m.\u001b[39mtokenizer \u001b[38;5;129;01mis\u001b[39;00m \u001b[38;5;28;01mNone\u001b[39;00m\n\u001b[1;32m    326\u001b[0m         \u001b[38;5;28;01melse\u001b[39;00m \u001b[38;5;28mself\u001b[39m\u001b[38;5;241m.\u001b[39mtokenizer\n\u001b[1;32m    327\u001b[0m     )\n",
      "File \u001b[0;32m~/.cache/pypoetry/virtualenvs/langchain-study-repo-jLHV_RkI-py3.10/lib/python3.10/site-packages/transformers/__init__.py:26\u001b[0m\n\u001b[1;32m     23\u001b[0m \u001b[38;5;28;01mfrom\u001b[39;00m \u001b[38;5;21;01mtyping\u001b[39;00m \u001b[38;5;28;01mimport\u001b[39;00m TYPE_CHECKING\n\u001b[1;32m     25\u001b[0m \u001b[38;5;66;03m# Check the dependencies satisfy the minimal versions required.\u001b[39;00m\n\u001b[0;32m---> 26\u001b[0m \u001b[38;5;28;01mfrom\u001b[39;00m \u001b[38;5;21;01m.\u001b[39;00m \u001b[38;5;28;01mimport\u001b[39;00m dependency_versions_check\n\u001b[1;32m     27\u001b[0m \u001b[38;5;28;01mfrom\u001b[39;00m \u001b[38;5;21;01m.\u001b[39;00m\u001b[38;5;21;01mutils\u001b[39;00m \u001b[38;5;28;01mimport\u001b[39;00m (\n\u001b[1;32m     28\u001b[0m     OptionalDependencyNotAvailable,\n\u001b[1;32m     29\u001b[0m     _LazyModule,\n\u001b[0;32m   (...)\u001b[0m\n\u001b[1;32m     48\u001b[0m     logging,\n\u001b[1;32m     49\u001b[0m )\n\u001b[1;32m     52\u001b[0m logger \u001b[38;5;241m=\u001b[39m logging\u001b[38;5;241m.\u001b[39mget_logger(\u001b[38;5;18m__name__\u001b[39m)  \u001b[38;5;66;03m# pylint: disable=invalid-name\u001b[39;00m\n",
      "File \u001b[0;32m~/.cache/pypoetry/virtualenvs/langchain-study-repo-jLHV_RkI-py3.10/lib/python3.10/site-packages/transformers/dependency_versions_check.py:16\u001b[0m\n\u001b[1;32m      1\u001b[0m \u001b[38;5;66;03m# Copyright 2020 The HuggingFace Team. All rights reserved.\u001b[39;00m\n\u001b[1;32m      2\u001b[0m \u001b[38;5;66;03m#\u001b[39;00m\n\u001b[1;32m      3\u001b[0m \u001b[38;5;66;03m# Licensed under the Apache License, Version 2.0 (the \"License\");\u001b[39;00m\n\u001b[0;32m   (...)\u001b[0m\n\u001b[1;32m     12\u001b[0m \u001b[38;5;66;03m# See the License for the specific language governing permissions and\u001b[39;00m\n\u001b[1;32m     13\u001b[0m \u001b[38;5;66;03m# limitations under the License.\u001b[39;00m\n\u001b[1;32m     15\u001b[0m \u001b[38;5;28;01mfrom\u001b[39;00m \u001b[38;5;21;01m.\u001b[39;00m\u001b[38;5;21;01mdependency_versions_table\u001b[39;00m \u001b[38;5;28;01mimport\u001b[39;00m deps\n\u001b[0;32m---> 16\u001b[0m \u001b[38;5;28;01mfrom\u001b[39;00m \u001b[38;5;21;01m.\u001b[39;00m\u001b[38;5;21;01mutils\u001b[39;00m\u001b[38;5;21;01m.\u001b[39;00m\u001b[38;5;21;01mversions\u001b[39;00m \u001b[38;5;28;01mimport\u001b[39;00m require_version, require_version_core\n\u001b[1;32m     19\u001b[0m \u001b[38;5;66;03m# define which module versions we always want to check at run time\u001b[39;00m\n\u001b[1;32m     20\u001b[0m \u001b[38;5;66;03m# (usually the ones defined in `install_requires` in setup.py)\u001b[39;00m\n\u001b[1;32m     21\u001b[0m \u001b[38;5;66;03m#\u001b[39;00m\n\u001b[1;32m     22\u001b[0m \u001b[38;5;66;03m# order specific notes:\u001b[39;00m\n\u001b[1;32m     23\u001b[0m \u001b[38;5;66;03m# - tqdm must be checked before tokenizers\u001b[39;00m\n\u001b[1;32m     25\u001b[0m pkgs_to_check_at_runtime \u001b[38;5;241m=\u001b[39m [\n\u001b[1;32m     26\u001b[0m     \u001b[38;5;124m\"\u001b[39m\u001b[38;5;124mpython\u001b[39m\u001b[38;5;124m\"\u001b[39m,\n\u001b[1;32m     27\u001b[0m     \u001b[38;5;124m\"\u001b[39m\u001b[38;5;124mtqdm\u001b[39m\u001b[38;5;124m\"\u001b[39m,\n\u001b[0;32m   (...)\u001b[0m\n\u001b[1;32m     37\u001b[0m     \u001b[38;5;124m\"\u001b[39m\u001b[38;5;124mpyyaml\u001b[39m\u001b[38;5;124m\"\u001b[39m,\n\u001b[1;32m     38\u001b[0m ]\n",
      "File \u001b[0;32m~/.cache/pypoetry/virtualenvs/langchain-study-repo-jLHV_RkI-py3.10/lib/python3.10/site-packages/transformers/utils/__init__.py:27\u001b[0m\n\u001b[1;32m     25\u001b[0m \u001b[38;5;28;01mfrom\u001b[39;00m \u001b[38;5;21;01m.\u001b[39;00m\u001b[38;5;21;01m.\u001b[39;00m \u001b[38;5;28;01mimport\u001b[39;00m __version__\n\u001b[1;32m     26\u001b[0m \u001b[38;5;28;01mfrom\u001b[39;00m \u001b[38;5;21;01m.\u001b[39;00m\u001b[38;5;21;01mbackbone_utils\u001b[39;00m \u001b[38;5;28;01mimport\u001b[39;00m BackboneConfigMixin, BackboneMixin\n\u001b[0;32m---> 27\u001b[0m \u001b[38;5;28;01mfrom\u001b[39;00m \u001b[38;5;21;01m.\u001b[39;00m\u001b[38;5;21;01mchat_template_utils\u001b[39;00m \u001b[38;5;28;01mimport\u001b[39;00m DocstringParsingException, TypeHintParsingException, get_json_schema\n\u001b[1;32m     28\u001b[0m \u001b[38;5;28;01mfrom\u001b[39;00m \u001b[38;5;21;01m.\u001b[39;00m\u001b[38;5;21;01mconstants\u001b[39;00m \u001b[38;5;28;01mimport\u001b[39;00m IMAGENET_DEFAULT_MEAN, IMAGENET_DEFAULT_STD, IMAGENET_STANDARD_MEAN, IMAGENET_STANDARD_STD\n\u001b[1;32m     29\u001b[0m \u001b[38;5;28;01mfrom\u001b[39;00m \u001b[38;5;21;01m.\u001b[39;00m\u001b[38;5;21;01mdoc\u001b[39;00m \u001b[38;5;28;01mimport\u001b[39;00m (\n\u001b[1;32m     30\u001b[0m     add_code_sample_docstrings,\n\u001b[1;32m     31\u001b[0m     add_end_docstrings,\n\u001b[0;32m   (...)\u001b[0m\n\u001b[1;32m     35\u001b[0m     replace_return_docstrings,\n\u001b[1;32m     36\u001b[0m )\n",
      "File \u001b[0;32m~/.cache/pypoetry/virtualenvs/langchain-study-repo-jLHV_RkI-py3.10/lib/python3.10/site-packages/transformers/utils/chat_template_utils.py:39\u001b[0m\n\u001b[1;32m     36\u001b[0m     \u001b[38;5;28;01mfrom\u001b[39;00m \u001b[38;5;21;01mPIL\u001b[39;00m\u001b[38;5;21;01m.\u001b[39;00m\u001b[38;5;21;01mImage\u001b[39;00m \u001b[38;5;28;01mimport\u001b[39;00m Image\n\u001b[1;32m     38\u001b[0m \u001b[38;5;28;01mif\u001b[39;00m is_torch_available():\n\u001b[0;32m---> 39\u001b[0m     \u001b[38;5;28;01mfrom\u001b[39;00m \u001b[38;5;21;01mtorch\u001b[39;00m \u001b[38;5;28;01mimport\u001b[39;00m Tensor\n\u001b[1;32m     42\u001b[0m BASIC_TYPES \u001b[38;5;241m=\u001b[39m (\u001b[38;5;28mint\u001b[39m, \u001b[38;5;28mfloat\u001b[39m, \u001b[38;5;28mstr\u001b[39m, \u001b[38;5;28mbool\u001b[39m, Any, \u001b[38;5;28mtype\u001b[39m(\u001b[38;5;28;01mNone\u001b[39;00m), \u001b[38;5;241m.\u001b[39m\u001b[38;5;241m.\u001b[39m\u001b[38;5;241m.\u001b[39m)\n\u001b[1;32m     43\u001b[0m \u001b[38;5;66;03m# Extracts the initial segment of the docstring, containing the function description\u001b[39;00m\n",
      "\u001b[0;31mImportError\u001b[0m: cannot import name 'Tensor' from 'torch' (unknown location)"
     ]
    }
   ],
   "source": [
    "# Initialize the LLM\n",
    "from langchain_openai import ChatOpenAI\n",
    "# LLM = ChatOpenAI(model=\"gpt-4o\", \n",
    "#                  temperature=0) \n",
    "\n",
    "from models.model import LLM"
   ]
  },
  {
   "cell_type": "markdown",
   "metadata": {},
   "source": [
    "Libraries"
   ]
  },
  {
   "cell_type": "code",
   "execution_count": 32,
   "metadata": {},
   "outputs": [],
   "source": [
    "from IPython.display import Image, display\n",
    "from langgraph.checkpoint.memory import MemorySaver\n",
    "from langgraph.graph import StateGraph, MessagesState, START, END\n",
    "from langgraph.store.base import BaseStore\n",
    "from langchain_core.messages import HumanMessage, SystemMessage\n",
    "from langchain_core.runnables.config import RunnableConfig"
   ]
  },
  {
   "cell_type": "markdown",
   "metadata": {},
   "source": [
    "Prompts"
   ]
  },
  {
   "cell_type": "code",
   "execution_count": 33,
   "metadata": {},
   "outputs": [],
   "source": [
    "# Chatbot instruction\n",
    "MODEL_SYSTEM_MESSAGE_PROMPT = \"\"\"You are a helpful assistant with memory that provides information about the user. \n",
    "If you have memory for this user, use it to personalize your responses.\n",
    "Here is the memory (it may be empty): {memory}\"\"\"\n",
    "\n",
    "# Create new memory from the chat history and any existing memory\n",
    "CREATE_MEMORY_PROMPT = \"\"\"\"You are collecting information about the user to personalize your responses.\n",
    "\n",
    "CURRENT USER INFORMATION:\n",
    "{memory}\n",
    "\n",
    "INSTRUCTIONS:\n",
    "1. Review the chat history below carefully\n",
    "2. Identify new information about the user, such as:\n",
    "   - Personal details (name, location)\n",
    "   - Preferences (likes, dislikes)\n",
    "   - Interests and hobbies\n",
    "   - Past experiences\n",
    "   - Goals or future plans\n",
    "3. Merge any new information with existing memory\n",
    "4. Format the memory as a clear, bulleted list\n",
    "5. If new information conflicts with existing memory, keep the most recent version\n",
    "\n",
    "Remember: Only include factual information directly stated by the user. Do not make assumptions or inferences.\n",
    "\n",
    "Based on the chat history below, please update the user information:\"\"\""
   ]
  },
  {
   "cell_type": "markdown",
   "metadata": {},
   "source": [
    "Node and Functions"
   ]
  },
  {
   "cell_type": "code",
   "execution_count": 34,
   "metadata": {},
   "outputs": [],
   "source": [
    "def get_memory(namespace, \n",
    "               key,\n",
    "               store:BaseStore):\n",
    "    \"\"\"\n",
    "        Des:\n",
    "            Get memory\n",
    "    \"\"\"\n",
    "    # Get memory from user id\n",
    "    existing_memory = store.get(namespace=namespace,\n",
    "                                key=key)\n",
    "\n",
    "    # Extract the actual memory content if it exists and add a prefix\n",
    "    if existing_memory:\n",
    "        existing_memory_content = existing_memory.value.get('memory')\n",
    "    else:\n",
    "        existing_memory_content = \"No existing memory found.\"\n",
    "    return existing_memory_content\n",
    "\n",
    "def Node_get_response(state: MessagesState, \n",
    "                      config: RunnableConfig, \n",
    "                      store: BaseStore):\n",
    "    \"\"\"\n",
    "        Des:\n",
    "            Load memory from the store and use it to personalize the chatbot's response.\n",
    "    \"\"\"\n",
    "    NAMESPACE = (\"memories\", config[\"configurable\"][\"user_id\"])\n",
    "    key = \"chat_user_memory\"\n",
    "    existing_memory_content = get_memory(NAMESPACE, \n",
    "                                         key, \n",
    "                                         store)\n",
    "    SYSTEM_MESSAGE = MODEL_SYSTEM_MESSAGE_PROMPT.format(memory=existing_memory_content)\n",
    "    INPUT = [SystemMessage(content=SYSTEM_MESSAGE)]+state[\"messages\"]\n",
    "    OUTPUT = LLM.invoke(INPUT)\n",
    "    return {\"messages\":OUTPUT}\n",
    "\n",
    "def Node_write_memory(state: MessagesState, \n",
    "                      config: RunnableConfig, \n",
    "                      store: BaseStore):\n",
    "    \"\"\"\n",
    "        Des:\n",
    "            Reflect on the chat history and save a memory to the store.\n",
    "    \"\"\"\n",
    "    NAMESPACE = (\"memories\", config[\"configurable\"][\"user_id\"])\n",
    "    key = \"chat_user_memory\"\n",
    "    existing_memory_content = get_memory(NAMESPACE, \n",
    "                                         key, \n",
    "                                         store)\n",
    "    SYSTEM_MESSAGE = CREATE_MEMORY_PROMPT.format(memory=existing_memory_content)\n",
    "    INPUT = [SystemMessage(content=SYSTEM_MESSAGE)]+state[\"messages\"]\n",
    "    OUTPUT = LLM.invoke(INPUT)\n",
    "    store.put(NAMESPACE, \n",
    "              key, \n",
    "              {\"memory\": OUTPUT.content})"
   ]
  },
  {
   "cell_type": "markdown",
   "metadata": {},
   "source": [
    "Define the graph"
   ]
  },
  {
   "cell_type": "code",
   "execution_count": 35,
   "metadata": {},
   "outputs": [
    {
     "data": {
      "image/png": "[encoded data removed]",
      "text/plain": [
       "<IPython.core.display.Image object>"
      ]
     },
     "metadata": {},
     "output_type": "display_data"
    }
   ],
   "source": [
    "builder = StateGraph(MessagesState)\n",
    "builder.add_node(\"Node_get_response\", Node_get_response)\n",
    "builder.add_node(\"Node_write_memory\", Node_write_memory)\n",
    "builder.add_edge(START, \"Node_get_response\")\n",
    "builder.add_edge(\"Node_get_response\", \"Node_write_memory\")\n",
    "builder.add_edge(\"Node_write_memory\", END)\n",
    "\n",
    "# Checkpointer : short-term (within-thread) memory\n",
    "ShortTermMemory = MemorySaver()\n",
    "\n",
    "# Compile the graph with the checkpointer fir and store\n",
    "graph = builder.compile(checkpointer=ShortTermMemory, \n",
    "                        store=LongTermMemory)\n",
    "\n",
    "# View\n",
    "display(Image(graph.get_graph(xray=1).draw_mermaid_png()))"
   ]
  },
  {
   "cell_type": "markdown",
   "metadata": {},
   "source": [
    "## Test Chat "
   ]
  },
  {
   "cell_type": "markdown",
   "metadata": {},
   "source": [
    "1. Short-Term (within-thread) memory\n",
    "- thread ID\n",
    "2. Long-Term (cross-thread) memory\n",
    "- user ID"
   ]
  },
  {
   "cell_type": "markdown",
   "metadata": {},
   "source": [
    "Set Configuration\n",
    "- Thread : initial_chat\n",
    "- User : changwoo"
   ]
  },
  {
   "cell_type": "code",
   "execution_count": 37,
   "metadata": {},
   "outputs": [],
   "source": [
    "config = {\"configurable\": {\"thread_id\": \"initial_chat\", \n",
    "                           \"user_id\": \"changwoo\"}}"
   ]
  },
  {
   "cell_type": "markdown",
   "metadata": {},
   "source": [
    "Chat (1) Tell my Name"
   ]
  },
  {
   "cell_type": "code",
   "execution_count": 38,
   "metadata": {},
   "outputs": [
    {
     "name": "stdout",
     "output_type": "stream",
     "text": [
      "================================\u001b[1m Human Message \u001b[0m=================================\n",
      "\n",
      "Hi, my name is changwoo\n",
      "==================================\u001b[1m Ai Message \u001b[0m==================================\n",
      "\n",
      "Hello, Changwoo! It's nice to meet you. How can I assist you today?\n"
     ]
    }
   ],
   "source": [
    "# Run\n",
    "for chunk in graph.stream({\"messages\": [HumanMessage(content=\"Hi, my name is changwoo\")]}, \n",
    "                          config, \n",
    "                          stream_mode=\"values\"):\n",
    "    chunk[\"messages\"][-1].pretty_print()"
   ]
  },
  {
   "cell_type": "markdown",
   "metadata": {},
   "source": [
    "Chat (2) Tell my Job"
   ]
  },
  {
   "cell_type": "code",
   "execution_count": 39,
   "metadata": {},
   "outputs": [
    {
     "name": "stdout",
     "output_type": "stream",
     "text": [
      "================================\u001b[1m Human Message \u001b[0m=================================\n",
      "\n",
      "I'm Phd Student in Pusan National University\n",
      "==================================\u001b[1m Ai Message \u001b[0m==================================\n",
      "\n",
      "That's great to hear, Changwoo! Pursuing a PhD is a significant achievement. What are you studying at Pusan National University?\n"
     ]
    }
   ],
   "source": [
    "# Run\n",
    "for chunk in graph.stream({\"messages\": [HumanMessage(content=\"I'm Phd Student in Pusan National University\")]}, \n",
    "                          config, \n",
    "                          stream_mode=\"values\"):\n",
    "    chunk[\"messages\"][-1].pretty_print()"
   ]
  },
  {
   "cell_type": "markdown",
   "metadata": {},
   "source": [
    "Chat (3) Tell my major"
   ]
  },
  {
   "cell_type": "code",
   "execution_count": 40,
   "metadata": {},
   "outputs": [
    {
     "name": "stdout",
     "output_type": "stream",
     "text": [
      "================================\u001b[1m Human Message \u001b[0m=================================\n",
      "\n",
      "I have been studyin Artificial Intelligence, especially in Large Language Model\n",
      "==================================\u001b[1m Ai Message \u001b[0m==================================\n",
      "\n",
      "That's fascinating, Changwoo! Large Language Models are a rapidly evolving area in AI with a lot of exciting developments. Are you working on any specific projects or research questions related to Large Language Models?\n"
     ]
    }
   ],
   "source": [
    "# Run\n",
    "message = \"\"\"I have been studyin Artificial Intelligence, especially in Large Language Model\"\"\"\n",
    "for chunk in graph.stream({\"messages\": [HumanMessage(content=message)]}, \n",
    "                          config, \n",
    "                          stream_mode=\"values\"):\n",
    "    chunk[\"messages\"][-1].pretty_print()"
   ]
  },
  {
   "cell_type": "markdown",
   "metadata": {},
   "source": [
    "Check Short-Term Memory (within-thread)"
   ]
  },
  {
   "cell_type": "code",
   "execution_count": 42,
   "metadata": {},
   "outputs": [
    {
     "name": "stdout",
     "output_type": "stream",
     "text": [
      "================================\u001b[1m Human Message \u001b[0m=================================\n",
      "\n",
      "Hi, my name is changwoo\n",
      "==================================\u001b[1m Ai Message \u001b[0m==================================\n",
      "\n",
      "Hello, Changwoo! It's nice to meet you. How can I assist you today?\n",
      "================================\u001b[1m Human Message \u001b[0m=================================\n",
      "\n",
      "I'm Phd Student in Pusan National University\n",
      "==================================\u001b[1m Ai Message \u001b[0m==================================\n",
      "\n",
      "That's great to hear, Changwoo! Pursuing a PhD is a significant achievement. What are you studying at Pusan National University?\n",
      "================================\u001b[1m Human Message \u001b[0m=================================\n",
      "\n",
      "I have been studyin Artificial Intelligence, especially in Large Language Model\n",
      "==================================\u001b[1m Ai Message \u001b[0m==================================\n",
      "\n",
      "That's fascinating, Changwoo! Large Language Models are a rapidly evolving area in AI with a lot of exciting developments. Are you working on any specific projects or research questions related to Large Language Models?\n"
     ]
    }
   ],
   "source": [
    "thread = {\"configurable\": {\"thread_id\": \"initial_chat\"}}\n",
    "state = graph.get_state(thread).values\n",
    "for m in state[\"messages\"]: \n",
    "    m.pretty_print()"
   ]
  },
  {
   "cell_type": "markdown",
   "metadata": {},
   "source": [
    "Check Long-Term Memory (cross-thread)"
   ]
  },
  {
   "cell_type": "code",
   "execution_count": 43,
   "metadata": {},
   "outputs": [
    {
     "data": {
      "text/plain": [
       "{'value': {'memory': \"**Updated User Information:**\\n- User's name is Changwoo.\\n- Changwoo is a PhD student at Pusan National University.\\n- Changwoo is studying Artificial Intelligence, with a focus on Large Language Models.\"},\n",
       " 'key': 'chat_user_memory',\n",
       " 'namespace': ['memories', 'changwoo'],\n",
       " 'created_at': '2024-11-27T06:27:33.957232+00:00',\n",
       " 'updated_at': '2024-11-27T06:27:49.952595+00:00'}"
      ]
     },
     "execution_count": 43,
     "metadata": {},
     "output_type": "execute_result"
    }
   ],
   "source": [
    "NAMESPACE = (\"memories\", \"changwoo\") \n",
    "key = \"chat_user_memory\" # personal_info, Education_level\n",
    "existing_memory = LongTermMemory.get(NAMESPACE, key)\n",
    "existing_memory.dict()"
   ]
  },
  {
   "cell_type": "markdown",
   "metadata": {},
   "source": [
    "Set Configuration\n",
    "- Thread : second_chat\n",
    "- User : changwoo"
   ]
  },
  {
   "cell_type": "code",
   "execution_count": 44,
   "metadata": {},
   "outputs": [],
   "source": [
    "config = {\"configurable\": {\"thread_id\": \"second_chat\", \n",
    "                           \"user_id\": \"changwoo\"}}"
   ]
  },
  {
   "cell_type": "markdown",
   "metadata": {},
   "source": [
    "Chat (1) Tell my age, family"
   ]
  },
  {
   "cell_type": "code",
   "execution_count": 45,
   "metadata": {},
   "outputs": [
    {
     "name": "stdout",
     "output_type": "stream",
     "text": [
      "================================\u001b[1m Human Message \u001b[0m=================================\n",
      "\n",
      "I'm 29 years old. I have a family of 7. Recently, a cute niece was born.\n",
      "==================================\u001b[1m Ai Message \u001b[0m==================================\n",
      "\n",
      "Thank you for sharing more about yourself, Changwoo! It's wonderful to hear about your growing family and the arrival of your cute niece. If there's anything specific you'd like to discuss or need help with, feel free to let me know!\n"
     ]
    }
   ],
   "source": [
    "message = \"\"\"I'm 29 years old. I have a family of 7. Recently, a cute niece was born.\"\"\"\n",
    "for chunk in graph.stream({\"messages\": [HumanMessage(content=message)]}, \n",
    "                          config, \n",
    "                          stream_mode=\"values\"):\n",
    "    chunk[\"messages\"][-1].pretty_print()"
   ]
  },
  {
   "cell_type": "markdown",
   "metadata": {},
   "source": [
    "Chat (2) Tell my hobby"
   ]
  },
  {
   "cell_type": "code",
   "execution_count": 46,
   "metadata": {},
   "outputs": [
    {
     "name": "stdout",
     "output_type": "stream",
     "text": [
      "================================\u001b[1m Human Message \u001b[0m=================================\n",
      "\n",
      "My hobby is working out at the gym. I have been doing it for 2 years.\n",
      "==================================\u001b[1m Ai Message \u001b[0m==================================\n",
      "\n",
      "That's great to hear, Changwoo! Working out at the gym is a fantastic way to stay healthy and relieve stress, especially with the demands of your PhD studies. Since you've been doing it for 2 years, you must have developed a solid routine by now. If you ever want to share more about your workout routine or need tips on anything related to fitness, feel free to ask!\n"
     ]
    }
   ],
   "source": [
    "# Run\n",
    "message = \"\"\"My hobby is working out at the gym. I have been doing it for 2 years.\"\"\"\n",
    "for chunk in graph.stream({\"messages\": [HumanMessage(content=message)]}, \n",
    "                          config, \n",
    "                          stream_mode=\"values\"):\n",
    "    chunk[\"messages\"][-1].pretty_print()"
   ]
  },
  {
   "cell_type": "markdown",
   "metadata": {},
   "source": [
    "Check Short-Term Memory (within-thread)"
   ]
  },
  {
   "cell_type": "code",
   "execution_count": 48,
   "metadata": {},
   "outputs": [
    {
     "name": "stdout",
     "output_type": "stream",
     "text": [
      "================================\u001b[1m Human Message \u001b[0m=================================\n",
      "\n",
      "I'm 29 years old. I have a family of 7. Recently, a cute niece was born.\n",
      "==================================\u001b[1m Ai Message \u001b[0m==================================\n",
      "\n",
      "Thank you for sharing more about yourself, Changwoo! It's wonderful to hear about your growing family and the arrival of your cute niece. If there's anything specific you'd like to discuss or need help with, feel free to let me know!\n",
      "================================\u001b[1m Human Message \u001b[0m=================================\n",
      "\n",
      "My hobby is working out at the gym. I have been doing it for 2 years.\n",
      "==================================\u001b[1m Ai Message \u001b[0m==================================\n",
      "\n",
      "That's great to hear, Changwoo! Working out at the gym is a fantastic way to stay healthy and relieve stress, especially with the demands of your PhD studies. Since you've been doing it for 2 years, you must have developed a solid routine by now. If you ever want to share more about your workout routine or need tips on anything related to fitness, feel free to ask!\n"
     ]
    }
   ],
   "source": [
    "thread = {\"configurable\": {\"thread_id\": \"second_chat\"}}\n",
    "state = graph.get_state(thread).values\n",
    "for m in state[\"messages\"]: \n",
    "    m.pretty_print()\n",
    "    # print(m.content)"
   ]
  },
  {
   "cell_type": "markdown",
   "metadata": {},
   "source": [
    "Check Long-Term Memory (cross-thread)"
   ]
  },
  {
   "cell_type": "code",
   "execution_count": 49,
   "metadata": {},
   "outputs": [
    {
     "data": {
      "text/plain": [
       "{'value': {'memory': \"**Updated User Information:**\\n- User's name is Changwoo.\\n- Changwoo is a PhD student at Pusan National University.\\n- Changwoo is studying Artificial Intelligence, with a focus on Large Language Models.\\n- Changwoo is 29 years old.\\n- Changwoo has a family of 7 members.\\n- Changwoo recently had a niece born.\\n- Changwoo's hobby is working out at the gym, which he has been doing for 2 years.\"},\n",
       " 'key': 'chat_user_memory',\n",
       " 'namespace': ['memories', 'changwoo'],\n",
       " 'created_at': '2024-11-27T06:27:33.957232+00:00',\n",
       " 'updated_at': '2024-11-27T06:28:43.330066+00:00'}"
      ]
     },
     "execution_count": 49,
     "metadata": {},
     "output_type": "execute_result"
    }
   ],
   "source": [
    "NAMESPACE = (\"memories\", \"changwoo\")\n",
    "key = \"chat_user_memory\"\n",
    "existing_memory = LongTermMemory.get(NAMESPACE, key)\n",
    "existing_memory.dict()"
   ]
  }
 ],
 "metadata": {
  "kernelspec": {
   "display_name": "langchain_env",
   "language": "python",
   "name": "langchain_env"
  },
  "language_info": {
   "codemirror_mode": {
    "name": "ipython",
    "version": 3
   },
   "file_extension": ".py",
   "mimetype": "text/x-python",
   "name": "python",
   "nbconvert_exporter": "python",
   "pygments_lexer": "ipython3",
   "version": "3.10.12"
  }
 },
 "nbformat": 4,
 "nbformat_minor": 4
}
