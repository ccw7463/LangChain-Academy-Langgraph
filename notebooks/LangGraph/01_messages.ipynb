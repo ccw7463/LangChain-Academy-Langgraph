{
 "cells": [
  {
   "cell_type": "code",
   "execution_count": 5,
   "metadata": {},
   "outputs": [],
   "source": [
    "from modules.base import *"
   ]
  },
  {
   "cell_type": "markdown",
   "metadata": {},
   "source": [
    "#### 1. override : state는 기본적으로 override 됨."
   ]
  },
  {
   "cell_type": "code",
   "execution_count": 8,
   "metadata": {},
   "outputs": [
    {
     "name": "stdout",
     "output_type": "stream",
     "text": [
      "\n",
      "\u001b[92m🚀 Passing Through [node_1] ..\u001b[0m\n",
      "\n",
      "\u001b[91m#### [Input State]\u001b[0m\n",
      "  args: ({'cnt': 1},)\n",
      "  kwargs: {}\n",
      "\n",
      "\u001b[94m#### [Output State]\u001b[0m\n",
      "  result: {'cnt': 2}\n"
     ]
    },
    {
     "data": {
      "text/plain": [
       "{'cnt': 2}"
      ]
     },
     "execution_count": 8,
     "metadata": {},
     "output_type": "execute_result"
    }
   ],
   "source": [
    "class TypedDictState(TypedDict):\n",
    "    cnt: int\n",
    "    \n",
    "@trace_function(enable_print=True)\n",
    "def node_1(state):\n",
    "    return {\"cnt\": state['cnt'] + 1}\n",
    "\n",
    "builder = StateGraph(TypedDictState)\n",
    "builder.add_node(\"node_1\", node_1)\n",
    "builder.add_edge(START, \"node_1\")\n",
    "builder.add_edge(\"node_1\", END)\n",
    "graph = builder.compile()\n",
    "graph.invoke({\"cnt\":1})"
   ]
  },
  {
   "cell_type": "markdown",
   "metadata": {},
   "source": [
    "#### 2. append : append 되는 형태로 하면, 멀티턴 쉽게 구현 가능\n",
    "- 단순 state 일 경우 `from operator import add` 사용\n",
    "- messages 일 경우 `from langgraph.graph.message import add_messages` 사용"
   ]
  },
  {
   "cell_type": "markdown",
   "metadata": {},
   "source": [
    "add 사용"
   ]
  },
  {
   "cell_type": "code",
   "execution_count": 12,
   "metadata": {},
   "outputs": [
    {
     "name": "stdout",
     "output_type": "stream",
     "text": [
      "\n",
      "\u001b[92m🚀 Passing Through [node_1] ..\u001b[0m\n",
      "\n",
      "\u001b[91m#### [Input State]\u001b[0m\n",
      "  args: ({'cnt': [1]},)\n",
      "  kwargs: {}\n",
      "\n",
      "\u001b[94m#### [Output State]\u001b[0m\n",
      "  result: {'cnt': [2]}\n"
     ]
    },
    {
     "data": {
      "text/plain": [
       "{'cnt': [1, 2]}"
      ]
     },
     "execution_count": 12,
     "metadata": {},
     "output_type": "execute_result"
    }
   ],
   "source": [
    "class State(TypedDict): \n",
    "    cnt: Annotated[list[int], add]\n",
    "\n",
    "@trace_function(enable_print=True)\n",
    "def node_1(state):\n",
    "    return {\"cnt\": [state['cnt'][0] + 1]}\n",
    "\n",
    "builder = StateGraph(State)\n",
    "builder.add_node(\"node_1\", node_1)\n",
    "builder.add_edge(START, \"node_1\")\n",
    "builder.add_edge(\"node_1\", END)\n",
    "graph = builder.compile()\n",
    "graph.invoke({\"cnt\":[1]})"
   ]
  },
  {
   "cell_type": "markdown",
   "metadata": {},
   "source": [
    "add_messages 사용\n",
    "- 여기서 중요한점은, add_messages를 추가한 MessagesState 클래스를 직접 선언해도되지만\n",
    "- 사전에 정의된 Component를 사용해도됨 -> `from langgraph.graph import MessagesState`"
   ]
  },
  {
   "cell_type": "code",
   "execution_count": 20,
   "metadata": {},
   "outputs": [
    {
     "name": "stdout",
     "output_type": "stream",
     "text": [
      "\n",
      "\u001b[92m🚀 Passing Through [node_1] ..\u001b[0m\n",
      "\n",
      "\u001b[91m#### [Input State]\u001b[0m\n",
      "  args: ({'messages': [HumanMessage(content='Hi, this is changwoo.', additional_kwargs={}, response_metadata={}, id='cc1d396f-da37-4946-8827-71a963feb551')]},)\n",
      "  kwargs: {}\n",
      "\n",
      "\u001b[94m#### [Output State]\u001b[0m\n",
      "  result: {'messages': [AIMessage(content='Hello Changwoo! How can I assist you today?', additional_kwargs={'refusal': None}, response_metadata={'token_usage': {'completion_tokens': 11, 'prompt_tokens': 14, 'total_tokens': 25, 'completion_tokens_details': {'accepted_prediction_tokens': 0, 'audio_tokens': 0, 'reasoning_tokens': 0, 'rejected_prediction_tokens': 0}, 'prompt_tokens_details': {'audio_tokens': 0, 'cached_tokens': 0}}, 'model_name': 'gpt-4o-2024-08-06', 'system_fingerprint': 'fp_d28bcae782', 'finish_reason': 'stop', 'logprobs': None}, id='run-4fca5acb-32d4-4024-b19f-5c35873f792c-0', usage_metadata={'input_tokens': 14, 'output_tokens': 11, 'total_tokens': 25, 'input_token_details': {'audio': 0, 'cache_read': 0}, 'output_token_details': {'audio': 0, 'reasoning': 0}})]}\n",
      "\n",
      "\u001b[92m🚀 Passing Through [node_2] ..\u001b[0m\n",
      "\n",
      "\u001b[91m#### [Input State]\u001b[0m\n",
      "  args: ({'messages': [HumanMessage(content='Hi, this is changwoo.', additional_kwargs={}, response_metadata={}, id='cc1d396f-da37-4946-8827-71a963feb551'), AIMessage(content='Hello Changwoo! How can I assist you today?', additional_kwargs={'refusal': None}, response_metadata={'token_usage': {'completion_tokens': 11, 'prompt_tokens': 14, 'total_tokens': 25, 'completion_tokens_details': {'accepted_prediction_tokens': 0, 'audio_tokens': 0, 'reasoning_tokens': 0, 'rejected_prediction_tokens': 0}, 'prompt_tokens_details': {'audio_tokens': 0, 'cached_tokens': 0}}, 'model_name': 'gpt-4o-2024-08-06', 'system_fingerprint': 'fp_d28bcae782', 'finish_reason': 'stop', 'logprobs': None}, id='run-4fca5acb-32d4-4024-b19f-5c35873f792c-0', usage_metadata={'input_tokens': 14, 'output_tokens': 11, 'total_tokens': 25, 'input_token_details': {'audio': 0, 'cache_read': 0}, 'output_token_details': {'audio': 0, 'reasoning': 0}})]},)\n",
      "  kwargs: {}\n",
      "\n",
      "\u001b[94m#### [Output State]\u001b[0m\n",
      "  result: {'messages': [AIMessage(content='You mentioned that your name is Changwoo. How can I help you further?', additional_kwargs={'refusal': None}, response_metadata={'token_usage': {'completion_tokens': 17, 'prompt_tokens': 38, 'total_tokens': 55, 'completion_tokens_details': {'accepted_prediction_tokens': 0, 'audio_tokens': 0, 'reasoning_tokens': 0, 'rejected_prediction_tokens': 0}, 'prompt_tokens_details': {'audio_tokens': 0, 'cached_tokens': 0}}, 'model_name': 'gpt-4o-2024-08-06', 'system_fingerprint': 'fp_5f20662549', 'finish_reason': 'stop', 'logprobs': None}, id='run-e94bb0fc-3db5-49b3-9061-cbb152937e4e-0', usage_metadata={'input_tokens': 38, 'output_tokens': 17, 'total_tokens': 55, 'input_token_details': {'audio': 0, 'cache_read': 0}, 'output_token_details': {'audio': 0, 'reasoning': 0}})]}\n"
     ]
    }
   ],
   "source": [
    "# option 1 : 직접 정의\n",
    "class MessagesState(TypedDict):\n",
    "    messages: Annotated[list[AnyMessage], add_messages]\n",
    "\n",
    "# option 2 : 사전에 정의된 Component\n",
    "# from langgraph.graph import MessagesState\n",
    "\n",
    "# option 3 : 상속받기 (아래처럼 상속받으면, messages 와 summary 사용 가능)\n",
    "# class State(MessagesState):\n",
    "#     summary: str\n",
    "\n",
    "@trace_function(enable_print=True)\n",
    "def node_1(state:MessagesState):\n",
    "    return {\"messages\": [llm.invoke(state[\"messages\"])]}\n",
    "\n",
    "@trace_function(enable_print=True)\n",
    "def node_2(state:MessagesState):\n",
    "    return {\"messages\": [llm.invoke(state[\"messages\"] + [HumanMessage(content=\"what is my name?\")])]}\n",
    "\n",
    "# Build graph\n",
    "builder = StateGraph(MessagesState)\n",
    "builder.add_node(\"node_1\", node_1)\n",
    "builder.add_node(\"node_2\", node_2)\n",
    "builder.add_edge(START, \"node_1\")\n",
    "builder.add_edge(\"node_1\", \"node_2\")\n",
    "builder.add_edge(\"node_2\", END)\n",
    "graph = builder.compile()\n",
    "result = graph.invoke({\"messages\":\"Hi, this is changwoo.\"})"
   ]
  },
  {
   "cell_type": "markdown",
   "metadata": {},
   "source": [
    "#### add_messages 이해\n",
    "- id 값이 없을 경우 무조건 append\n",
    "- id 값이 있을 경우, 해당 id 값이 있는 경우 overwrite"
   ]
  },
  {
   "cell_type": "code",
   "execution_count": 21,
   "metadata": {},
   "outputs": [
    {
     "data": {
      "text/plain": [
       "[AIMessage(content='Hello! How can I assist you?', additional_kwargs={}, response_metadata={}, name='Model', id='72e28843-6de0-43af-8d8b-f1e49956c13b'),\n",
       " HumanMessage(content=\"I'm looking for information on marine biology.\", additional_kwargs={}, response_metadata={}, name='Lance', id='dae14217-f80a-45d6-affd-e05805882e17'),\n",
       " AIMessage(content='Sure, I can help with that. What specifically are you interested in?', additional_kwargs={}, response_metadata={}, name='Model', id='fcf96012-32bf-4b1d-b1de-e727328d9847')]"
      ]
     },
     "execution_count": 21,
     "metadata": {},
     "output_type": "execute_result"
    }
   ],
   "source": [
    "# without id -> only append\n",
    "initial_messages = [AIMessage(content=\"Hello! How can I assist you?\", \n",
    "                              name=\"Model\"),\n",
    "                    HumanMessage(content=\"I'm looking for information on marine biology.\", \n",
    "                                 name=\"Lance\")]\n",
    "new_message = AIMessage(content=\"Sure, I can help with that. What specifically are you interested in?\", \n",
    "                        name=\"Model\")\n",
    "add_messages(initial_messages , new_message)"
   ]
  },
  {
   "cell_type": "code",
   "execution_count": 22,
   "metadata": {},
   "outputs": [
    {
     "data": {
      "text/plain": [
       "[AIMessage(content='Hello! How can I assist you?', additional_kwargs={}, response_metadata={}, name='Model', id='1'),\n",
       " HumanMessage(content=\"I'm looking for information on whales, specifically\", additional_kwargs={}, response_metadata={}, name='changwoo', id='2')]"
      ]
     },
     "execution_count": 22,
     "metadata": {},
     "output_type": "execute_result"
    }
   ],
   "source": [
    "# with id -> append and overwrite\n",
    "initial_messages = [AIMessage(content=\"Hello! How can I assist you?\", \n",
    "                              name=\"Model\", \n",
    "                              id=\"1\"),\n",
    "                    HumanMessage(content=\"I'm looking for information on marine biology.\", \n",
    "                                 name=\"Lance\", \n",
    "                                 id=\"2\")]\n",
    "new_message = HumanMessage(content=\"I'm looking for information on whales, specifically\", \n",
    "                           name=\"changwoo\", \n",
    "                           id=\"2\")\n",
    "add_messages(initial_messages , new_message)"
   ]
  },
  {
   "cell_type": "markdown",
   "metadata": {},
   "source": [
    "#### add_messages + RemoveMessage 이해\n",
    "- add_messages 사용시, RemoveMessage 값을 넘기면 지울수있음."
   ]
  },
  {
   "cell_type": "code",
   "execution_count": 23,
   "metadata": {},
   "outputs": [
    {
     "data": {
      "text/plain": [
       "[AIMessage(content='So you said you were researching ocean mammals?', additional_kwargs={}, response_metadata={}, name='Bot', id='3'),\n",
       " HumanMessage(content='Yes, I know about whales. But what others should I learn about?', additional_kwargs={}, response_metadata={}, name='Lance', id='4')]"
      ]
     },
     "execution_count": 23,
     "metadata": {},
     "output_type": "execute_result"
    }
   ],
   "source": [
    "messages = [AIMessage(\"Hi.\", \n",
    "                      name=\"Bot\", \n",
    "                      id=\"1\")]\n",
    "messages.append(HumanMessage(\"Hi.\", \n",
    "                             name=\"Lance\", \n",
    "                             id=\"2\"))\n",
    "messages.append(AIMessage(\"So you said you were researching ocean mammals?\", \n",
    "                          name=\"Bot\", \n",
    "                          id=\"3\"))\n",
    "messages.append(HumanMessage(\"Yes, I know about whales. But what others should I learn about?\", \n",
    "                             name=\"Lance\", \n",
    "                             id=\"4\"))\n",
    "\n",
    "delete_messages = [RemoveMessage(id=m.id) for m in messages[:-2]]\n",
    "add_messages(messages , delete_messages)"
   ]
  },
  {
   "cell_type": "markdown",
   "metadata": {},
   "source": [
    "- filter_messages 를 통과한뒤, 4개의 메시지중 처음 2개 삭제됐음."
   ]
  },
  {
   "cell_type": "code",
   "execution_count": 24,
   "metadata": {},
   "outputs": [],
   "source": [
    "@trace_function(enable_print=True)\n",
    "def filter_messages(state: MessagesState):\n",
    "    delete_messages = [RemoveMessage(id=m.id) for m in state[\"messages\"][:-2]]\n",
    "    return {\"messages\": delete_messages}\n",
    "\n",
    "@trace_function(enable_print=True)\n",
    "def chat_model_node(state: MessagesState):    \n",
    "    return {\"messages\": [llm.invoke(state[\"messages\"])]}\n",
    "\n",
    "builder = StateGraph(MessagesState)\n",
    "builder.add_node(\"filter\", filter_messages)\n",
    "builder.add_node(\"chat_model\", chat_model_node)\n",
    "builder.add_edge(START, \"filter\")\n",
    "builder.add_edge(\"filter\", \"chat_model\")\n",
    "builder.add_edge(\"chat_model\", END)\n",
    "graph = builder.compile()"
   ]
  },
  {
   "cell_type": "code",
   "execution_count": 25,
   "metadata": {},
   "outputs": [
    {
     "name": "stdout",
     "output_type": "stream",
     "text": [
      "\n",
      "\u001b[92m🚀 Passing Through [filter_messages] ..\u001b[0m\n",
      "\n",
      "\u001b[91m#### [Input State]\u001b[0m\n",
      "  args: ({'messages': [AIMessage(content='Hi.', additional_kwargs={}, response_metadata={}, name='Bot', id='1'), HumanMessage(content='Hi.', additional_kwargs={}, response_metadata={}, name='Lance', id='2'), AIMessage(content='So you said you were researching ocean mammals?', additional_kwargs={}, response_metadata={}, name='Bot', id='3'), HumanMessage(content='Yes, I know about whales. But what others should I learn about?', additional_kwargs={}, response_metadata={}, name='Lance', id='4')]},)\n",
      "  kwargs: {}\n",
      "\n",
      "\u001b[94m#### [Output State]\u001b[0m\n",
      "  result: {'messages': [RemoveMessage(content='', additional_kwargs={}, response_metadata={}, id='1'), RemoveMessage(content='', additional_kwargs={}, response_metadata={}, id='2')]}\n",
      "\n",
      "\u001b[92m🚀 Passing Through [chat_model_node] ..\u001b[0m\n",
      "\n",
      "\u001b[91m#### [Input State]\u001b[0m\n",
      "  args: ({'messages': [AIMessage(content='So you said you were researching ocean mammals?', additional_kwargs={}, response_metadata={}, name='Bot', id='3'), HumanMessage(content='Yes, I know about whales. But what others should I learn about?', additional_kwargs={}, response_metadata={}, name='Lance', id='4')]},)\n",
      "  kwargs: {}\n",
      "\n",
      "\u001b[94m#### [Output State]\u001b[0m\n",
      "  result: {'messages': [AIMessage(content='In addition to whales, there are several other fascinating ocean mammals you might want to explore:\\n\\n1. **Dolphins**: These highly intelligent and social animals are known for their playful behavior and complex communication systems. There are many species, including the bottlenose dolphin, spinner dolphin, and the orca or killer whale, which is actually the largest member of the dolphin family.\\n\\n2. **Porpoises**: Often confused with dolphins, porpoises are smaller and have different physical features, such as shorter beaks and spade-shaped teeth. The harbor porpoise is one of the most well-known species.\\n\\n3. **Seals**: These are pinnipeds, which means they have fin-like limbs. Common species include the harbor seal and the gray seal. They are known for their adaptability to both water and land.\\n\\n4. **Sea Lions**: Also pinnipeds, sea lions are known for their external ear flaps and ability to \"walk\" on land using their large flippers. The California sea lion is a well-known species often seen performing in marine parks.\\n\\n5. **Walruses**: Recognizable by their long tusks and whiskers, walruses are large pinnipeds that inhabit Arctic regions. They are social animals and are often found in large groups.\\n\\n6. **Manatees and Dugongs**: Known as \"sea cows,\" these gentle herbivores inhabit warm coastal waters and rivers. Manatees are found in the Americas and Africa, while dugongs are found in the Indo-Pacific region.\\n\\n7. **Sea Otters**: Although smaller and more closely associated with coastal environments, sea otters are critical to the health of kelp forest ecosystems. They are known for their use of tools, such as rocks, to crack open shellfish.\\n\\n8. **Polar Bears**: While not strictly marine animals, polar bears are excellent swimmers and spend much of their time on sea ice in pursuit of seals, making them an important part of the Arctic marine ecosystem.\\n\\nEach of these ocean mammals has unique adaptations and behaviors that make them interesting subjects for study. Understanding their roles in marine ecosystems can provide insight into the health of our oceans.', additional_kwargs={'refusal': None}, response_metadata={'token_usage': {'completion_tokens': 446, 'prompt_tokens': 39, 'total_tokens': 485, 'completion_tokens_details': {'accepted_prediction_tokens': 0, 'audio_tokens': 0, 'reasoning_tokens': 0, 'rejected_prediction_tokens': 0}, 'prompt_tokens_details': {'audio_tokens': 0, 'cached_tokens': 0}}, 'model_name': 'gpt-4o-2024-08-06', 'system_fingerprint': 'fp_5f20662549', 'finish_reason': 'stop', 'logprobs': None}, id='run-5c28671e-0941-4840-aa10-5a78df999a28-0', usage_metadata={'input_tokens': 39, 'output_tokens': 446, 'total_tokens': 485, 'input_token_details': {'audio': 0, 'cache_read': 0}, 'output_token_details': {'audio': 0, 'reasoning': 0}})]}\n",
      "\n",
      "\n",
      "\n",
      "==================================\u001b[1m Ai Message \u001b[0m==================================\n",
      "Name: Bot\n",
      "\n",
      "So you said you were researching ocean mammals?\n",
      "================================\u001b[1m Human Message \u001b[0m=================================\n",
      "Name: Lance\n",
      "\n",
      "Yes, I know about whales. But what others should I learn about?\n",
      "==================================\u001b[1m Ai Message \u001b[0m==================================\n",
      "\n",
      "In addition to whales, there are several other fascinating ocean mammals you might want to explore:\n",
      "\n",
      "1. **Dolphins**: These highly intelligent and social animals are known for their playful behavior and complex communication systems. There are many species, including the bottlenose dolphin, spinner dolphin, and the orca or killer whale, which is actually the largest member of the dolphin family.\n",
      "\n",
      "2. **Porpoises**: Often confused with dolphins, porpoises are smaller and have different physical features, such as shorter beaks and spade-shaped teeth. The harbor porpoise is one of the most well-known species.\n",
      "\n",
      "3. **Seals**: These are pinnipeds, which means they have fin-like limbs. Common species include the harbor seal and the gray seal. They are known for their adaptability to both water and land.\n",
      "\n",
      "4. **Sea Lions**: Also pinnipeds, sea lions are known for their external ear flaps and ability to \"walk\" on land using their large flippers. The California sea lion is a well-known species often seen performing in marine parks.\n",
      "\n",
      "5. **Walruses**: Recognizable by their long tusks and whiskers, walruses are large pinnipeds that inhabit Arctic regions. They are social animals and are often found in large groups.\n",
      "\n",
      "6. **Manatees and Dugongs**: Known as \"sea cows,\" these gentle herbivores inhabit warm coastal waters and rivers. Manatees are found in the Americas and Africa, while dugongs are found in the Indo-Pacific region.\n",
      "\n",
      "7. **Sea Otters**: Although smaller and more closely associated with coastal environments, sea otters are critical to the health of kelp forest ecosystems. They are known for their use of tools, such as rocks, to crack open shellfish.\n",
      "\n",
      "8. **Polar Bears**: While not strictly marine animals, polar bears are excellent swimmers and spend much of their time on sea ice in pursuit of seals, making them an important part of the Arctic marine ecosystem.\n",
      "\n",
      "Each of these ocean mammals has unique adaptations and behaviors that make them interesting subjects for study. Understanding their roles in marine ecosystems can provide insight into the health of our oceans.\n"
     ]
    }
   ],
   "source": [
    "output = graph.invoke({'messages': messages})\n",
    "print('\\n\\n') \n",
    "for m in output['messages']:\n",
    "    m.pretty_print()"
   ]
  },
  {
   "cell_type": "markdown",
   "metadata": {},
   "source": [
    "#### 3. trim messages : truncate with max_tokens\n",
    "- 전체 대화 텍스트에 대해 max_token 기준으로 자름.\n",
    "- 아래 예시에서는 max_tokens=80으로 잘랐을경우, 최근 대화 2개만 남음."
   ]
  },
  {
   "cell_type": "code",
   "execution_count": 26,
   "metadata": {},
   "outputs": [
    {
     "data": {
      "text/plain": [
       "[HumanMessage(content=\"I'm looking for information on whales. What should I know about them?\", additional_kwargs={}, response_metadata={}),\n",
       " AIMessage(content='Whales are fascinating creatures. They are the largest animals on Earth. They are found in all oceans, but they are most commonly found in the Pacific Ocean. They are known for their intelligence and their ability to communicate with each other.', additional_kwargs={}, response_metadata={})]"
      ]
     },
     "execution_count": 26,
     "metadata": {},
     "output_type": "execute_result"
    }
   ],
   "source": [
    "test_messages = [HumanMessage(content=\"Hi, this is changwoo. How are you?\"),\n",
    "                 AIMessage(content=\"I'm fine, thank you. How can I help you?\"),\n",
    "                 HumanMessage(content=\"I'm looking for information on whales. What should I know about them?\"),\n",
    "                 AIMessage(content=\"Whales are fascinating creatures. They are the largest animals on Earth. They are found in all oceans, but they are most commonly found in the Pacific Ocean. They are known for their intelligence and their ability to communicate with each other.\")]\n",
    "\n",
    "messages = trim_messages(test_messages,\n",
    "                         max_tokens=80,\n",
    "                         strategy=\"last\",\n",
    "                         token_counter=ChatOpenAI(model=\"gpt-4o\"),\n",
    "                         allow_partial=False)\n",
    "\n",
    "messages"
   ]
  }
 ],
 "metadata": {
  "kernelspec": {
   "display_name": "langchain",
   "language": "python",
   "name": "langchain"
  },
  "language_info": {
   "codemirror_mode": {
    "name": "ipython",
    "version": 3
   },
   "file_extension": ".py",
   "mimetype": "text/x-python",
   "name": "python",
   "nbconvert_exporter": "python",
   "pygments_lexer": "ipython3",
   "version": "3.11.11"
  }
 },
 "nbformat": 4,
 "nbformat_minor": 2
}
