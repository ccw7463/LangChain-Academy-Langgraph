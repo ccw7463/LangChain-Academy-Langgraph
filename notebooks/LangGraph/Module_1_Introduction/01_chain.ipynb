{
 "cells": [
  {
   "cell_type": "markdown",
   "metadata": {},
   "source": [
    "## Chain"
   ]
  },
  {
   "cell_type": "markdown",
   "metadata": {},
   "source": [
    "### 1. Set Environment Variables"
   ]
  },
  {
   "cell_type": "code",
   "execution_count": 22,
   "metadata": {},
   "outputs": [],
   "source": [
    "import os\n",
    "from dotenv import load_dotenv\n",
    "load_dotenv()\n",
    "os.environ[\"LANGCHAIN_API_KEY\"] = os.getenv(\"LANGCHAIN_API_KEY\")\n",
    "os.environ[\"OPENAI_API_KEY\"] = os.getenv(\"OPENAI_API_KEY\")\n",
    "os.environ[\"LANGCHAIN_TRACING_V2\"] = \"true\"\n",
    "os.environ[\"LANGCHAIN_PROJECT\"] = \"langchain-academy\""
   ]
  },
  {
   "cell_type": "markdown",
   "metadata": {},
   "source": [
    "### 2. Set Messages and Model"
   ]
  },
  {
   "cell_type": "markdown",
   "metadata": {},
   "source": [
    "Messages"
   ]
  },
  {
   "cell_type": "code",
   "execution_count": 23,
   "metadata": {},
   "outputs": [
    {
     "name": "stdout",
     "output_type": "stream",
     "text": [
      "==================================\u001b[1m Ai Message \u001b[0m==================================\n",
      "Name: Model\n",
      "\n",
      "So you said you were researching ocean mammals?\n",
      "================================\u001b[1m Human Message \u001b[0m=================================\n",
      "Name: Lance\n",
      "\n",
      "Yes, that's right.\n",
      "==================================\u001b[1m Ai Message \u001b[0m==================================\n",
      "Name: Model\n",
      "\n",
      "Great, what would you like to learn about.\n",
      "================================\u001b[1m Human Message \u001b[0m=================================\n",
      "Name: Lance\n",
      "\n",
      "I want to learn about the best place to see Orcas in the US.\n"
     ]
    }
   ],
   "source": [
    "from langchain_core.messages import AIMessage, HumanMessage\n",
    "messages = [AIMessage(content=f\"So you said you were researching ocean mammals?\", name=\"Model\")]\n",
    "messages.append(HumanMessage(content=f\"Yes, that's right.\",name=\"Lance\"))\n",
    "messages.append(AIMessage(content=f\"Great, what would you like to learn about.\", name=\"Model\"))\n",
    "messages.append(HumanMessage(content=f\"I want to learn about the best place to see Orcas in the US.\", name=\"Lance\"))\n",
    "for m in messages:\n",
    "    m.pretty_print()"
   ]
  },
  {
   "cell_type": "markdown",
   "metadata": {},
   "source": [
    "Model"
   ]
  },
  {
   "cell_type": "code",
   "execution_count": 24,
   "metadata": {},
   "outputs": [],
   "source": [
    "from langchain_openai import ChatOpenAI\n",
    "llm = ChatOpenAI(model=\"gpt-4o\")"
   ]
  },
  {
   "cell_type": "code",
   "execution_count": 25,
   "metadata": {},
   "outputs": [
    {
     "name": "stdout",
     "output_type": "stream",
     "text": [
      "\u001b[1;31m\u001b[0m\u001b[1;31mThe\u001b[0m\u001b[1;31m best\u001b[0m\u001b[1;31m place\u001b[0m\u001b[1;31m to\u001b[0m\u001b[1;31m see\u001b[0m\u001b[1;31m or\u001b[0m\u001b[1;31mcas\u001b[0m\u001b[1;31m in\u001b[0m\u001b[1;31m the\u001b[0m\u001b[1;31m United\u001b[0m\u001b[1;31m States\u001b[0m\u001b[1;31m is\u001b[0m\u001b[1;31m the\u001b[0m\u001b[1;31m Pacific\u001b[0m\u001b[1;31m Northwest\u001b[0m\u001b[1;31m,\u001b[0m\u001b[1;31m particularly\u001b[0m\u001b[1;31m around\u001b[0m\u001b[1;31m the\u001b[0m\u001b[1;31m San\u001b[0m\u001b[1;31m Juan\u001b[0m\u001b[1;31m Islands\u001b[0m\u001b[1;31m in\u001b[0m\u001b[1;31m Washington\u001b[0m\u001b[1;31m State\u001b[0m\u001b[1;31m.\u001b[0m\u001b[1;31m This\u001b[0m\u001b[1;31m area\u001b[0m\u001b[1;31m is\u001b[0m\u001b[1;31m renowned\u001b[0m\u001b[1;31m for\u001b[0m\u001b[1;31m its\u001b[0m\u001b[1;31m resident\u001b[0m\u001b[1;31m or\u001b[0m\u001b[1;31mca\u001b[0m\u001b[1;31m pods\u001b[0m\u001b[1;31m,\u001b[0m\u001b[1;31m specifically\u001b[0m\u001b[1;31m the\u001b[0m\u001b[1;31m Southern\u001b[0m\u001b[1;31m Resident\u001b[0m\u001b[1;31m killer\u001b[0m\u001b[1;31m whales\u001b[0m\u001b[1;31m,\u001b[0m\u001b[1;31m which\u001b[0m\u001b[1;31m are\u001b[0m\u001b[1;31m frequently\u001b[0m\u001b[1;31m spotted\u001b[0m\u001b[1;31m in\u001b[0m\u001b[1;31m the\u001b[0m\u001b[1;31m waters\u001b[0m\u001b[1;31m around\u001b[0m\u001b[1;31m the\u001b[0m\u001b[1;31m islands\u001b[0m\u001b[1;31m.\u001b[0m\u001b[1;31m \n",
      "\n",
      "\u001b[0m\u001b[1;31mThe\u001b[0m\u001b[1;31m months\u001b[0m\u001b[1;31m between\u001b[0m\u001b[1;31m May\u001b[0m\u001b[1;31m and\u001b[0m\u001b[1;31m September\u001b[0m\u001b[1;31m are\u001b[0m\u001b[1;31m considered\u001b[0m\u001b[1;31m the\u001b[0m\u001b[1;31m best\u001b[0m\u001b[1;31m time\u001b[0m\u001b[1;31m for\u001b[0m\u001b[1;31m or\u001b[0m\u001b[1;31mca\u001b[0m\u001b[1;31m viewing\u001b[0m\u001b[1;31m,\u001b[0m\u001b[1;31m as\u001b[0m\u001b[1;31m the\u001b[0m\u001b[1;31m whales\u001b[0m\u001b[1;31m are\u001b[0m\u001b[1;31m often\u001b[0m\u001b[1;31m closer\u001b[0m\u001b[1;31m to\u001b[0m\u001b[1;31m shore\u001b[0m\u001b[1;31m and\u001b[0m\u001b[1;31m more\u001b[0m\u001b[1;31m active\u001b[0m\u001b[1;31m during\u001b[0m\u001b[1;31m these\u001b[0m\u001b[1;31m warmer\u001b[0m\u001b[1;31m months\u001b[0m\u001b[1;31m.\u001b[0m\u001b[1;31m There\u001b[0m\u001b[1;31m are\u001b[0m\u001b[1;31m numerous\u001b[0m\u001b[1;31m whale\u001b[0m\u001b[1;31m watching\u001b[0m\u001b[1;31m tours\u001b[0m\u001b[1;31m departing\u001b[0m\u001b[1;31m from\u001b[0m\u001b[1;31m towns\u001b[0m\u001b[1;31m like\u001b[0m\u001b[1;31m Friday\u001b[0m\u001b[1;31m Harbor\u001b[0m\u001b[1;31m on\u001b[0m\u001b[1;31m San\u001b[0m\u001b[1;31m Juan\u001b[0m\u001b[1;31m Island\u001b[0m\u001b[1;31m,\u001b[0m\u001b[1;31m as\u001b[0m\u001b[1;31m well\u001b[0m\u001b[1;31m as\u001b[0m\u001b[1;31m from\u001b[0m\u001b[1;31m Seattle\u001b[0m\u001b[1;31m and\u001b[0m\u001b[1;31m other\u001b[0m\u001b[1;31m nearby\u001b[0m\u001b[1;31m locations\u001b[0m\u001b[1;31m,\u001b[0m\u001b[1;31m providing\u001b[0m\u001b[1;31m excellent\u001b[0m\u001b[1;31m opportunities\u001b[0m\u001b[1;31m to\u001b[0m\u001b[1;31m observe\u001b[0m\u001b[1;31m these\u001b[0m\u001b[1;31m majestic\u001b[0m\u001b[1;31m creatures\u001b[0m\u001b[1;31m in\u001b[0m\u001b[1;31m their\u001b[0m\u001b[1;31m natural\u001b[0m\u001b[1;31m habitat\u001b[0m\u001b[1;31m.\n",
      "\n",
      "\u001b[0m\u001b[1;31mAdditionally\u001b[0m\u001b[1;31m,\u001b[0m\u001b[1;31m the\u001b[0m\u001b[1;31m coastline\u001b[0m\u001b[1;31m around\u001b[0m\u001b[1;31m the\u001b[0m\u001b[1;31m Olympic\u001b[0m\u001b[1;31m Peninsula\u001b[0m\u001b[1;31m and\u001b[0m\u001b[1;31m the\u001b[0m\u001b[1;31m waters\u001b[0m\u001b[1;31m of\u001b[0m\u001b[1;31m Pu\u001b[0m\u001b[1;31mget\u001b[0m\u001b[1;31m Sound\u001b[0m\u001b[1;31m also\u001b[0m\u001b[1;31m offer\u001b[0m\u001b[1;31m good\u001b[0m\u001b[1;31m chances\u001b[0m\u001b[1;31m to\u001b[0m\u001b[1;31m see\u001b[0m\u001b[1;31m or\u001b[0m\u001b[1;31mcas\u001b[0m\u001b[1;31m,\u001b[0m\u001b[1;31m along\u001b[0m\u001b[1;31m with\u001b[0m\u001b[1;31m other\u001b[0m\u001b[1;31m marine\u001b[0m\u001b[1;31m wildlife\u001b[0m\u001b[1;31m.\u001b[0m\u001b[1;31m\u001b[0m"
     ]
    }
   ],
   "source": [
    "import sys\n",
    "for chunk in llm.stream(messages):\n",
    "    print(f\"\\033[1;31m{chunk.content}\\033[0m\",end=\"\")\n",
    "    sys.stdout.flush()"
   ]
  },
  {
   "cell_type": "markdown",
   "metadata": {},
   "source": [
    "### 3. Bind Tools and Test"
   ]
  },
  {
   "cell_type": "code",
   "execution_count": 26,
   "metadata": {},
   "outputs": [],
   "source": [
    "def multiply(a: int, b: int) -> int:\n",
    "    \"\"\"Multiply a and b.\n",
    "\n",
    "    Args:\n",
    "        a: first int\n",
    "        b: second int\n",
    "    \"\"\"\n",
    "    return a * b\n",
    "\n",
    "llm_with_tools = llm.bind_tools([multiply])"
   ]
  },
  {
   "cell_type": "code",
   "execution_count": 27,
   "metadata": {},
   "outputs": [],
   "source": [
    "tool_call = llm_with_tools.invoke([HumanMessage(content=f\"What is 2 multiplied by 3\", name=\"Lance\")])"
   ]
  },
  {
   "cell_type": "code",
   "execution_count": 28,
   "metadata": {},
   "outputs": [
    {
     "name": "stdout",
     "output_type": "stream",
     "text": [
      "tool_call.content: \n",
      "id: call_j1U3SNrLwGeAUX6iWW6fdQAy\n",
      "function: {'arguments': '{\"a\":2,\"b\":3}', 'name': 'multiply'}\n",
      "type: function\n"
     ]
    }
   ],
   "source": [
    "print(f\"tool_call.content: {tool_call.content}\")\n",
    "for key, value in tool_call.additional_kwargs['tool_calls'][0].items():\n",
    "    print(f\"{key}: {value}\")"
   ]
  },
  {
   "cell_type": "markdown",
   "metadata": {},
   "source": [
    "### 4.MessagesState\n",
    "- You can just use the MessagesState class from langgraph.graph.message.\n",
    "- You can add any keys needed beyond messages, which is pre-built "
   ]
  },
  {
   "cell_type": "code",
   "execution_count": 29,
   "metadata": {},
   "outputs": [],
   "source": [
    "from langgraph.graph import MessagesState\n",
    "\n",
    "class MessagesState(MessagesState):\n",
    "    pass"
   ]
  },
  {
   "cell_type": "code",
   "execution_count": 30,
   "metadata": {},
   "outputs": [
    {
     "name": "stdout",
     "output_type": "stream",
     "text": [
      "==================================\u001b[1m Ai Message \u001b[0m==================================\n",
      "\n",
      "Hello! How can I assist you?\n",
      "================================\u001b[1m Human Message \u001b[0m=================================\n",
      "\n",
      "I'm looking for information on marine biology.\n",
      "==================================\u001b[1m Ai Message \u001b[0m==================================\n",
      "\n",
      "Sure, I can help with that. What specifically are you interested in?\n"
     ]
    }
   ],
   "source": [
    "# initial messages\n",
    "initial_messages = [\n",
    "    AIMessage(content=\"Hello! How can I assist you?\"),\n",
    "    HumanMessage(content=\"I'm looking for information on marine biology.\")\n",
    "]\n",
    "\n",
    "# add message\n",
    "add_message = AIMessage(content=\"Sure, I can help with that. What specifically are you interested in?\")\n",
    "\n",
    "# total messages\n",
    "from langgraph.graph.message import add_messages\n",
    "messages = add_messages(initial_messages , add_message)\n",
    "for message in messages:\n",
    "    message.pretty_print()"
   ]
  },
  {
   "cell_type": "markdown",
   "metadata": {},
   "source": [
    "### 5. Build Graph"
   ]
  },
  {
   "cell_type": "code",
   "execution_count": 31,
   "metadata": {},
   "outputs": [
    {
     "data": {
      "image/png": "[encoded data removed]",
      "text/plain": [
       "<IPython.core.display.Image object>"
      ]
     },
     "metadata": {},
     "output_type": "display_data"
    }
   ],
   "source": [
    "from IPython.display import Image, display\n",
    "from langgraph.graph import StateGraph, START, END\n",
    "    \n",
    "# Node\n",
    "def Node__tool_calling_llm(state: MessagesState):\n",
    "    return {\"messages\": [llm_with_tools.invoke(state[\"messages\"])]}\n",
    "\n",
    "# Build graph\n",
    "builder = StateGraph(MessagesState)\n",
    "\n",
    "# set Node\n",
    "builder.add_node(\"Node__tool_calling_llm\", Node__tool_calling_llm)\n",
    "\n",
    "# set Edge\n",
    "builder.add_edge(START, \"Node__tool_calling_llm\")\n",
    "builder.add_edge(\"Node__tool_calling_llm\", END)\n",
    "\n",
    "# compile graph\n",
    "graph = builder.compile()\n",
    "\n",
    "# View\n",
    "display(Image(graph.get_graph().draw_mermaid_png()))"
   ]
  },
  {
   "cell_type": "markdown",
   "metadata": {},
   "source": [
    "### 6.Test"
   ]
  },
  {
   "cell_type": "markdown",
   "metadata": {},
   "source": [
    "Not Call Tool\n",
    "- if don't call tool\n",
    "    - AIMessage have content.\n",
    "    - AIMessage don't have additional_kwargs={'tool_calls'}"
   ]
  },
  {
   "cell_type": "code",
   "execution_count": 32,
   "metadata": {},
   "outputs": [
    {
     "data": {
      "text/plain": [
       "{'messages': [HumanMessage(content='Hello!', additional_kwargs={}, response_metadata={}, id='6218619e-3c27-40eb-9947-86e0a18c818b'),\n",
       "  AIMessage(content='Hi there! How can I assist you today?', additional_kwargs={'refusal': None}, response_metadata={'token_usage': {'completion_tokens': 11, 'prompt_tokens': 54, 'total_tokens': 65, 'completion_tokens_details': {'accepted_prediction_tokens': 0, 'audio_tokens': 0, 'reasoning_tokens': 0, 'rejected_prediction_tokens': 0}, 'prompt_tokens_details': {'audio_tokens': 0, 'cached_tokens': 0}}, 'model_name': 'gpt-4o-2024-08-06', 'system_fingerprint': 'fp_9faba9f038', 'finish_reason': 'stop', 'logprobs': None}, id='run-05bcacc8-cdea-4d92-9d82-924882088387-0', usage_metadata={'input_tokens': 54, 'output_tokens': 11, 'total_tokens': 65, 'input_token_details': {'audio': 0, 'cache_read': 0}, 'output_token_details': {'audio': 0, 'reasoning': 0}})]}"
      ]
     },
     "execution_count": 32,
     "metadata": {},
     "output_type": "execute_result"
    }
   ],
   "source": [
    "messages = graph.invoke({\"messages\": HumanMessage(content=\"Hello!\")})\n",
    "messages"
   ]
  },
  {
   "cell_type": "markdown",
   "metadata": {},
   "source": [
    "Call Tool\n",
    "- if call tool\n",
    "    - AIMessage don't have content.\n",
    "    - AIMessage have additional_kwargs={'tool_calls'}"
   ]
  },
  {
   "cell_type": "code",
   "execution_count": 33,
   "metadata": {},
   "outputs": [
    {
     "data": {
      "text/plain": [
       "{'messages': [HumanMessage(content='Multiply 2 and 3', additional_kwargs={}, response_metadata={}, id='1aa2ad29-0099-488b-b14c-d5f0e5f125c0'),\n",
       "  AIMessage(content='', additional_kwargs={'tool_calls': [{'id': 'call_3a8vgWmxEygJerq5k1ytz7Tw', 'function': {'arguments': '{\"a\":2,\"b\":3}', 'name': 'multiply'}, 'type': 'function'}], 'refusal': None}, response_metadata={'token_usage': {'completion_tokens': 17, 'prompt_tokens': 58, 'total_tokens': 75, 'completion_tokens_details': {'accepted_prediction_tokens': 0, 'audio_tokens': 0, 'reasoning_tokens': 0, 'rejected_prediction_tokens': 0}, 'prompt_tokens_details': {'audio_tokens': 0, 'cached_tokens': 0}}, 'model_name': 'gpt-4o-2024-08-06', 'system_fingerprint': 'fp_9faba9f038', 'finish_reason': 'tool_calls', 'logprobs': None}, id='run-c95896eb-d477-4e5e-b2cd-da938c80531d-0', tool_calls=[{'name': 'multiply', 'args': {'a': 2, 'b': 3}, 'id': 'call_3a8vgWmxEygJerq5k1ytz7Tw', 'type': 'tool_call'}], usage_metadata={'input_tokens': 58, 'output_tokens': 17, 'total_tokens': 75, 'input_token_details': {'audio': 0, 'cache_read': 0}, 'output_token_details': {'audio': 0, 'reasoning': 0}})]}"
      ]
     },
     "execution_count": 33,
     "metadata": {},
     "output_type": "execute_result"
    }
   ],
   "source": [
    "messages = graph.invoke({\"messages\": HumanMessage(content=\"Multiply 2 and 3\")})\n",
    "messages"
   ]
  },
  {
   "cell_type": "markdown",
   "metadata": {},
   "source": [
    "### 7. Router\n",
    "- tools_condition is a function that returns True if the latest message (result) from assistant is a tool call, otherwise False.\n",
    "    - latest message from assistant = `tool call` -> tools_condition routes to `tools`.\n",
    "    - latest message from assistant = `not tool call` -> tools_condition routes to `END`."
   ]
  },
  {
   "cell_type": "code",
   "execution_count": 38,
   "metadata": {},
   "outputs": [
    {
     "data": {
      "image/png": "[encoded data removed]",
      "text/plain": [
       "<IPython.core.display.Image object>"
      ]
     },
     "metadata": {},
     "output_type": "display_data"
    }
   ],
   "source": [
    "from langgraph.prebuilt import ToolNode\n",
    "\n",
    "# Tools_condition\n",
    "from langgraph.prebuilt import tools_condition\n",
    "\n",
    "# Build graph\n",
    "builder = StateGraph(MessagesState)\n",
    "\n",
    "# set Node\n",
    "builder.add_node(\"Node__tool_calling_llm\", Node__tool_calling_llm)\n",
    "builder.add_node(\"tools\", ToolNode([multiply]))\n",
    "\n",
    "# set Edge\n",
    "builder.add_edge(START, \"Node__tool_calling_llm\")\n",
    "builder.add_conditional_edges(\"Node__tool_calling_llm\",tools_condition)\n",
    "builder.add_edge(\"tools\", END) # Must set name of Node to tools\n",
    "\n",
    "# compile graph\n",
    "graph = builder.compile()\n",
    "\n",
    "# View\n",
    "display(Image(graph.get_graph().draw_mermaid_png()))"
   ]
  },
  {
   "cell_type": "markdown",
   "metadata": {},
   "source": [
    "### TestTool Router"
   ]
  },
  {
   "cell_type": "code",
   "execution_count": 39,
   "metadata": {},
   "outputs": [
    {
     "name": "stdout",
     "output_type": "stream",
     "text": [
      "================================\u001b[1m Human Message \u001b[0m=================================\n",
      "\n",
      "Hello world.\n",
      "==================================\u001b[1m Ai Message \u001b[0m==================================\n",
      "\n",
      "Hello! How can I assist you today?\n",
      "\n",
      "\n",
      "\n",
      "================================\u001b[1m Human Message \u001b[0m=================================\n",
      "\n",
      "Multiply 2 and 3\n",
      "==================================\u001b[1m Ai Message \u001b[0m==================================\n",
      "Tool Calls:\n",
      "  multiply (call_BM8T3Hn58OkpCIYNGTod0AFE)\n",
      " Call ID: call_BM8T3Hn58OkpCIYNGTod0AFE\n",
      "  Args:\n",
      "    a: 2\n",
      "    b: 3\n",
      "=================================\u001b[1m Tool Message \u001b[0m=================================\n",
      "Name: multiply\n",
      "\n",
      "6\n"
     ]
    }
   ],
   "source": [
    "from langchain_core.messages import HumanMessage\n",
    "messages_not_call_tool = [HumanMessage(content=\"Hello world.\")]\n",
    "messages_not_call_tool = graph.invoke({\"messages\": messages_not_call_tool})\n",
    "for m in messages_not_call_tool['messages']:\n",
    "    m.pretty_print()\n",
    "\n",
    "print(\"\\n\\n\")\n",
    "\n",
    "messages_call_tool = [HumanMessage(content=\"Multiply 2 and 3\")]\n",
    "messages_call_tool = graph.invoke({\"messages\": messages_call_tool})\n",
    "for m in messages_call_tool['messages']:\n",
    "    m.pretty_print()"
   ]
  }
 ],
 "metadata": {
  "kernelspec": {
   "display_name": "langchain",
   "language": "python",
   "name": "langchain"
  },
  "language_info": {
   "codemirror_mode": {
    "name": "ipython",
    "version": 3
   },
   "file_extension": ".py",
   "mimetype": "text/x-python",
   "name": "python",
   "nbconvert_exporter": "python",
   "pygments_lexer": "ipython3",
   "version": "3.11.10"
  }
 },
 "nbformat": 4,
 "nbformat_minor": 2
}
