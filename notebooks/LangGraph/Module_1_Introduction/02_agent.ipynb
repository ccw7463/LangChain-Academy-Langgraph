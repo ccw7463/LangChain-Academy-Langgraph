{
 "cells": [
  {
   "cell_type": "markdown",
   "metadata": {},
   "source": [
    "## Agent"
   ]
  },
  {
   "cell_type": "markdown",
   "metadata": {},
   "source": [
    "### 1. Set Environment Variables"
   ]
  },
  {
   "cell_type": "code",
   "execution_count": 1,
   "metadata": {},
   "outputs": [],
   "source": [
    "import os\n",
    "from dotenv import load_dotenv\n",
    "load_dotenv()\n",
    "os.environ[\"LANGCHAIN_API_KEY\"] = os.getenv(\"LANGCHAIN_API_KEY\")\n",
    "os.environ[\"OPENAI_API_KEY\"] = os.getenv(\"OPENAI_API_KEY\")\n",
    "os.environ[\"LANGCHAIN_TRACING_V2\"] = \"true\"\n",
    "os.environ[\"LANGCHAIN_PROJECT\"] = \"langchain-academy\""
   ]
  },
  {
   "cell_type": "markdown",
   "metadata": {},
   "source": [
    "### 2. Set Tools and Model"
   ]
  },
  {
   "cell_type": "markdown",
   "metadata": {},
   "source": [
    "Tools"
   ]
  },
  {
   "cell_type": "code",
   "execution_count": 14,
   "metadata": {},
   "outputs": [],
   "source": [
    "def multiply(a: int, b: int) -> int:\n",
    "    \"\"\"Multiply a and b.\n",
    "\n",
    "    Args:\n",
    "        a: first int\n",
    "        b: second int\n",
    "    \"\"\"\n",
    "    return a * b\n",
    "\n",
    "# This will be a tool\n",
    "def add(a: int, b: int) -> int:\n",
    "    \"\"\"Adds a and b.\n",
    "\n",
    "    Args:\n",
    "        a: first int\n",
    "        b: second int\n",
    "    \"\"\"\n",
    "    return a + b\n",
    "\n",
    "def divide(a: int, b: int) -> float:\n",
    "    \"\"\"Divide a and b.\n",
    "\n",
    "    Args:\n",
    "        a: first int\n",
    "        b: second int\n",
    "    \"\"\"\n",
    "    return a / b"
   ]
  },
  {
   "cell_type": "code",
   "execution_count": 23,
   "metadata": {},
   "outputs": [],
   "source": [
    "tools = [divide, add, multiply]"
   ]
  },
  {
   "cell_type": "markdown",
   "metadata": {},
   "source": [
    "Bind Tools Parallel Options\n",
    "- if parallel_tool_calls=False, model will call tools `sequentially.` = Math Good\n",
    "- if parallel_tool_calls=True, model will call tools in `parallel` = Generally Good"
   ]
  },
  {
   "cell_type": "code",
   "execution_count": 24,
   "metadata": {},
   "outputs": [],
   "source": [
    "from langchain_openai import ChatOpenAI\n",
    "llm = ChatOpenAI(model=\"gpt-4o\")\n",
    "llm_with_tools = llm.bind_tools(tools, parallel_tool_calls=False)"
   ]
  },
  {
   "cell_type": "code",
   "execution_count": 27,
   "metadata": {},
   "outputs": [
    {
     "data": {
      "image/png": "[encoded data removed]",
      "text/plain": [
       "<IPython.core.display.Image object>"
      ]
     },
     "metadata": {},
     "output_type": "display_data"
    }
   ],
   "source": [
    "from langgraph.graph import MessagesState\n",
    "from langchain_core.messages import HumanMessage, SystemMessage\n",
    "from langgraph.graph import START, StateGraph, END\n",
    "from langgraph.prebuilt import tools_condition\n",
    "from langgraph.prebuilt import ToolNode\n",
    "from IPython.display import Image, display\n",
    "\n",
    "# Set System Message\n",
    "sys_msg = SystemMessage(content=\"You are a helpful assistant tasked with performing arithmetic on a set of inputs.\")\n",
    "\n",
    "# Define Node\n",
    "def Node__assistant(state: MessagesState):\n",
    "   print(\"Get State :\", state)\n",
    "   return_state = {\"messages\": [llm_with_tools.invoke([sys_msg] + state[\"messages\"])]}\n",
    "   print(\"return_state :\", return_state)\n",
    "   return return_state\n",
    "\n",
    "# Build Graph\n",
    "builder = StateGraph(MessagesState)\n",
    "\n",
    "# Set Node\n",
    "builder.add_node(\"Node__assistant\", Node__assistant)\n",
    "builder.add_node(\"tools\", ToolNode(tools)) # Must set name of Node to tools\n",
    "\n",
    "# Set Edge\n",
    "builder.add_edge(START, \"Node__assistant\")\n",
    "builder.add_conditional_edges(\"Node__assistant\", tools_condition)\n",
    "builder.add_edge(\"tools\", \"Node__assistant\")\n",
    "\n",
    "# Compile Graph\n",
    "graph = builder.compile()\n",
    "display(Image(graph.get_graph().draw_mermaid_png()))"
   ]
  },
  {
   "cell_type": "markdown",
   "metadata": {},
   "source": [
    "### 3. Test"
   ]
  },
  {
   "cell_type": "code",
   "execution_count": 28,
   "metadata": {},
   "outputs": [
    {
     "name": "stdout",
     "output_type": "stream",
     "text": [
      "Get State : {'messages': [HumanMessage(content='Add 3 and 4. Multiply the output by 2. Divide the output by 5', additional_kwargs={}, response_metadata={}, id='f4d51085-ca8c-44a6-97a6-ddf6965a50c5')]}\n",
      "return_state : {'messages': [AIMessage(content='', additional_kwargs={'tool_calls': [{'id': 'call_FSjK8aV77gbC7Xv1MKfD3aOf', 'function': {'arguments': '{\"a\":3,\"b\":4}', 'name': 'add'}, 'type': 'function'}], 'refusal': None}, response_metadata={'token_usage': {'completion_tokens': 17, 'prompt_tokens': 145, 'total_tokens': 162, 'completion_tokens_details': {'accepted_prediction_tokens': 0, 'audio_tokens': 0, 'reasoning_tokens': 0, 'rejected_prediction_tokens': 0}, 'prompt_tokens_details': {'audio_tokens': 0, 'cached_tokens': 0}}, 'model_name': 'gpt-4o-2024-08-06', 'system_fingerprint': 'fp_9faba9f038', 'finish_reason': 'tool_calls', 'logprobs': None}, id='run-ee1ac9f4-7dcc-4726-bf3f-d0c9f507a536-0', tool_calls=[{'name': 'add', 'args': {'a': 3, 'b': 4}, 'id': 'call_FSjK8aV77gbC7Xv1MKfD3aOf', 'type': 'tool_call'}], usage_metadata={'input_tokens': 145, 'output_tokens': 17, 'total_tokens': 162, 'input_token_details': {'audio': 0, 'cache_read': 0}, 'output_token_details': {'audio': 0, 'reasoning': 0}})]}\n",
      "Get State : {'messages': [HumanMessage(content='Add 3 and 4. Multiply the output by 2. Divide the output by 5', additional_kwargs={}, response_metadata={}, id='f4d51085-ca8c-44a6-97a6-ddf6965a50c5'), AIMessage(content='', additional_kwargs={'tool_calls': [{'id': 'call_FSjK8aV77gbC7Xv1MKfD3aOf', 'function': {'arguments': '{\"a\":3,\"b\":4}', 'name': 'add'}, 'type': 'function'}], 'refusal': None}, response_metadata={'token_usage': {'completion_tokens': 17, 'prompt_tokens': 145, 'total_tokens': 162, 'completion_tokens_details': {'accepted_prediction_tokens': 0, 'audio_tokens': 0, 'reasoning_tokens': 0, 'rejected_prediction_tokens': 0}, 'prompt_tokens_details': {'audio_tokens': 0, 'cached_tokens': 0}}, 'model_name': 'gpt-4o-2024-08-06', 'system_fingerprint': 'fp_9faba9f038', 'finish_reason': 'tool_calls', 'logprobs': None}, id='run-ee1ac9f4-7dcc-4726-bf3f-d0c9f507a536-0', tool_calls=[{'name': 'add', 'args': {'a': 3, 'b': 4}, 'id': 'call_FSjK8aV77gbC7Xv1MKfD3aOf', 'type': 'tool_call'}], usage_metadata={'input_tokens': 145, 'output_tokens': 17, 'total_tokens': 162, 'input_token_details': {'audio': 0, 'cache_read': 0}, 'output_token_details': {'audio': 0, 'reasoning': 0}}), ToolMessage(content='7', name='add', id='6410fcc1-9fb0-4e50-a4cf-16cf2f1c4a52', tool_call_id='call_FSjK8aV77gbC7Xv1MKfD3aOf')]}\n",
      "return_state : {'messages': [AIMessage(content='', additional_kwargs={'tool_calls': [{'id': 'call_eSNou5mfrCDbWxmgcsZB6Szb', 'function': {'arguments': '{\"a\":7,\"b\":2}', 'name': 'multiply'}, 'type': 'function'}], 'refusal': None}, response_metadata={'token_usage': {'completion_tokens': 17, 'prompt_tokens': 170, 'total_tokens': 187, 'completion_tokens_details': {'accepted_prediction_tokens': 0, 'audio_tokens': 0, 'reasoning_tokens': 0, 'rejected_prediction_tokens': 0}, 'prompt_tokens_details': {'audio_tokens': 0, 'cached_tokens': 0}}, 'model_name': 'gpt-4o-2024-08-06', 'system_fingerprint': 'fp_9faba9f038', 'finish_reason': 'tool_calls', 'logprobs': None}, id='run-7f5ee7a0-635c-4743-ad25-f0c680edc384-0', tool_calls=[{'name': 'multiply', 'args': {'a': 7, 'b': 2}, 'id': 'call_eSNou5mfrCDbWxmgcsZB6Szb', 'type': 'tool_call'}], usage_metadata={'input_tokens': 170, 'output_tokens': 17, 'total_tokens': 187, 'input_token_details': {'audio': 0, 'cache_read': 0}, 'output_token_details': {'audio': 0, 'reasoning': 0}})]}\n",
      "Get State : {'messages': [HumanMessage(content='Add 3 and 4. Multiply the output by 2. Divide the output by 5', additional_kwargs={}, response_metadata={}, id='f4d51085-ca8c-44a6-97a6-ddf6965a50c5'), AIMessage(content='', additional_kwargs={'tool_calls': [{'id': 'call_FSjK8aV77gbC7Xv1MKfD3aOf', 'function': {'arguments': '{\"a\":3,\"b\":4}', 'name': 'add'}, 'type': 'function'}], 'refusal': None}, response_metadata={'token_usage': {'completion_tokens': 17, 'prompt_tokens': 145, 'total_tokens': 162, 'completion_tokens_details': {'accepted_prediction_tokens': 0, 'audio_tokens': 0, 'reasoning_tokens': 0, 'rejected_prediction_tokens': 0}, 'prompt_tokens_details': {'audio_tokens': 0, 'cached_tokens': 0}}, 'model_name': 'gpt-4o-2024-08-06', 'system_fingerprint': 'fp_9faba9f038', 'finish_reason': 'tool_calls', 'logprobs': None}, id='run-ee1ac9f4-7dcc-4726-bf3f-d0c9f507a536-0', tool_calls=[{'name': 'add', 'args': {'a': 3, 'b': 4}, 'id': 'call_FSjK8aV77gbC7Xv1MKfD3aOf', 'type': 'tool_call'}], usage_metadata={'input_tokens': 145, 'output_tokens': 17, 'total_tokens': 162, 'input_token_details': {'audio': 0, 'cache_read': 0}, 'output_token_details': {'audio': 0, 'reasoning': 0}}), ToolMessage(content='7', name='add', id='6410fcc1-9fb0-4e50-a4cf-16cf2f1c4a52', tool_call_id='call_FSjK8aV77gbC7Xv1MKfD3aOf'), AIMessage(content='', additional_kwargs={'tool_calls': [{'id': 'call_eSNou5mfrCDbWxmgcsZB6Szb', 'function': {'arguments': '{\"a\":7,\"b\":2}', 'name': 'multiply'}, 'type': 'function'}], 'refusal': None}, response_metadata={'token_usage': {'completion_tokens': 17, 'prompt_tokens': 170, 'total_tokens': 187, 'completion_tokens_details': {'accepted_prediction_tokens': 0, 'audio_tokens': 0, 'reasoning_tokens': 0, 'rejected_prediction_tokens': 0}, 'prompt_tokens_details': {'audio_tokens': 0, 'cached_tokens': 0}}, 'model_name': 'gpt-4o-2024-08-06', 'system_fingerprint': 'fp_9faba9f038', 'finish_reason': 'tool_calls', 'logprobs': None}, id='run-7f5ee7a0-635c-4743-ad25-f0c680edc384-0', tool_calls=[{'name': 'multiply', 'args': {'a': 7, 'b': 2}, 'id': 'call_eSNou5mfrCDbWxmgcsZB6Szb', 'type': 'tool_call'}], usage_metadata={'input_tokens': 170, 'output_tokens': 17, 'total_tokens': 187, 'input_token_details': {'audio': 0, 'cache_read': 0}, 'output_token_details': {'audio': 0, 'reasoning': 0}}), ToolMessage(content='14', name='multiply', id='343d7b39-bd78-4b24-9727-5749273218a2', tool_call_id='call_eSNou5mfrCDbWxmgcsZB6Szb')]}\n",
      "return_state : {'messages': [AIMessage(content='', additional_kwargs={'tool_calls': [{'id': 'call_ROSVI5VOU5IMtAP6ZwcX9lX7', 'function': {'arguments': '{\"a\":14,\"b\":5}', 'name': 'divide'}, 'type': 'function'}], 'refusal': None}, response_metadata={'token_usage': {'completion_tokens': 17, 'prompt_tokens': 195, 'total_tokens': 212, 'completion_tokens_details': {'accepted_prediction_tokens': 0, 'audio_tokens': 0, 'reasoning_tokens': 0, 'rejected_prediction_tokens': 0}, 'prompt_tokens_details': {'audio_tokens': 0, 'cached_tokens': 0}}, 'model_name': 'gpt-4o-2024-08-06', 'system_fingerprint': 'fp_9faba9f038', 'finish_reason': 'tool_calls', 'logprobs': None}, id='run-93fab45d-47fc-472c-b546-b4e2bca52f44-0', tool_calls=[{'name': 'divide', 'args': {'a': 14, 'b': 5}, 'id': 'call_ROSVI5VOU5IMtAP6ZwcX9lX7', 'type': 'tool_call'}], usage_metadata={'input_tokens': 195, 'output_tokens': 17, 'total_tokens': 212, 'input_token_details': {'audio': 0, 'cache_read': 0}, 'output_token_details': {'audio': 0, 'reasoning': 0}})]}\n",
      "Get State : {'messages': [HumanMessage(content='Add 3 and 4. Multiply the output by 2. Divide the output by 5', additional_kwargs={}, response_metadata={}, id='f4d51085-ca8c-44a6-97a6-ddf6965a50c5'), AIMessage(content='', additional_kwargs={'tool_calls': [{'id': 'call_FSjK8aV77gbC7Xv1MKfD3aOf', 'function': {'arguments': '{\"a\":3,\"b\":4}', 'name': 'add'}, 'type': 'function'}], 'refusal': None}, response_metadata={'token_usage': {'completion_tokens': 17, 'prompt_tokens': 145, 'total_tokens': 162, 'completion_tokens_details': {'accepted_prediction_tokens': 0, 'audio_tokens': 0, 'reasoning_tokens': 0, 'rejected_prediction_tokens': 0}, 'prompt_tokens_details': {'audio_tokens': 0, 'cached_tokens': 0}}, 'model_name': 'gpt-4o-2024-08-06', 'system_fingerprint': 'fp_9faba9f038', 'finish_reason': 'tool_calls', 'logprobs': None}, id='run-ee1ac9f4-7dcc-4726-bf3f-d0c9f507a536-0', tool_calls=[{'name': 'add', 'args': {'a': 3, 'b': 4}, 'id': 'call_FSjK8aV77gbC7Xv1MKfD3aOf', 'type': 'tool_call'}], usage_metadata={'input_tokens': 145, 'output_tokens': 17, 'total_tokens': 162, 'input_token_details': {'audio': 0, 'cache_read': 0}, 'output_token_details': {'audio': 0, 'reasoning': 0}}), ToolMessage(content='7', name='add', id='6410fcc1-9fb0-4e50-a4cf-16cf2f1c4a52', tool_call_id='call_FSjK8aV77gbC7Xv1MKfD3aOf'), AIMessage(content='', additional_kwargs={'tool_calls': [{'id': 'call_eSNou5mfrCDbWxmgcsZB6Szb', 'function': {'arguments': '{\"a\":7,\"b\":2}', 'name': 'multiply'}, 'type': 'function'}], 'refusal': None}, response_metadata={'token_usage': {'completion_tokens': 17, 'prompt_tokens': 170, 'total_tokens': 187, 'completion_tokens_details': {'accepted_prediction_tokens': 0, 'audio_tokens': 0, 'reasoning_tokens': 0, 'rejected_prediction_tokens': 0}, 'prompt_tokens_details': {'audio_tokens': 0, 'cached_tokens': 0}}, 'model_name': 'gpt-4o-2024-08-06', 'system_fingerprint': 'fp_9faba9f038', 'finish_reason': 'tool_calls', 'logprobs': None}, id='run-7f5ee7a0-635c-4743-ad25-f0c680edc384-0', tool_calls=[{'name': 'multiply', 'args': {'a': 7, 'b': 2}, 'id': 'call_eSNou5mfrCDbWxmgcsZB6Szb', 'type': 'tool_call'}], usage_metadata={'input_tokens': 170, 'output_tokens': 17, 'total_tokens': 187, 'input_token_details': {'audio': 0, 'cache_read': 0}, 'output_token_details': {'audio': 0, 'reasoning': 0}}), ToolMessage(content='14', name='multiply', id='343d7b39-bd78-4b24-9727-5749273218a2', tool_call_id='call_eSNou5mfrCDbWxmgcsZB6Szb'), AIMessage(content='', additional_kwargs={'tool_calls': [{'id': 'call_ROSVI5VOU5IMtAP6ZwcX9lX7', 'function': {'arguments': '{\"a\":14,\"b\":5}', 'name': 'divide'}, 'type': 'function'}], 'refusal': None}, response_metadata={'token_usage': {'completion_tokens': 17, 'prompt_tokens': 195, 'total_tokens': 212, 'completion_tokens_details': {'accepted_prediction_tokens': 0, 'audio_tokens': 0, 'reasoning_tokens': 0, 'rejected_prediction_tokens': 0}, 'prompt_tokens_details': {'audio_tokens': 0, 'cached_tokens': 0}}, 'model_name': 'gpt-4o-2024-08-06', 'system_fingerprint': 'fp_9faba9f038', 'finish_reason': 'tool_calls', 'logprobs': None}, id='run-93fab45d-47fc-472c-b546-b4e2bca52f44-0', tool_calls=[{'name': 'divide', 'args': {'a': 14, 'b': 5}, 'id': 'call_ROSVI5VOU5IMtAP6ZwcX9lX7', 'type': 'tool_call'}], usage_metadata={'input_tokens': 195, 'output_tokens': 17, 'total_tokens': 212, 'input_token_details': {'audio': 0, 'cache_read': 0}, 'output_token_details': {'audio': 0, 'reasoning': 0}}), ToolMessage(content='2.8', name='divide', id='e65b3dfa-aa6b-4fba-bb97-28e02a785f87', tool_call_id='call_ROSVI5VOU5IMtAP6ZwcX9lX7')]}\n",
      "return_state : {'messages': [AIMessage(content='The result of adding 3 and 4, multiplying the result by 2, and then dividing by 5 is 2.8.', additional_kwargs={'refusal': None}, response_metadata={'token_usage': {'completion_tokens': 30, 'prompt_tokens': 222, 'total_tokens': 252, 'completion_tokens_details': {'accepted_prediction_tokens': 0, 'audio_tokens': 0, 'reasoning_tokens': 0, 'rejected_prediction_tokens': 0}, 'prompt_tokens_details': {'audio_tokens': 0, 'cached_tokens': 0}}, 'model_name': 'gpt-4o-2024-08-06', 'system_fingerprint': 'fp_9faba9f038', 'finish_reason': 'stop', 'logprobs': None}, id='run-d6197dfe-2f0a-408a-bc65-1151d63d60cd-0', usage_metadata={'input_tokens': 222, 'output_tokens': 30, 'total_tokens': 252, 'input_token_details': {'audio': 0, 'cache_read': 0}, 'output_token_details': {'audio': 0, 'reasoning': 0}})]}\n"
     ]
    }
   ],
   "source": [
    "messages = [HumanMessage(content=\"Add 3 and 4. Multiply the output by 2. Divide the output by 5\")]\n",
    "messages = graph.invoke({\"messages\": messages})"
   ]
  },
  {
   "cell_type": "markdown",
   "metadata": {},
   "source": [
    "### 3. Bind Tools and Test"
   ]
  },
  {
   "cell_type": "code",
   "execution_count": 7,
   "metadata": {},
   "outputs": [],
   "source": [
    "def multiply(a: int, b: int) -> int:\n",
    "    \"\"\"Multiply a and b.\n",
    "\n",
    "    Args:\n",
    "        a: first int\n",
    "        b: second int\n",
    "    \"\"\"\n",
    "    return a * b\n",
    "\n",
    "llm_with_tools = llm.bind_tools([multiply])"
   ]
  },
  {
   "cell_type": "code",
   "execution_count": 8,
   "metadata": {},
   "outputs": [],
   "source": [
    "tool_call = llm_with_tools.invoke([HumanMessage(content=f\"What is 2 multiplied by 3\", name=\"Lance\")])"
   ]
  },
  {
   "cell_type": "code",
   "execution_count": 9,
   "metadata": {},
   "outputs": [
    {
     "name": "stdout",
     "output_type": "stream",
     "text": [
      "tool_call.content: \n",
      "id: call_WtlUeIF0Ff3jdaKAHa86MLkR\n",
      "function: {'arguments': '{\"a\":2,\"b\":3}', 'name': 'multiply'}\n",
      "type: function\n"
     ]
    }
   ],
   "source": [
    "print(f\"tool_call.content: {tool_call.content}\")\n",
    "for key, value in tool_call.additional_kwargs['tool_calls'][0].items():\n",
    "    print(f\"{key}: {value}\")"
   ]
  },
  {
   "cell_type": "markdown",
   "metadata": {},
   "source": [
    "### 4.MessagesState\n",
    "- You can just use the MessagesState class from langgraph.graph.message.\n",
    "- You can add any keys needed beyond messages, which is pre-built "
   ]
  },
  {
   "cell_type": "code",
   "execution_count": 10,
   "metadata": {},
   "outputs": [],
   "source": [
    "from langgraph.graph import MessagesState\n",
    "\n",
    "class MessagesState(MessagesState):\n",
    "    pass"
   ]
  },
  {
   "cell_type": "code",
   "execution_count": 11,
   "metadata": {},
   "outputs": [
    {
     "name": "stdout",
     "output_type": "stream",
     "text": [
      "==================================\u001b[1m Ai Message \u001b[0m==================================\n",
      "\n",
      "Hello! How can I assist you?\n",
      "================================\u001b[1m Human Message \u001b[0m=================================\n",
      "\n",
      "I'm looking for information on marine biology.\n",
      "==================================\u001b[1m Ai Message \u001b[0m==================================\n",
      "\n",
      "Sure, I can help with that. What specifically are you interested in?\n"
     ]
    }
   ],
   "source": [
    "# initial messages\n",
    "initial_messages = [\n",
    "    AIMessage(content=\"Hello! How can I assist you?\"),\n",
    "    HumanMessage(content=\"I'm looking for information on marine biology.\")\n",
    "]\n",
    "\n",
    "# add message\n",
    "add_message = AIMessage(content=\"Sure, I can help with that. What specifically are you interested in?\")\n",
    "\n",
    "# total messages\n",
    "from langgraph.graph.message import add_messages\n",
    "messages = add_messages(initial_messages , add_message)\n",
    "for message in messages:\n",
    "    message.pretty_print()"
   ]
  },
  {
   "cell_type": "markdown",
   "metadata": {},
   "source": [
    "### 5. Build Graph"
   ]
  },
  {
   "cell_type": "code",
   "execution_count": 12,
   "metadata": {},
   "outputs": [
    {
     "data": {
      "image/png": "[encoded data removed]",
      "text/plain": [
       "<IPython.core.display.Image object>"
      ]
     },
     "metadata": {},
     "output_type": "display_data"
    }
   ],
   "source": [
    "from IPython.display import Image, display\n",
    "from langgraph.graph import StateGraph, START, END\n",
    "    \n",
    "# Node\n",
    "def Node__tool_calling_llm(state: MessagesState):\n",
    "    return {\"messages\": [llm_with_tools.invoke(state[\"messages\"])]}\n",
    "\n",
    "# Build graph\n",
    "builder = StateGraph(MessagesState)\n",
    "\n",
    "# set Node\n",
    "builder.add_node(\"Node__tool_calling_llm\", Node__tool_calling_llm)\n",
    "\n",
    "# set Edge\n",
    "builder.add_edge(START, \"Node__tool_calling_llm\")\n",
    "builder.add_edge(\"Node__tool_calling_llm\", END)\n",
    "\n",
    "# compile graph\n",
    "graph = builder.compile()\n",
    "\n",
    "# View\n",
    "display(Image(graph.get_graph().draw_mermaid_png()))"
   ]
  },
  {
   "cell_type": "markdown",
   "metadata": {},
   "source": [
    "### 6.Test"
   ]
  },
  {
   "cell_type": "markdown",
   "metadata": {},
   "source": [
    "Not Call Tool\n",
    "- if don't call tool\n",
    "    - AIMessage have content.\n",
    "    - AIMessage don't have additional_kwargs={'tool_calls'}"
   ]
  },
  {
   "cell_type": "code",
   "execution_count": 13,
   "metadata": {},
   "outputs": [
    {
     "data": {
      "text/plain": [
       "{'messages': [HumanMessage(content='Hello!', additional_kwargs={}, response_metadata={}, id='2d1b9d88-94c3-4c63-b050-550290a0e3d5'),\n",
       "  AIMessage(content='Hi there! How can I assist you today?', additional_kwargs={'refusal': None}, response_metadata={'token_usage': {'completion_tokens': 11, 'prompt_tokens': 54, 'total_tokens': 65, 'completion_tokens_details': {'accepted_prediction_tokens': 0, 'audio_tokens': 0, 'reasoning_tokens': 0, 'rejected_prediction_tokens': 0}, 'prompt_tokens_details': {'audio_tokens': 0, 'cached_tokens': 0}}, 'model_name': 'gpt-4o-2024-08-06', 'system_fingerprint': 'fp_9faba9f038', 'finish_reason': 'stop', 'logprobs': None}, id='run-ba6fb2a3-bde6-4e66-b778-a12915275382-0', usage_metadata={'input_tokens': 54, 'output_tokens': 11, 'total_tokens': 65, 'input_token_details': {'audio': 0, 'cache_read': 0}, 'output_token_details': {'audio': 0, 'reasoning': 0}})]}"
      ]
     },
     "execution_count": 13,
     "metadata": {},
     "output_type": "execute_result"
    }
   ],
   "source": [
    "messages = graph.invoke({\"messages\": HumanMessage(content=\"Hello!\")})\n",
    "messages"
   ]
  },
  {
   "cell_type": "markdown",
   "metadata": {},
   "source": [
    "Call Tool\n",
    "- if call tool\n",
    "    - AIMessage don't have content.\n",
    "    - AIMessage have additional_kwargs={'tool_calls'}"
   ]
  },
  {
   "cell_type": "code",
   "execution_count": 14,
   "metadata": {},
   "outputs": [
    {
     "data": {
      "text/plain": [
       "{'messages': [HumanMessage(content='Multiply 2 and 3', additional_kwargs={}, response_metadata={}, id='3bc61e02-f88f-47e5-9f7b-85a7883d3112'),\n",
       "  AIMessage(content='', additional_kwargs={'tool_calls': [{'id': 'call_q0bDpql6QXEOVADOydV86ebM', 'function': {'arguments': '{\"a\":2,\"b\":3}', 'name': 'multiply'}, 'type': 'function'}], 'refusal': None}, response_metadata={'token_usage': {'completion_tokens': 17, 'prompt_tokens': 58, 'total_tokens': 75, 'completion_tokens_details': {'accepted_prediction_tokens': 0, 'audio_tokens': 0, 'reasoning_tokens': 0, 'rejected_prediction_tokens': 0}, 'prompt_tokens_details': {'audio_tokens': 0, 'cached_tokens': 0}}, 'model_name': 'gpt-4o-2024-08-06', 'system_fingerprint': 'fp_9faba9f038', 'finish_reason': 'tool_calls', 'logprobs': None}, id='run-b5e01947-5a4c-4971-bce3-fb3c1a6a4bf5-0', tool_calls=[{'name': 'multiply', 'args': {'a': 2, 'b': 3}, 'id': 'call_q0bDpql6QXEOVADOydV86ebM', 'type': 'tool_call'}], usage_metadata={'input_tokens': 58, 'output_tokens': 17, 'total_tokens': 75, 'input_token_details': {'audio': 0, 'cache_read': 0}, 'output_token_details': {'audio': 0, 'reasoning': 0}})]}"
      ]
     },
     "execution_count": 14,
     "metadata": {},
     "output_type": "execute_result"
    }
   ],
   "source": [
    "messages = graph.invoke({\"messages\": HumanMessage(content=\"Multiply 2 and 3\")})\n",
    "messages"
   ]
  },
  {
   "cell_type": "markdown",
   "metadata": {},
   "source": [
    "### 7. Router\n",
    "- tools_condition is a function that returns True if the latest message (result) from assistant is a tool call, otherwise False.\n",
    "    - latest message from assistant = `tool call` -> tools_condition routes to `tools`.\n",
    "    - latest message from assistant = `not tool call` -> tools_condition routes to `END`."
   ]
  },
  {
   "cell_type": "code",
   "execution_count": 15,
   "metadata": {},
   "outputs": [
    {
     "data": {
      "image/png": "[encoded data removed]",
      "text/plain": [
       "<IPython.core.display.Image object>"
      ]
     },
     "metadata": {},
     "output_type": "display_data"
    }
   ],
   "source": [
    "from langgraph.prebuilt import ToolNode\n",
    "\n",
    "# Tools_condition\n",
    "from langgraph.prebuilt import tools_condition\n",
    "\n",
    "# Build graph\n",
    "builder = StateGraph(MessagesState)\n",
    "\n",
    "# set Node\n",
    "builder.add_node(\"Node__tool_calling_llm\", Node__tool_calling_llm)\n",
    "builder.add_node(\"tools\", ToolNode([multiply]))\n",
    "\n",
    "# set Edge\n",
    "builder.add_edge(START, \"Node__tool_calling_llm\")\n",
    "builder.add_conditional_edges(\"Node__tool_calling_llm\",tools_condition)\n",
    "builder.add_edge(\"tools\", END)\n",
    "\n",
    "# compile graph\n",
    "graph = builder.compile()\n",
    "\n",
    "# View\n",
    "display(Image(graph.get_graph().draw_mermaid_png()))"
   ]
  },
  {
   "cell_type": "markdown",
   "metadata": {},
   "source": [
    "### TestTool Router"
   ]
  },
  {
   "cell_type": "code",
   "execution_count": 21,
   "metadata": {},
   "outputs": [
    {
     "name": "stdout",
     "output_type": "stream",
     "text": [
      "================================\u001b[1m Human Message \u001b[0m=================================\n",
      "\n",
      "Hello world.\n",
      "==================================\u001b[1m Ai Message \u001b[0m==================================\n",
      "\n",
      "Hello! How can I assist you today?\n",
      "\n",
      "\n",
      "\n",
      "================================\u001b[1m Human Message \u001b[0m=================================\n",
      "\n",
      "Multiply 2 and 3\n",
      "==================================\u001b[1m Ai Message \u001b[0m==================================\n",
      "Tool Calls:\n",
      "  multiply (call_e0uMbcdYtmJjRxCJBHHtRJvf)\n",
      " Call ID: call_e0uMbcdYtmJjRxCJBHHtRJvf\n",
      "  Args:\n",
      "    a: 2\n",
      "    b: 3\n",
      "=================================\u001b[1m Tool Message \u001b[0m=================================\n",
      "Name: multiply\n",
      "\n",
      "6\n"
     ]
    }
   ],
   "source": [
    "from langchain_core.messages import HumanMessage\n",
    "messages_not_call_tool = [HumanMessage(content=\"Hello world.\")]\n",
    "messages_not_call_tool = graph.invoke({\"messages\": messages_not_call_tool})\n",
    "for m in messages_not_call_tool['messages']:\n",
    "    m.pretty_print()\n",
    "\n",
    "print(\"\\n\\n\")\n",
    "\n",
    "messages_call_tool = [HumanMessage(content=\"Multiply 2 and 3\")]\n",
    "messages_call_tool = graph.invoke({\"messages\": messages_call_tool})\n",
    "for m in messages_call_tool['messages']:\n",
    "    m.pretty_print()"
   ]
  }
 ],
 "metadata": {
  "kernelspec": {
   "display_name": "langchain",
   "language": "python",
   "name": "langchain"
  },
  "language_info": {
   "codemirror_mode": {
    "name": "ipython",
    "version": 3
   },
   "file_extension": ".py",
   "mimetype": "text/x-python",
   "name": "python",
   "nbconvert_exporter": "python",
   "pygments_lexer": "ipython3",
   "version": "3.11.10"
  }
 },
 "nbformat": 4,
 "nbformat_minor": 2
}
