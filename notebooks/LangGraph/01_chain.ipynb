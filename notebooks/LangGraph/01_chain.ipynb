{
 "cells": [
  {
   "cell_type": "code",
   "execution_count": 1,
   "metadata": {},
   "outputs": [],
   "source": [
    "from modules.base import *"
   ]
  },
  {
   "cell_type": "markdown",
   "metadata": {},
   "source": [
    "simple test"
   ]
  },
  {
   "cell_type": "code",
   "execution_count": 3,
   "metadata": {},
   "outputs": [
    {
     "name": "stdout",
     "output_type": "stream",
     "text": [
      "\u001b[1;32m\u001b[0m\u001b[1;32mThe\u001b[0m\u001b[1;32m best\u001b[0m\u001b[1;32m place\u001b[0m\u001b[1;32m to\u001b[0m\u001b[1;32m see\u001b[0m\u001b[1;32m or\u001b[0m\u001b[1;32mcas\u001b[0m\u001b[1;32m in\u001b[0m\u001b[1;32m the\u001b[0m\u001b[1;32m United\u001b[0m\u001b[1;32m States\u001b[0m\u001b[1;32m is\u001b[0m\u001b[1;32m the\u001b[0m\u001b[1;32m Pacific\u001b[0m\u001b[1;32m Northwest\u001b[0m\u001b[1;32m,\u001b[0m\u001b[1;32m particularly\u001b[0m\u001b[1;32m the\u001b[0m\u001b[1;32m waters\u001b[0m\u001b[1;32m around\u001b[0m\u001b[1;32m the\u001b[0m\u001b[1;32m San\u001b[0m\u001b[1;32m Juan\u001b[0m\u001b[1;32m Islands\u001b[0m\u001b[1;32m in\u001b[0m\u001b[1;32m Washington\u001b[0m\u001b[1;32m State\u001b[0m\u001b[1;32m.\u001b[0m\u001b[1;32m This\u001b[0m\u001b[1;32m area\u001b[0m\u001b[1;32m is\u001b[0m\u001b[1;32m renowned\u001b[0m\u001b[1;32m for\u001b[0m\u001b[1;32m its\u001b[0m\u001b[1;32m resident\u001b[0m\u001b[1;32m or\u001b[0m\u001b[1;32mca\u001b[0m\u001b[1;32m populations\u001b[0m\u001b[1;32m,\u001b[0m\u001b[1;32m known\u001b[0m\u001b[1;32m as\u001b[0m\u001b[1;32m the\u001b[0m\u001b[1;32m Southern\u001b[0m\u001b[1;32m Resident\u001b[0m\u001b[1;32m Killer\u001b[0m\u001b[1;32m Wh\u001b[0m\u001b[1;32males\u001b[0m\u001b[1;32m.\u001b[0m\u001b[1;32m These\u001b[0m\u001b[1;32m or\u001b[0m\u001b[1;32mcas\u001b[0m\u001b[1;32m are\u001b[0m\u001b[1;32m frequently\u001b[0m\u001b[1;32m seen\u001b[0m\u001b[1;32m between\u001b[0m\u001b[1;32m late\u001b[0m\u001b[1;32m spring\u001b[0m\u001b[1;32m and\u001b[0m\u001b[1;32m early\u001b[0m\u001b[1;32m fall\u001b[0m\u001b[1;32m,\u001b[0m\u001b[1;32m although\u001b[0m\u001b[1;32m sightings\u001b[0m\u001b[1;32m can\u001b[0m\u001b[1;32m occur\u001b[0m\u001b[1;32m year\u001b[0m\u001b[1;32m-round\u001b[0m\u001b[1;32m.\n",
      "\n",
      "\u001b[0m\u001b[1;32mHere\u001b[0m\u001b[1;32m are\u001b[0m\u001b[1;32m some\u001b[0m\u001b[1;32m specific\u001b[0m\u001b[1;32m locations\u001b[0m\u001b[1;32m where\u001b[0m\u001b[1;32m you\u001b[0m\u001b[1;32m might\u001b[0m\u001b[1;32m have\u001b[0m\u001b[1;32m a\u001b[0m\u001b[1;32m good\u001b[0m\u001b[1;32m chance\u001b[0m\u001b[1;32m of\u001b[0m\u001b[1;32m seeing\u001b[0m\u001b[1;32m or\u001b[0m\u001b[1;32mcas\u001b[0m\u001b[1;32m:\n",
      "\n",
      "\u001b[0m\u001b[1;32m1\u001b[0m\u001b[1;32m.\u001b[0m\u001b[1;32m **\u001b[0m\u001b[1;32mSan\u001b[0m\u001b[1;32m Juan\u001b[0m\u001b[1;32m Islands\u001b[0m\u001b[1;32m**\u001b[0m\u001b[1;32m:\u001b[0m\u001b[1;32m Orc\u001b[0m\u001b[1;32mas\u001b[0m\u001b[1;32m Island\u001b[0m\u001b[1;32m,\u001b[0m\u001b[1;32m San\u001b[0m\u001b[1;32m Juan\u001b[0m\u001b[1;32m Island\u001b[0m\u001b[1;32m,\u001b[0m\u001b[1;32m and\u001b[0m\u001b[1;32m Lopez\u001b[0m\u001b[1;32m Island\u001b[0m\u001b[1;32m are\u001b[0m\u001b[1;32m popular\u001b[0m\u001b[1;32m spots\u001b[0m\u001b[1;32m for\u001b[0m\u001b[1;32m or\u001b[0m\u001b[1;32mca\u001b[0m\u001b[1;32m watching\u001b[0m\u001b[1;32m.\u001b[0m\u001b[1;32m Friday\u001b[0m\u001b[1;32m Harbor\u001b[0m\u001b[1;32m on\u001b[0m\u001b[1;32m San\u001b[0m\u001b[1;32m Juan\u001b[0m\u001b[1;32m Island\u001b[0m\u001b[1;32m is\u001b[0m\u001b[1;32m a\u001b[0m\u001b[1;32m common\u001b[0m\u001b[1;32m departure\u001b[0m\u001b[1;32m point\u001b[0m\u001b[1;32m for\u001b[0m\u001b[1;32m whale\u001b[0m\u001b[1;32m-w\u001b[0m\u001b[1;32matching\u001b[0m\u001b[1;32m tours\u001b[0m\u001b[1;32m.\n",
      "\n",
      "\u001b[0m\u001b[1;32m2\u001b[0m\u001b[1;32m.\u001b[0m\u001b[1;32m **\u001b[0m\u001b[1;32mPu\u001b[0m\u001b[1;32mget\u001b[0m\u001b[1;32m Sound\u001b[0m\u001b[1;32m**\u001b[0m\u001b[1;32m:\u001b[0m\u001b[1;32m Orc\u001b[0m\u001b[1;32mas\u001b[0m\u001b[1;32m can\u001b[0m\u001b[1;32m sometimes\u001b[0m\u001b[1;32m be\u001b[0m\u001b[1;32m spotted\u001b[0m\u001b[1;32m in\u001b[0m\u001b[1;32m the\u001b[0m\u001b[1;32m waters\u001b[0m\u001b[1;32m closer\u001b[0m\u001b[1;32m to\u001b[0m\u001b[1;32m Seattle\u001b[0m\u001b[1;32m,\u001b[0m\u001b[1;32m especially\u001b[0m\u001b[1;32m in\u001b[0m\u001b[1;32m the\u001b[0m\u001b[1;32m spring\u001b[0m\u001b[1;32m and\u001b[0m\u001b[1;32m summer\u001b[0m\u001b[1;32m.\n",
      "\n",
      "\u001b[0m\u001b[1;32m3\u001b[0m\u001b[1;32m.\u001b[0m\u001b[1;32m **\u001b[0m\u001b[1;32mStr\u001b[0m\u001b[1;32mait\u001b[0m\u001b[1;32m of\u001b[0m\u001b[1;32m Juan\u001b[0m\u001b[1;32m de\u001b[0m\u001b[1;32m F\u001b[0m\u001b[1;32muca\u001b[0m\u001b[1;32m**\u001b[0m\u001b[1;32m:\u001b[0m\u001b[1;32m This\u001b[0m\u001b[1;32m body\u001b[0m\u001b[1;32m of\u001b[0m\u001b[1;32m water\u001b[0m\u001b[1;32m between\u001b[0m\u001b[1;32m Washington\u001b[0m\u001b[1;32m State\u001b[0m\u001b[1;32m and\u001b[0m\u001b[1;32m Vancouver\u001b[0m\u001b[1;32m Island\u001b[0m\u001b[1;32m is\u001b[0m\u001b[1;32m another\u001b[0m\u001b[1;32m area\u001b[0m\u001b[1;32m where\u001b[0m\u001b[1;32m or\u001b[0m\u001b[1;32mcas\u001b[0m\u001b[1;32m are\u001b[0m\u001b[1;32m commonly\u001b[0m\u001b[1;32m sight\u001b[0m\u001b[1;32med\u001b[0m\u001b[1;32m.\n",
      "\n",
      "\u001b[0m\u001b[1;32m4\u001b[0m\u001b[1;32m.\u001b[0m\u001b[1;32m **\u001b[0m\u001b[1;32mOlymp\u001b[0m\u001b[1;32mic\u001b[0m\u001b[1;32m Peninsula\u001b[0m\u001b[1;32m**\u001b[0m\u001b[1;32m:\u001b[0m\u001b[1;32m Areas\u001b[0m\u001b[1;32m like\u001b[0m\u001b[1;32m Port\u001b[0m\u001b[1;32m Angeles\u001b[0m\u001b[1;32m offer\u001b[0m\u001b[1;32m whale\u001b[0m\u001b[1;32m-w\u001b[0m\u001b[1;32matching\u001b[0m\u001b[1;32m tours\u001b[0m\u001b[1;32m that\u001b[0m\u001b[1;32m venture\u001b[0m\u001b[1;32m into\u001b[0m\u001b[1;32m the\u001b[0m\u001b[1;32m Strait\u001b[0m\u001b[1;32m of\u001b[0m\u001b[1;32m Juan\u001b[0m\u001b[1;32m de\u001b[0m\u001b[1;32m F\u001b[0m\u001b[1;32muca\u001b[0m\u001b[1;32m and\u001b[0m\u001b[1;32m beyond\u001b[0m\u001b[1;32m.\n",
      "\n",
      "\u001b[0m\u001b[1;32mFor\u001b[0m\u001b[1;32m the\u001b[0m\u001b[1;32m best\u001b[0m\u001b[1;32m chance\u001b[0m\u001b[1;32m of\u001b[0m\u001b[1;32m seeing\u001b[0m\u001b[1;32m or\u001b[0m\u001b[1;32mcas\u001b[0m\u001b[1;32m,\u001b[0m\u001b[1;32m consider\u001b[0m\u001b[1;32m joining\u001b[0m\u001b[1;32m a\u001b[0m\u001b[1;32m guided\u001b[0m\u001b[1;32m whale\u001b[0m\u001b[1;32m-w\u001b[0m\u001b[1;32matching\u001b[0m\u001b[1;32m tour\u001b[0m\u001b[1;32m.\u001b[0m\u001b[1;32m These\u001b[0m\u001b[1;32m tours\u001b[0m\u001b[1;32m are\u001b[0m\u001b[1;32m led\u001b[0m\u001b[1;32m by\u001b[0m\u001b[1;32m experienced\u001b[0m\u001b[1;32m natural\u001b[0m\u001b[1;32mists\u001b[0m\u001b[1;32m who\u001b[0m\u001b[1;32m can\u001b[0m\u001b[1;32m provide\u001b[0m\u001b[1;32m insights\u001b[0m\u001b[1;32m into\u001b[0m\u001b[1;32m or\u001b[0m\u001b[1;32mca\u001b[0m\u001b[1;32m behavior\u001b[0m\u001b[1;32m and\u001b[0m\u001b[1;32m ecology\u001b[0m\u001b[1;32m,\u001b[0m\u001b[1;32m as\u001b[0m\u001b[1;32m well\u001b[0m\u001b[1;32m as\u001b[0m\u001b[1;32m increase\u001b[0m\u001b[1;32m the\u001b[0m\u001b[1;32m likelihood\u001b[0m\u001b[1;32m of\u001b[0m\u001b[1;32m sightings\u001b[0m\u001b[1;32m by\u001b[0m\u001b[1;32m knowing\u001b[0m\u001b[1;32m the\u001b[0m\u001b[1;32m best\u001b[0m\u001b[1;32m spots\u001b[0m\u001b[1;32m and\u001b[0m\u001b[1;32m times\u001b[0m\u001b[1;32m to\u001b[0m\u001b[1;32m find\u001b[0m\u001b[1;32m them\u001b[0m\u001b[1;32m.\u001b[0m\u001b[1;32m\u001b[0m"
     ]
    }
   ],
   "source": [
    "messages = [AIMessage(content=f\"So you said you were researching ocean mammals?\", name=\"Model\")]\n",
    "messages.append(HumanMessage(content=f\"Yes, that's right.\",name=\"Lance\"))\n",
    "messages.append(AIMessage(content=f\"Great, what would you like to learn about.\", name=\"Model\"))\n",
    "messages.append(HumanMessage(content=f\"I want to learn about the best place to see Orcas in the US.\", name=\"Lance\"))\n",
    "llm = ChatOpenAI(model=\"gpt-4o\")\n",
    "for chunk in llm.stream(messages):\n",
    "    print(f\"\\033[1;32m{chunk.content}\\033[0m\",end=\"\")\n",
    "    sys.stdout.flush()"
   ]
  },
  {
   "cell_type": "markdown",
   "metadata": {},
   "source": [
    "test with tool"
   ]
  },
  {
   "cell_type": "code",
   "execution_count": 4,
   "metadata": {},
   "outputs": [
    {
     "data": {
      "image/png": "[encoded data removed]",
      "text/plain": [
       "<IPython.core.display.Image object>"
      ]
     },
     "metadata": {},
     "output_type": "display_data"
    }
   ],
   "source": [
    "def multiply(a: int, b: int) -> int:\n",
    "    \"\"\"Multiply a and b.\n",
    "\n",
    "    Args:\n",
    "        a: first int\n",
    "        b: second int\n",
    "    \"\"\"\n",
    "    return a * b\n",
    "\n",
    "llm_with_tools = llm.bind_tools([multiply])\n",
    "\n",
    "@auto_log_and_state\n",
    "def Node__tool_calling_llm(state:MessagesState):\n",
    "    return {\"messages\": [llm_with_tools.invoke(state[\"messages\"])]}\n",
    "\n",
    "builder = StateGraph(MessagesState)\n",
    "builder.add_node(\"Node__tool_calling_llm\", Node__tool_calling_llm)\n",
    "builder.add_node(\"tools\", ToolNode([multiply])) # execute tool when AI message is tool call\n",
    "builder.add_edge(START, \"Node__tool_calling_llm\")\n",
    "builder.add_conditional_edges(\"Node__tool_calling_llm\",tools_condition)\n",
    "builder.add_edge(\"tools\", END)\n",
    "graph = builder.compile()\n",
    "display(Image(graph.get_graph().draw_mermaid_png()))"
   ]
  },
  {
   "cell_type": "code",
   "execution_count": 5,
   "metadata": {},
   "outputs": [
    {
     "name": "stdout",
     "output_type": "stream",
     "text": [
      "args :  ({'messages': [HumanMessage(content='Hello!', additional_kwargs={}, response_metadata={}, id='c5814580-4719-4f14-9ae8-bec15ea4435f')]},)\n",
      "\n",
      "\u001b[92m🚀 Passing Through [Node__tool_calling_llm] ..\u001b[0m\n",
      "\n",
      "\u001b[91m#### [Input State]\u001b[0m\n",
      "msg :  content='Hello!' additional_kwargs={} response_metadata={} id='c5814580-4719-4f14-9ae8-bec15ea4435f'\n",
      "[HUMAN] : Hello!\n",
      "\n",
      "\u001b[94m#### [Output State]\u001b[0m\n",
      "msg :  content='Hi there! How can I assist you today?' additional_kwargs={'refusal': None} response_metadata={'token_usage': {'completion_tokens': 12, 'prompt_tokens': 54, 'total_tokens': 66, 'completion_tokens_details': {'accepted_prediction_tokens': 0, 'audio_tokens': 0, 'reasoning_tokens': 0, 'rejected_prediction_tokens': 0}, 'prompt_tokens_details': {'audio_tokens': 0, 'cached_tokens': 0}}, 'model_name': 'gpt-4o-2024-08-06', 'system_fingerprint': 'fp_5f20662549', 'finish_reason': 'stop', 'logprobs': None} id='run-2a947b95-f9de-4514-a2af-b2b0c5e632a4-0' usage_metadata={'input_tokens': 54, 'output_tokens': 12, 'total_tokens': 66, 'input_token_details': {'audio': 0, 'cache_read': 0}, 'output_token_details': {'audio': 0, 'reasoning': 0}}\n",
      "[AI] : Hi there! How can I assist you today?\n"
     ]
    },
    {
     "data": {
      "text/plain": [
       "{'messages': [HumanMessage(content='Hello!', additional_kwargs={}, response_metadata={}, id='c5814580-4719-4f14-9ae8-bec15ea4435f'),\n",
       "  AIMessage(content='Hi there! How can I assist you today?', additional_kwargs={'refusal': None}, response_metadata={'token_usage': {'completion_tokens': 12, 'prompt_tokens': 54, 'total_tokens': 66, 'completion_tokens_details': {'accepted_prediction_tokens': 0, 'audio_tokens': 0, 'reasoning_tokens': 0, 'rejected_prediction_tokens': 0}, 'prompt_tokens_details': {'audio_tokens': 0, 'cached_tokens': 0}}, 'model_name': 'gpt-4o-2024-08-06', 'system_fingerprint': 'fp_5f20662549', 'finish_reason': 'stop', 'logprobs': None}, id='run-2a947b95-f9de-4514-a2af-b2b0c5e632a4-0', usage_metadata={'input_tokens': 54, 'output_tokens': 12, 'total_tokens': 66, 'input_token_details': {'audio': 0, 'cache_read': 0}, 'output_token_details': {'audio': 0, 'reasoning': 0}})]}"
      ]
     },
     "execution_count": 5,
     "metadata": {},
     "output_type": "execute_result"
    }
   ],
   "source": [
    "messages = graph.invoke({\"messages\": HumanMessage(content=\"Hello!\")})\n",
    "messages"
   ]
  },
  {
   "cell_type": "code",
   "execution_count": 5,
   "metadata": {},
   "outputs": [
    {
     "name": "stdout",
     "output_type": "stream",
     "text": [
      "\n",
      "🚀 Passing Through [Node__tool_calling_llm] ..\n",
      "\n",
      "#### [Input State] ..\n",
      "[HUMAN] : Multiply 2 and 3\n",
      "\n",
      "#### [Output State] ..\n",
      "[AI] : Tool Call\n",
      "  - Function Name: multiply\n",
      "  - Function Arguments: {\"a\":2,\"b\":3}\n"
     ]
    },
    {
     "data": {
      "text/plain": [
       "{'messages': [HumanMessage(content='Multiply 2 and 3', additional_kwargs={}, response_metadata={}, id='e2687b9c-84f4-43bf-9017-3b2b33730861'),\n",
       "  AIMessage(content='', additional_kwargs={'tool_calls': [{'id': 'call_WrqOimEx5x3H3JRLpTOeZj0O', 'function': {'arguments': '{\"a\":2,\"b\":3}', 'name': 'multiply'}, 'type': 'function'}], 'refusal': None}, response_metadata={'token_usage': {'completion_tokens': 18, 'prompt_tokens': 58, 'total_tokens': 76, 'completion_tokens_details': {'accepted_prediction_tokens': 0, 'audio_tokens': 0, 'reasoning_tokens': 0, 'rejected_prediction_tokens': 0}, 'prompt_tokens_details': {'audio_tokens': 0, 'cached_tokens': 0}}, 'model_name': 'gpt-4o-2024-08-06', 'system_fingerprint': 'fp_d28bcae782', 'finish_reason': 'tool_calls', 'logprobs': None}, id='run-4cc356f3-c546-4d26-a009-012197c9d466-0', tool_calls=[{'name': 'multiply', 'args': {'a': 2, 'b': 3}, 'id': 'call_WrqOimEx5x3H3JRLpTOeZj0O', 'type': 'tool_call'}], usage_metadata={'input_tokens': 58, 'output_tokens': 18, 'total_tokens': 76, 'input_token_details': {'audio': 0, 'cache_read': 0}, 'output_token_details': {'audio': 0, 'reasoning': 0}}),\n",
       "  ToolMessage(content='6', name='multiply', id='882cdf7d-e69b-44bc-891e-c9dbbf729bc2', tool_call_id='call_WrqOimEx5x3H3JRLpTOeZj0O')]}"
      ]
     },
     "execution_count": 5,
     "metadata": {},
     "output_type": "execute_result"
    }
   ],
   "source": [
    "messages = graph.invoke({\"messages\": HumanMessage(content=\"Multiply 2 and 3\")})\n",
    "messages"
   ]
  }
 ],
 "metadata": {
  "kernelspec": {
   "display_name": "langchain",
   "language": "python",
   "name": "langchain"
  },
  "language_info": {
   "codemirror_mode": {
    "name": "ipython",
    "version": 3
   },
   "file_extension": ".py",
   "mimetype": "text/x-python",
   "name": "python",
   "nbconvert_exporter": "python",
   "pygments_lexer": "ipython3",
   "version": "3.11.11"
  }
 },
 "nbformat": 4,
 "nbformat_minor": 2
}
