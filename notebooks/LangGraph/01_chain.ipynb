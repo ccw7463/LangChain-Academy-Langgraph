{
 "cells": [
  {
   "cell_type": "markdown",
   "metadata": {},
   "source": [
    "## Chain"
   ]
  },
  {
   "cell_type": "markdown",
   "metadata": {},
   "source": [
    "### 1. Set Environment Variables"
   ]
  },
  {
   "cell_type": "code",
   "execution_count": 1,
   "metadata": {},
   "outputs": [],
   "source": [
    "from utils.util import auto_log_and_state\n",
    "from utils.util import set_env\n",
    "set_env()"
   ]
  },
  {
   "cell_type": "markdown",
   "metadata": {},
   "source": [
    "### 2. Test for Simple Message and Model"
   ]
  },
  {
   "cell_type": "markdown",
   "metadata": {},
   "source": [
    "2.1 Messages"
   ]
  },
  {
   "cell_type": "code",
   "execution_count": 2,
   "metadata": {},
   "outputs": [],
   "source": [
    "from langchain_core.messages import AIMessage, HumanMessage\n",
    "messages = [AIMessage(content=f\"So you said you were researching ocean mammals?\", name=\"Model\")]\n",
    "messages.append(HumanMessage(content=f\"Yes, that's right.\",name=\"Lance\"))\n",
    "messages.append(AIMessage(content=f\"Great, what would you like to learn about.\", name=\"Model\"))\n",
    "messages.append(HumanMessage(content=f\"I want to learn about the best place to see Orcas in the US.\", name=\"Lance\"))"
   ]
  },
  {
   "cell_type": "markdown",
   "metadata": {},
   "source": [
    "2.2 Model"
   ]
  },
  {
   "cell_type": "code",
   "execution_count": 3,
   "metadata": {},
   "outputs": [],
   "source": [
    "from langchain_openai import ChatOpenAI\n",
    "llm = ChatOpenAI(model=\"gpt-4o\")"
   ]
  },
  {
   "cell_type": "code",
   "execution_count": 4,
   "metadata": {},
   "outputs": [
    {
     "name": "stdout",
     "output_type": "stream",
     "text": [
      "\u001b[1;32m\u001b[0m\u001b[1;32mThe\u001b[0m\u001b[1;32m best\u001b[0m\u001b[1;32m place\u001b[0m\u001b[1;32m to\u001b[0m\u001b[1;32m see\u001b[0m\u001b[1;32m or\u001b[0m\u001b[1;32mcas\u001b[0m\u001b[1;32m in\u001b[0m\u001b[1;32m the\u001b[0m\u001b[1;32m United\u001b[0m\u001b[1;32m States\u001b[0m\u001b[1;32m is\u001b[0m\u001b[1;32m the\u001b[0m\u001b[1;32m Pacific\u001b[0m\u001b[1;32m Northwest\u001b[0m\u001b[1;32m,\u001b[0m\u001b[1;32m particularly\u001b[0m\u001b[1;32m around\u001b[0m\u001b[1;32m the\u001b[0m\u001b[1;32m San\u001b[0m\u001b[1;32m Juan\u001b[0m\u001b[1;32m Islands\u001b[0m\u001b[1;32m in\u001b[0m\u001b[1;32m Washington\u001b[0m\u001b[1;32m State\u001b[0m\u001b[1;32m.\u001b[0m\u001b[1;32m This\u001b[0m\u001b[1;32m area\u001b[0m\u001b[1;32m is\u001b[0m\u001b[1;32m renowned\u001b[0m\u001b[1;32m for\u001b[0m\u001b[1;32m its\u001b[0m\u001b[1;32m resident\u001b[0m\u001b[1;32m or\u001b[0m\u001b[1;32mca\u001b[0m\u001b[1;32m pods\u001b[0m\u001b[1;32m,\u001b[0m\u001b[1;32m which\u001b[0m\u001b[1;32m are\u001b[0m\u001b[1;32m often\u001b[0m\u001b[1;32m seen\u001b[0m\u001b[1;32m during\u001b[0m\u001b[1;32m the\u001b[0m\u001b[1;32m summer\u001b[0m\u001b[1;32m months\u001b[0m\u001b[1;32m.\u001b[0m\u001b[1;32m Here\u001b[0m\u001b[1;32m are\u001b[0m\u001b[1;32m a\u001b[0m\u001b[1;32m few\u001b[0m\u001b[1;32m key\u001b[0m\u001b[1;32m locations\u001b[0m\u001b[1;32m and\u001b[0m\u001b[1;32m details\u001b[0m\u001b[1;32m:\n",
      "\n",
      "\u001b[0m\u001b[1;32m1\u001b[0m\u001b[1;32m.\u001b[0m\u001b[1;32m **\u001b[0m\u001b[1;32mSan\u001b[0m\u001b[1;32m Juan\u001b[0m\u001b[1;32m Islands\u001b[0m\u001b[1;32m,\u001b[0m\u001b[1;32m Washington\u001b[0m\u001b[1;32m**\u001b[0m\u001b[1;32m:\u001b[0m\u001b[1;32m \n",
      "\u001b[0m\u001b[1;32m  \u001b[0m\u001b[1;32m -\u001b[0m\u001b[1;32m The\u001b[0m\u001b[1;32m San\u001b[0m\u001b[1;32m Juan\u001b[0m\u001b[1;32m Islands\u001b[0m\u001b[1;32m are\u001b[0m\u001b[1;32m one\u001b[0m\u001b[1;32m of\u001b[0m\u001b[1;32m the\u001b[0m\u001b[1;32m most\u001b[0m\u001b[1;32m popular\u001b[0m\u001b[1;32m spots\u001b[0m\u001b[1;32m for\u001b[0m\u001b[1;32m or\u001b[0m\u001b[1;32mca\u001b[0m\u001b[1;32m watching\u001b[0m\u001b[1;32m.\u001b[0m\u001b[1;32m The\u001b[0m\u001b[1;32m resident\u001b[0m\u001b[1;32m Southern\u001b[0m\u001b[1;32m Resident\u001b[0m\u001b[1;32m or\u001b[0m\u001b[1;32mcas\u001b[0m\u001b[1;32m are\u001b[0m\u001b[1;32m often\u001b[0m\u001b[1;32m seen\u001b[0m\u001b[1;32m here\u001b[0m\u001b[1;32m,\u001b[0m\u001b[1;32m especially\u001b[0m\u001b[1;32m between\u001b[0m\u001b[1;32m May\u001b[0m\u001b[1;32m and\u001b[0m\u001b[1;32m October\u001b[0m\u001b[1;32m.\n",
      "\u001b[0m\u001b[1;32m  \u001b[0m\u001b[1;32m -\u001b[0m\u001b[1;32m You\u001b[0m\u001b[1;32m can\u001b[0m\u001b[1;32m take\u001b[0m\u001b[1;32m boat\u001b[0m\u001b[1;32m tours\u001b[0m\u001b[1;32m from\u001b[0m\u001b[1;32m Friday\u001b[0m\u001b[1;32m Harbor\u001b[0m\u001b[1;32m on\u001b[0m\u001b[1;32m San\u001b[0m\u001b[1;32m Juan\u001b[0m\u001b[1;32m Island\u001b[0m\u001b[1;32m or\u001b[0m\u001b[1;32m from\u001b[0m\u001b[1;32m other\u001b[0m\u001b[1;32m nearby\u001b[0m\u001b[1;32m islands\u001b[0m\u001b[1;32m.\n",
      "\n",
      "\u001b[0m\u001b[1;32m2\u001b[0m\u001b[1;32m.\u001b[0m\u001b[1;32m **\u001b[0m\u001b[1;32mPu\u001b[0m\u001b[1;32mget\u001b[0m\u001b[1;32m Sound\u001b[0m\u001b[1;32m,\u001b[0m\u001b[1;32m Washington\u001b[0m\u001b[1;32m**\u001b[0m\u001b[1;32m:\u001b[0m\u001b[1;32m \n",
      "\u001b[0m\u001b[1;32m  \u001b[0m\u001b[1;32m -\u001b[0m\u001b[1;32m Orc\u001b[0m\u001b[1;32mas\u001b[0m\u001b[1;32m can\u001b[0m\u001b[1;32m also\u001b[0m\u001b[1;32m be\u001b[0m\u001b[1;32m seen\u001b[0m\u001b[1;32m in\u001b[0m\u001b[1;32m Pu\u001b[0m\u001b[1;32mget\u001b[0m\u001b[1;32m Sound\u001b[0m\u001b[1;32m,\u001b[0m\u001b[1;32m particularly\u001b[0m\u001b[1;32m in\u001b[0m\u001b[1;32m the\u001b[0m\u001b[1;32m spring\u001b[0m\u001b[1;32m and\u001b[0m\u001b[1;32m fall\u001b[0m\u001b[1;32m when\u001b[0m\u001b[1;32m they\u001b[0m\u001b[1;32m are\u001b[0m\u001b[1;32m following\u001b[0m\u001b[1;32m the\u001b[0m\u001b[1;32m salmon\u001b[0m\u001b[1;32m runs\u001b[0m\u001b[1;32m.\n",
      "\u001b[0m\u001b[1;32m  \u001b[0m\u001b[1;32m -\u001b[0m\u001b[1;32m Tours\u001b[0m\u001b[1;32m often\u001b[0m\u001b[1;32m depart\u001b[0m\u001b[1;32m from\u001b[0m\u001b[1;32m cities\u001b[0m\u001b[1;32m like\u001b[0m\u001b[1;32m Seattle\u001b[0m\u001b[1;32m and\u001b[0m\u001b[1;32m Tacoma\u001b[0m\u001b[1;32m.\n",
      "\n",
      "\u001b[0m\u001b[1;32m3\u001b[0m\u001b[1;32m.\u001b[0m\u001b[1;32m **\u001b[0m\u001b[1;32mStr\u001b[0m\u001b[1;32mait\u001b[0m\u001b[1;32m of\u001b[0m\u001b[1;32m Juan\u001b[0m\u001b[1;32m de\u001b[0m\u001b[1;32m F\u001b[0m\u001b[1;32muca\u001b[0m\u001b[1;32m,\u001b[0m\u001b[1;32m Washington\u001b[0m\u001b[1;32m**\u001b[0m\u001b[1;32m:\n",
      "\u001b[0m\u001b[1;32m  \u001b[0m\u001b[1;32m -\u001b[0m\u001b[1;32m This\u001b[0m\u001b[1;32m area\u001b[0m\u001b[1;32m,\u001b[0m\u001b[1;32m located\u001b[0m\u001b[1;32m between\u001b[0m\u001b[1;32m the\u001b[0m\u001b[1;32m Olympic\u001b[0m\u001b[1;32m Peninsula\u001b[0m\u001b[1;32m and\u001b[0m\u001b[1;32m Vancouver\u001b[0m\u001b[1;32m Island\u001b[0m\u001b[1;32m,\u001b[0m\u001b[1;32m is\u001b[0m\u001b[1;32m another\u001b[0m\u001b[1;32m prime\u001b[0m\u001b[1;32m location\u001b[0m\u001b[1;32m for\u001b[0m\u001b[1;32m or\u001b[0m\u001b[1;32mca\u001b[0m\u001b[1;32m sightings\u001b[0m\u001b[1;32m.\n",
      "\n",
      "\u001b[0m\u001b[1;32mWhen\u001b[0m\u001b[1;32m planning\u001b[0m\u001b[1;32m a\u001b[0m\u001b[1;32m trip\u001b[0m\u001b[1;32m,\u001b[0m\u001b[1;32m it\u001b[0m\u001b[1;32m’s\u001b[0m\u001b[1;32m important\u001b[0m\u001b[1;32m to\u001b[0m\u001b[1;32m choose\u001b[0m\u001b[1;32m a\u001b[0m\u001b[1;32m reputable\u001b[0m\u001b[1;32m tour\u001b[0m\u001b[1;32m company\u001b[0m\u001b[1;32m that\u001b[0m\u001b[1;32m follows\u001b[0m\u001b[1;32m responsible\u001b[0m\u001b[1;32m wildlife\u001b[0m\u001b[1;32m viewing\u001b[0m\u001b[1;32m guidelines\u001b[0m\u001b[1;32m to\u001b[0m\u001b[1;32m minimize\u001b[0m\u001b[1;32m disturbances\u001b[0m\u001b[1;32m to\u001b[0m\u001b[1;32m the\u001b[0m\u001b[1;32m whales\u001b[0m\u001b[1;32m.\u001b[0m\u001b[1;32m Additionally\u001b[0m\u001b[1;32m,\u001b[0m\u001b[1;32m land\u001b[0m\u001b[1;32m-based\u001b[0m\u001b[1;32m whale\u001b[0m\u001b[1;32m watching\u001b[0m\u001b[1;32m is\u001b[0m\u001b[1;32m possible\u001b[0m\u001b[1;32m from\u001b[0m\u001b[1;32m several\u001b[0m\u001b[1;32m locations\u001b[0m\u001b[1;32m,\u001b[0m\u001b[1;32m such\u001b[0m\u001b[1;32m as\u001b[0m\u001b[1;32m Lime\u001b[0m\u001b[1;32m Kil\u001b[0m\u001b[1;32mn\u001b[0m\u001b[1;32m Point\u001b[0m\u001b[1;32m State\u001b[0m\u001b[1;32m Park\u001b[0m\u001b[1;32m on\u001b[0m\u001b[1;32m San\u001b[0m\u001b[1;32m Juan\u001b[0m\u001b[1;32m Island\u001b[0m\u001b[1;32m,\u001b[0m\u001b[1;32m known\u001b[0m\u001b[1;32m as\u001b[0m\u001b[1;32m one\u001b[0m\u001b[1;32m of\u001b[0m\u001b[1;32m the\u001b[0m\u001b[1;32m best\u001b[0m\u001b[1;32m places\u001b[0m\u001b[1;32m in\u001b[0m\u001b[1;32m the\u001b[0m\u001b[1;32m world\u001b[0m\u001b[1;32m for\u001b[0m\u001b[1;32m shore\u001b[0m\u001b[1;32m-based\u001b[0m\u001b[1;32m or\u001b[0m\u001b[1;32mca\u001b[0m\u001b[1;32m viewing\u001b[0m\u001b[1;32m.\u001b[0m\u001b[1;32m\u001b[0m"
     ]
    }
   ],
   "source": [
    "import sys\n",
    "for chunk in llm.stream(messages):\n",
    "    print(f\"\\033[1;32m{chunk.content}\\033[0m\",end=\"\")\n",
    "    sys.stdout.flush()"
   ]
  },
  {
   "cell_type": "markdown",
   "metadata": {},
   "source": [
    "### 3. Build Graph and Router"
   ]
  },
  {
   "cell_type": "markdown",
   "metadata": {},
   "source": [
    "3.1 Set Libraries"
   ]
  },
  {
   "cell_type": "code",
   "execution_count": 5,
   "metadata": {},
   "outputs": [],
   "source": [
    "from IPython.display import Image, display\n",
    "from langgraph.graph import StateGraph, START, END\n",
    "from langgraph.graph import MessagesState\n",
    "from langgraph.prebuilt import ToolNode\n",
    "from langgraph.prebuilt import tools_condition"
   ]
  },
  {
   "cell_type": "markdown",
   "metadata": {},
   "source": [
    "3.2 Set LLM with Tools"
   ]
  },
  {
   "cell_type": "code",
   "execution_count": 6,
   "metadata": {},
   "outputs": [],
   "source": [
    "def multiply(a: int, b: int) -> int:\n",
    "    \"\"\"Multiply a and b.\n",
    "\n",
    "    Args:\n",
    "        a: first int\n",
    "        b: second int\n",
    "    \"\"\"\n",
    "    print(\"Passing Through Tool Function ..\")\n",
    "    print(f\"a: {a}, b: {b}\")\n",
    "    return a * b\n",
    "\n",
    "llm_with_tools = llm.bind_tools([multiply])"
   ]
  },
  {
   "cell_type": "markdown",
   "metadata": {},
   "source": [
    "3.3 Build Graph\n",
    "\n",
    "- `tools_condition` is a function that returns `True` if the latest message (result) from the assistant is a tool call; otherwise, it returns `False`.  \n",
    "  - If the latest message from the assistant = `tool call`, `tools_condition` routes to `tools`.  \n",
    "  - If the latest message from the assistant = `not tool call`, `tools_condition` routes to `END`.\n",
    "\n",
    "- `Node__tool_calling_llm`  \n",
    "  - Select a tool and specify parameters.\n",
    "  - return type : AIMessage\n",
    "\n",
    "- `ToolNode`  \n",
    "  - actual computation is performed based on the selected tool and its parameters.\n",
    "  - return type : ToolMessage"
   ]
  },
  {
   "cell_type": "code",
   "execution_count": 7,
   "metadata": {},
   "outputs": [
    {
     "data": {
      "image/png": "[encoded data removed]",
      "text/plain": [
       "<IPython.core.display.Image object>"
      ]
     },
     "metadata": {},
     "output_type": "display_data"
    }
   ],
   "source": [
    "# Node\n",
    "@auto_log_and_state\n",
    "def Node__tool_calling_llm(state:MessagesState):\n",
    "    print(\"Passing Through Node ..\")\n",
    "    return {\"messages\": [llm_with_tools.invoke(state[\"messages\"])]}\n",
    "\n",
    "# Build graph\n",
    "builder = StateGraph(MessagesState)\n",
    "\n",
    "# set Node\n",
    "builder.add_node(\"Node__tool_calling_llm\", Node__tool_calling_llm)\n",
    "builder.add_node(\"tools\", ToolNode([multiply])) # Set Tools to Node\n",
    "\n",
    "# set Edge\n",
    "builder.add_edge(START, \"Node__tool_calling_llm\")\n",
    "builder.add_conditional_edges(\"Node__tool_calling_llm\",tools_condition)\n",
    "builder.add_edge(\"tools\", END) # Must set name of Node to tools\n",
    "\n",
    "# compile graph\n",
    "graph = builder.compile()\n",
    "\n",
    "# View\n",
    "display(Image(graph.get_graph().draw_mermaid_png()))"
   ]
  },
  {
   "cell_type": "markdown",
   "metadata": {},
   "source": [
    "if don't call tool\n",
    "- AIMessage have content.\n",
    "- AIMessage don't have additional_kwargs={'tool_calls'}"
   ]
  },
  {
   "cell_type": "code",
   "execution_count": 8,
   "metadata": {},
   "outputs": [
    {
     "name": "stdout",
     "output_type": "stream",
     "text": [
      "\n",
      "## Passing Through [Node__tool_calling_llm] ..\n",
      "\n",
      "#### Input State ..\n",
      "[HUMAN] : Hello!\n",
      "Passing Through Node ..\n",
      "\n",
      "#### Output State ..\n",
      "[AI] : Hello! How can I assist you today?\n"
     ]
    },
    {
     "data": {
      "text/plain": [
       "{'messages': [HumanMessage(content='Hello!', additional_kwargs={}, response_metadata={}, id='bb2c3e3a-1511-42e6-a88d-f076a852c2b4'),\n",
       "  AIMessage(content='Hello! How can I assist you today?', additional_kwargs={'refusal': None}, response_metadata={'token_usage': {'completion_tokens': 11, 'prompt_tokens': 54, 'total_tokens': 65, 'completion_tokens_details': {'accepted_prediction_tokens': 0, 'audio_tokens': 0, 'reasoning_tokens': 0, 'rejected_prediction_tokens': 0}, 'prompt_tokens_details': {'audio_tokens': 0, 'cached_tokens': 0}}, 'model_name': 'gpt-4o-2024-08-06', 'system_fingerprint': 'fp_5f20662549', 'finish_reason': 'stop', 'logprobs': None}, id='run-b435165d-fb97-4614-9a40-c582ee98273e-0', usage_metadata={'input_tokens': 54, 'output_tokens': 11, 'total_tokens': 65, 'input_token_details': {'audio': 0, 'cache_read': 0}, 'output_token_details': {'audio': 0, 'reasoning': 0}})]}"
      ]
     },
     "execution_count": 8,
     "metadata": {},
     "output_type": "execute_result"
    }
   ],
   "source": [
    "messages = graph.invoke({\"messages\": HumanMessage(content=\"Hello!\")})\n",
    "messages"
   ]
  },
  {
   "cell_type": "markdown",
   "metadata": {},
   "source": [
    "if call tool\n",
    "- AIMessage don't have content.\n",
    "- AIMessage have additional_kwargs={'tool_calls'}"
   ]
  },
  {
   "cell_type": "code",
   "execution_count": 28,
   "metadata": {},
   "outputs": [
    {
     "name": "stdout",
     "output_type": "stream",
     "text": [
      "Passing Through Node ..\n",
      "Passing Through Tool Function ..\n",
      "a: 2, b: 3\n"
     ]
    },
    {
     "data": {
      "text/plain": [
       "{'messages': [HumanMessage(content='Multiply 2 and 3', additional_kwargs={}, response_metadata={}, id='f0fd76b0-7f5e-4005-b15c-fa96ae43441e'),\n",
       "  AIMessage(content='', additional_kwargs={'tool_calls': [{'id': 'call_bptJ9MiFewmng9j9SBwhJEWw', 'function': {'arguments': '{\"a\":2,\"b\":3}', 'name': 'multiply'}, 'type': 'function'}], 'refusal': None}, response_metadata={'token_usage': {'completion_tokens': 18, 'prompt_tokens': 58, 'total_tokens': 76, 'completion_tokens_details': {'accepted_prediction_tokens': 0, 'audio_tokens': 0, 'reasoning_tokens': 0, 'rejected_prediction_tokens': 0}, 'prompt_tokens_details': {'audio_tokens': 0, 'cached_tokens': 0}}, 'model_name': 'gpt-4o-2024-08-06', 'system_fingerprint': 'fp_5f20662549', 'finish_reason': 'tool_calls', 'logprobs': None}, id='run-c556bc67-576b-4cb8-bc04-05ee2e4a9fa9-0', tool_calls=[{'name': 'multiply', 'args': {'a': 2, 'b': 3}, 'id': 'call_bptJ9MiFewmng9j9SBwhJEWw', 'type': 'tool_call'}], usage_metadata={'input_tokens': 58, 'output_tokens': 18, 'total_tokens': 76, 'input_token_details': {'audio': 0, 'cache_read': 0}, 'output_token_details': {'audio': 0, 'reasoning': 0}}),\n",
       "  ToolMessage(content='6', name='multiply', id='22b5d6ad-e57a-4106-be45-565419740744', tool_call_id='call_bptJ9MiFewmng9j9SBwhJEWw')]}"
      ]
     },
     "execution_count": 28,
     "metadata": {},
     "output_type": "execute_result"
    }
   ],
   "source": [
    "messages = graph.invoke({\"messages\": HumanMessage(content=\"Multiply 2 and 3\")})\n",
    "messages"
   ]
  }
 ],
 "metadata": {
  "kernelspec": {
   "display_name": "langchain",
   "language": "python",
   "name": "langchain"
  },
  "language_info": {
   "codemirror_mode": {
    "name": "ipython",
    "version": 3
   },
   "file_extension": ".py",
   "mimetype": "text/x-python",
   "name": "python",
   "nbconvert_exporter": "python",
   "pygments_lexer": "ipython3",
   "version": "3.11.10"
  }
 },
 "nbformat": 4,
 "nbformat_minor": 2
}
