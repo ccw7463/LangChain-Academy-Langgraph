{
 "cells": [
  {
   "cell_type": "code",
   "execution_count": 1,
   "metadata": {},
   "outputs": [],
   "source": [
    "from modules.base import *"
   ]
  },
  {
   "cell_type": "markdown",
   "metadata": {},
   "source": [
    "Basic Schema"
   ]
  },
  {
   "cell_type": "code",
   "execution_count": 2,
   "metadata": {},
   "outputs": [
    {
     "data": {
      "image/png": "[encoded data removed]",
      "text/plain": [
       "<IPython.core.display.Image object>"
      ]
     },
     "metadata": {},
     "output_type": "display_data"
    },
    {
     "name": "stdout",
     "output_type": "stream",
     "text": [
      "\n",
      "\u001b[92m🚀 Passing Through [node_1] ..\u001b[0m\n",
      "\n",
      "\u001b[91m#### [Input State]\u001b[0m\n",
      "  args: ({'name': 'changwoo'},)\n",
      "  kwargs: {}\n",
      "\n",
      "\u001b[94m#### [Output State]\u001b[0m\n",
      "  result: {'name': 'changwoo is'}\n",
      "\n",
      "\u001b[92m🚀 Passing Through [decide_mood] ..\u001b[0m\n",
      "\n",
      "\u001b[91m#### [Input State]\u001b[0m\n",
      "  args: ({'name': 'changwoo is'},)\n",
      "  kwargs: {}\n",
      "\n",
      "\u001b[94m#### [Output State]\u001b[0m\n",
      "  result: node_3\n",
      "\n",
      "\u001b[92m🚀 Passing Through [node_3] ..\u001b[0m\n",
      "\n",
      "\u001b[91m#### [Input State]\u001b[0m\n",
      "  args: ({'name': 'changwoo is'},)\n",
      "  kwargs: {}\n",
      "\n",
      "\u001b[94m#### [Output State]\u001b[0m\n",
      "  result: {'name': 'changwoo is', 'mood': 'sad'}\n"
     ]
    },
    {
     "data": {
      "text/plain": [
       "{'name': 'changwoo is', 'mood': 'sad'}"
      ]
     },
     "execution_count": 2,
     "metadata": {},
     "output_type": "execute_result"
    }
   ],
   "source": [
    "class TypedDictState(TypedDict):\n",
    "    name: str\n",
    "    mood: Literal[\"happy\",\"sad\"]\n",
    "    \n",
    "@trace_function(enable_print=True)\n",
    "def node_1(state):\n",
    "    return {\"name\": state['name'] + \" is\"}\n",
    "\n",
    "@trace_function(enable_print=True)\n",
    "def node_2(state):\n",
    "    state[\"mood\"] = \"happy\"\n",
    "    return state\n",
    "\n",
    "@trace_function(enable_print=True)\n",
    "def node_3(state):\n",
    "    state[\"mood\"] = \"sad\"\n",
    "    return state\n",
    "\n",
    "@trace_function(enable_print=True)\n",
    "def decide_mood(state) -> Literal[\"node_2\", \"node_3\"]:\n",
    "    if random.random() < 0.5:\n",
    "        return \"node_2\"\n",
    "    return \"node_3\"\n",
    "\n",
    "builder = StateGraph(TypedDictState)\n",
    "builder.add_node(\"node_1\", node_1)\n",
    "builder.add_node(\"node_2\", node_2)\n",
    "builder.add_node(\"node_3\", node_3)\n",
    "builder.add_edge(START, \"node_1\")\n",
    "builder.add_conditional_edges(\"node_1\", decide_mood)\n",
    "builder.add_edge(\"node_2\", END)\n",
    "builder.add_edge(\"node_3\", END)\n",
    "graph = builder.compile()\n",
    "display(Image(graph.get_graph().draw_mermaid_png()))\n",
    "graph.invoke({\"name\":\"changwoo\"})"
   ]
  },
  {
   "cell_type": "markdown",
   "metadata": {},
   "source": [
    "Pydantic Schema"
   ]
  },
  {
   "cell_type": "code",
   "execution_count": 3,
   "metadata": {},
   "outputs": [
    {
     "data": {
      "image/png": "[encoded data removed]",
      "text/plain": [
       "<IPython.core.display.Image object>"
      ]
     },
     "metadata": {},
     "output_type": "display_data"
    },
    {
     "name": "stdout",
     "output_type": "stream",
     "text": [
      "\n",
      "\u001b[92m🚀 Passing Through [node_1] ..\u001b[0m\n",
      "\n",
      "\u001b[91m#### [Input State]\u001b[0m\n",
      "  args: (PydanticState(name='changwoo', mood='sad'),)\n",
      "  kwargs: {}\n",
      "\n",
      "\u001b[94m#### [Output State]\u001b[0m\n",
      "  result: {'name': 'changwoo is'}\n",
      "\n",
      "\u001b[92m🚀 Passing Through [decide_mood] ..\u001b[0m\n",
      "\n",
      "\u001b[91m#### [Input State]\u001b[0m\n",
      "  args: (PydanticState(name='changwoo is', mood='sad'),)\n",
      "  kwargs: {}\n",
      "\n",
      "\u001b[94m#### [Output State]\u001b[0m\n",
      "  result: node_3\n",
      "\n",
      "\u001b[92m🚀 Passing Through [node_3] ..\u001b[0m\n",
      "\n",
      "\u001b[91m#### [Input State]\u001b[0m\n",
      "  args: (PydanticState(name='changwoo is', mood='sad'),)\n",
      "  kwargs: {}\n",
      "\n",
      "\u001b[94m#### [Output State]\u001b[0m\n",
      "  result: name='changwoo is' mood='sad'\n"
     ]
    },
    {
     "data": {
      "text/plain": [
       "{'name': 'changwoo is', 'mood': 'sad'}"
      ]
     },
     "execution_count": 3,
     "metadata": {},
     "output_type": "execute_result"
    }
   ],
   "source": [
    "class PydanticState(BaseModel):\n",
    "    name: str\n",
    "    mood: str\n",
    "\n",
    "    @field_validator('mood')\n",
    "    @classmethod\n",
    "    def validate_mood(cls, value):\n",
    "        if value not in [\"happy\", \"sad\"]:\n",
    "            raise ValueError(\"Each mood must be either 'happy' or 'sad'\")\n",
    "        return value\n",
    "    \n",
    "@trace_function(enable_print=True)\n",
    "def node_1(state):\n",
    "    return {\"name\": state.name + \" is\"}\n",
    "\n",
    "@trace_function(enable_print=True)\n",
    "def node_2(state):\n",
    "    state.mood = \"happy\"\n",
    "    return state\n",
    "\n",
    "@trace_function(enable_print=True)\n",
    "def node_3(state):\n",
    "    state.mood = \"sad\"\n",
    "    return state\n",
    "\n",
    "@trace_function(enable_print=True)\n",
    "def decide_mood(state) -> Literal[\"node_2\", \"node_3\"]:\n",
    "    if random.random() < 0.5:\n",
    "        return \"node_2\"\n",
    "    return \"node_3\"\n",
    "\n",
    "builder = StateGraph(PydanticState)\n",
    "builder.add_node(\"node_1\", node_1)\n",
    "builder.add_node(\"node_2\", node_2)\n",
    "builder.add_node(\"node_3\", node_3)\n",
    "builder.add_edge(START, \"node_1\")\n",
    "builder.add_conditional_edges(\"node_1\", decide_mood)\n",
    "builder.add_edge(\"node_2\", END)\n",
    "builder.add_edge(\"node_3\", END)\n",
    "graph = builder.compile()\n",
    "display(Image(graph.get_graph().draw_mermaid_png()))\n",
    "graph.invoke(PydanticState(name=\"changwoo\", mood=\"sad\"))"
   ]
  },
  {
   "cell_type": "markdown",
   "metadata": {},
   "source": [
    "Multiple Schema"
   ]
  },
  {
   "cell_type": "code",
   "execution_count": 4,
   "metadata": {},
   "outputs": [
    {
     "data": {
      "image/png": "[encoded data removed]",
      "text/plain": [
       "<IPython.core.display.Image object>"
      ]
     },
     "metadata": {},
     "output_type": "display_data"
    },
    {
     "name": "stdout",
     "output_type": "stream",
     "text": [
      "\n",
      "\u001b[92m🚀 Passing Through [thinking_node] ..\u001b[0m\n",
      "\n",
      "\u001b[91m#### [Input State]\u001b[0m\n",
      "  args: ({'question': 'How much is it?'},)\n",
      "  kwargs: {}\n",
      "\n",
      "\u001b[94m#### [Output State]\u001b[0m\n",
      "  result: {'answer': '', 'notes': 'he will pay with credit card'}\n",
      "\n",
      "\u001b[92m🚀 Passing Through [answer_node] ..\u001b[0m\n",
      "\n",
      "\u001b[91m#### [Input State]\u001b[0m\n",
      "  args: ({'question': 'How much is it?', 'answer': '', 'notes': 'he will pay with credit card'},)\n",
      "  kwargs: {}\n",
      "\n",
      "\u001b[94m#### [Output State]\u001b[0m\n",
      "  result: {'answer': 'If you pay with credit card, it will be 2 dollars'}\n"
     ]
    },
    {
     "data": {
      "text/plain": [
       "{'answer': 'If you pay with credit card, it will be 2 dollars'}"
      ]
     },
     "execution_count": 4,
     "metadata": {},
     "output_type": "execute_result"
    }
   ],
   "source": [
    "class InputState(TypedDict):\n",
    "    question: str # get only question key\n",
    "\n",
    "class OutputState(TypedDict):\n",
    "    answer: str # get only answer key\n",
    "\n",
    "class OverallState(TypedDict):\n",
    "    question: str\n",
    "    answer: str\n",
    "    notes: str\n",
    "\n",
    "@trace_function(enable_print=True)\n",
    "def thinking_node(state: InputState):\n",
    "    return {\"answer\": \"\", \"notes\": \"he will pay with credit card\"}\n",
    "\n",
    "@trace_function(enable_print=True)\n",
    "def answer_node(state: OverallState) -> OutputState:\n",
    "    return {\"answer\": \"If you pay with credit card, it will be 2 dollars\"}\n",
    "\n",
    "graph = StateGraph(OverallState, input=InputState, output=OutputState)\n",
    "graph.add_node(\"answer_node\", answer_node)\n",
    "graph.add_node(\"thinking_node\", thinking_node)\n",
    "graph.add_edge(START, \"thinking_node\")\n",
    "graph.add_edge(\"thinking_node\", \"answer_node\")\n",
    "graph.add_edge(\"answer_node\", END)\n",
    "graph = graph.compile()\n",
    "display(Image(graph.get_graph().draw_mermaid_png()))\n",
    "graph.invoke({\"question\":\"How much is it?\",\"note\":\"he is changwoo\"}) "
   ]
  }
 ],
 "metadata": {
  "kernelspec": {
   "display_name": "langchain",
   "language": "python",
   "name": "langchain"
  },
  "language_info": {
   "codemirror_mode": {
    "name": "ipython",
    "version": 3
   },
   "file_extension": ".py",
   "mimetype": "text/x-python",
   "name": "python",
   "nbconvert_exporter": "python",
   "pygments_lexer": "ipython3",
   "version": "3.11.11"
  }
 },
 "nbformat": 4,
 "nbformat_minor": 2
}
