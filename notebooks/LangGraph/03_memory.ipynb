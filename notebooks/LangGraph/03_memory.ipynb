{
 "cells": [
  {
   "cell_type": "code",
   "execution_count": 1,
   "metadata": {},
   "outputs": [],
   "source": [
    "from modules.base import *"
   ]
  },
  {
   "cell_type": "markdown",
   "metadata": {},
   "source": [
    "#### 1. 메모리 사용하기\n",
    "- 메모리 종류는 2가지\n",
    "\n",
    "- short term memory : 동일 thread 내에서 메모리 공유    \n",
    "    - 사용 라이브러리 : `from langgraph.checkpoint.memory import MemorySaver`\n",
    "    - build compile 시 checkpointer 인자로 사용\n",
    "    \n",
    "- long term memory : 동일 사용자 내에서 메모리 공유\n",
    "    - 사용 라이브러리 : `from langgraph.store.memory import InMemoryStore`\n",
    "    - 구조는 [namespace(directory, userid) -> key -> value]\n",
    "    - build compile 시 store 인자로 사용\n",
    "\n",
    "- 참고링크\n",
    "    - https://langchain-ai.github.io/langgraph/concepts/memory/#storing-memories\n",
    "    - https://blog.langchain.dev/semantic-search-for-langgraph-memory/ (Semantic Search)"
   ]
  },
  {
   "cell_type": "markdown",
   "metadata": {},
   "source": [
    "#### ShortTerm 테스트"
   ]
  },
  {
   "cell_type": "code",
   "execution_count": 3,
   "metadata": {},
   "outputs": [],
   "source": [
    "@trace_function\n",
    "def node_answer(state:MessagesState)->MessagesState:\n",
    "    return {\"messages\": [llm.invoke(state[\"messages\"])]}\n",
    "builder = StateGraph(MessagesState)\n",
    "builder.add_node(\"node_answer\", node_answer)\n",
    "builder.add_edge(START, \"node_answer\")\n",
    "builder.add_edge(\"node_answer\", END)\n",
    "graph = builder.compile(checkpointer=ShortTermMemory)\n",
    "\n",
    "config = {\"configurable\": {\"thread_id\": \"initial_chat\", \n",
    "                           \"user_id\": \"changwoo\"}}"
   ]
  },
  {
   "cell_type": "code",
   "execution_count": 4,
   "metadata": {},
   "outputs": [
    {
     "name": "stdout",
     "output_type": "stream",
     "text": [
      "\n",
      "\u001b[92m🚀 Passing Through [node_answer] ..\u001b[0m\n",
      "\n",
      "\u001b[91m#### [Input State]\u001b[0m\n",
      "  args: ({'messages': [HumanMessage(content='안녕 나는 창우라고해', additional_kwargs={}, response_metadata={}, id='6be8b76d-5170-423e-a361-d1d31f0ebf8a')]},)\n",
      "  kwargs: {}\n",
      "\n",
      "\u001b[94m#### [Output State]\u001b[0m\n",
      "  result: {'messages': [AIMessage(content='안녕하세요, 창우님! 만나서 반갑습니다. 오늘 어떻게 도와드릴까요?', additional_kwargs={'refusal': None}, response_metadata={'token_usage': {'completion_tokens': 22, 'prompt_tokens': 14, 'total_tokens': 36, 'completion_tokens_details': {'accepted_prediction_tokens': 0, 'audio_tokens': 0, 'reasoning_tokens': 0, 'rejected_prediction_tokens': 0}, 'prompt_tokens_details': {'audio_tokens': 0, 'cached_tokens': 0}}, 'model_name': 'gpt-4o-2024-08-06', 'system_fingerprint': 'fp_d28bcae782', 'finish_reason': 'stop', 'logprobs': None}, id='run-1d679df0-3bc0-470c-b48d-3010fb1c72ab-0', usage_metadata={'input_tokens': 14, 'output_tokens': 22, 'total_tokens': 36, 'input_token_details': {'audio': 0, 'cache_read': 0}, 'output_token_details': {'audio': 0, 'reasoning': 0}})]}\n"
     ]
    },
    {
     "data": {
      "text/plain": [
       "{'messages': [HumanMessage(content='안녕 나는 창우라고해', additional_kwargs={}, response_metadata={}, id='6be8b76d-5170-423e-a361-d1d31f0ebf8a'),\n",
       "  AIMessage(content='안녕하세요, 창우님! 만나서 반갑습니다. 오늘 어떻게 도와드릴까요?', additional_kwargs={'refusal': None}, response_metadata={'token_usage': {'completion_tokens': 22, 'prompt_tokens': 14, 'total_tokens': 36, 'completion_tokens_details': {'accepted_prediction_tokens': 0, 'audio_tokens': 0, 'reasoning_tokens': 0, 'rejected_prediction_tokens': 0}, 'prompt_tokens_details': {'audio_tokens': 0, 'cached_tokens': 0}}, 'model_name': 'gpt-4o-2024-08-06', 'system_fingerprint': 'fp_d28bcae782', 'finish_reason': 'stop', 'logprobs': None}, id='run-1d679df0-3bc0-470c-b48d-3010fb1c72ab-0', usage_metadata={'input_tokens': 14, 'output_tokens': 22, 'total_tokens': 36, 'input_token_details': {'audio': 0, 'cache_read': 0}, 'output_token_details': {'audio': 0, 'reasoning': 0}})]}"
      ]
     },
     "execution_count": 4,
     "metadata": {},
     "output_type": "execute_result"
    }
   ],
   "source": [
    "graph.invoke({\"messages\":\"안녕 나는 창우라고해\"}, config)"
   ]
  },
  {
   "cell_type": "code",
   "execution_count": 5,
   "metadata": {},
   "outputs": [
    {
     "name": "stdout",
     "output_type": "stream",
     "text": [
      "\n",
      "\u001b[92m🚀 Passing Through [node_answer] ..\u001b[0m\n",
      "\n",
      "\u001b[91m#### [Input State]\u001b[0m\n",
      "  args: ({'messages': [HumanMessage(content='안녕 나는 창우라고해', additional_kwargs={}, response_metadata={}, id='6be8b76d-5170-423e-a361-d1d31f0ebf8a'), AIMessage(content='안녕하세요, 창우님! 만나서 반갑습니다. 오늘 어떻게 도와드릴까요?', additional_kwargs={'refusal': None}, response_metadata={'token_usage': {'completion_tokens': 22, 'prompt_tokens': 14, 'total_tokens': 36, 'completion_tokens_details': {'accepted_prediction_tokens': 0, 'audio_tokens': 0, 'reasoning_tokens': 0, 'rejected_prediction_tokens': 0}, 'prompt_tokens_details': {'audio_tokens': 0, 'cached_tokens': 0}}, 'model_name': 'gpt-4o-2024-08-06', 'system_fingerprint': 'fp_d28bcae782', 'finish_reason': 'stop', 'logprobs': None}, id='run-1d679df0-3bc0-470c-b48d-3010fb1c72ab-0', usage_metadata={'input_tokens': 14, 'output_tokens': 22, 'total_tokens': 36, 'input_token_details': {'audio': 0, 'cache_read': 0}, 'output_token_details': {'audio': 0, 'reasoning': 0}}), HumanMessage(content='내 이름이 뭐라고?', additional_kwargs={}, response_metadata={}, id='da06a4d5-0b7c-4756-a339-491815859884')]},)\n",
      "  kwargs: {}\n",
      "\n",
      "\u001b[94m#### [Output State]\u001b[0m\n",
      "  result: {'messages': [AIMessage(content='당신의 이름은 창우라고 하셨습니다. 맞나요?', additional_kwargs={'refusal': None}, response_metadata={'token_usage': {'completion_tokens': 16, 'prompt_tokens': 49, 'total_tokens': 65, 'completion_tokens_details': {'accepted_prediction_tokens': 0, 'audio_tokens': 0, 'reasoning_tokens': 0, 'rejected_prediction_tokens': 0}, 'prompt_tokens_details': {'audio_tokens': 0, 'cached_tokens': 0}}, 'model_name': 'gpt-4o-2024-08-06', 'system_fingerprint': 'fp_d28bcae782', 'finish_reason': 'stop', 'logprobs': None}, id='run-a1e524e6-b0bf-4d69-bd66-74571d9bfdb2-0', usage_metadata={'input_tokens': 49, 'output_tokens': 16, 'total_tokens': 65, 'input_token_details': {'audio': 0, 'cache_read': 0}, 'output_token_details': {'audio': 0, 'reasoning': 0}})]}\n"
     ]
    },
    {
     "data": {
      "text/plain": [
       "{'messages': [HumanMessage(content='안녕 나는 창우라고해', additional_kwargs={}, response_metadata={}, id='6be8b76d-5170-423e-a361-d1d31f0ebf8a'),\n",
       "  AIMessage(content='안녕하세요, 창우님! 만나서 반갑습니다. 오늘 어떻게 도와드릴까요?', additional_kwargs={'refusal': None}, response_metadata={'token_usage': {'completion_tokens': 22, 'prompt_tokens': 14, 'total_tokens': 36, 'completion_tokens_details': {'accepted_prediction_tokens': 0, 'audio_tokens': 0, 'reasoning_tokens': 0, 'rejected_prediction_tokens': 0}, 'prompt_tokens_details': {'audio_tokens': 0, 'cached_tokens': 0}}, 'model_name': 'gpt-4o-2024-08-06', 'system_fingerprint': 'fp_d28bcae782', 'finish_reason': 'stop', 'logprobs': None}, id='run-1d679df0-3bc0-470c-b48d-3010fb1c72ab-0', usage_metadata={'input_tokens': 14, 'output_tokens': 22, 'total_tokens': 36, 'input_token_details': {'audio': 0, 'cache_read': 0}, 'output_token_details': {'audio': 0, 'reasoning': 0}}),\n",
       "  HumanMessage(content='내 이름이 뭐라고?', additional_kwargs={}, response_metadata={}, id='da06a4d5-0b7c-4756-a339-491815859884'),\n",
       "  AIMessage(content='당신의 이름은 창우라고 하셨습니다. 맞나요?', additional_kwargs={'refusal': None}, response_metadata={'token_usage': {'completion_tokens': 16, 'prompt_tokens': 49, 'total_tokens': 65, 'completion_tokens_details': {'accepted_prediction_tokens': 0, 'audio_tokens': 0, 'reasoning_tokens': 0, 'rejected_prediction_tokens': 0}, 'prompt_tokens_details': {'audio_tokens': 0, 'cached_tokens': 0}}, 'model_name': 'gpt-4o-2024-08-06', 'system_fingerprint': 'fp_d28bcae782', 'finish_reason': 'stop', 'logprobs': None}, id='run-a1e524e6-b0bf-4d69-bd66-74571d9bfdb2-0', usage_metadata={'input_tokens': 49, 'output_tokens': 16, 'total_tokens': 65, 'input_token_details': {'audio': 0, 'cache_read': 0}, 'output_token_details': {'audio': 0, 'reasoning': 0}})]}"
      ]
     },
     "execution_count": 5,
     "metadata": {},
     "output_type": "execute_result"
    }
   ],
   "source": [
    "graph.invoke({\"messages\":\"내 이름이 뭐라고?\"}, config)"
   ]
  },
  {
   "cell_type": "markdown",
   "metadata": {},
   "source": [
    "#### LongTerm 테스트"
   ]
  },
  {
   "cell_type": "markdown",
   "metadata": {},
   "source": [
    "단순 테스트"
   ]
  },
  {
   "cell_type": "code",
   "execution_count": 2,
   "metadata": {},
   "outputs": [
    {
     "name": "stdout",
     "output_type": "stream",
     "text": [
      "{'나이': '29', '전공': 'Computer Engineering', '취미': 'working out', '좋아하는 음식': 'pork'}\n",
      "{'나이': '29', '전공': 'Computer Engineering', '취미': 'working out', '좋아하는 음식': 'pork'}\n"
     ]
    }
   ],
   "source": [
    "directory = \"memories\"\n",
    "userid = \"changwoo\"\n",
    "key = \"chat_user_memory\"\n",
    "value = {\"나이\" : \"29\", \n",
    "         \"전공\": \"Computer Engineering\",\n",
    "         \"취미\": \"working out\",\n",
    "         \"좋아하는 음식\": \"pork\"}\n",
    "\n",
    "# 값 넣기\n",
    "LongTermMemory.put(namespace=(directory, userid),\n",
    "                   key=key,  \n",
    "                   value=value)\n",
    "\n",
    "# 값 가져오기 (1) - search 함수 사용 (리턴타입 : list)\n",
    "memory = LongTermMemory.search((directory, userid))\n",
    "print(memory[0].dict()['value'])\n",
    "\n",
    "\n",
    "# 값 가져오기 (2) - get 함수 사용 (리턴타입 : dict)\n",
    "memory = LongTermMemory.get((directory, userid),key)\n",
    "print(memory.dict()['value'])"
   ]
  },
  {
   "cell_type": "markdown",
   "metadata": {},
   "source": [
    "그래프를 활용한 테스트"
   ]
  },
  {
   "cell_type": "code",
   "execution_count": 2,
   "metadata": {},
   "outputs": [],
   "source": [
    "prompt_config = ConfigDict()\n",
    "prompt_config.answer_prompt = \"\"\"당신은 사용자의 정보를 기억하고, 이를 활용해 개인화된 정보를 제공하는 유용한 조력자입니다. \n",
    "사용자에 대한 기억이 있다면 이를 사용해 응답을 맞춤화하세요.\n",
    "다음은 사용자의 기억입니다 (비어 있을 수도 있습니다): {memory}\"\"\"\n",
    "\n",
    "prompt_config.create_memory_prompt =\"\"\"당신은 사용자의 응답을 개인화하기 위해 사용자에 대한 정보를 수집하고 있습니다.\n",
    "\n",
    "현재 사용자 정보:\n",
    "{memory}\n",
    "\n",
    "지침:\n",
    "1. 아래의 채팅 기록을 주의 깊게 검토하세요.\n",
    "2. 사용자에 대한 새로운 정보를 식별하세요. 예를 들면:\n",
    "   - 개인 정보 (이름, 위치 등)\n",
    "   - 선호 사항 (좋아하는 것, 싫어하는 것 등)\n",
    "   - 관심사와 취미\n",
    "   - 과거 경험\n",
    "   - 목표나 미래 계획\n",
    "3. 새로운 정보를 기존 메모리와 병합하세요.\n",
    "4. 메모리는 명확한 불릿 리스트 형식으로 작성하세요.\n",
    "5. 새로운 정보가 기존 메모리와 충돌할 경우, 가장 최근 정보를 유지하세요.\n",
    "\n",
    "기억하세요: 사용자가 직접적으로 언급한 사실적인 정보만 포함해야 합니다. 추측이나 추론을 하지 마세요.\n",
    "\n",
    "아래의 채팅 기록을 바탕으로 사용자 정보를 업데이트하세요:\"\"\"\n",
    "\n",
    "@trace_function(enable_print=False)\n",
    "def get_memory(namespace, \n",
    "               key,\n",
    "               store:BaseStore):\n",
    "    \"\"\"\n",
    "        Des:\n",
    "            현재 저장된 사용자 정보를 가져오는 함수\n",
    "    \"\"\"\n",
    "    existing_memory = store.get(namespace=namespace,\n",
    "                                key=key)\n",
    "    return existing_memory.value.get('memory') if existing_memory else \"현재 저장된 사용자 정보가 없습니다.\"\n",
    "    \n",
    "\n",
    "@trace_function(enable_print=False)\n",
    "def Node_get_response(state: MessagesState, \n",
    "                      config: RunnableConfig, \n",
    "                      store: BaseStore):\n",
    "    \"\"\"\n",
    "        Des:\n",
    "            답변 생성 노드\n",
    "    \"\"\"\n",
    "    namespace = (\"memories\", config[\"configurable\"][\"user_id\"])\n",
    "    key = \"chat_user_memory\"\n",
    "    existing_memory_content = get_memory(namespace=namespace, \n",
    "                                         key=key, \n",
    "                                         store=store)\n",
    "    system_message = prompt_config.answer_prompt.format(memory=existing_memory_content)\n",
    "    prompt = [SystemMessage(content=system_message)]+state[\"messages\"]\n",
    "    response = llm.invoke(prompt)\n",
    "    return {\"messages\":response}\n",
    "\n",
    "@trace_function(enable_print=False)\n",
    "def Node_write_memory(state: MessagesState, \n",
    "                      config: RunnableConfig, \n",
    "                      store: BaseStore):\n",
    "    \"\"\"\n",
    "        Des:\n",
    "            사용자 메시지를 인식하고, 개인정보로 저장하는 노드\n",
    "    \"\"\"\n",
    "    namespace = (\"memories\", config[\"configurable\"][\"user_id\"])\n",
    "    key = \"chat_user_memory\"\n",
    "    existing_memory_content = get_memory(namespace=namespace, \n",
    "                                         key=key, \n",
    "                                         store=store)\n",
    "    system_message = prompt_config.create_memory_prompt.format(memory=existing_memory_content)\n",
    "    prompt = [SystemMessage(content=system_message)]+state[\"messages\"]\n",
    "    response = llm.invoke(prompt)\n",
    "    store.put(namespace=namespace, \n",
    "              key=key, \n",
    "              value={\"memory\":response.content})\n",
    "    \n",
    "builder = StateGraph(MessagesState)\n",
    "builder.add_node(\"Node_get_response\", Node_get_response)\n",
    "builder.add_node(\"Node_write_memory\", Node_write_memory)\n",
    "builder.add_edge(START, \"Node_get_response\")\n",
    "builder.add_edge(\"Node_get_response\", \"Node_write_memory\")\n",
    "builder.add_edge(\"Node_write_memory\", END)\n",
    "graph = builder.compile(checkpointer=ShortTermMemory,\n",
    "                        store=LongTermMemory)\n",
    "\n",
    "config = {\"configurable\": {\"thread_id\": \"second_chat\", \n",
    "                           \"user_id\": \"changwoo\"}}"
   ]
  },
  {
   "cell_type": "code",
   "execution_count": 3,
   "metadata": {},
   "outputs": [
    {
     "data": {
      "text/plain": [
       "{'messages': [HumanMessage(content='안녕 나는 창우라고해', additional_kwargs={}, response_metadata={}, id='3d30f693-16a2-43d3-857a-df1af004a1a1'),\n",
       "  AIMessage(content='안녕하세요, 창우님! 만나서 반갑습니다. 어떻게 도와드릴까요?', additional_kwargs={'refusal': None}, response_metadata={'token_usage': {'completion_tokens': 21, 'prompt_tokens': 86, 'total_tokens': 107, 'completion_tokens_details': {'accepted_prediction_tokens': 0, 'audio_tokens': 0, 'reasoning_tokens': 0, 'rejected_prediction_tokens': 0}, 'prompt_tokens_details': {'audio_tokens': 0, 'cached_tokens': 0}}, 'model_name': 'gpt-4o-2024-08-06', 'system_fingerprint': 'fp_b7d65f1a5b', 'finish_reason': 'stop', 'logprobs': None}, id='run-98aacc6e-f38e-4cdf-82d0-3d86993664e6-0', usage_metadata={'input_tokens': 86, 'output_tokens': 21, 'total_tokens': 107, 'input_token_details': {'audio': 0, 'cache_read': 0}, 'output_token_details': {'audio': 0, 'reasoning': 0}})]}"
      ]
     },
     "execution_count": 3,
     "metadata": {},
     "output_type": "execute_result"
    }
   ],
   "source": [
    "graph.invoke({\"messages\":\"안녕 나는 창우라고해\"}, \n",
    "             config=config)"
   ]
  },
  {
   "cell_type": "code",
   "execution_count": 4,
   "metadata": {},
   "outputs": [
    {
     "data": {
      "text/plain": [
       "{'messages': [HumanMessage(content='안녕 나는 창우라고해', additional_kwargs={}, response_metadata={}, id='3d30f693-16a2-43d3-857a-df1af004a1a1'),\n",
       "  AIMessage(content='안녕하세요, 창우님! 만나서 반갑습니다. 어떻게 도와드릴까요?', additional_kwargs={'refusal': None}, response_metadata={'token_usage': {'completion_tokens': 21, 'prompt_tokens': 86, 'total_tokens': 107, 'completion_tokens_details': {'accepted_prediction_tokens': 0, 'audio_tokens': 0, 'reasoning_tokens': 0, 'rejected_prediction_tokens': 0}, 'prompt_tokens_details': {'audio_tokens': 0, 'cached_tokens': 0}}, 'model_name': 'gpt-4o-2024-08-06', 'system_fingerprint': 'fp_b7d65f1a5b', 'finish_reason': 'stop', 'logprobs': None}, id='run-98aacc6e-f38e-4cdf-82d0-3d86993664e6-0', usage_metadata={'input_tokens': 86, 'output_tokens': 21, 'total_tokens': 107, 'input_token_details': {'audio': 0, 'cache_read': 0}, 'output_token_details': {'audio': 0, 'reasoning': 0}}),\n",
       "  HumanMessage(content='나는 올해 30살이고, 현재 부산대학교에서 박사과정을 하고있어.', additional_kwargs={}, response_metadata={}, id='edb20c34-6204-4efa-89b5-b6ffeceeae3a'),\n",
       "  AIMessage(content='오, 창우님! 부산대학교에서 박사과정을 하고 계시군요. 정말 멋지세요! 전공 분야가 어떻게 되시나요? 박사과정에서 어떤 연구를 하고 있는지 궁금하네요.', additional_kwargs={'refusal': None}, response_metadata={'token_usage': {'completion_tokens': 51, 'prompt_tokens': 134, 'total_tokens': 185, 'completion_tokens_details': {'accepted_prediction_tokens': 0, 'audio_tokens': 0, 'reasoning_tokens': 0, 'rejected_prediction_tokens': 0}, 'prompt_tokens_details': {'audio_tokens': 0, 'cached_tokens': 0}}, 'model_name': 'gpt-4o-2024-08-06', 'system_fingerprint': 'fp_d28bcae782', 'finish_reason': 'stop', 'logprobs': None}, id='run-705987ad-6fe1-44d3-97b2-0ba0f9dc7898-0', usage_metadata={'input_tokens': 134, 'output_tokens': 51, 'total_tokens': 185, 'input_token_details': {'audio': 0, 'cache_read': 0}, 'output_token_details': {'audio': 0, 'reasoning': 0}})]}"
      ]
     },
     "execution_count": 4,
     "metadata": {},
     "output_type": "execute_result"
    }
   ],
   "source": [
    "graph.invoke({\"messages\":\"나는 올해 30살이고, 현재 부산대학교에서 박사과정을 하고있어.\"}, config)"
   ]
  },
  {
   "cell_type": "code",
   "execution_count": 5,
   "metadata": {},
   "outputs": [
    {
     "data": {
      "text/plain": [
       "{'messages': [HumanMessage(content='안녕 나는 창우라고해', additional_kwargs={}, response_metadata={}, id='3d30f693-16a2-43d3-857a-df1af004a1a1'),\n",
       "  AIMessage(content='안녕하세요, 창우님! 만나서 반갑습니다. 어떻게 도와드릴까요?', additional_kwargs={'refusal': None}, response_metadata={'token_usage': {'completion_tokens': 21, 'prompt_tokens': 86, 'total_tokens': 107, 'completion_tokens_details': {'accepted_prediction_tokens': 0, 'audio_tokens': 0, 'reasoning_tokens': 0, 'rejected_prediction_tokens': 0}, 'prompt_tokens_details': {'audio_tokens': 0, 'cached_tokens': 0}}, 'model_name': 'gpt-4o-2024-08-06', 'system_fingerprint': 'fp_b7d65f1a5b', 'finish_reason': 'stop', 'logprobs': None}, id='run-98aacc6e-f38e-4cdf-82d0-3d86993664e6-0', usage_metadata={'input_tokens': 86, 'output_tokens': 21, 'total_tokens': 107, 'input_token_details': {'audio': 0, 'cache_read': 0}, 'output_token_details': {'audio': 0, 'reasoning': 0}}),\n",
       "  HumanMessage(content='나는 올해 30살이고, 현재 부산대학교에서 박사과정을 하고있어.', additional_kwargs={}, response_metadata={}, id='edb20c34-6204-4efa-89b5-b6ffeceeae3a'),\n",
       "  AIMessage(content='오, 창우님! 부산대학교에서 박사과정을 하고 계시군요. 정말 멋지세요! 전공 분야가 어떻게 되시나요? 박사과정에서 어떤 연구를 하고 있는지 궁금하네요.', additional_kwargs={'refusal': None}, response_metadata={'token_usage': {'completion_tokens': 51, 'prompt_tokens': 134, 'total_tokens': 185, 'completion_tokens_details': {'accepted_prediction_tokens': 0, 'audio_tokens': 0, 'reasoning_tokens': 0, 'rejected_prediction_tokens': 0}, 'prompt_tokens_details': {'audio_tokens': 0, 'cached_tokens': 0}}, 'model_name': 'gpt-4o-2024-08-06', 'system_fingerprint': 'fp_d28bcae782', 'finish_reason': 'stop', 'logprobs': None}, id='run-705987ad-6fe1-44d3-97b2-0ba0f9dc7898-0', usage_metadata={'input_tokens': 134, 'output_tokens': 51, 'total_tokens': 185, 'input_token_details': {'audio': 0, 'cache_read': 0}, 'output_token_details': {'audio': 0, 'reasoning': 0}}),\n",
       "  HumanMessage(content='내 취미는 헬스장에서 운동하는거고, 돼지고기를 제일좋아해', additional_kwargs={}, response_metadata={}, id='912d0ad6-6b6a-47ba-8f71-0ca21ce7980d'),\n",
       "  AIMessage(content='헬스장에서 운동하는 것을 좋아하시는군요! 건강을 잘 챙기시는 것 같아 좋네요. 그리고 돼지고기를 좋아하신다고 하셨으니, 혹시 삼겹살 같은 요리를 즐기시나요? 맛있는 음식과 운동의 조합이라니 멋지네요!', additional_kwargs={'refusal': None}, response_metadata={'token_usage': {'completion_tokens': 70, 'prompt_tokens': 239, 'total_tokens': 309, 'completion_tokens_details': {'accepted_prediction_tokens': 0, 'audio_tokens': 0, 'reasoning_tokens': 0, 'rejected_prediction_tokens': 0}, 'prompt_tokens_details': {'audio_tokens': 0, 'cached_tokens': 0}}, 'model_name': 'gpt-4o-2024-08-06', 'system_fingerprint': 'fp_b7d65f1a5b', 'finish_reason': 'stop', 'logprobs': None}, id='run-04d7f469-305a-4f23-8113-726b29e897a6-0', usage_metadata={'input_tokens': 239, 'output_tokens': 70, 'total_tokens': 309, 'input_token_details': {'audio': 0, 'cache_read': 0}, 'output_token_details': {'audio': 0, 'reasoning': 0}})]}"
      ]
     },
     "execution_count": 5,
     "metadata": {},
     "output_type": "execute_result"
    }
   ],
   "source": [
    "graph.invoke({\"messages\":\"내 취미는 헬스장에서 운동하는거고, 돼지고기를 제일좋아해\"}, config)"
   ]
  },
  {
   "cell_type": "code",
   "execution_count": 6,
   "metadata": {},
   "outputs": [
    {
     "data": {
      "text/plain": [
       "{'messages': [HumanMessage(content='안녕 나는 창우라고해', additional_kwargs={}, response_metadata={}, id='3d30f693-16a2-43d3-857a-df1af004a1a1'),\n",
       "  AIMessage(content='안녕하세요, 창우님! 만나서 반갑습니다. 어떻게 도와드릴까요?', additional_kwargs={'refusal': None}, response_metadata={'token_usage': {'completion_tokens': 21, 'prompt_tokens': 86, 'total_tokens': 107, 'completion_tokens_details': {'accepted_prediction_tokens': 0, 'audio_tokens': 0, 'reasoning_tokens': 0, 'rejected_prediction_tokens': 0}, 'prompt_tokens_details': {'audio_tokens': 0, 'cached_tokens': 0}}, 'model_name': 'gpt-4o-2024-08-06', 'system_fingerprint': 'fp_b7d65f1a5b', 'finish_reason': 'stop', 'logprobs': None}, id='run-98aacc6e-f38e-4cdf-82d0-3d86993664e6-0', usage_metadata={'input_tokens': 86, 'output_tokens': 21, 'total_tokens': 107, 'input_token_details': {'audio': 0, 'cache_read': 0}, 'output_token_details': {'audio': 0, 'reasoning': 0}}),\n",
       "  HumanMessage(content='나는 올해 30살이고, 현재 부산대학교에서 박사과정을 하고있어.', additional_kwargs={}, response_metadata={}, id='edb20c34-6204-4efa-89b5-b6ffeceeae3a'),\n",
       "  AIMessage(content='오, 창우님! 부산대학교에서 박사과정을 하고 계시군요. 정말 멋지세요! 전공 분야가 어떻게 되시나요? 박사과정에서 어떤 연구를 하고 있는지 궁금하네요.', additional_kwargs={'refusal': None}, response_metadata={'token_usage': {'completion_tokens': 51, 'prompt_tokens': 134, 'total_tokens': 185, 'completion_tokens_details': {'accepted_prediction_tokens': 0, 'audio_tokens': 0, 'reasoning_tokens': 0, 'rejected_prediction_tokens': 0}, 'prompt_tokens_details': {'audio_tokens': 0, 'cached_tokens': 0}}, 'model_name': 'gpt-4o-2024-08-06', 'system_fingerprint': 'fp_d28bcae782', 'finish_reason': 'stop', 'logprobs': None}, id='run-705987ad-6fe1-44d3-97b2-0ba0f9dc7898-0', usage_metadata={'input_tokens': 134, 'output_tokens': 51, 'total_tokens': 185, 'input_token_details': {'audio': 0, 'cache_read': 0}, 'output_token_details': {'audio': 0, 'reasoning': 0}}),\n",
       "  HumanMessage(content='내 취미는 헬스장에서 운동하는거고, 돼지고기를 제일좋아해', additional_kwargs={}, response_metadata={}, id='912d0ad6-6b6a-47ba-8f71-0ca21ce7980d'),\n",
       "  AIMessage(content='헬스장에서 운동하는 것을 좋아하시는군요! 건강을 잘 챙기시는 것 같아 좋네요. 그리고 돼지고기를 좋아하신다고 하셨으니, 혹시 삼겹살 같은 요리를 즐기시나요? 맛있는 음식과 운동의 조합이라니 멋지네요!', additional_kwargs={'refusal': None}, response_metadata={'token_usage': {'completion_tokens': 70, 'prompt_tokens': 239, 'total_tokens': 309, 'completion_tokens_details': {'accepted_prediction_tokens': 0, 'audio_tokens': 0, 'reasoning_tokens': 0, 'rejected_prediction_tokens': 0}, 'prompt_tokens_details': {'audio_tokens': 0, 'cached_tokens': 0}}, 'model_name': 'gpt-4o-2024-08-06', 'system_fingerprint': 'fp_b7d65f1a5b', 'finish_reason': 'stop', 'logprobs': None}, id='run-04d7f469-305a-4f23-8113-726b29e897a6-0', usage_metadata={'input_tokens': 239, 'output_tokens': 70, 'total_tokens': 309, 'input_token_details': {'audio': 0, 'cache_read': 0}, 'output_token_details': {'audio': 0, 'reasoning': 0}}),\n",
       "  HumanMessage(content='나에 대해서 알고있는게 있어?', additional_kwargs={}, response_metadata={}, id='d681c693-ad25-4d3f-8e31-1e57f0f3377c'),\n",
       "  AIMessage(content='물론이죠, 창우님! 창우님은 30살이고, 부산대학교에서 박사과정을 하고 계시며, 취미는 헬스장에서 운동하는 것이고, 돼지고기를 좋아하신다고 하셨습니다. 혹시 더 추가하고 싶은 정보가 있거나 다른 질문이 있으시면 언제든지 말씀해 주세요!', additional_kwargs={'refusal': None}, response_metadata={'token_usage': {'completion_tokens': 77, 'prompt_tokens': 335, 'total_tokens': 412, 'completion_tokens_details': {'accepted_prediction_tokens': 0, 'audio_tokens': 0, 'reasoning_tokens': 0, 'rejected_prediction_tokens': 0}, 'prompt_tokens_details': {'audio_tokens': 0, 'cached_tokens': 0}}, 'model_name': 'gpt-4o-2024-08-06', 'system_fingerprint': 'fp_b7d65f1a5b', 'finish_reason': 'stop', 'logprobs': None}, id='run-94192bdd-748d-4f0c-b49e-cc08a6c52aa5-0', usage_metadata={'input_tokens': 335, 'output_tokens': 77, 'total_tokens': 412, 'input_token_details': {'audio': 0, 'cache_read': 0}, 'output_token_details': {'audio': 0, 'reasoning': 0}})]}"
      ]
     },
     "execution_count": 6,
     "metadata": {},
     "output_type": "execute_result"
    }
   ],
   "source": [
    "graph.invoke({\"messages\":\"나에 대해서 알고있는게 있어?\"}, config)"
   ]
  },
  {
   "cell_type": "code",
   "execution_count": 7,
   "metadata": {},
   "outputs": [
    {
     "data": {
      "text/plain": [
       "{'messages': [HumanMessage(content='안녕 나는 창우라고해', additional_kwargs={}, response_metadata={}, id='3d30f693-16a2-43d3-857a-df1af004a1a1'),\n",
       "  AIMessage(content='안녕하세요, 창우님! 만나서 반갑습니다. 어떻게 도와드릴까요?', additional_kwargs={'refusal': None}, response_metadata={'token_usage': {'completion_tokens': 21, 'prompt_tokens': 86, 'total_tokens': 107, 'completion_tokens_details': {'accepted_prediction_tokens': 0, 'audio_tokens': 0, 'reasoning_tokens': 0, 'rejected_prediction_tokens': 0}, 'prompt_tokens_details': {'audio_tokens': 0, 'cached_tokens': 0}}, 'model_name': 'gpt-4o-2024-08-06', 'system_fingerprint': 'fp_b7d65f1a5b', 'finish_reason': 'stop', 'logprobs': None}, id='run-98aacc6e-f38e-4cdf-82d0-3d86993664e6-0', usage_metadata={'input_tokens': 86, 'output_tokens': 21, 'total_tokens': 107, 'input_token_details': {'audio': 0, 'cache_read': 0}, 'output_token_details': {'audio': 0, 'reasoning': 0}}),\n",
       "  HumanMessage(content='나는 올해 30살이고, 현재 부산대학교에서 박사과정을 하고있어.', additional_kwargs={}, response_metadata={}, id='edb20c34-6204-4efa-89b5-b6ffeceeae3a'),\n",
       "  AIMessage(content='오, 창우님! 부산대학교에서 박사과정을 하고 계시군요. 정말 멋지세요! 전공 분야가 어떻게 되시나요? 박사과정에서 어떤 연구를 하고 있는지 궁금하네요.', additional_kwargs={'refusal': None}, response_metadata={'token_usage': {'completion_tokens': 51, 'prompt_tokens': 134, 'total_tokens': 185, 'completion_tokens_details': {'accepted_prediction_tokens': 0, 'audio_tokens': 0, 'reasoning_tokens': 0, 'rejected_prediction_tokens': 0}, 'prompt_tokens_details': {'audio_tokens': 0, 'cached_tokens': 0}}, 'model_name': 'gpt-4o-2024-08-06', 'system_fingerprint': 'fp_d28bcae782', 'finish_reason': 'stop', 'logprobs': None}, id='run-705987ad-6fe1-44d3-97b2-0ba0f9dc7898-0', usage_metadata={'input_tokens': 134, 'output_tokens': 51, 'total_tokens': 185, 'input_token_details': {'audio': 0, 'cache_read': 0}, 'output_token_details': {'audio': 0, 'reasoning': 0}}),\n",
       "  HumanMessage(content='내 취미는 헬스장에서 운동하는거고, 돼지고기를 제일좋아해', additional_kwargs={}, response_metadata={}, id='912d0ad6-6b6a-47ba-8f71-0ca21ce7980d'),\n",
       "  AIMessage(content='헬스장에서 운동하는 것을 좋아하시는군요! 건강을 잘 챙기시는 것 같아 좋네요. 그리고 돼지고기를 좋아하신다고 하셨으니, 혹시 삼겹살 같은 요리를 즐기시나요? 맛있는 음식과 운동의 조합이라니 멋지네요!', additional_kwargs={'refusal': None}, response_metadata={'token_usage': {'completion_tokens': 70, 'prompt_tokens': 239, 'total_tokens': 309, 'completion_tokens_details': {'accepted_prediction_tokens': 0, 'audio_tokens': 0, 'reasoning_tokens': 0, 'rejected_prediction_tokens': 0}, 'prompt_tokens_details': {'audio_tokens': 0, 'cached_tokens': 0}}, 'model_name': 'gpt-4o-2024-08-06', 'system_fingerprint': 'fp_b7d65f1a5b', 'finish_reason': 'stop', 'logprobs': None}, id='run-04d7f469-305a-4f23-8113-726b29e897a6-0', usage_metadata={'input_tokens': 239, 'output_tokens': 70, 'total_tokens': 309, 'input_token_details': {'audio': 0, 'cache_read': 0}, 'output_token_details': {'audio': 0, 'reasoning': 0}}),\n",
       "  HumanMessage(content='나에 대해서 알고있는게 있어?', additional_kwargs={}, response_metadata={}, id='d681c693-ad25-4d3f-8e31-1e57f0f3377c'),\n",
       "  AIMessage(content='물론이죠, 창우님! 창우님은 30살이고, 부산대학교에서 박사과정을 하고 계시며, 취미는 헬스장에서 운동하는 것이고, 돼지고기를 좋아하신다고 하셨습니다. 혹시 더 추가하고 싶은 정보가 있거나 다른 질문이 있으시면 언제든지 말씀해 주세요!', additional_kwargs={'refusal': None}, response_metadata={'token_usage': {'completion_tokens': 77, 'prompt_tokens': 335, 'total_tokens': 412, 'completion_tokens_details': {'accepted_prediction_tokens': 0, 'audio_tokens': 0, 'reasoning_tokens': 0, 'rejected_prediction_tokens': 0}, 'prompt_tokens_details': {'audio_tokens': 0, 'cached_tokens': 0}}, 'model_name': 'gpt-4o-2024-08-06', 'system_fingerprint': 'fp_b7d65f1a5b', 'finish_reason': 'stop', 'logprobs': None}, id='run-94192bdd-748d-4f0c-b49e-cc08a6c52aa5-0', usage_metadata={'input_tokens': 335, 'output_tokens': 77, 'total_tokens': 412, 'input_token_details': {'audio': 0, 'cache_read': 0}, 'output_token_details': {'audio': 0, 'reasoning': 0}}),\n",
       "  HumanMessage(content='아니야. 잘못말했어. 내이름은 김호원이고, 나이는 54살이야. 현재 스마트엠투엠 대표로 일하고있어.', additional_kwargs={}, response_metadata={}, id='c5c28aad-1572-4926-a997-5193506ee5fb'),\n",
       "  AIMessage(content='알겠습니다, 호원님! 정보를 업데이트했습니다. 스마트엠투엠의 대표로 일하고 계시다니 인상적이네요. 혹시 회사에서는 어떤 분야에 집중하고 계신가요? 궁금합니다.', additional_kwargs={'refusal': None}, response_metadata={'token_usage': {'completion_tokens': 51, 'prompt_tokens': 460, 'total_tokens': 511, 'completion_tokens_details': {'accepted_prediction_tokens': 0, 'audio_tokens': 0, 'reasoning_tokens': 0, 'rejected_prediction_tokens': 0}, 'prompt_tokens_details': {'audio_tokens': 0, 'cached_tokens': 0}}, 'model_name': 'gpt-4o-2024-08-06', 'system_fingerprint': 'fp_b7d65f1a5b', 'finish_reason': 'stop', 'logprobs': None}, id='run-033a60ae-7899-442b-8ea3-62f0aca2a18a-0', usage_metadata={'input_tokens': 460, 'output_tokens': 51, 'total_tokens': 511, 'input_token_details': {'audio': 0, 'cache_read': 0}, 'output_token_details': {'audio': 0, 'reasoning': 0}})]}"
      ]
     },
     "execution_count": 7,
     "metadata": {},
     "output_type": "execute_result"
    }
   ],
   "source": [
    "graph.invoke({\"messages\":\"아니야. 잘못말했어. 내이름은 김호원이고, 나이는 54살이야. 현재 스마트엠투엠 대표로 일하고있어.\"}, config)"
   ]
  },
  {
   "cell_type": "code",
   "execution_count": 8,
   "metadata": {},
   "outputs": [
    {
     "data": {
      "text/plain": [
       "{'messages': [HumanMessage(content='안녕 나는 창우라고해', additional_kwargs={}, response_metadata={}, id='3d30f693-16a2-43d3-857a-df1af004a1a1'),\n",
       "  AIMessage(content='안녕하세요, 창우님! 만나서 반갑습니다. 어떻게 도와드릴까요?', additional_kwargs={'refusal': None}, response_metadata={'token_usage': {'completion_tokens': 21, 'prompt_tokens': 86, 'total_tokens': 107, 'completion_tokens_details': {'accepted_prediction_tokens': 0, 'audio_tokens': 0, 'reasoning_tokens': 0, 'rejected_prediction_tokens': 0}, 'prompt_tokens_details': {'audio_tokens': 0, 'cached_tokens': 0}}, 'model_name': 'gpt-4o-2024-08-06', 'system_fingerprint': 'fp_b7d65f1a5b', 'finish_reason': 'stop', 'logprobs': None}, id='run-98aacc6e-f38e-4cdf-82d0-3d86993664e6-0', usage_metadata={'input_tokens': 86, 'output_tokens': 21, 'total_tokens': 107, 'input_token_details': {'audio': 0, 'cache_read': 0}, 'output_token_details': {'audio': 0, 'reasoning': 0}}),\n",
       "  HumanMessage(content='나는 올해 30살이고, 현재 부산대학교에서 박사과정을 하고있어.', additional_kwargs={}, response_metadata={}, id='edb20c34-6204-4efa-89b5-b6ffeceeae3a'),\n",
       "  AIMessage(content='오, 창우님! 부산대학교에서 박사과정을 하고 계시군요. 정말 멋지세요! 전공 분야가 어떻게 되시나요? 박사과정에서 어떤 연구를 하고 있는지 궁금하네요.', additional_kwargs={'refusal': None}, response_metadata={'token_usage': {'completion_tokens': 51, 'prompt_tokens': 134, 'total_tokens': 185, 'completion_tokens_details': {'accepted_prediction_tokens': 0, 'audio_tokens': 0, 'reasoning_tokens': 0, 'rejected_prediction_tokens': 0}, 'prompt_tokens_details': {'audio_tokens': 0, 'cached_tokens': 0}}, 'model_name': 'gpt-4o-2024-08-06', 'system_fingerprint': 'fp_d28bcae782', 'finish_reason': 'stop', 'logprobs': None}, id='run-705987ad-6fe1-44d3-97b2-0ba0f9dc7898-0', usage_metadata={'input_tokens': 134, 'output_tokens': 51, 'total_tokens': 185, 'input_token_details': {'audio': 0, 'cache_read': 0}, 'output_token_details': {'audio': 0, 'reasoning': 0}}),\n",
       "  HumanMessage(content='내 취미는 헬스장에서 운동하는거고, 돼지고기를 제일좋아해', additional_kwargs={}, response_metadata={}, id='912d0ad6-6b6a-47ba-8f71-0ca21ce7980d'),\n",
       "  AIMessage(content='헬스장에서 운동하는 것을 좋아하시는군요! 건강을 잘 챙기시는 것 같아 좋네요. 그리고 돼지고기를 좋아하신다고 하셨으니, 혹시 삼겹살 같은 요리를 즐기시나요? 맛있는 음식과 운동의 조합이라니 멋지네요!', additional_kwargs={'refusal': None}, response_metadata={'token_usage': {'completion_tokens': 70, 'prompt_tokens': 239, 'total_tokens': 309, 'completion_tokens_details': {'accepted_prediction_tokens': 0, 'audio_tokens': 0, 'reasoning_tokens': 0, 'rejected_prediction_tokens': 0}, 'prompt_tokens_details': {'audio_tokens': 0, 'cached_tokens': 0}}, 'model_name': 'gpt-4o-2024-08-06', 'system_fingerprint': 'fp_b7d65f1a5b', 'finish_reason': 'stop', 'logprobs': None}, id='run-04d7f469-305a-4f23-8113-726b29e897a6-0', usage_metadata={'input_tokens': 239, 'output_tokens': 70, 'total_tokens': 309, 'input_token_details': {'audio': 0, 'cache_read': 0}, 'output_token_details': {'audio': 0, 'reasoning': 0}}),\n",
       "  HumanMessage(content='나에 대해서 알고있는게 있어?', additional_kwargs={}, response_metadata={}, id='d681c693-ad25-4d3f-8e31-1e57f0f3377c'),\n",
       "  AIMessage(content='물론이죠, 창우님! 창우님은 30살이고, 부산대학교에서 박사과정을 하고 계시며, 취미는 헬스장에서 운동하는 것이고, 돼지고기를 좋아하신다고 하셨습니다. 혹시 더 추가하고 싶은 정보가 있거나 다른 질문이 있으시면 언제든지 말씀해 주세요!', additional_kwargs={'refusal': None}, response_metadata={'token_usage': {'completion_tokens': 77, 'prompt_tokens': 335, 'total_tokens': 412, 'completion_tokens_details': {'accepted_prediction_tokens': 0, 'audio_tokens': 0, 'reasoning_tokens': 0, 'rejected_prediction_tokens': 0}, 'prompt_tokens_details': {'audio_tokens': 0, 'cached_tokens': 0}}, 'model_name': 'gpt-4o-2024-08-06', 'system_fingerprint': 'fp_b7d65f1a5b', 'finish_reason': 'stop', 'logprobs': None}, id='run-94192bdd-748d-4f0c-b49e-cc08a6c52aa5-0', usage_metadata={'input_tokens': 335, 'output_tokens': 77, 'total_tokens': 412, 'input_token_details': {'audio': 0, 'cache_read': 0}, 'output_token_details': {'audio': 0, 'reasoning': 0}}),\n",
       "  HumanMessage(content='아니야. 잘못말했어. 내이름은 김호원이고, 나이는 54살이야. 현재 스마트엠투엠 대표로 일하고있어.', additional_kwargs={}, response_metadata={}, id='c5c28aad-1572-4926-a997-5193506ee5fb'),\n",
       "  AIMessage(content='알겠습니다, 호원님! 정보를 업데이트했습니다. 스마트엠투엠의 대표로 일하고 계시다니 인상적이네요. 혹시 회사에서는 어떤 분야에 집중하고 계신가요? 궁금합니다.', additional_kwargs={'refusal': None}, response_metadata={'token_usage': {'completion_tokens': 51, 'prompt_tokens': 460, 'total_tokens': 511, 'completion_tokens_details': {'accepted_prediction_tokens': 0, 'audio_tokens': 0, 'reasoning_tokens': 0, 'rejected_prediction_tokens': 0}, 'prompt_tokens_details': {'audio_tokens': 0, 'cached_tokens': 0}}, 'model_name': 'gpt-4o-2024-08-06', 'system_fingerprint': 'fp_b7d65f1a5b', 'finish_reason': 'stop', 'logprobs': None}, id='run-033a60ae-7899-442b-8ea3-62f0aca2a18a-0', usage_metadata={'input_tokens': 460, 'output_tokens': 51, 'total_tokens': 511, 'input_token_details': {'audio': 0, 'cache_read': 0}, 'output_token_details': {'audio': 0, 'reasoning': 0}}),\n",
       "  HumanMessage(content='나에 대해서 알고있는게 있어?', additional_kwargs={}, response_metadata={}, id='3a9ee7da-849a-49dd-8632-84010b167a71'),\n",
       "  AIMessage(content='네, 호원님에 대해 알고 있는 정보는 다음과 같습니다: 호원님은 54살이시고, 스마트엠투엠의 대표로 일하고 계십니다. 취미는 헬스장에서 운동하는 것이고, 좋아하는 음식은 돼지고기입니다. 혹시 더 추가하시거나 수정할 사항이 있으면 언제든지 말씀해 주세요!', additional_kwargs={'refusal': None}, response_metadata={'token_usage': {'completion_tokens': 83, 'prompt_tokens': 529, 'total_tokens': 612, 'completion_tokens_details': {'accepted_prediction_tokens': 0, 'audio_tokens': 0, 'reasoning_tokens': 0, 'rejected_prediction_tokens': 0}, 'prompt_tokens_details': {'audio_tokens': 0, 'cached_tokens': 0}}, 'model_name': 'gpt-4o-2024-08-06', 'system_fingerprint': 'fp_5f20662549', 'finish_reason': 'stop', 'logprobs': None}, id='run-e9a8e500-a28b-4aea-a68b-8be04943f2d5-0', usage_metadata={'input_tokens': 529, 'output_tokens': 83, 'total_tokens': 612, 'input_token_details': {'audio': 0, 'cache_read': 0}, 'output_token_details': {'audio': 0, 'reasoning': 0}})]}"
      ]
     },
     "execution_count": 8,
     "metadata": {},
     "output_type": "execute_result"
    }
   ],
   "source": [
    "graph.invoke({\"messages\":\"나에 대해서 알고있는게 있어?\"}, config)"
   ]
  }
 ],
 "metadata": {
  "kernelspec": {
   "display_name": "langchain",
   "language": "python",
   "name": "langchain"
  },
  "language_info": {
   "codemirror_mode": {
    "name": "ipython",
    "version": 3
   },
   "file_extension": ".py",
   "mimetype": "text/x-python",
   "name": "python",
   "nbconvert_exporter": "python",
   "pygments_lexer": "ipython3",
   "version": "3.11.11"
  }
 },
 "nbformat": 4,
 "nbformat_minor": 2
}
