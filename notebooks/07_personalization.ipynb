{
 "cells": [
  {
   "cell_type": "code",
   "execution_count": 1,
   "metadata": {},
   "outputs": [],
   "source": [
    "from modules.base import *"
   ]
  },
  {
   "cell_type": "markdown",
   "metadata": {},
   "source": [
    "#### 간단한 개인화 처리\n",
    "- 아래 2가지 기반으로 답변수행\n",
    "\n",
    "    - 사용자 개인정보\n",
    "\n",
    "    - 대화 요약"
   ]
  },
  {
   "cell_type": "markdown",
   "metadata": {},
   "source": [
    "---"
   ]
  },
  {
   "cell_type": "code",
   "execution_count": 2,
   "metadata": {},
   "outputs": [],
   "source": [
    "LIMIT_LENGTH = 12 # 대화기록이 특정길이 넘어갈경우 일부삭제"
   ]
  },
  {
   "cell_type": "code",
   "execution_count": 3,
   "metadata": {},
   "outputs": [],
   "source": [
    "prompt_config = ConfigDict()\n",
    "\n",
    "prompt_config.decide_personal_prompt = \"\"\"현재 사용자 요청문에서 사용자의 개인정보가 있는지 판단하세요. \n",
    "예를들어 개인정보는 이름, 위치, 관심사, 취미, 직업, 전공, 가족관계 등이 있습니다.\n",
    "무조건 사용자가 직접적으로 언급한 사실적인 정보만 고려합니다. 추측이나 추론을 하지 마세요.\n",
    "답변은 무조건 YES 또는 NO로 출력하세요.\"\"\"\n",
    "\n",
    "prompt_config.answer_prompt = \"\"\"당신은 [사용자 정보]와 [이전 대화요약]을 통해 답변하는 유용한 챗봇입니다.\n",
    "[사용자 정보]:\n",
    "{memory}\n",
    "\n",
    "[이전 대화요약]:\n",
    "{summary}\"\"\"\n",
    "\n",
    "prompt_config.create_memory_prompt =\"\"\"당신은 사용자의 응답을 개인화하기 위해 사용자에 대한 정보를 수집하고 있습니다.\n",
    "\n",
    "[현재 사용자 정보]\n",
    "{memory}\n",
    "\n",
    "지침:\n",
    "1. 아래의 채팅 기록을 주의 깊게 검토하세요.\n",
    "2. 사용자에 대한 새로운 정보를 식별하세요. 예를 들면:\n",
    "   - 개인 정보 (이름, 위치 등)\n",
    "   - 선호 사항 (좋아하는 것, 싫어하는 것 등)\n",
    "   - 관심사와 취미\n",
    "   - 과거 경험\n",
    "   - 목표나 미래 계획   \n",
    "   - 질문 유형\n",
    "   - 답변 선호 사항\n",
    "3. 새로운 정보를 기존 메모리와 병합하세요.\n",
    "4. 메모리는 명확한 불릿 리스트 형식으로 작성하세요.\n",
    "5. 새로운 정보가 기존 메모리와 충돌할 경우, 가장 최근 정보를 유지하세요.\n",
    "6. 만약 새로운 정보가 없다면 [현재 사용자 정보] 내용을 그대로 출력하세요.\n",
    "7. 기존 정보를 유지할경우 [현재 사용자 정보] 내용을 그대로 출력하세요.\n",
    "\n",
    "기억하세요: 사용자가 직접적으로 언급한 사실적인 정보만 포함해야 합니다. 추측이나 추론을 하지 마세요.\n",
    "\n",
    "아래의 채팅 기록을 바탕으로 사용자 정보를 업데이트하세요:\n",
    "\n",
    "출력 양식은 반드시 아래를 따르세요.\n",
    "\n",
    "- 정보 종류 : 정보 내용\n",
    "- 정보 종류 : 정보 내용\n",
    "...\n",
    "\"\"\"\n",
    "\n",
    "prompt_config.summary_prompt = \"\"\"위 내용들은 사용자와 챗봇의 대화 내용입니다. 사용자와 챗봇이 어떤 대화를 주고 받았는지 내용을 요약해보세요.\n",
    "\n",
    "지침:\n",
    "1. 이름, 학업, 취미, 음식, 인적사항 등 사용자의 성향 및 특징을 파악할 수 있는 정보는 요약할 필요없습니다.\n",
    "2. 개인정보에 대한 대화만 있을 경우 요약하지 않아도 됩니다.\n",
    "3. 요약할 내용이 없을 경우 빈 문자열을 출력하세요.\n",
    "\n",
    "출력 양식은 반드시 아래를 따르세요.\n",
    "\n",
    "- 사용자는 **를 요청했고, 챗봇 답변은 ** 입니다.\n",
    "- 사용자는 **를 요청했고, 챗봇 답변은 ** 입니다.\n",
    "...\n",
    "\"\"\"\n",
    "prompt_config.summary_update_prompt = \"\"\"위 내용들은 사용자와 챗봇의 대화 내용입니다. 사용자와 챗봇이 어떤 대화를 주고 받았는지 내용을 요약해보세요.\n",
    "\n",
    "[이전 대화요약]\n",
    "{summary}\n",
    "\n",
    "지침:\n",
    "1. [이전 대화요약]을 주의 깊게 검토하세요.\n",
    "2. 새로운 정보를 [이전 대화요약]과 병합하세요.\n",
    "3. 새로운 정보가 [이전 대화요약]과 충돌할 경우, 가장 최근 정보를 유지하세요.\n",
    "4. 만약 새로운 정보가 없다면 [이전 대화요약] 내용을 그대로 출력하세요.\n",
    "\n",
    "출력 양식은 반드시 아래를 따르세요.\n",
    "\n",
    "- 사용자는 **를 요청했고, 챗봇 답변은 ** 입니다.\n",
    "- 사용자는 **를 요청했고, 챗봇 답변은 ** 입니다.\n",
    "...\n",
    "\"\"\""
   ]
  },
  {
   "cell_type": "code",
   "execution_count": 4,
   "metadata": {},
   "outputs": [],
   "source": [
    "class State(MessagesState):\n",
    "    is_personal: str\n",
    "\n",
    "@trace_function()\n",
    "def node_decide_personal(state: State):\n",
    "    \"\"\"\n",
    "        Des:\n",
    "            개인정보 여부가 있는지 판단하는 노드\n",
    "    \"\"\"\n",
    "    query = state[\"messages\"][-1].content\n",
    "    prompt = [SystemMessage(content=prompt_config.decide_personal_prompt)] + [HumanMessage(content=query)]\n",
    "    return {\"is_personal\":[llm.invoke(prompt)][0].content.upper()}\n",
    "\n",
    "@trace_function()\n",
    "def node_write_memory(state: State, \n",
    "                       config: RunnableConfig, \n",
    "                       store: BaseStore):\n",
    "    \"\"\"\n",
    "        Des:\n",
    "            사용자 메시지를 인식하고, 개인정보/선호도/검색결과 등을 저장하는 노드\n",
    "    \"\"\"\n",
    "    query = state[\"messages\"][-1].content\n",
    "    namespace = (\"memories\", config[\"configurable\"][\"user_id\"])\n",
    "    if state.get(\"is_personal\") == \"YES\":\n",
    "        personal_memory = get_memory(namespace=namespace, \n",
    "                                      key=\"personal_info\", \n",
    "                                      store=store)\n",
    "        system_message = prompt_config.create_memory_prompt.format(memory=personal_memory)\n",
    "        memory_prompt = [SystemMessage(content=system_message)] + [HumanMessage(content=query)]\n",
    "        response = llm.invoke(memory_prompt)\n",
    "        store.put(namespace=namespace, \n",
    "                  key=\"personal_info\", \n",
    "                  value={\"memory\":response.content})\n",
    "    \n",
    "@trace_function()\n",
    "def node_answer(state: State, \n",
    "                config: RunnableConfig,\n",
    "                store: BaseStore):\n",
    "    namespace = (\"memories\", config[\"configurable\"][\"user_id\"])\n",
    "    personal_memory = get_memory(namespace=namespace, \n",
    "                                 key=\"personal_info\", \n",
    "                                 store=store)\n",
    "    summary = get_memory(namespace=namespace, \n",
    "                         key=\"summary\", \n",
    "                         store=store)\n",
    "    \n",
    "    system_message = prompt_config.answer_prompt.format(memory=personal_memory, \n",
    "                                                        summary=summary)\n",
    "    print(f\"{PINK}\\n{system_message}\\n{RESET}\")\n",
    "    prompt = [SystemMessage(content=system_message)] + state[\"messages\"]\n",
    "    response = llm.invoke(prompt)\n",
    "    return {\"messages\": response}\n",
    "\n",
    "@trace_function()\n",
    "def node_write_summary(state: State, \n",
    "                       config: RunnableConfig,\n",
    "                       store: BaseStore):    \n",
    "    if len(state[\"messages\"]) >= LIMIT_LENGTH:\n",
    "        print(f\"{YELLOW}\\n대화 길이가 {LIMIT_LENGTH} 이상 ({LIMIT_LENGTH//2}번 이상 대화 주고받음) 이므로 일부 요약합니다.\\n{RESET}\")\n",
    "        namespace = (\"memories\", config[\"configurable\"][\"user_id\"])\n",
    "        summary = get_memory(namespace=namespace, \n",
    "                            key=\"summary\", \n",
    "                            store=store)\n",
    "        if summary:\n",
    "            summary_message = prompt_config.summary_update_prompt.format(summary=summary)\n",
    "        else:\n",
    "            summary_message = prompt_config.summary_prompt\n",
    "        prompt = state[\"messages\"] + [HumanMessage(content=summary_message)]\n",
    "        response = llm.invoke(prompt)\n",
    "        store.put(namespace=namespace, \n",
    "                key=\"summary\", \n",
    "                value={\"memory\":response.content})\n",
    "\n",
    "@trace_function()\n",
    "def node_optimize_memory(state: State):\n",
    "    \"\"\"\n",
    "        Des:\n",
    "            메모리 최적화 함수\n",
    "    \"\"\"\n",
    "    if len(state[\"messages\"]) > LIMIT_LENGTH:\n",
    "        delete_messages = [RemoveMessage(id=m.id) for m in state[\"messages\"][:LIMIT_LENGTH//2]]\n",
    "        return {\"messages\": delete_messages}\n",
    "    else:\n",
    "        return {\"messages\": state[\"messages\"]}\n",
    "        \n",
    "@trace_function()\n",
    "def get_memory(namespace, \n",
    "                key,\n",
    "                store:BaseStore):\n",
    "    \"\"\"\n",
    "        Des:\n",
    "            현재 저장된 사용자 정보를 가져오는 함수\n",
    "    \"\"\"\n",
    "    existing_memory = store.get(namespace=namespace,\n",
    "                                key=key)\n",
    "    return existing_memory.value.get('memory') if existing_memory else \"\""
   ]
  },
  {
   "cell_type": "code",
   "execution_count": 5,
   "metadata": {},
   "outputs": [
    {
     "data": {
      "image/png": "[encoded data removed]",
      "text/plain": [
       "<IPython.core.display.Image object>"
      ]
     },
     "metadata": {},
     "output_type": "display_data"
    }
   ],
   "source": [
    "workflow = StateGraph(State)\n",
    "workflow.add_node(\"node_decide_personal\", node_decide_personal)\n",
    "workflow.add_node(\"node_write_memory\", node_write_memory)\n",
    "workflow.add_node(\"node_answer\", node_answer)\n",
    "workflow.add_node(\"node_write_summary\", node_write_summary)\n",
    "workflow.add_node(\"node_optimize_memory\", node_optimize_memory)\n",
    "workflow.add_edge(START, \"node_decide_personal\")\n",
    "workflow.add_edge(\"node_decide_personal\", \"node_write_memory\")\n",
    "workflow.add_edge(\"node_write_memory\", \"node_answer\")\n",
    "workflow.add_edge(\"node_answer\", \"node_write_summary\")\n",
    "workflow.add_edge(\"node_write_summary\", \"node_optimize_memory\")\n",
    "workflow.add_edge(\"node_optimize_memory\", END)\n",
    "ShortTermMemory = MemorySaver()\n",
    "LongTermMemory = InMemoryStore()\n",
    "graph = workflow.compile(checkpointer=ShortTermMemory,\n",
    "                         store=LongTermMemory)\n",
    "display(Image(graph.get_graph().draw_mermaid_png()))"
   ]
  },
  {
   "cell_type": "code",
   "execution_count": 6,
   "metadata": {},
   "outputs": [],
   "source": [
    "config = {\"configurable\": {\"thread_id\": \"first_chat\", \n",
    "                           \"user_id\": \"changwoo\"}}"
   ]
  },
  {
   "cell_type": "code",
   "execution_count": 7,
   "metadata": {},
   "outputs": [
    {
     "name": "stdout",
     "output_type": "stream",
     "text": [
      "\u001b[92m\n",
      "🚀 Passing Through [node_decide_personal] ..\u001b[0m\n",
      "\u001b[92m\n",
      "🚀 Passing Through [node_write_memory] ..\u001b[0m\n",
      "\u001b[92m\n",
      "🚀 Passing Through [get_memory] ..\u001b[0m\n",
      "\u001b[92m\n",
      "🚀 Passing Through [node_answer] ..\u001b[0m\n",
      "\u001b[92m\n",
      "🚀 Passing Through [get_memory] ..\u001b[0m\n",
      "\u001b[92m\n",
      "🚀 Passing Through [get_memory] ..\u001b[0m\n",
      "\u001b[95m\n",
      "당신은 [사용자 정보]와 [이전 대화요약]을 통해 답변하는 유용한 챗봇입니다.\n",
      "[사용자 정보]:\n",
      "- 이름: 창우\n",
      "\n",
      "[이전 대화요약]:\n",
      "\n",
      "\u001b[0m\n",
      "\u001b[92m\n",
      "🚀 Passing Through [node_write_summary] ..\u001b[0m\n",
      "\u001b[92m\n",
      "🚀 Passing Through [node_optimize_memory] ..\u001b[0m\n"
     ]
    },
    {
     "data": {
      "text/plain": [
       "{'messages': [HumanMessage(content='안녕 나는 창우라고해', additional_kwargs={}, response_metadata={}, id='5c1df226-149d-4b11-b165-2bc8e4212805'),\n",
       "  AIMessage(content='안녕하세요, 창우님! 만나서 반갑습니다. 어떻게 도와드릴까요?', additional_kwargs={'refusal': None}, response_metadata={'token_usage': {'completion_tokens': 21, 'prompt_tokens': 68, 'total_tokens': 89, 'completion_tokens_details': {'accepted_prediction_tokens': 0, 'audio_tokens': 0, 'reasoning_tokens': 0, 'rejected_prediction_tokens': 0}, 'prompt_tokens_details': {'audio_tokens': 0, 'cached_tokens': 0}}, 'model_name': 'gpt-4o-2024-08-06', 'system_fingerprint': 'fp_b7d65f1a5b', 'finish_reason': 'stop', 'logprobs': None}, id='run-aac81433-df4a-4140-981b-0ab7e35a9bc0-0', usage_metadata={'input_tokens': 68, 'output_tokens': 21, 'total_tokens': 89, 'input_token_details': {'audio': 0, 'cache_read': 0}, 'output_token_details': {'audio': 0, 'reasoning': 0}})],\n",
       " 'is_personal': 'YES'}"
      ]
     },
     "execution_count": 7,
     "metadata": {},
     "output_type": "execute_result"
    }
   ],
   "source": [
    "graph.invoke({\"messages\":\"안녕 나는 창우라고해\"}, config=config)"
   ]
  },
  {
   "cell_type": "code",
   "execution_count": 8,
   "metadata": {},
   "outputs": [
    {
     "name": "stdout",
     "output_type": "stream",
     "text": [
      "\u001b[92m\n",
      "🚀 Passing Through [node_decide_personal] ..\u001b[0m\n",
      "\u001b[92m\n",
      "🚀 Passing Through [node_write_memory] ..\u001b[0m\n",
      "\u001b[92m\n",
      "🚀 Passing Through [get_memory] ..\u001b[0m\n",
      "\u001b[92m\n",
      "🚀 Passing Through [node_answer] ..\u001b[0m\n",
      "\u001b[92m\n",
      "🚀 Passing Through [get_memory] ..\u001b[0m\n",
      "\u001b[92m\n",
      "🚀 Passing Through [get_memory] ..\u001b[0m\n",
      "\u001b[95m\n",
      "당신은 [사용자 정보]와 [이전 대화요약]을 통해 답변하는 유용한 챗봇입니다.\n",
      "[사용자 정보]:\n",
      "- 이름: 창우\n",
      "- 나이: 30살\n",
      "- 교육: 부산대학교 박사 과정 중\n",
      "\n",
      "[이전 대화요약]:\n",
      "\n",
      "\u001b[0m\n",
      "\u001b[92m\n",
      "🚀 Passing Through [node_write_summary] ..\u001b[0m\n",
      "\u001b[92m\n",
      "🚀 Passing Through [node_optimize_memory] ..\u001b[0m\n"
     ]
    },
    {
     "data": {
      "text/plain": [
       "{'messages': [HumanMessage(content='안녕 나는 창우라고해', additional_kwargs={}, response_metadata={}, id='5c1df226-149d-4b11-b165-2bc8e4212805'),\n",
       "  AIMessage(content='안녕하세요, 창우님! 만나서 반갑습니다. 어떻게 도와드릴까요?', additional_kwargs={'refusal': None}, response_metadata={'token_usage': {'completion_tokens': 21, 'prompt_tokens': 68, 'total_tokens': 89, 'completion_tokens_details': {'accepted_prediction_tokens': 0, 'audio_tokens': 0, 'reasoning_tokens': 0, 'rejected_prediction_tokens': 0}, 'prompt_tokens_details': {'audio_tokens': 0, 'cached_tokens': 0}}, 'model_name': 'gpt-4o-2024-08-06', 'system_fingerprint': 'fp_b7d65f1a5b', 'finish_reason': 'stop', 'logprobs': None}, id='run-aac81433-df4a-4140-981b-0ab7e35a9bc0-0', usage_metadata={'input_tokens': 68, 'output_tokens': 21, 'total_tokens': 89, 'input_token_details': {'audio': 0, 'cache_read': 0}, 'output_token_details': {'audio': 0, 'reasoning': 0}}),\n",
       "  HumanMessage(content='나는 올해 30살이고, 현재 부산대학교에서 박사과정을 하고있어.', additional_kwargs={}, response_metadata={}, id='c5175e24-f12e-40bd-a35e-e3f6dbc41821'),\n",
       "  AIMessage(content='알려주셔서 감사합니다, 창우님. 박사 과정 중이라니 정말 대단하네요! 어떤 연구를 하고 계신지 여쭤봐도 될까요?', additional_kwargs={'refusal': None}, response_metadata={'token_usage': {'completion_tokens': 40, 'prompt_tokens': 133, 'total_tokens': 173, 'completion_tokens_details': {'accepted_prediction_tokens': 0, 'audio_tokens': 0, 'reasoning_tokens': 0, 'rejected_prediction_tokens': 0}, 'prompt_tokens_details': {'audio_tokens': 0, 'cached_tokens': 0}}, 'model_name': 'gpt-4o-2024-08-06', 'system_fingerprint': 'fp_703d4ff298', 'finish_reason': 'stop', 'logprobs': None}, id='run-3b631765-3783-4f6b-932e-72a43cd2d960-0', usage_metadata={'input_tokens': 133, 'output_tokens': 40, 'total_tokens': 173, 'input_token_details': {'audio': 0, 'cache_read': 0}, 'output_token_details': {'audio': 0, 'reasoning': 0}})],\n",
       " 'is_personal': 'YES'}"
      ]
     },
     "execution_count": 8,
     "metadata": {},
     "output_type": "execute_result"
    }
   ],
   "source": [
    "graph.invoke({\"messages\":\"나는 올해 30살이고, 현재 부산대학교에서 박사과정을 하고있어.\"}, config=config)"
   ]
  },
  {
   "cell_type": "code",
   "execution_count": 9,
   "metadata": {},
   "outputs": [
    {
     "name": "stdout",
     "output_type": "stream",
     "text": [
      "\u001b[92m\n",
      "🚀 Passing Through [node_decide_personal] ..\u001b[0m\n",
      "\u001b[92m\n",
      "🚀 Passing Through [node_write_memory] ..\u001b[0m\n",
      "\u001b[92m\n",
      "🚀 Passing Through [get_memory] ..\u001b[0m\n",
      "\u001b[92m\n",
      "🚀 Passing Through [node_answer] ..\u001b[0m\n",
      "\u001b[92m\n",
      "🚀 Passing Through [get_memory] ..\u001b[0m\n",
      "\u001b[92m\n",
      "🚀 Passing Through [get_memory] ..\u001b[0m\n",
      "\u001b[95m\n",
      "당신은 [사용자 정보]와 [이전 대화요약]을 통해 답변하는 유용한 챗봇입니다.\n",
      "[사용자 정보]:\n",
      "- 이름: 창우\n",
      "- 나이: 30살\n",
      "- 교육: 부산대학교 박사 과정 중\n",
      "- 전공: 인공지능\n",
      "- 관심사: LLM 분야\n",
      "\n",
      "[이전 대화요약]:\n",
      "\n",
      "\u001b[0m\n",
      "\u001b[92m\n",
      "🚀 Passing Through [node_write_summary] ..\u001b[0m\n",
      "\u001b[92m\n",
      "🚀 Passing Through [node_optimize_memory] ..\u001b[0m\n"
     ]
    },
    {
     "data": {
      "text/plain": [
       "{'messages': [HumanMessage(content='안녕 나는 창우라고해', additional_kwargs={}, response_metadata={}, id='5c1df226-149d-4b11-b165-2bc8e4212805'),\n",
       "  AIMessage(content='안녕하세요, 창우님! 만나서 반갑습니다. 어떻게 도와드릴까요?', additional_kwargs={'refusal': None}, response_metadata={'token_usage': {'completion_tokens': 21, 'prompt_tokens': 68, 'total_tokens': 89, 'completion_tokens_details': {'accepted_prediction_tokens': 0, 'audio_tokens': 0, 'reasoning_tokens': 0, 'rejected_prediction_tokens': 0}, 'prompt_tokens_details': {'audio_tokens': 0, 'cached_tokens': 0}}, 'model_name': 'gpt-4o-2024-08-06', 'system_fingerprint': 'fp_b7d65f1a5b', 'finish_reason': 'stop', 'logprobs': None}, id='run-aac81433-df4a-4140-981b-0ab7e35a9bc0-0', usage_metadata={'input_tokens': 68, 'output_tokens': 21, 'total_tokens': 89, 'input_token_details': {'audio': 0, 'cache_read': 0}, 'output_token_details': {'audio': 0, 'reasoning': 0}}),\n",
       "  HumanMessage(content='나는 올해 30살이고, 현재 부산대학교에서 박사과정을 하고있어.', additional_kwargs={}, response_metadata={}, id='c5175e24-f12e-40bd-a35e-e3f6dbc41821'),\n",
       "  AIMessage(content='알려주셔서 감사합니다, 창우님. 박사 과정 중이라니 정말 대단하네요! 어떤 연구를 하고 계신지 여쭤봐도 될까요?', additional_kwargs={'refusal': None}, response_metadata={'token_usage': {'completion_tokens': 40, 'prompt_tokens': 133, 'total_tokens': 173, 'completion_tokens_details': {'accepted_prediction_tokens': 0, 'audio_tokens': 0, 'reasoning_tokens': 0, 'rejected_prediction_tokens': 0}, 'prompt_tokens_details': {'audio_tokens': 0, 'cached_tokens': 0}}, 'model_name': 'gpt-4o-2024-08-06', 'system_fingerprint': 'fp_703d4ff298', 'finish_reason': 'stop', 'logprobs': None}, id='run-3b631765-3783-4f6b-932e-72a43cd2d960-0', usage_metadata={'input_tokens': 133, 'output_tokens': 40, 'total_tokens': 173, 'input_token_details': {'audio': 0, 'cache_read': 0}, 'output_token_details': {'audio': 0, 'reasoning': 0}}),\n",
       "  HumanMessage(content='내 전공은 인공지능이고, 요즘 LLM 분야에 관심이 많아.', additional_kwargs={}, response_metadata={}, id='872db671-77c6-4dc7-8e35-41cd86c3b3a0'),\n",
       "  AIMessage(content='인공지능 전공에 LLM 분야까지 관심이 많으시다니 정말 흥미롭네요! LLM 분야는 최근 많은 발전이 있어서 연구하기에 아주 좋은 분야인 것 같습니다. 혹시 특정 주제나 프로젝트에 대해 더 이야기해주실 수 있나요? 아니면 관련해서 궁금한 점이 있으신가요?', additional_kwargs={'refusal': None}, response_metadata={'token_usage': {'completion_tokens': 76, 'prompt_tokens': 216, 'total_tokens': 292, 'completion_tokens_details': {'accepted_prediction_tokens': 0, 'audio_tokens': 0, 'reasoning_tokens': 0, 'rejected_prediction_tokens': 0}, 'prompt_tokens_details': {'audio_tokens': 0, 'cached_tokens': 0}}, 'model_name': 'gpt-4o-2024-08-06', 'system_fingerprint': 'fp_703d4ff298', 'finish_reason': 'stop', 'logprobs': None}, id='run-a3ea4a33-7223-4f98-afcd-a9557c70ff5a-0', usage_metadata={'input_tokens': 216, 'output_tokens': 76, 'total_tokens': 292, 'input_token_details': {'audio': 0, 'cache_read': 0}, 'output_token_details': {'audio': 0, 'reasoning': 0}})],\n",
       " 'is_personal': 'YES'}"
      ]
     },
     "execution_count": 9,
     "metadata": {},
     "output_type": "execute_result"
    }
   ],
   "source": [
    "graph.invoke({\"messages\":\"내 전공은 인공지능이고, 요즘 LLM 분야에 관심이 많아.\"}, config=config)"
   ]
  },
  {
   "cell_type": "code",
   "execution_count": 10,
   "metadata": {},
   "outputs": [
    {
     "name": "stdout",
     "output_type": "stream",
     "text": [
      "\u001b[92m\n",
      "🚀 Passing Through [node_decide_personal] ..\u001b[0m\n",
      "\u001b[92m\n",
      "🚀 Passing Through [node_write_memory] ..\u001b[0m\n",
      "\u001b[92m\n",
      "🚀 Passing Through [get_memory] ..\u001b[0m\n",
      "\u001b[92m\n",
      "🚀 Passing Through [node_answer] ..\u001b[0m\n",
      "\u001b[92m\n",
      "🚀 Passing Through [get_memory] ..\u001b[0m\n",
      "\u001b[92m\n",
      "🚀 Passing Through [get_memory] ..\u001b[0m\n",
      "\u001b[95m\n",
      "당신은 [사용자 정보]와 [이전 대화요약]을 통해 답변하는 유용한 챗봇입니다.\n",
      "[사용자 정보]:\n",
      "- 이름: 창우\n",
      "- 나이: 30살\n",
      "- 교육: 부산대학교 박사 과정 중\n",
      "- 전공: 인공지능\n",
      "- 관심사: LLM 분야\n",
      "- 취미: 헬스장에서 운동\n",
      "\n",
      "[이전 대화요약]:\n",
      "\n",
      "\u001b[0m\n",
      "\u001b[92m\n",
      "🚀 Passing Through [node_write_summary] ..\u001b[0m\n",
      "\u001b[92m\n",
      "🚀 Passing Through [node_optimize_memory] ..\u001b[0m\n"
     ]
    },
    {
     "data": {
      "text/plain": [
       "{'messages': [HumanMessage(content='안녕 나는 창우라고해', additional_kwargs={}, response_metadata={}, id='5c1df226-149d-4b11-b165-2bc8e4212805'),\n",
       "  AIMessage(content='안녕하세요, 창우님! 만나서 반갑습니다. 어떻게 도와드릴까요?', additional_kwargs={'refusal': None}, response_metadata={'token_usage': {'completion_tokens': 21, 'prompt_tokens': 68, 'total_tokens': 89, 'completion_tokens_details': {'accepted_prediction_tokens': 0, 'audio_tokens': 0, 'reasoning_tokens': 0, 'rejected_prediction_tokens': 0}, 'prompt_tokens_details': {'audio_tokens': 0, 'cached_tokens': 0}}, 'model_name': 'gpt-4o-2024-08-06', 'system_fingerprint': 'fp_b7d65f1a5b', 'finish_reason': 'stop', 'logprobs': None}, id='run-aac81433-df4a-4140-981b-0ab7e35a9bc0-0', usage_metadata={'input_tokens': 68, 'output_tokens': 21, 'total_tokens': 89, 'input_token_details': {'audio': 0, 'cache_read': 0}, 'output_token_details': {'audio': 0, 'reasoning': 0}}),\n",
       "  HumanMessage(content='나는 올해 30살이고, 현재 부산대학교에서 박사과정을 하고있어.', additional_kwargs={}, response_metadata={}, id='c5175e24-f12e-40bd-a35e-e3f6dbc41821'),\n",
       "  AIMessage(content='알려주셔서 감사합니다, 창우님. 박사 과정 중이라니 정말 대단하네요! 어떤 연구를 하고 계신지 여쭤봐도 될까요?', additional_kwargs={'refusal': None}, response_metadata={'token_usage': {'completion_tokens': 40, 'prompt_tokens': 133, 'total_tokens': 173, 'completion_tokens_details': {'accepted_prediction_tokens': 0, 'audio_tokens': 0, 'reasoning_tokens': 0, 'rejected_prediction_tokens': 0}, 'prompt_tokens_details': {'audio_tokens': 0, 'cached_tokens': 0}}, 'model_name': 'gpt-4o-2024-08-06', 'system_fingerprint': 'fp_703d4ff298', 'finish_reason': 'stop', 'logprobs': None}, id='run-3b631765-3783-4f6b-932e-72a43cd2d960-0', usage_metadata={'input_tokens': 133, 'output_tokens': 40, 'total_tokens': 173, 'input_token_details': {'audio': 0, 'cache_read': 0}, 'output_token_details': {'audio': 0, 'reasoning': 0}}),\n",
       "  HumanMessage(content='내 전공은 인공지능이고, 요즘 LLM 분야에 관심이 많아.', additional_kwargs={}, response_metadata={}, id='872db671-77c6-4dc7-8e35-41cd86c3b3a0'),\n",
       "  AIMessage(content='인공지능 전공에 LLM 분야까지 관심이 많으시다니 정말 흥미롭네요! LLM 분야는 최근 많은 발전이 있어서 연구하기에 아주 좋은 분야인 것 같습니다. 혹시 특정 주제나 프로젝트에 대해 더 이야기해주실 수 있나요? 아니면 관련해서 궁금한 점이 있으신가요?', additional_kwargs={'refusal': None}, response_metadata={'token_usage': {'completion_tokens': 76, 'prompt_tokens': 216, 'total_tokens': 292, 'completion_tokens_details': {'accepted_prediction_tokens': 0, 'audio_tokens': 0, 'reasoning_tokens': 0, 'rejected_prediction_tokens': 0}, 'prompt_tokens_details': {'audio_tokens': 0, 'cached_tokens': 0}}, 'model_name': 'gpt-4o-2024-08-06', 'system_fingerprint': 'fp_703d4ff298', 'finish_reason': 'stop', 'logprobs': None}, id='run-a3ea4a33-7223-4f98-afcd-a9557c70ff5a-0', usage_metadata={'input_tokens': 216, 'output_tokens': 76, 'total_tokens': 292, 'input_token_details': {'audio': 0, 'cache_read': 0}, 'output_token_details': {'audio': 0, 'reasoning': 0}}),\n",
       "  HumanMessage(content='내 취미는 헬스장에서 운동하는거야', additional_kwargs={}, response_metadata={}, id='3d33b880-cfa0-4b5f-8f50-856bef8b9856'),\n",
       "  AIMessage(content='운동을 취미로 하시다니 건강을 잘 챙기고 계시네요! 어떤 운동을 주로 하시는지, 혹은 목표로 하고 있는 피트니스 목표가 있으신가요? 연구와 운동을 병행하는 것이 쉽지 않을 텐데, 정말 멋지세요!', additional_kwargs={'refusal': None}, response_metadata={'token_usage': {'completion_tokens': 68, 'prompt_tokens': 321, 'total_tokens': 389, 'completion_tokens_details': {'accepted_prediction_tokens': 0, 'audio_tokens': 0, 'reasoning_tokens': 0, 'rejected_prediction_tokens': 0}, 'prompt_tokens_details': {'audio_tokens': 0, 'cached_tokens': 0}}, 'model_name': 'gpt-4o-2024-08-06', 'system_fingerprint': 'fp_703d4ff298', 'finish_reason': 'stop', 'logprobs': None}, id='run-1d7f1a6e-47b3-41f4-83d7-27124e5d38c7-0', usage_metadata={'input_tokens': 321, 'output_tokens': 68, 'total_tokens': 389, 'input_token_details': {'audio': 0, 'cache_read': 0}, 'output_token_details': {'audio': 0, 'reasoning': 0}})],\n",
       " 'is_personal': 'YES'}"
      ]
     },
     "execution_count": 10,
     "metadata": {},
     "output_type": "execute_result"
    }
   ],
   "source": [
    "graph.invoke({\"messages\":\"내 취미는 헬스장에서 운동하는거야\"}, config=config)"
   ]
  },
  {
   "cell_type": "code",
   "execution_count": 11,
   "metadata": {},
   "outputs": [
    {
     "name": "stdout",
     "output_type": "stream",
     "text": [
      "\u001b[92m\n",
      "🚀 Passing Through [node_decide_personal] ..\u001b[0m\n",
      "\u001b[92m\n",
      "🚀 Passing Through [node_write_memory] ..\u001b[0m\n",
      "\u001b[92m\n",
      "🚀 Passing Through [node_answer] ..\u001b[0m\n",
      "\u001b[92m\n",
      "🚀 Passing Through [get_memory] ..\u001b[0m\n",
      "\u001b[92m\n",
      "🚀 Passing Through [get_memory] ..\u001b[0m\n",
      "\u001b[95m\n",
      "당신은 [사용자 정보]와 [이전 대화요약]을 통해 답변하는 유용한 챗봇입니다.\n",
      "[사용자 정보]:\n",
      "- 이름: 창우\n",
      "- 나이: 30살\n",
      "- 교육: 부산대학교 박사 과정 중\n",
      "- 전공: 인공지능\n",
      "- 관심사: LLM 분야\n",
      "- 취미: 헬스장에서 운동\n",
      "\n",
      "[이전 대화요약]:\n",
      "\n",
      "\u001b[0m\n",
      "\u001b[92m\n",
      "🚀 Passing Through [node_write_summary] ..\u001b[0m\n",
      "\u001b[92m\n",
      "🚀 Passing Through [node_optimize_memory] ..\u001b[0m\n"
     ]
    },
    {
     "data": {
      "text/plain": [
       "{'messages': [HumanMessage(content='안녕 나는 창우라고해', additional_kwargs={}, response_metadata={}, id='5c1df226-149d-4b11-b165-2bc8e4212805'),\n",
       "  AIMessage(content='안녕하세요, 창우님! 만나서 반갑습니다. 어떻게 도와드릴까요?', additional_kwargs={'refusal': None}, response_metadata={'token_usage': {'completion_tokens': 21, 'prompt_tokens': 68, 'total_tokens': 89, 'completion_tokens_details': {'accepted_prediction_tokens': 0, 'audio_tokens': 0, 'reasoning_tokens': 0, 'rejected_prediction_tokens': 0}, 'prompt_tokens_details': {'audio_tokens': 0, 'cached_tokens': 0}}, 'model_name': 'gpt-4o-2024-08-06', 'system_fingerprint': 'fp_b7d65f1a5b', 'finish_reason': 'stop', 'logprobs': None}, id='run-aac81433-df4a-4140-981b-0ab7e35a9bc0-0', usage_metadata={'input_tokens': 68, 'output_tokens': 21, 'total_tokens': 89, 'input_token_details': {'audio': 0, 'cache_read': 0}, 'output_token_details': {'audio': 0, 'reasoning': 0}}),\n",
       "  HumanMessage(content='나는 올해 30살이고, 현재 부산대학교에서 박사과정을 하고있어.', additional_kwargs={}, response_metadata={}, id='c5175e24-f12e-40bd-a35e-e3f6dbc41821'),\n",
       "  AIMessage(content='알려주셔서 감사합니다, 창우님. 박사 과정 중이라니 정말 대단하네요! 어떤 연구를 하고 계신지 여쭤봐도 될까요?', additional_kwargs={'refusal': None}, response_metadata={'token_usage': {'completion_tokens': 40, 'prompt_tokens': 133, 'total_tokens': 173, 'completion_tokens_details': {'accepted_prediction_tokens': 0, 'audio_tokens': 0, 'reasoning_tokens': 0, 'rejected_prediction_tokens': 0}, 'prompt_tokens_details': {'audio_tokens': 0, 'cached_tokens': 0}}, 'model_name': 'gpt-4o-2024-08-06', 'system_fingerprint': 'fp_703d4ff298', 'finish_reason': 'stop', 'logprobs': None}, id='run-3b631765-3783-4f6b-932e-72a43cd2d960-0', usage_metadata={'input_tokens': 133, 'output_tokens': 40, 'total_tokens': 173, 'input_token_details': {'audio': 0, 'cache_read': 0}, 'output_token_details': {'audio': 0, 'reasoning': 0}}),\n",
       "  HumanMessage(content='내 전공은 인공지능이고, 요즘 LLM 분야에 관심이 많아.', additional_kwargs={}, response_metadata={}, id='872db671-77c6-4dc7-8e35-41cd86c3b3a0'),\n",
       "  AIMessage(content='인공지능 전공에 LLM 분야까지 관심이 많으시다니 정말 흥미롭네요! LLM 분야는 최근 많은 발전이 있어서 연구하기에 아주 좋은 분야인 것 같습니다. 혹시 특정 주제나 프로젝트에 대해 더 이야기해주실 수 있나요? 아니면 관련해서 궁금한 점이 있으신가요?', additional_kwargs={'refusal': None}, response_metadata={'token_usage': {'completion_tokens': 76, 'prompt_tokens': 216, 'total_tokens': 292, 'completion_tokens_details': {'accepted_prediction_tokens': 0, 'audio_tokens': 0, 'reasoning_tokens': 0, 'rejected_prediction_tokens': 0}, 'prompt_tokens_details': {'audio_tokens': 0, 'cached_tokens': 0}}, 'model_name': 'gpt-4o-2024-08-06', 'system_fingerprint': 'fp_703d4ff298', 'finish_reason': 'stop', 'logprobs': None}, id='run-a3ea4a33-7223-4f98-afcd-a9557c70ff5a-0', usage_metadata={'input_tokens': 216, 'output_tokens': 76, 'total_tokens': 292, 'input_token_details': {'audio': 0, 'cache_read': 0}, 'output_token_details': {'audio': 0, 'reasoning': 0}}),\n",
       "  HumanMessage(content='내 취미는 헬스장에서 운동하는거야', additional_kwargs={}, response_metadata={}, id='3d33b880-cfa0-4b5f-8f50-856bef8b9856'),\n",
       "  AIMessage(content='운동을 취미로 하시다니 건강을 잘 챙기고 계시네요! 어떤 운동을 주로 하시는지, 혹은 목표로 하고 있는 피트니스 목표가 있으신가요? 연구와 운동을 병행하는 것이 쉽지 않을 텐데, 정말 멋지세요!', additional_kwargs={'refusal': None}, response_metadata={'token_usage': {'completion_tokens': 68, 'prompt_tokens': 321, 'total_tokens': 389, 'completion_tokens_details': {'accepted_prediction_tokens': 0, 'audio_tokens': 0, 'reasoning_tokens': 0, 'rejected_prediction_tokens': 0}, 'prompt_tokens_details': {'audio_tokens': 0, 'cached_tokens': 0}}, 'model_name': 'gpt-4o-2024-08-06', 'system_fingerprint': 'fp_703d4ff298', 'finish_reason': 'stop', 'logprobs': None}, id='run-1d7f1a6e-47b3-41f4-83d7-27124e5d38c7-0', usage_metadata={'input_tokens': 321, 'output_tokens': 68, 'total_tokens': 389, 'input_token_details': {'audio': 0, 'cache_read': 0}, 'output_token_details': {'audio': 0, 'reasoning': 0}}),\n",
       "  HumanMessage(content='이순신 장군에 대해 간단히 알려줄래?', additional_kwargs={}, response_metadata={}, id='ba92b087-7e1b-4c29-b3b7-d28a58c3b1d5'),\n",
       "  AIMessage(content='물론입니다! 이순신 장군은 조선 시대의 유명한 해군 장군으로, 임진왜란 당시 조선을 방어하는 데 큰 역할을 했습니다. 특히, 그는 탁월한 전략가로서 한산도 대첩과 명량 해전 등 여러 전투에서 승리하며 조선의 해상을 지켰습니다. 그의 리더십과 전술은 오늘날까지도 많은 사람들에게 영감을 주고 있으며, 그의 충성과 헌신은 한국 역사에서 중요한 부분으로 평가받고 있습니다. 혹시 이순신 장군에 대해 더 알고 싶은 부분이 있다면 말씀해 주세요!', additional_kwargs={'refusal': None}, response_metadata={'token_usage': {'completion_tokens': 138, 'prompt_tokens': 410, 'total_tokens': 548, 'completion_tokens_details': {'accepted_prediction_tokens': 0, 'audio_tokens': 0, 'reasoning_tokens': 0, 'rejected_prediction_tokens': 0}, 'prompt_tokens_details': {'audio_tokens': 0, 'cached_tokens': 0}}, 'model_name': 'gpt-4o-2024-08-06', 'system_fingerprint': 'fp_703d4ff298', 'finish_reason': 'stop', 'logprobs': None}, id='run-9b98530c-2fd6-47b3-a0f0-44dbdf59e232-0', usage_metadata={'input_tokens': 410, 'output_tokens': 138, 'total_tokens': 548, 'input_token_details': {'audio': 0, 'cache_read': 0}, 'output_token_details': {'audio': 0, 'reasoning': 0}})],\n",
       " 'is_personal': 'NO'}"
      ]
     },
     "execution_count": 11,
     "metadata": {},
     "output_type": "execute_result"
    }
   ],
   "source": [
    "graph.invoke({\"messages\":\"이순신 장군에 대해 간단히 알려줄래?\"}, config=config)"
   ]
  },
  {
   "cell_type": "code",
   "execution_count": 12,
   "metadata": {},
   "outputs": [
    {
     "name": "stdout",
     "output_type": "stream",
     "text": [
      "\u001b[92m\n",
      "🚀 Passing Through [node_decide_personal] ..\u001b[0m\n",
      "\u001b[92m\n",
      "🚀 Passing Through [node_write_memory] ..\u001b[0m\n",
      "\u001b[92m\n",
      "🚀 Passing Through [node_answer] ..\u001b[0m\n",
      "\u001b[92m\n",
      "🚀 Passing Through [get_memory] ..\u001b[0m\n",
      "\u001b[92m\n",
      "🚀 Passing Through [get_memory] ..\u001b[0m\n",
      "\u001b[95m\n",
      "당신은 [사용자 정보]와 [이전 대화요약]을 통해 답변하는 유용한 챗봇입니다.\n",
      "[사용자 정보]:\n",
      "- 이름: 창우\n",
      "- 나이: 30살\n",
      "- 교육: 부산대학교 박사 과정 중\n",
      "- 전공: 인공지능\n",
      "- 관심사: LLM 분야\n",
      "- 취미: 헬스장에서 운동\n",
      "\n",
      "[이전 대화요약]:\n",
      "\n",
      "\u001b[0m\n",
      "\u001b[92m\n",
      "🚀 Passing Through [node_write_summary] ..\u001b[0m\n",
      "\u001b[93m\n",
      "대화 길이가 12 이상 (6번 이상 대화 주고받음) 이므로 일부 요약합니다.\n",
      "\u001b[0m\n",
      "\u001b[92m\n",
      "🚀 Passing Through [get_memory] ..\u001b[0m\n",
      "\u001b[92m\n",
      "🚀 Passing Through [node_optimize_memory] ..\u001b[0m\n"
     ]
    },
    {
     "data": {
      "text/plain": [
       "{'messages': [HumanMessage(content='안녕 나는 창우라고해', additional_kwargs={}, response_metadata={}, id='5c1df226-149d-4b11-b165-2bc8e4212805'),\n",
       "  AIMessage(content='안녕하세요, 창우님! 만나서 반갑습니다. 어떻게 도와드릴까요?', additional_kwargs={'refusal': None}, response_metadata={'token_usage': {'completion_tokens': 21, 'prompt_tokens': 68, 'total_tokens': 89, 'completion_tokens_details': {'accepted_prediction_tokens': 0, 'audio_tokens': 0, 'reasoning_tokens': 0, 'rejected_prediction_tokens': 0}, 'prompt_tokens_details': {'audio_tokens': 0, 'cached_tokens': 0}}, 'model_name': 'gpt-4o-2024-08-06', 'system_fingerprint': 'fp_b7d65f1a5b', 'finish_reason': 'stop', 'logprobs': None}, id='run-aac81433-df4a-4140-981b-0ab7e35a9bc0-0', usage_metadata={'input_tokens': 68, 'output_tokens': 21, 'total_tokens': 89, 'input_token_details': {'audio': 0, 'cache_read': 0}, 'output_token_details': {'audio': 0, 'reasoning': 0}}),\n",
       "  HumanMessage(content='나는 올해 30살이고, 현재 부산대학교에서 박사과정을 하고있어.', additional_kwargs={}, response_metadata={}, id='c5175e24-f12e-40bd-a35e-e3f6dbc41821'),\n",
       "  AIMessage(content='알려주셔서 감사합니다, 창우님. 박사 과정 중이라니 정말 대단하네요! 어떤 연구를 하고 계신지 여쭤봐도 될까요?', additional_kwargs={'refusal': None}, response_metadata={'token_usage': {'completion_tokens': 40, 'prompt_tokens': 133, 'total_tokens': 173, 'completion_tokens_details': {'accepted_prediction_tokens': 0, 'audio_tokens': 0, 'reasoning_tokens': 0, 'rejected_prediction_tokens': 0}, 'prompt_tokens_details': {'audio_tokens': 0, 'cached_tokens': 0}}, 'model_name': 'gpt-4o-2024-08-06', 'system_fingerprint': 'fp_703d4ff298', 'finish_reason': 'stop', 'logprobs': None}, id='run-3b631765-3783-4f6b-932e-72a43cd2d960-0', usage_metadata={'input_tokens': 133, 'output_tokens': 40, 'total_tokens': 173, 'input_token_details': {'audio': 0, 'cache_read': 0}, 'output_token_details': {'audio': 0, 'reasoning': 0}}),\n",
       "  HumanMessage(content='내 전공은 인공지능이고, 요즘 LLM 분야에 관심이 많아.', additional_kwargs={}, response_metadata={}, id='872db671-77c6-4dc7-8e35-41cd86c3b3a0'),\n",
       "  AIMessage(content='인공지능 전공에 LLM 분야까지 관심이 많으시다니 정말 흥미롭네요! LLM 분야는 최근 많은 발전이 있어서 연구하기에 아주 좋은 분야인 것 같습니다. 혹시 특정 주제나 프로젝트에 대해 더 이야기해주실 수 있나요? 아니면 관련해서 궁금한 점이 있으신가요?', additional_kwargs={'refusal': None}, response_metadata={'token_usage': {'completion_tokens': 76, 'prompt_tokens': 216, 'total_tokens': 292, 'completion_tokens_details': {'accepted_prediction_tokens': 0, 'audio_tokens': 0, 'reasoning_tokens': 0, 'rejected_prediction_tokens': 0}, 'prompt_tokens_details': {'audio_tokens': 0, 'cached_tokens': 0}}, 'model_name': 'gpt-4o-2024-08-06', 'system_fingerprint': 'fp_703d4ff298', 'finish_reason': 'stop', 'logprobs': None}, id='run-a3ea4a33-7223-4f98-afcd-a9557c70ff5a-0', usage_metadata={'input_tokens': 216, 'output_tokens': 76, 'total_tokens': 292, 'input_token_details': {'audio': 0, 'cache_read': 0}, 'output_token_details': {'audio': 0, 'reasoning': 0}}),\n",
       "  HumanMessage(content='내 취미는 헬스장에서 운동하는거야', additional_kwargs={}, response_metadata={}, id='3d33b880-cfa0-4b5f-8f50-856bef8b9856'),\n",
       "  AIMessage(content='운동을 취미로 하시다니 건강을 잘 챙기고 계시네요! 어떤 운동을 주로 하시는지, 혹은 목표로 하고 있는 피트니스 목표가 있으신가요? 연구와 운동을 병행하는 것이 쉽지 않을 텐데, 정말 멋지세요!', additional_kwargs={'refusal': None}, response_metadata={'token_usage': {'completion_tokens': 68, 'prompt_tokens': 321, 'total_tokens': 389, 'completion_tokens_details': {'accepted_prediction_tokens': 0, 'audio_tokens': 0, 'reasoning_tokens': 0, 'rejected_prediction_tokens': 0}, 'prompt_tokens_details': {'audio_tokens': 0, 'cached_tokens': 0}}, 'model_name': 'gpt-4o-2024-08-06', 'system_fingerprint': 'fp_703d4ff298', 'finish_reason': 'stop', 'logprobs': None}, id='run-1d7f1a6e-47b3-41f4-83d7-27124e5d38c7-0', usage_metadata={'input_tokens': 321, 'output_tokens': 68, 'total_tokens': 389, 'input_token_details': {'audio': 0, 'cache_read': 0}, 'output_token_details': {'audio': 0, 'reasoning': 0}}),\n",
       "  HumanMessage(content='이순신 장군에 대해 간단히 알려줄래?', additional_kwargs={}, response_metadata={}, id='ba92b087-7e1b-4c29-b3b7-d28a58c3b1d5'),\n",
       "  AIMessage(content='물론입니다! 이순신 장군은 조선 시대의 유명한 해군 장군으로, 임진왜란 당시 조선을 방어하는 데 큰 역할을 했습니다. 특히, 그는 탁월한 전략가로서 한산도 대첩과 명량 해전 등 여러 전투에서 승리하며 조선의 해상을 지켰습니다. 그의 리더십과 전술은 오늘날까지도 많은 사람들에게 영감을 주고 있으며, 그의 충성과 헌신은 한국 역사에서 중요한 부분으로 평가받고 있습니다. 혹시 이순신 장군에 대해 더 알고 싶은 부분이 있다면 말씀해 주세요!', additional_kwargs={'refusal': None}, response_metadata={'token_usage': {'completion_tokens': 138, 'prompt_tokens': 410, 'total_tokens': 548, 'completion_tokens_details': {'accepted_prediction_tokens': 0, 'audio_tokens': 0, 'reasoning_tokens': 0, 'rejected_prediction_tokens': 0}, 'prompt_tokens_details': {'audio_tokens': 0, 'cached_tokens': 0}}, 'model_name': 'gpt-4o-2024-08-06', 'system_fingerprint': 'fp_703d4ff298', 'finish_reason': 'stop', 'logprobs': None}, id='run-9b98530c-2fd6-47b3-a0f0-44dbdf59e232-0', usage_metadata={'input_tokens': 410, 'output_tokens': 138, 'total_tokens': 548, 'input_token_details': {'audio': 0, 'cache_read': 0}, 'output_token_details': {'audio': 0, 'reasoning': 0}}),\n",
       "  HumanMessage(content='2차전지가 뭐임?', additional_kwargs={}, response_metadata={}, id='497c7756-afb1-4dcb-8c33-e610871b3b68'),\n",
       "  AIMessage(content='2차 전지는 충전이 가능한 배터리를 의미합니다. 반대로 1차 전지는 충전이 불가능하고 한 번 사용 후 폐기해야 하는 배터리입니다. 2차 전지는 전기를 저장했다가 필요할 때 다시 사용할 수 있도록 설계되어 있으며, 대표적으로 리튬 이온 배터리, 니켈-수소 배터리 등이 있습니다. 이러한 배터리는 스마트폰, 노트북, 전기차 등 다양한 전자기기와 산업에서 널리 사용되고 있습니다. 2차 전지는 지속 가능한 에너지 사용을 가능하게 하여, 환경 보호와 에너지 효율성 측면에서 중요한 역할을 하고 있습니다. 추가로 궁금한 점이 있으면 말씀해 주세요!', additional_kwargs={'refusal': None}, response_metadata={'token_usage': {'completion_tokens': 162, 'prompt_tokens': 563, 'total_tokens': 725, 'completion_tokens_details': {'accepted_prediction_tokens': 0, 'audio_tokens': 0, 'reasoning_tokens': 0, 'rejected_prediction_tokens': 0}, 'prompt_tokens_details': {'audio_tokens': 0, 'cached_tokens': 0}}, 'model_name': 'gpt-4o-2024-08-06', 'system_fingerprint': 'fp_703d4ff298', 'finish_reason': 'stop', 'logprobs': None}, id='run-144976fe-1e65-4580-a574-0778254fda36-0', usage_metadata={'input_tokens': 563, 'output_tokens': 162, 'total_tokens': 725, 'input_token_details': {'audio': 0, 'cache_read': 0}, 'output_token_details': {'audio': 0, 'reasoning': 0}})],\n",
       " 'is_personal': 'NO'}"
      ]
     },
     "execution_count": 12,
     "metadata": {},
     "output_type": "execute_result"
    }
   ],
   "source": [
    "graph.invoke({\"messages\":\"2차전지가 뭐임?\"}, config=config)"
   ]
  },
  {
   "cell_type": "code",
   "execution_count": 13,
   "metadata": {},
   "outputs": [
    {
     "name": "stdout",
     "output_type": "stream",
     "text": [
      "\u001b[92m\n",
      "🚀 Passing Through [node_decide_personal] ..\u001b[0m\n",
      "\u001b[92m\n",
      "🚀 Passing Through [node_write_memory] ..\u001b[0m\n",
      "\u001b[92m\n",
      "🚀 Passing Through [node_answer] ..\u001b[0m\n",
      "\u001b[92m\n",
      "🚀 Passing Through [get_memory] ..\u001b[0m\n",
      "\u001b[92m\n",
      "🚀 Passing Through [get_memory] ..\u001b[0m\n",
      "\u001b[95m\n",
      "당신은 [사용자 정보]와 [이전 대화요약]을 통해 답변하는 유용한 챗봇입니다.\n",
      "[사용자 정보]:\n",
      "- 이름: 창우\n",
      "- 나이: 30살\n",
      "- 교육: 부산대학교 박사 과정 중\n",
      "- 전공: 인공지능\n",
      "- 관심사: LLM 분야\n",
      "- 취미: 헬스장에서 운동\n",
      "\n",
      "[이전 대화요약]:\n",
      "- 사용자는 이순신 장군에 대해 간단히 알려달라고 요청했고, 챗봇 답변은 이순신 장군의 역사적 역할과 업적에 대해 간략히 설명했습니다.\n",
      "- 사용자는 2차 전지가 무엇인지 물었고, 챗봇 답변은 2차 전지의 정의와 용도에 대해 설명했습니다.\n",
      "\u001b[0m\n",
      "\u001b[92m\n",
      "🚀 Passing Through [node_write_summary] ..\u001b[0m\n",
      "\u001b[93m\n",
      "대화 길이가 12 이상 (6번 이상 대화 주고받음) 이므로 일부 요약합니다.\n",
      "\u001b[0m\n",
      "\u001b[92m\n",
      "🚀 Passing Through [get_memory] ..\u001b[0m\n",
      "\u001b[92m\n",
      "🚀 Passing Through [node_optimize_memory] ..\u001b[0m\n"
     ]
    },
    {
     "data": {
      "text/plain": [
       "{'messages': [HumanMessage(content='내 취미는 헬스장에서 운동하는거야', additional_kwargs={}, response_metadata={}, id='3d33b880-cfa0-4b5f-8f50-856bef8b9856'),\n",
       "  AIMessage(content='운동을 취미로 하시다니 건강을 잘 챙기고 계시네요! 어떤 운동을 주로 하시는지, 혹은 목표로 하고 있는 피트니스 목표가 있으신가요? 연구와 운동을 병행하는 것이 쉽지 않을 텐데, 정말 멋지세요!', additional_kwargs={'refusal': None}, response_metadata={'token_usage': {'completion_tokens': 68, 'prompt_tokens': 321, 'total_tokens': 389, 'completion_tokens_details': {'accepted_prediction_tokens': 0, 'audio_tokens': 0, 'reasoning_tokens': 0, 'rejected_prediction_tokens': 0}, 'prompt_tokens_details': {'audio_tokens': 0, 'cached_tokens': 0}}, 'model_name': 'gpt-4o-2024-08-06', 'system_fingerprint': 'fp_703d4ff298', 'finish_reason': 'stop', 'logprobs': None}, id='run-1d7f1a6e-47b3-41f4-83d7-27124e5d38c7-0', usage_metadata={'input_tokens': 321, 'output_tokens': 68, 'total_tokens': 389, 'input_token_details': {'audio': 0, 'cache_read': 0}, 'output_token_details': {'audio': 0, 'reasoning': 0}}),\n",
       "  HumanMessage(content='이순신 장군에 대해 간단히 알려줄래?', additional_kwargs={}, response_metadata={}, id='ba92b087-7e1b-4c29-b3b7-d28a58c3b1d5'),\n",
       "  AIMessage(content='물론입니다! 이순신 장군은 조선 시대의 유명한 해군 장군으로, 임진왜란 당시 조선을 방어하는 데 큰 역할을 했습니다. 특히, 그는 탁월한 전략가로서 한산도 대첩과 명량 해전 등 여러 전투에서 승리하며 조선의 해상을 지켰습니다. 그의 리더십과 전술은 오늘날까지도 많은 사람들에게 영감을 주고 있으며, 그의 충성과 헌신은 한국 역사에서 중요한 부분으로 평가받고 있습니다. 혹시 이순신 장군에 대해 더 알고 싶은 부분이 있다면 말씀해 주세요!', additional_kwargs={'refusal': None}, response_metadata={'token_usage': {'completion_tokens': 138, 'prompt_tokens': 410, 'total_tokens': 548, 'completion_tokens_details': {'accepted_prediction_tokens': 0, 'audio_tokens': 0, 'reasoning_tokens': 0, 'rejected_prediction_tokens': 0}, 'prompt_tokens_details': {'audio_tokens': 0, 'cached_tokens': 0}}, 'model_name': 'gpt-4o-2024-08-06', 'system_fingerprint': 'fp_703d4ff298', 'finish_reason': 'stop', 'logprobs': None}, id='run-9b98530c-2fd6-47b3-a0f0-44dbdf59e232-0', usage_metadata={'input_tokens': 410, 'output_tokens': 138, 'total_tokens': 548, 'input_token_details': {'audio': 0, 'cache_read': 0}, 'output_token_details': {'audio': 0, 'reasoning': 0}}),\n",
       "  HumanMessage(content='2차전지가 뭐임?', additional_kwargs={}, response_metadata={}, id='497c7756-afb1-4dcb-8c33-e610871b3b68'),\n",
       "  AIMessage(content='2차 전지는 충전이 가능한 배터리를 의미합니다. 반대로 1차 전지는 충전이 불가능하고 한 번 사용 후 폐기해야 하는 배터리입니다. 2차 전지는 전기를 저장했다가 필요할 때 다시 사용할 수 있도록 설계되어 있으며, 대표적으로 리튬 이온 배터리, 니켈-수소 배터리 등이 있습니다. 이러한 배터리는 스마트폰, 노트북, 전기차 등 다양한 전자기기와 산업에서 널리 사용되고 있습니다. 2차 전지는 지속 가능한 에너지 사용을 가능하게 하여, 환경 보호와 에너지 효율성 측면에서 중요한 역할을 하고 있습니다. 추가로 궁금한 점이 있으면 말씀해 주세요!', additional_kwargs={'refusal': None}, response_metadata={'token_usage': {'completion_tokens': 162, 'prompt_tokens': 563, 'total_tokens': 725, 'completion_tokens_details': {'accepted_prediction_tokens': 0, 'audio_tokens': 0, 'reasoning_tokens': 0, 'rejected_prediction_tokens': 0}, 'prompt_tokens_details': {'audio_tokens': 0, 'cached_tokens': 0}}, 'model_name': 'gpt-4o-2024-08-06', 'system_fingerprint': 'fp_703d4ff298', 'finish_reason': 'stop', 'logprobs': None}, id='run-144976fe-1e65-4580-a574-0778254fda36-0', usage_metadata={'input_tokens': 563, 'output_tokens': 162, 'total_tokens': 725, 'input_token_details': {'audio': 0, 'cache_read': 0}, 'output_token_details': {'audio': 0, 'reasoning': 0}}),\n",
       "  HumanMessage(content='대한민국에 대해 알려줘 간단히', additional_kwargs={}, response_metadata={}, id='ad45ae16-af4d-4cb7-8ba1-5ff0f6b22b09'),\n",
       "  AIMessage(content='대한민국은 동아시아에 위치한 나라로, 한반도의 남쪽에 자리 잡고 있습니다. 수도는 서울이며, 한국어를 공용어로 사용합니다. 대한민국은 1948년에 정부가 수립되었으며, 정치적으로는 민주 공화제를 채택하고 있습니다. 경제적으로는 빠른 산업화와 경제 성장을 이루어 세계에서 중요한 경제 대국 중 하나로 자리매김하고 있습니다. 또한, K-팝과 한국 드라마 등 문화 콘텐츠가 전 세계적으로 인기를 끌며, 문화적으로도 많은 영향력을 행사하고 있습니다. 궁금한 점이 더 있으시면 말씀해 주세요!', additional_kwargs={'refusal': None}, response_metadata={'token_usage': {'completion_tokens': 138, 'prompt_tokens': 823, 'total_tokens': 961, 'completion_tokens_details': {'accepted_prediction_tokens': 0, 'audio_tokens': 0, 'reasoning_tokens': 0, 'rejected_prediction_tokens': 0}, 'prompt_tokens_details': {'audio_tokens': 0, 'cached_tokens': 0}}, 'model_name': 'gpt-4o-2024-08-06', 'system_fingerprint': 'fp_b7d65f1a5b', 'finish_reason': 'stop', 'logprobs': None}, id='run-827cc7e7-d41e-4c9e-9104-e7ef6ed8a422-0', usage_metadata={'input_tokens': 823, 'output_tokens': 138, 'total_tokens': 961, 'input_token_details': {'audio': 0, 'cache_read': 0}, 'output_token_details': {'audio': 0, 'reasoning': 0}})],\n",
       " 'is_personal': 'NO'}"
      ]
     },
     "execution_count": 13,
     "metadata": {},
     "output_type": "execute_result"
    }
   ],
   "source": [
    "graph.invoke({\"messages\":\"대한민국에 대해 알려줘 간단히\"}, config=config)"
   ]
  },
  {
   "cell_type": "code",
   "execution_count": 14,
   "metadata": {},
   "outputs": [
    {
     "name": "stdout",
     "output_type": "stream",
     "text": [
      "\u001b[92m\n",
      "🚀 Passing Through [node_decide_personal] ..\u001b[0m\n",
      "\u001b[92m\n",
      "🚀 Passing Through [node_write_memory] ..\u001b[0m\n",
      "\u001b[92m\n",
      "🚀 Passing Through [node_answer] ..\u001b[0m\n",
      "\u001b[92m\n",
      "🚀 Passing Through [get_memory] ..\u001b[0m\n",
      "\u001b[92m\n",
      "🚀 Passing Through [get_memory] ..\u001b[0m\n",
      "\u001b[95m\n",
      "당신은 [사용자 정보]와 [이전 대화요약]을 통해 답변하는 유용한 챗봇입니다.\n",
      "[사용자 정보]:\n",
      "- 이름: 창우\n",
      "- 나이: 30살\n",
      "- 교육: 부산대학교 박사 과정 중\n",
      "- 전공: 인공지능\n",
      "- 관심사: LLM 분야\n",
      "- 취미: 헬스장에서 운동\n",
      "\n",
      "[이전 대화요약]:\n",
      "- 사용자는 이순신 장군에 대해 간단히 알려달라고 요청했고, 챗봇 답변은 이순신 장군의 역사적 역할과 업적에 대해 간략히 설명했습니다.\n",
      "- 사용자는 2차 전지가 무엇인지 물었고, 챗봇 답변은 2차 전지의 정의와 용도에 대해 설명했습니다.\n",
      "- 사용자는 대한민국에 대해 간단히 알려달라고 요청했고, 챗봇 답변은 대한민국의 위치, 수도, 정치 및 경제적 특성, 문화적 영향력에 대해 설명했습니다.\n",
      "\u001b[0m\n",
      "\u001b[92m\n",
      "🚀 Passing Through [node_write_summary] ..\u001b[0m\n",
      "\u001b[92m\n",
      "🚀 Passing Through [node_optimize_memory] ..\u001b[0m\n"
     ]
    },
    {
     "data": {
      "text/plain": [
       "{'messages': [HumanMessage(content='내 취미는 헬스장에서 운동하는거야', additional_kwargs={}, response_metadata={}, id='3d33b880-cfa0-4b5f-8f50-856bef8b9856'),\n",
       "  AIMessage(content='운동을 취미로 하시다니 건강을 잘 챙기고 계시네요! 어떤 운동을 주로 하시는지, 혹은 목표로 하고 있는 피트니스 목표가 있으신가요? 연구와 운동을 병행하는 것이 쉽지 않을 텐데, 정말 멋지세요!', additional_kwargs={'refusal': None}, response_metadata={'token_usage': {'completion_tokens': 68, 'prompt_tokens': 321, 'total_tokens': 389, 'completion_tokens_details': {'accepted_prediction_tokens': 0, 'audio_tokens': 0, 'reasoning_tokens': 0, 'rejected_prediction_tokens': 0}, 'prompt_tokens_details': {'audio_tokens': 0, 'cached_tokens': 0}}, 'model_name': 'gpt-4o-2024-08-06', 'system_fingerprint': 'fp_703d4ff298', 'finish_reason': 'stop', 'logprobs': None}, id='run-1d7f1a6e-47b3-41f4-83d7-27124e5d38c7-0', usage_metadata={'input_tokens': 321, 'output_tokens': 68, 'total_tokens': 389, 'input_token_details': {'audio': 0, 'cache_read': 0}, 'output_token_details': {'audio': 0, 'reasoning': 0}}),\n",
       "  HumanMessage(content='이순신 장군에 대해 간단히 알려줄래?', additional_kwargs={}, response_metadata={}, id='ba92b087-7e1b-4c29-b3b7-d28a58c3b1d5'),\n",
       "  AIMessage(content='물론입니다! 이순신 장군은 조선 시대의 유명한 해군 장군으로, 임진왜란 당시 조선을 방어하는 데 큰 역할을 했습니다. 특히, 그는 탁월한 전략가로서 한산도 대첩과 명량 해전 등 여러 전투에서 승리하며 조선의 해상을 지켰습니다. 그의 리더십과 전술은 오늘날까지도 많은 사람들에게 영감을 주고 있으며, 그의 충성과 헌신은 한국 역사에서 중요한 부분으로 평가받고 있습니다. 혹시 이순신 장군에 대해 더 알고 싶은 부분이 있다면 말씀해 주세요!', additional_kwargs={'refusal': None}, response_metadata={'token_usage': {'completion_tokens': 138, 'prompt_tokens': 410, 'total_tokens': 548, 'completion_tokens_details': {'accepted_prediction_tokens': 0, 'audio_tokens': 0, 'reasoning_tokens': 0, 'rejected_prediction_tokens': 0}, 'prompt_tokens_details': {'audio_tokens': 0, 'cached_tokens': 0}}, 'model_name': 'gpt-4o-2024-08-06', 'system_fingerprint': 'fp_703d4ff298', 'finish_reason': 'stop', 'logprobs': None}, id='run-9b98530c-2fd6-47b3-a0f0-44dbdf59e232-0', usage_metadata={'input_tokens': 410, 'output_tokens': 138, 'total_tokens': 548, 'input_token_details': {'audio': 0, 'cache_read': 0}, 'output_token_details': {'audio': 0, 'reasoning': 0}}),\n",
       "  HumanMessage(content='2차전지가 뭐임?', additional_kwargs={}, response_metadata={}, id='497c7756-afb1-4dcb-8c33-e610871b3b68'),\n",
       "  AIMessage(content='2차 전지는 충전이 가능한 배터리를 의미합니다. 반대로 1차 전지는 충전이 불가능하고 한 번 사용 후 폐기해야 하는 배터리입니다. 2차 전지는 전기를 저장했다가 필요할 때 다시 사용할 수 있도록 설계되어 있으며, 대표적으로 리튬 이온 배터리, 니켈-수소 배터리 등이 있습니다. 이러한 배터리는 스마트폰, 노트북, 전기차 등 다양한 전자기기와 산업에서 널리 사용되고 있습니다. 2차 전지는 지속 가능한 에너지 사용을 가능하게 하여, 환경 보호와 에너지 효율성 측면에서 중요한 역할을 하고 있습니다. 추가로 궁금한 점이 있으면 말씀해 주세요!', additional_kwargs={'refusal': None}, response_metadata={'token_usage': {'completion_tokens': 162, 'prompt_tokens': 563, 'total_tokens': 725, 'completion_tokens_details': {'accepted_prediction_tokens': 0, 'audio_tokens': 0, 'reasoning_tokens': 0, 'rejected_prediction_tokens': 0}, 'prompt_tokens_details': {'audio_tokens': 0, 'cached_tokens': 0}}, 'model_name': 'gpt-4o-2024-08-06', 'system_fingerprint': 'fp_703d4ff298', 'finish_reason': 'stop', 'logprobs': None}, id='run-144976fe-1e65-4580-a574-0778254fda36-0', usage_metadata={'input_tokens': 563, 'output_tokens': 162, 'total_tokens': 725, 'input_token_details': {'audio': 0, 'cache_read': 0}, 'output_token_details': {'audio': 0, 'reasoning': 0}}),\n",
       "  HumanMessage(content='대한민국에 대해 알려줘 간단히', additional_kwargs={}, response_metadata={}, id='ad45ae16-af4d-4cb7-8ba1-5ff0f6b22b09'),\n",
       "  AIMessage(content='대한민국은 동아시아에 위치한 나라로, 한반도의 남쪽에 자리 잡고 있습니다. 수도는 서울이며, 한국어를 공용어로 사용합니다. 대한민국은 1948년에 정부가 수립되었으며, 정치적으로는 민주 공화제를 채택하고 있습니다. 경제적으로는 빠른 산업화와 경제 성장을 이루어 세계에서 중요한 경제 대국 중 하나로 자리매김하고 있습니다. 또한, K-팝과 한국 드라마 등 문화 콘텐츠가 전 세계적으로 인기를 끌며, 문화적으로도 많은 영향력을 행사하고 있습니다. 궁금한 점이 더 있으시면 말씀해 주세요!', additional_kwargs={'refusal': None}, response_metadata={'token_usage': {'completion_tokens': 138, 'prompt_tokens': 823, 'total_tokens': 961, 'completion_tokens_details': {'accepted_prediction_tokens': 0, 'audio_tokens': 0, 'reasoning_tokens': 0, 'rejected_prediction_tokens': 0}, 'prompt_tokens_details': {'audio_tokens': 0, 'cached_tokens': 0}}, 'model_name': 'gpt-4o-2024-08-06', 'system_fingerprint': 'fp_b7d65f1a5b', 'finish_reason': 'stop', 'logprobs': None}, id='run-827cc7e7-d41e-4c9e-9104-e7ef6ed8a422-0', usage_metadata={'input_tokens': 823, 'output_tokens': 138, 'total_tokens': 961, 'input_token_details': {'audio': 0, 'cache_read': 0}, 'output_token_details': {'audio': 0, 'reasoning': 0}}),\n",
       "  HumanMessage(content='대한민국 남자들은 군대 가야해?', additional_kwargs={}, response_metadata={}, id='433f8445-84a5-48f1-99f2-e15e01aeeea0'),\n",
       "  AIMessage(content='네, 대한민국에서는 대부분의 건강한 남성들이 군 복무를 해야 합니다. 일반적으로 만 18세에서 28세 사이의 남성들은 약 18개월에서 21개월 동안 군 복무를 해야 하는데, 이는 병과에 따라 다를 수 있습니다. 병역 의무는 대한민국의 국방을 위해 중요한 역할을 하고 있으며, 일부 예외 사항이나 대체 복무 제도도 존재합니다. 예를 들어, 건강상의 이유나 특정 예술 및 체육 분야에서 뛰어난 성과를 거둔 경우 대체 복무나 병역 면제가 가능할 수 있습니다. 더 궁금한 점이 있으면 말씀해 주세요!', additional_kwargs={'refusal': None}, response_metadata={'token_usage': {'completion_tokens': 144, 'prompt_tokens': 819, 'total_tokens': 963, 'completion_tokens_details': {'accepted_prediction_tokens': 0, 'audio_tokens': 0, 'reasoning_tokens': 0, 'rejected_prediction_tokens': 0}, 'prompt_tokens_details': {'audio_tokens': 0, 'cached_tokens': 0}}, 'model_name': 'gpt-4o-2024-08-06', 'system_fingerprint': 'fp_b7d65f1a5b', 'finish_reason': 'stop', 'logprobs': None}, id='run-5bb79e66-92b5-4b41-9e5c-fc4a00107622-0', usage_metadata={'input_tokens': 819, 'output_tokens': 144, 'total_tokens': 963, 'input_token_details': {'audio': 0, 'cache_read': 0}, 'output_token_details': {'audio': 0, 'reasoning': 0}})],\n",
       " 'is_personal': 'NO'}"
      ]
     },
     "execution_count": 14,
     "metadata": {},
     "output_type": "execute_result"
    }
   ],
   "source": [
    "graph.invoke({\"messages\":\"대한민국 남자들은 군대 가야해?\"}, config=config)"
   ]
  },
  {
   "cell_type": "code",
   "execution_count": 15,
   "metadata": {},
   "outputs": [
    {
     "name": "stdout",
     "output_type": "stream",
     "text": [
      "\u001b[92m\n",
      "🚀 Passing Through [node_decide_personal] ..\u001b[0m\n",
      "\u001b[92m\n",
      "🚀 Passing Through [node_write_memory] ..\u001b[0m\n",
      "\u001b[92m\n",
      "🚀 Passing Through [node_answer] ..\u001b[0m\n",
      "\u001b[92m\n",
      "🚀 Passing Through [get_memory] ..\u001b[0m\n",
      "\u001b[92m\n",
      "🚀 Passing Through [get_memory] ..\u001b[0m\n",
      "\u001b[95m\n",
      "당신은 [사용자 정보]와 [이전 대화요약]을 통해 답변하는 유용한 챗봇입니다.\n",
      "[사용자 정보]:\n",
      "- 이름: 창우\n",
      "- 나이: 30살\n",
      "- 교육: 부산대학교 박사 과정 중\n",
      "- 전공: 인공지능\n",
      "- 관심사: LLM 분야\n",
      "- 취미: 헬스장에서 운동\n",
      "\n",
      "[이전 대화요약]:\n",
      "- 사용자는 이순신 장군에 대해 간단히 알려달라고 요청했고, 챗봇 답변은 이순신 장군의 역사적 역할과 업적에 대해 간략히 설명했습니다.\n",
      "- 사용자는 2차 전지가 무엇인지 물었고, 챗봇 답변은 2차 전지의 정의와 용도에 대해 설명했습니다.\n",
      "- 사용자는 대한민국에 대해 간단히 알려달라고 요청했고, 챗봇 답변은 대한민국의 위치, 수도, 정치 및 경제적 특성, 문화적 영향력에 대해 설명했습니다.\n",
      "\u001b[0m\n",
      "\u001b[92m\n",
      "🚀 Passing Through [node_write_summary] ..\u001b[0m\n",
      "\u001b[93m\n",
      "대화 길이가 12 이상 (6번 이상 대화 주고받음) 이므로 일부 요약합니다.\n",
      "\u001b[0m\n",
      "\u001b[92m\n",
      "🚀 Passing Through [get_memory] ..\u001b[0m\n",
      "\u001b[92m\n",
      "🚀 Passing Through [node_optimize_memory] ..\u001b[0m\n"
     ]
    },
    {
     "data": {
      "text/plain": [
       "{'messages': [HumanMessage(content='내 취미는 헬스장에서 운동하는거야', additional_kwargs={}, response_metadata={}, id='3d33b880-cfa0-4b5f-8f50-856bef8b9856'),\n",
       "  AIMessage(content='운동을 취미로 하시다니 건강을 잘 챙기고 계시네요! 어떤 운동을 주로 하시는지, 혹은 목표로 하고 있는 피트니스 목표가 있으신가요? 연구와 운동을 병행하는 것이 쉽지 않을 텐데, 정말 멋지세요!', additional_kwargs={'refusal': None}, response_metadata={'token_usage': {'completion_tokens': 68, 'prompt_tokens': 321, 'total_tokens': 389, 'completion_tokens_details': {'accepted_prediction_tokens': 0, 'audio_tokens': 0, 'reasoning_tokens': 0, 'rejected_prediction_tokens': 0}, 'prompt_tokens_details': {'audio_tokens': 0, 'cached_tokens': 0}}, 'model_name': 'gpt-4o-2024-08-06', 'system_fingerprint': 'fp_703d4ff298', 'finish_reason': 'stop', 'logprobs': None}, id='run-1d7f1a6e-47b3-41f4-83d7-27124e5d38c7-0', usage_metadata={'input_tokens': 321, 'output_tokens': 68, 'total_tokens': 389, 'input_token_details': {'audio': 0, 'cache_read': 0}, 'output_token_details': {'audio': 0, 'reasoning': 0}}),\n",
       "  HumanMessage(content='이순신 장군에 대해 간단히 알려줄래?', additional_kwargs={}, response_metadata={}, id='ba92b087-7e1b-4c29-b3b7-d28a58c3b1d5'),\n",
       "  AIMessage(content='물론입니다! 이순신 장군은 조선 시대의 유명한 해군 장군으로, 임진왜란 당시 조선을 방어하는 데 큰 역할을 했습니다. 특히, 그는 탁월한 전략가로서 한산도 대첩과 명량 해전 등 여러 전투에서 승리하며 조선의 해상을 지켰습니다. 그의 리더십과 전술은 오늘날까지도 많은 사람들에게 영감을 주고 있으며, 그의 충성과 헌신은 한국 역사에서 중요한 부분으로 평가받고 있습니다. 혹시 이순신 장군에 대해 더 알고 싶은 부분이 있다면 말씀해 주세요!', additional_kwargs={'refusal': None}, response_metadata={'token_usage': {'completion_tokens': 138, 'prompt_tokens': 410, 'total_tokens': 548, 'completion_tokens_details': {'accepted_prediction_tokens': 0, 'audio_tokens': 0, 'reasoning_tokens': 0, 'rejected_prediction_tokens': 0}, 'prompt_tokens_details': {'audio_tokens': 0, 'cached_tokens': 0}}, 'model_name': 'gpt-4o-2024-08-06', 'system_fingerprint': 'fp_703d4ff298', 'finish_reason': 'stop', 'logprobs': None}, id='run-9b98530c-2fd6-47b3-a0f0-44dbdf59e232-0', usage_metadata={'input_tokens': 410, 'output_tokens': 138, 'total_tokens': 548, 'input_token_details': {'audio': 0, 'cache_read': 0}, 'output_token_details': {'audio': 0, 'reasoning': 0}}),\n",
       "  HumanMessage(content='2차전지가 뭐임?', additional_kwargs={}, response_metadata={}, id='497c7756-afb1-4dcb-8c33-e610871b3b68'),\n",
       "  AIMessage(content='2차 전지는 충전이 가능한 배터리를 의미합니다. 반대로 1차 전지는 충전이 불가능하고 한 번 사용 후 폐기해야 하는 배터리입니다. 2차 전지는 전기를 저장했다가 필요할 때 다시 사용할 수 있도록 설계되어 있으며, 대표적으로 리튬 이온 배터리, 니켈-수소 배터리 등이 있습니다. 이러한 배터리는 스마트폰, 노트북, 전기차 등 다양한 전자기기와 산업에서 널리 사용되고 있습니다. 2차 전지는 지속 가능한 에너지 사용을 가능하게 하여, 환경 보호와 에너지 효율성 측면에서 중요한 역할을 하고 있습니다. 추가로 궁금한 점이 있으면 말씀해 주세요!', additional_kwargs={'refusal': None}, response_metadata={'token_usage': {'completion_tokens': 162, 'prompt_tokens': 563, 'total_tokens': 725, 'completion_tokens_details': {'accepted_prediction_tokens': 0, 'audio_tokens': 0, 'reasoning_tokens': 0, 'rejected_prediction_tokens': 0}, 'prompt_tokens_details': {'audio_tokens': 0, 'cached_tokens': 0}}, 'model_name': 'gpt-4o-2024-08-06', 'system_fingerprint': 'fp_703d4ff298', 'finish_reason': 'stop', 'logprobs': None}, id='run-144976fe-1e65-4580-a574-0778254fda36-0', usage_metadata={'input_tokens': 563, 'output_tokens': 162, 'total_tokens': 725, 'input_token_details': {'audio': 0, 'cache_read': 0}, 'output_token_details': {'audio': 0, 'reasoning': 0}}),\n",
       "  HumanMessage(content='대한민국에 대해 알려줘 간단히', additional_kwargs={}, response_metadata={}, id='ad45ae16-af4d-4cb7-8ba1-5ff0f6b22b09'),\n",
       "  AIMessage(content='대한민국은 동아시아에 위치한 나라로, 한반도의 남쪽에 자리 잡고 있습니다. 수도는 서울이며, 한국어를 공용어로 사용합니다. 대한민국은 1948년에 정부가 수립되었으며, 정치적으로는 민주 공화제를 채택하고 있습니다. 경제적으로는 빠른 산업화와 경제 성장을 이루어 세계에서 중요한 경제 대국 중 하나로 자리매김하고 있습니다. 또한, K-팝과 한국 드라마 등 문화 콘텐츠가 전 세계적으로 인기를 끌며, 문화적으로도 많은 영향력을 행사하고 있습니다. 궁금한 점이 더 있으시면 말씀해 주세요!', additional_kwargs={'refusal': None}, response_metadata={'token_usage': {'completion_tokens': 138, 'prompt_tokens': 823, 'total_tokens': 961, 'completion_tokens_details': {'accepted_prediction_tokens': 0, 'audio_tokens': 0, 'reasoning_tokens': 0, 'rejected_prediction_tokens': 0}, 'prompt_tokens_details': {'audio_tokens': 0, 'cached_tokens': 0}}, 'model_name': 'gpt-4o-2024-08-06', 'system_fingerprint': 'fp_b7d65f1a5b', 'finish_reason': 'stop', 'logprobs': None}, id='run-827cc7e7-d41e-4c9e-9104-e7ef6ed8a422-0', usage_metadata={'input_tokens': 823, 'output_tokens': 138, 'total_tokens': 961, 'input_token_details': {'audio': 0, 'cache_read': 0}, 'output_token_details': {'audio': 0, 'reasoning': 0}}),\n",
       "  HumanMessage(content='대한민국 남자들은 군대 가야해?', additional_kwargs={}, response_metadata={}, id='433f8445-84a5-48f1-99f2-e15e01aeeea0'),\n",
       "  AIMessage(content='네, 대한민국에서는 대부분의 건강한 남성들이 군 복무를 해야 합니다. 일반적으로 만 18세에서 28세 사이의 남성들은 약 18개월에서 21개월 동안 군 복무를 해야 하는데, 이는 병과에 따라 다를 수 있습니다. 병역 의무는 대한민국의 국방을 위해 중요한 역할을 하고 있으며, 일부 예외 사항이나 대체 복무 제도도 존재합니다. 예를 들어, 건강상의 이유나 특정 예술 및 체육 분야에서 뛰어난 성과를 거둔 경우 대체 복무나 병역 면제가 가능할 수 있습니다. 더 궁금한 점이 있으면 말씀해 주세요!', additional_kwargs={'refusal': None}, response_metadata={'token_usage': {'completion_tokens': 144, 'prompt_tokens': 819, 'total_tokens': 963, 'completion_tokens_details': {'accepted_prediction_tokens': 0, 'audio_tokens': 0, 'reasoning_tokens': 0, 'rejected_prediction_tokens': 0}, 'prompt_tokens_details': {'audio_tokens': 0, 'cached_tokens': 0}}, 'model_name': 'gpt-4o-2024-08-06', 'system_fingerprint': 'fp_b7d65f1a5b', 'finish_reason': 'stop', 'logprobs': None}, id='run-5bb79e66-92b5-4b41-9e5c-fc4a00107622-0', usage_metadata={'input_tokens': 819, 'output_tokens': 144, 'total_tokens': 963, 'input_token_details': {'audio': 0, 'cache_read': 0}, 'output_token_details': {'audio': 0, 'reasoning': 0}}),\n",
       "  HumanMessage(content='지금 미국대통령 누구임?', additional_kwargs={}, response_metadata={}, id='e8719e59-2925-4627-9468-b0ffd5a232a4'),\n",
       "  AIMessage(content='현재 미국 대통령은 조 바이든입니다. 그는 2021년 1월 20일부터 제46대 대통령으로 임기를 시작했습니다. 조 바이든은 민주당 소속으로, 이전에는 버락 오바마 대통령 시절 부통령을 역임한 바 있습니다. 그의 행정부는 다양한 국내외 문제를 다루고 있으며, 현재까지 여러 정책을 추진하고 있습니다. 더 궁금한 점이 있으면 말씀해 주세요!', additional_kwargs={'refusal': None}, response_metadata={'token_usage': {'completion_tokens': 95, 'prompt_tokens': 978, 'total_tokens': 1073, 'completion_tokens_details': {'accepted_prediction_tokens': 0, 'audio_tokens': 0, 'reasoning_tokens': 0, 'rejected_prediction_tokens': 0}, 'prompt_tokens_details': {'audio_tokens': 0, 'cached_tokens': 0}}, 'model_name': 'gpt-4o-2024-08-06', 'system_fingerprint': 'fp_b7d65f1a5b', 'finish_reason': 'stop', 'logprobs': None}, id='run-c69d4000-e5f1-4f37-a2bc-c153683ab881-0', usage_metadata={'input_tokens': 978, 'output_tokens': 95, 'total_tokens': 1073, 'input_token_details': {'audio': 0, 'cache_read': 0}, 'output_token_details': {'audio': 0, 'reasoning': 0}})],\n",
       " 'is_personal': 'NO'}"
      ]
     },
     "execution_count": 15,
     "metadata": {},
     "output_type": "execute_result"
    }
   ],
   "source": [
    "graph.invoke({\"messages\":\"지금 미국대통령 누구임?\"}, config=config)"
   ]
  },
  {
   "cell_type": "code",
   "execution_count": 16,
   "metadata": {},
   "outputs": [
    {
     "name": "stdout",
     "output_type": "stream",
     "text": [
      "\u001b[92m\n",
      "🚀 Passing Through [node_decide_personal] ..\u001b[0m\n",
      "\u001b[92m\n",
      "🚀 Passing Through [node_write_memory] ..\u001b[0m\n",
      "\u001b[92m\n",
      "🚀 Passing Through [node_answer] ..\u001b[0m\n",
      "\u001b[92m\n",
      "🚀 Passing Through [get_memory] ..\u001b[0m\n",
      "\u001b[92m\n",
      "🚀 Passing Through [get_memory] ..\u001b[0m\n",
      "\u001b[95m\n",
      "당신은 [사용자 정보]와 [이전 대화요약]을 통해 답변하는 유용한 챗봇입니다.\n",
      "[사용자 정보]:\n",
      "- 이름: 창우\n",
      "- 나이: 30살\n",
      "- 교육: 부산대학교 박사 과정 중\n",
      "- 전공: 인공지능\n",
      "- 관심사: LLM 분야\n",
      "- 취미: 헬스장에서 운동\n",
      "\n",
      "[이전 대화요약]:\n",
      "- 사용자는 이순신 장군에 대해 간단히 알려달라고 요청했고, 챗봇 답변은 이순신 장군의 역사적 역할과 업적에 대해 간략히 설명했습니다.\n",
      "- 사용자는 2차 전지가 무엇인지 물었고, 챗봇 답변은 2차 전지의 정의와 용도에 대해 설명했습니다.\n",
      "- 사용자는 대한민국에 대해 간단히 알려달라고 요청했고, 챗봇 답변은 대한민국의 위치, 수도, 정치 및 경제적 특성, 문화적 영향력에 대해 설명했습니다.\n",
      "- 사용자는 대한민국 남자들의 군 복무에 대해 물었고, 챗봇 답변은 대부분의 건강한 남성들이 군 복무를 해야 하며, 병역 의무 및 대체 복무 제도에 대해 설명했습니다.\n",
      "- 사용자는 현재 미국 대통령이 누구인지 물었고, 챗봇 답변은 조 바이든이 제46대 대통령이라고 설명했습니다.\n",
      "\u001b[0m\n",
      "\u001b[92m\n",
      "🚀 Passing Through [node_write_summary] ..\u001b[0m\n",
      "\u001b[93m\n",
      "대화 길이가 12 이상 (6번 이상 대화 주고받음) 이므로 일부 요약합니다.\n",
      "\u001b[0m\n",
      "\u001b[92m\n",
      "🚀 Passing Through [get_memory] ..\u001b[0m\n",
      "\u001b[92m\n",
      "🚀 Passing Through [node_optimize_memory] ..\u001b[0m\n"
     ]
    },
    {
     "data": {
      "text/plain": [
       "{'messages': [HumanMessage(content='대한민국에 대해 알려줘 간단히', additional_kwargs={}, response_metadata={}, id='ad45ae16-af4d-4cb7-8ba1-5ff0f6b22b09'),\n",
       "  AIMessage(content='대한민국은 동아시아에 위치한 나라로, 한반도의 남쪽에 자리 잡고 있습니다. 수도는 서울이며, 한국어를 공용어로 사용합니다. 대한민국은 1948년에 정부가 수립되었으며, 정치적으로는 민주 공화제를 채택하고 있습니다. 경제적으로는 빠른 산업화와 경제 성장을 이루어 세계에서 중요한 경제 대국 중 하나로 자리매김하고 있습니다. 또한, K-팝과 한국 드라마 등 문화 콘텐츠가 전 세계적으로 인기를 끌며, 문화적으로도 많은 영향력을 행사하고 있습니다. 궁금한 점이 더 있으시면 말씀해 주세요!', additional_kwargs={'refusal': None}, response_metadata={'token_usage': {'completion_tokens': 138, 'prompt_tokens': 823, 'total_tokens': 961, 'completion_tokens_details': {'accepted_prediction_tokens': 0, 'audio_tokens': 0, 'reasoning_tokens': 0, 'rejected_prediction_tokens': 0}, 'prompt_tokens_details': {'audio_tokens': 0, 'cached_tokens': 0}}, 'model_name': 'gpt-4o-2024-08-06', 'system_fingerprint': 'fp_b7d65f1a5b', 'finish_reason': 'stop', 'logprobs': None}, id='run-827cc7e7-d41e-4c9e-9104-e7ef6ed8a422-0', usage_metadata={'input_tokens': 823, 'output_tokens': 138, 'total_tokens': 961, 'input_token_details': {'audio': 0, 'cache_read': 0}, 'output_token_details': {'audio': 0, 'reasoning': 0}}),\n",
       "  HumanMessage(content='대한민국 남자들은 군대 가야해?', additional_kwargs={}, response_metadata={}, id='433f8445-84a5-48f1-99f2-e15e01aeeea0'),\n",
       "  AIMessage(content='네, 대한민국에서는 대부분의 건강한 남성들이 군 복무를 해야 합니다. 일반적으로 만 18세에서 28세 사이의 남성들은 약 18개월에서 21개월 동안 군 복무를 해야 하는데, 이는 병과에 따라 다를 수 있습니다. 병역 의무는 대한민국의 국방을 위해 중요한 역할을 하고 있으며, 일부 예외 사항이나 대체 복무 제도도 존재합니다. 예를 들어, 건강상의 이유나 특정 예술 및 체육 분야에서 뛰어난 성과를 거둔 경우 대체 복무나 병역 면제가 가능할 수 있습니다. 더 궁금한 점이 있으면 말씀해 주세요!', additional_kwargs={'refusal': None}, response_metadata={'token_usage': {'completion_tokens': 144, 'prompt_tokens': 819, 'total_tokens': 963, 'completion_tokens_details': {'accepted_prediction_tokens': 0, 'audio_tokens': 0, 'reasoning_tokens': 0, 'rejected_prediction_tokens': 0}, 'prompt_tokens_details': {'audio_tokens': 0, 'cached_tokens': 0}}, 'model_name': 'gpt-4o-2024-08-06', 'system_fingerprint': 'fp_b7d65f1a5b', 'finish_reason': 'stop', 'logprobs': None}, id='run-5bb79e66-92b5-4b41-9e5c-fc4a00107622-0', usage_metadata={'input_tokens': 819, 'output_tokens': 144, 'total_tokens': 963, 'input_token_details': {'audio': 0, 'cache_read': 0}, 'output_token_details': {'audio': 0, 'reasoning': 0}}),\n",
       "  HumanMessage(content='지금 미국대통령 누구임?', additional_kwargs={}, response_metadata={}, id='e8719e59-2925-4627-9468-b0ffd5a232a4'),\n",
       "  AIMessage(content='현재 미국 대통령은 조 바이든입니다. 그는 2021년 1월 20일부터 제46대 대통령으로 임기를 시작했습니다. 조 바이든은 민주당 소속으로, 이전에는 버락 오바마 대통령 시절 부통령을 역임한 바 있습니다. 그의 행정부는 다양한 국내외 문제를 다루고 있으며, 현재까지 여러 정책을 추진하고 있습니다. 더 궁금한 점이 있으면 말씀해 주세요!', additional_kwargs={'refusal': None}, response_metadata={'token_usage': {'completion_tokens': 95, 'prompt_tokens': 978, 'total_tokens': 1073, 'completion_tokens_details': {'accepted_prediction_tokens': 0, 'audio_tokens': 0, 'reasoning_tokens': 0, 'rejected_prediction_tokens': 0}, 'prompt_tokens_details': {'audio_tokens': 0, 'cached_tokens': 0}}, 'model_name': 'gpt-4o-2024-08-06', 'system_fingerprint': 'fp_b7d65f1a5b', 'finish_reason': 'stop', 'logprobs': None}, id='run-c69d4000-e5f1-4f37-a2bc-c153683ab881-0', usage_metadata={'input_tokens': 978, 'output_tokens': 95, 'total_tokens': 1073, 'input_token_details': {'audio': 0, 'cache_read': 0}, 'output_token_details': {'audio': 0, 'reasoning': 0}}),\n",
       "  HumanMessage(content='한국 대통령에 대해도 알려줘', additional_kwargs={}, response_metadata={}, id='696c95fc-2272-4b0e-8e74-03e84924e9d5'),\n",
       "  AIMessage(content='현재 대한민국 대통령은 윤석열입니다. 그는 2022년 5월 10일부터 제13대 대통령으로 임기를 시작했습니다. 윤석열 대통령은 검사 출신으로, 정치에 입문하기 전에는 검찰총장을 역임했습니다. 그의 행정부는 경제, 안보, 사회 정책 등 다양한 분야에서 정책을 추진하고 있으며, 특히 경제 회복 및 안보 강화에 중점을 두고 있습니다. 더 궁금한 점이 있으면 말씀해 주세요!', additional_kwargs={'refusal': None}, response_metadata={'token_usage': {'completion_tokens': 104, 'prompt_tokens': 1173, 'total_tokens': 1277, 'completion_tokens_details': {'accepted_prediction_tokens': 0, 'audio_tokens': 0, 'reasoning_tokens': 0, 'rejected_prediction_tokens': 0}, 'prompt_tokens_details': {'audio_tokens': 0, 'cached_tokens': 0}}, 'model_name': 'gpt-4o-2024-08-06', 'system_fingerprint': 'fp_b7d65f1a5b', 'finish_reason': 'stop', 'logprobs': None}, id='run-325a5a65-d29a-4217-901d-7414c5399060-0', usage_metadata={'input_tokens': 1173, 'output_tokens': 104, 'total_tokens': 1277, 'input_token_details': {'audio': 0, 'cache_read': 0}, 'output_token_details': {'audio': 0, 'reasoning': 0}})],\n",
       " 'is_personal': 'NO'}"
      ]
     },
     "execution_count": 16,
     "metadata": {},
     "output_type": "execute_result"
    }
   ],
   "source": [
    "graph.invoke({\"messages\":\"한국 대통령에 대해도 알려줘\"}, config=config)"
   ]
  },
  {
   "cell_type": "code",
   "execution_count": 17,
   "metadata": {},
   "outputs": [
    {
     "name": "stdout",
     "output_type": "stream",
     "text": [
      "\u001b[92m\n",
      "🚀 Passing Through [node_decide_personal] ..\u001b[0m\n",
      "\u001b[92m\n",
      "🚀 Passing Through [node_write_memory] ..\u001b[0m\n",
      "\u001b[92m\n",
      "🚀 Passing Through [node_answer] ..\u001b[0m\n",
      "\u001b[92m\n",
      "🚀 Passing Through [get_memory] ..\u001b[0m\n",
      "\u001b[92m\n",
      "🚀 Passing Through [get_memory] ..\u001b[0m\n",
      "\u001b[95m\n",
      "당신은 [사용자 정보]와 [이전 대화요약]을 통해 답변하는 유용한 챗봇입니다.\n",
      "[사용자 정보]:\n",
      "- 이름: 창우\n",
      "- 나이: 30살\n",
      "- 교육: 부산대학교 박사 과정 중\n",
      "- 전공: 인공지능\n",
      "- 관심사: LLM 분야\n",
      "- 취미: 헬스장에서 운동\n",
      "\n",
      "[이전 대화요약]:\n",
      "- 사용자는 이순신 장군에 대해 간단히 알려달라고 요청했고, 챗봇 답변은 이순신 장군의 역사적 역할과 업적에 대해 간략히 설명했습니다.\n",
      "- 사용자는 2차 전지가 무엇인지 물었고, 챗봇 답변은 2차 전지의 정의와 용도에 대해 설명했습니다.\n",
      "- 사용자는 대한민국에 대해 간단히 알려달라고 요청했고, 챗봇 답변은 대한민국의 위치, 수도, 정치 및 경제적 특성, 문화적 영향력에 대해 설명했습니다.\n",
      "- 사용자는 대한민국 남자들의 군 복무에 대해 물었고, 챗봇 답변은 대부분의 건강한 남성들이 군 복무를 해야 하며, 병역 의무 및 대체 복무 제도에 대해 설명했습니다.\n",
      "- 사용자는 현재 미국 대통령이 누구인지 물었고, 챗봇 답변은 조 바이든이 제46대 대통령이라고 설명했습니다.\n",
      "- 사용자는 한국 대통령에 대해 알려달라고 요청했고, 챗봇 답변은 윤석열이 제13대 대통령이며, 그의 배경과 행정부의 주요 정책에 대해 설명했습니다.\n",
      "\u001b[0m\n",
      "\u001b[92m\n",
      "🚀 Passing Through [node_write_summary] ..\u001b[0m\n",
      "\u001b[92m\n",
      "🚀 Passing Through [node_optimize_memory] ..\u001b[0m\n"
     ]
    },
    {
     "data": {
      "text/plain": [
       "{'messages': [HumanMessage(content='대한민국에 대해 알려줘 간단히', additional_kwargs={}, response_metadata={}, id='ad45ae16-af4d-4cb7-8ba1-5ff0f6b22b09'),\n",
       "  AIMessage(content='대한민국은 동아시아에 위치한 나라로, 한반도의 남쪽에 자리 잡고 있습니다. 수도는 서울이며, 한국어를 공용어로 사용합니다. 대한민국은 1948년에 정부가 수립되었으며, 정치적으로는 민주 공화제를 채택하고 있습니다. 경제적으로는 빠른 산업화와 경제 성장을 이루어 세계에서 중요한 경제 대국 중 하나로 자리매김하고 있습니다. 또한, K-팝과 한국 드라마 등 문화 콘텐츠가 전 세계적으로 인기를 끌며, 문화적으로도 많은 영향력을 행사하고 있습니다. 궁금한 점이 더 있으시면 말씀해 주세요!', additional_kwargs={'refusal': None}, response_metadata={'token_usage': {'completion_tokens': 138, 'prompt_tokens': 823, 'total_tokens': 961, 'completion_tokens_details': {'accepted_prediction_tokens': 0, 'audio_tokens': 0, 'reasoning_tokens': 0, 'rejected_prediction_tokens': 0}, 'prompt_tokens_details': {'audio_tokens': 0, 'cached_tokens': 0}}, 'model_name': 'gpt-4o-2024-08-06', 'system_fingerprint': 'fp_b7d65f1a5b', 'finish_reason': 'stop', 'logprobs': None}, id='run-827cc7e7-d41e-4c9e-9104-e7ef6ed8a422-0', usage_metadata={'input_tokens': 823, 'output_tokens': 138, 'total_tokens': 961, 'input_token_details': {'audio': 0, 'cache_read': 0}, 'output_token_details': {'audio': 0, 'reasoning': 0}}),\n",
       "  HumanMessage(content='대한민국 남자들은 군대 가야해?', additional_kwargs={}, response_metadata={}, id='433f8445-84a5-48f1-99f2-e15e01aeeea0'),\n",
       "  AIMessage(content='네, 대한민국에서는 대부분의 건강한 남성들이 군 복무를 해야 합니다. 일반적으로 만 18세에서 28세 사이의 남성들은 약 18개월에서 21개월 동안 군 복무를 해야 하는데, 이는 병과에 따라 다를 수 있습니다. 병역 의무는 대한민국의 국방을 위해 중요한 역할을 하고 있으며, 일부 예외 사항이나 대체 복무 제도도 존재합니다. 예를 들어, 건강상의 이유나 특정 예술 및 체육 분야에서 뛰어난 성과를 거둔 경우 대체 복무나 병역 면제가 가능할 수 있습니다. 더 궁금한 점이 있으면 말씀해 주세요!', additional_kwargs={'refusal': None}, response_metadata={'token_usage': {'completion_tokens': 144, 'prompt_tokens': 819, 'total_tokens': 963, 'completion_tokens_details': {'accepted_prediction_tokens': 0, 'audio_tokens': 0, 'reasoning_tokens': 0, 'rejected_prediction_tokens': 0}, 'prompt_tokens_details': {'audio_tokens': 0, 'cached_tokens': 0}}, 'model_name': 'gpt-4o-2024-08-06', 'system_fingerprint': 'fp_b7d65f1a5b', 'finish_reason': 'stop', 'logprobs': None}, id='run-5bb79e66-92b5-4b41-9e5c-fc4a00107622-0', usage_metadata={'input_tokens': 819, 'output_tokens': 144, 'total_tokens': 963, 'input_token_details': {'audio': 0, 'cache_read': 0}, 'output_token_details': {'audio': 0, 'reasoning': 0}}),\n",
       "  HumanMessage(content='지금 미국대통령 누구임?', additional_kwargs={}, response_metadata={}, id='e8719e59-2925-4627-9468-b0ffd5a232a4'),\n",
       "  AIMessage(content='현재 미국 대통령은 조 바이든입니다. 그는 2021년 1월 20일부터 제46대 대통령으로 임기를 시작했습니다. 조 바이든은 민주당 소속으로, 이전에는 버락 오바마 대통령 시절 부통령을 역임한 바 있습니다. 그의 행정부는 다양한 국내외 문제를 다루고 있으며, 현재까지 여러 정책을 추진하고 있습니다. 더 궁금한 점이 있으면 말씀해 주세요!', additional_kwargs={'refusal': None}, response_metadata={'token_usage': {'completion_tokens': 95, 'prompt_tokens': 978, 'total_tokens': 1073, 'completion_tokens_details': {'accepted_prediction_tokens': 0, 'audio_tokens': 0, 'reasoning_tokens': 0, 'rejected_prediction_tokens': 0}, 'prompt_tokens_details': {'audio_tokens': 0, 'cached_tokens': 0}}, 'model_name': 'gpt-4o-2024-08-06', 'system_fingerprint': 'fp_b7d65f1a5b', 'finish_reason': 'stop', 'logprobs': None}, id='run-c69d4000-e5f1-4f37-a2bc-c153683ab881-0', usage_metadata={'input_tokens': 978, 'output_tokens': 95, 'total_tokens': 1073, 'input_token_details': {'audio': 0, 'cache_read': 0}, 'output_token_details': {'audio': 0, 'reasoning': 0}}),\n",
       "  HumanMessage(content='한국 대통령에 대해도 알려줘', additional_kwargs={}, response_metadata={}, id='696c95fc-2272-4b0e-8e74-03e84924e9d5'),\n",
       "  AIMessage(content='현재 대한민국 대통령은 윤석열입니다. 그는 2022년 5월 10일부터 제13대 대통령으로 임기를 시작했습니다. 윤석열 대통령은 검사 출신으로, 정치에 입문하기 전에는 검찰총장을 역임했습니다. 그의 행정부는 경제, 안보, 사회 정책 등 다양한 분야에서 정책을 추진하고 있으며, 특히 경제 회복 및 안보 강화에 중점을 두고 있습니다. 더 궁금한 점이 있으면 말씀해 주세요!', additional_kwargs={'refusal': None}, response_metadata={'token_usage': {'completion_tokens': 104, 'prompt_tokens': 1173, 'total_tokens': 1277, 'completion_tokens_details': {'accepted_prediction_tokens': 0, 'audio_tokens': 0, 'reasoning_tokens': 0, 'rejected_prediction_tokens': 0}, 'prompt_tokens_details': {'audio_tokens': 0, 'cached_tokens': 0}}, 'model_name': 'gpt-4o-2024-08-06', 'system_fingerprint': 'fp_b7d65f1a5b', 'finish_reason': 'stop', 'logprobs': None}, id='run-325a5a65-d29a-4217-901d-7414c5399060-0', usage_metadata={'input_tokens': 1173, 'output_tokens': 104, 'total_tokens': 1277, 'input_token_details': {'audio': 0, 'cache_read': 0}, 'output_token_details': {'audio': 0, 'reasoning': 0}}),\n",
       "  HumanMessage(content='김치에 대해 알려줄래? 어떻게만듦? 간단히', additional_kwargs={}, response_metadata={}, id='2f4b3494-67cc-4757-b0dc-e9be2246993b'),\n",
       "  AIMessage(content='김치는 한국의 전통 발효 음식으로, 주로 배추나 무를 주재료로 사용합니다. 기본적인 김치의 제조 과정은 다음과 같습니다:\\n\\n1. **재료 준비**: 배추, 무, 소금, 고춧가루, 마늘, 생강, 파, 젓갈 등이 필요합니다.\\n\\n2. **절임**: 배추를 반으로 가른 후, 소금을 뿌려 일정 시간 동안 절여서 물기를 제거하고 부드럽게 만듭니다.\\n\\n3. **양념 만들기**: 고춧가루, 다진 마늘, 생강, 파, 젓갈 등을 섞어 양념을 만듭니다.\\n\\n4. **버무리기**: 절인 배추에 준비한 양념을 골고루 발라줍니다.\\n\\n5. **발효**: 버무린 김치를 적당한 용기에 담아 일정 기간 동안 발효합니다. 발효 시간은 온도에 따라 달라지며, 보통 서늘한 곳에서 며칠간 발효시킵니다.\\n\\n김치는 다양한 종류가 있으며, 지역과 개인의 취향에 따라 재료와 양념이 달라질 수 있습니다. 발효된 김치는 맛과 향이 독특하며, 한국 요리의 중요한 반찬으로 자리 잡고 있습니다. 더 궁금한 점이 있으면 말씀해 주세요!', additional_kwargs={'refusal': None}, response_metadata={'token_usage': {'completion_tokens': 306, 'prompt_tokens': 921, 'total_tokens': 1227, 'completion_tokens_details': {'accepted_prediction_tokens': 0, 'audio_tokens': 0, 'reasoning_tokens': 0, 'rejected_prediction_tokens': 0}, 'prompt_tokens_details': {'audio_tokens': 0, 'cached_tokens': 0}}, 'model_name': 'gpt-4o-2024-08-06', 'system_fingerprint': 'fp_b7d65f1a5b', 'finish_reason': 'stop', 'logprobs': None}, id='run-768ae655-8bde-4062-aff8-f8db98697cfb-0', usage_metadata={'input_tokens': 921, 'output_tokens': 306, 'total_tokens': 1227, 'input_token_details': {'audio': 0, 'cache_read': 0}, 'output_token_details': {'audio': 0, 'reasoning': 0}})],\n",
       " 'is_personal': 'NO'}"
      ]
     },
     "execution_count": 17,
     "metadata": {},
     "output_type": "execute_result"
    }
   ],
   "source": [
    "graph.invoke({\"messages\":\"김치에 대해 알려줄래? 어떻게만듦? 간단히\"}, config=config)"
   ]
  }
 ],
 "metadata": {
  "kernelspec": {
   "display_name": "langchain",
   "language": "python",
   "name": "langchain"
  },
  "language_info": {
   "codemirror_mode": {
    "name": "ipython",
    "version": 3
   },
   "file_extension": ".py",
   "mimetype": "text/x-python",
   "name": "python",
   "nbconvert_exporter": "python",
   "pygments_lexer": "ipython3",
   "version": "3.11.11"
  }
 },
 "nbformat": 4,
 "nbformat_minor": 2
}
