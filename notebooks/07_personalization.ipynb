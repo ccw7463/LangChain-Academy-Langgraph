{
 "cells": [
  {
   "cell_type": "code",
   "execution_count": 1,
   "metadata": {},
   "outputs": [],
   "source": [
    "from modules.base import *"
   ]
  },
  {
   "cell_type": "markdown",
   "metadata": {},
   "source": [
    "- LongTerm 메모리로 개인정보 넣음\n",
    "- 대화내용 요약 및 오래된 state 정리"
   ]
  },
  {
   "cell_type": "code",
   "execution_count": 3,
   "metadata": {},
   "outputs": [],
   "source": [
    "LIMIT_LENGTH = 12 # 대화기록이 특정길이 넘어갈경우 일부삭제"
   ]
  },
  {
   "cell_type": "code",
   "execution_count": 4,
   "metadata": {},
   "outputs": [],
   "source": [
    "prompt_config = ConfigDict()\n",
    "prompt_config.answer_prompt = \"\"\"당신은 [사용자 정보]와 [이전 대화요약]을 통해 답변하는 유용한 챗봇입니다.\n",
    "[사용자 정보]:\n",
    "{memory}\n",
    "\n",
    "[이전 대화요약]:\n",
    "{summary}\"\"\"\n",
    "\n",
    "prompt_config.create_memory_prompt =\"\"\"당신은 사용자의 응답을 개인화하기 위해 사용자에 대한 정보를 수집하고 있습니다.\n",
    "\n",
    "[현재 사용자 정보]\n",
    "{memory}\n",
    "\n",
    "지침:\n",
    "1. 아래의 채팅 기록을 주의 깊게 검토하세요.\n",
    "2. 사용자에 대한 새로운 정보를 식별하세요. 예를 들면:\n",
    "   - 개인 정보 (이름, 위치 등)\n",
    "   - 선호 사항 (좋아하는 것, 싫어하는 것 등)\n",
    "   - 관심사와 취미\n",
    "   - 과거 경험\n",
    "   - 목표나 미래 계획   \n",
    "   - 질문 유형\n",
    "   - 답변 선호 사항\n",
    "3. 새로운 정보를 기존 메모리와 병합하세요.\n",
    "4. 메모리는 명확한 불릿 리스트 형식으로 작성하세요.\n",
    "5. 새로운 정보가 기존 메모리와 충돌할 경우, 가장 최근 정보를 유지하세요.\n",
    "6. 만약 새로운 정보가 없다면 [현재 사용자 정보] 내용을 그대로 출력하세요.\n",
    "7. 기존 정보를 유지할경우 [현재 사용자 정보] 내용을 그대로 출력하세요.\n",
    "\n",
    "기억하세요: 사용자가 직접적으로 언급한 사실적인 정보만 포함해야 합니다. 추측이나 추론을 하지 마세요.\n",
    "\n",
    "아래의 채팅 기록을 바탕으로 사용자 정보를 업데이트하세요:\n",
    "\n",
    "출력 양식은 반드시 아래를 따르세요.\n",
    "\n",
    "- 정보 종류 : 정보 내용\n",
    "- 정보 종류 : 정보 내용\n",
    "...\n",
    "\"\"\"\n",
    "\n",
    "prompt_config.summary_prompt = \"\"\"위 내용들은 사용자와 챗봇의 대화 내용입니다. 사용자와 챗봇이 어떤 대화를 주고 받았는지 내용을 요약해보세요.\n",
    "\n",
    "지침:\n",
    "1. 이름, 학업, 취미, 음식, 인적사항 등 사용자의 성향 및 특징을 파악할 수 있는 정보는 요약할 필요없습니다.\n",
    "2. 개인정보에 대한 대화만 있을 경우 요약하지 않아도 됩니다.\n",
    "3. 요약할 내용이 없을 경우 빈 문자열을 출력하세요.\n",
    "\n",
    "출력 양식은 반드시 아래를 따르세요.\n",
    "\n",
    "- 대화 내용 1\n",
    "- 대화 내용 2\n",
    "...\n",
    "\"\"\"\n",
    "prompt_config.summary_update_prompt = \"\"\"위 내용들은 사용자와 챗봇의 대화 내용입니다. 사용자와 챗봇이 어떤 대화를 주고 받았는지 내용을 요약해보세요.\n",
    "\n",
    "[이전 대화요약]\n",
    "{summary}\n",
    "\n",
    "지침:\n",
    "1. [이전 대화요약]을 주의 깊게 검토하세요.\n",
    "2. 새로운 정보를 [이전 대화요약]과 병합하세요.\n",
    "3. 새로운 정보가 [이전 대화요약]과 충돌할 경우, 가장 최근 정보를 유지하세요.\n",
    "4. 만약 새로운 정보가 없다면 [이전 대화요약] 내용을 그대로 출력하세요.\n",
    "\n",
    "출력 양식은 반드시 아래를 따르세요.\n",
    "\n",
    "- 대화 내용 1\n",
    "- 대화 내용 2\n",
    "...\n",
    "\"\"\""
   ]
  },
  {
   "cell_type": "code",
   "execution_count": 5,
   "metadata": {},
   "outputs": [
    {
     "data": {
      "image/png": "[encoded data removed]",
      "text/plain": [
       "<IPython.core.display.Image object>"
      ]
     },
     "metadata": {},
     "output_type": "display_data"
    }
   ],
   "source": [
    "class State(MessagesState):\n",
    "    summary: str\n",
    "\n",
    "@trace_function(enable_print=False)\n",
    "def node_answer(state: State, \n",
    "                config: RunnableConfig,\n",
    "                store: BaseStore):\n",
    "    \n",
    "    # 요약 부문\n",
    "    summary = state.get(\"summary\", \"\")\n",
    "    namespace = (\"memories\", config[\"configurable\"][\"user_id\"])\n",
    "    key = \"chat_user_memory\"\n",
    "    memory = _get_memory(namespace=namespace, \n",
    "                         key=key, \n",
    "                         store=store)\n",
    "    system_message = prompt_config.answer_prompt.format(memory=memory, summary=summary)\n",
    "    prompt = [SystemMessage(content=system_message)] + state[\"messages\"]\n",
    "    print(f\"{PINK}\\n{prompt[0].content}\\n{RESET}\")\n",
    "    response = llm.invoke(prompt)\n",
    "    return {\"messages\": response}\n",
    "\n",
    "@trace_function(enable_print=False)\n",
    "def node_summarize_conversation(state: State):\n",
    "    summary = state.get(\"summary\", \"\")\n",
    "    if summary:\n",
    "        summary_message = prompt_config.summary_update_prompt.format(summary=summary)\n",
    "    else:\n",
    "        summary_message = prompt_config.summary_prompt\n",
    "    prompt = state[\"messages\"] + [HumanMessage(content=summary_message)]\n",
    "    response = llm.invoke(prompt)\n",
    "    delete_messages = [RemoveMessage(id=m.id) for m in state[\"messages\"][:LIMIT_LENGTH//2]]\n",
    "    return {\"summary\": response.content, \"messages\": delete_messages}\n",
    "\n",
    "@trace_function(enable_print=False)\n",
    "def node_write_memory(state: State, \n",
    "                      config: RunnableConfig, \n",
    "                      store: BaseStore):\n",
    "    \"\"\"\n",
    "        Des:\n",
    "            사용자 메시지를 인식하고, 개인정보로 저장하는 노드\n",
    "    \"\"\"\n",
    "    namespace = (\"memories\", config[\"configurable\"][\"user_id\"])\n",
    "    key = \"chat_user_memory\"\n",
    "    memory = _get_memory(namespace=namespace, \n",
    "                         key=key, \n",
    "                         store=store)\n",
    "    system_message = prompt_config.create_memory_prompt.format(memory=memory)\n",
    "    prompt = [SystemMessage(content=system_message)]+state[\"messages\"]\n",
    "    response = llm.invoke(prompt)\n",
    "    print(f\"{BLUE}\\n{response.content}\\n{RESET}\")\n",
    "    store.put(namespace=namespace, \n",
    "              key=key, \n",
    "              value={\"memory\":response.content})\n",
    "\n",
    "@trace_function(enable_print=False)\n",
    "def _get_memory(namespace, \n",
    "                key,\n",
    "                store:BaseStore):\n",
    "    \"\"\"\n",
    "        Des:\n",
    "            현재 저장된 사용자 정보를 가져오는 함수\n",
    "    \"\"\"\n",
    "    existing_memory = store.get(namespace=namespace,\n",
    "                                key=key)\n",
    "    return existing_memory.value.get('memory') if existing_memory else \"\"\n",
    "    \n",
    "    \n",
    "@trace_function(enable_print=False)\n",
    "def _should_continue(state: State):    \n",
    "    messages = state[\"messages\"]\n",
    "    if len(messages) >= LIMIT_LENGTH:\n",
    "        print(f\"{YELLOW}\\n대화 길이가 {LIMIT_LENGTH} 이상 ({LIMIT_LENGTH//2}번 이상 대화 주고받음) 이므로 요약 노드로 이동합니다.\\n{RESET}\")\n",
    "        return \"node_summarize_conversation\"\n",
    "    return END\n",
    "\n",
    "workflow = StateGraph(State)\n",
    "workflow.add_node(\"node_answer\", node_answer)\n",
    "workflow.add_node(\"node_summarize_conversation\", node_summarize_conversation)\n",
    "workflow.add_node(\"node_write_memory\", node_write_memory)\n",
    "\n",
    "workflow.add_edge(START, \"node_answer\")\n",
    "workflow.add_edge(\"node_answer\", \"node_write_memory\")\n",
    "workflow.add_conditional_edges(\"node_write_memory\", _should_continue)\n",
    "workflow.add_edge(\"node_summarize_conversation\", END)\n",
    "graph = workflow.compile(checkpointer=ShortTermMemory,\n",
    "                         store=LongTermMemory)\n",
    "display(Image(graph.get_graph().draw_mermaid_png()))"
   ]
  },
  {
   "cell_type": "code",
   "execution_count": 6,
   "metadata": {},
   "outputs": [],
   "source": [
    "config = {\"configurable\": {\"thread_id\": \"first_chat\", \n",
    "                           \"user_id\": \"changwoo\"}}"
   ]
  },
  {
   "cell_type": "code",
   "execution_count": 7,
   "metadata": {},
   "outputs": [
    {
     "name": "stdout",
     "output_type": "stream",
     "text": [
      "\u001b[95m\n",
      "당신은 [사용자 정보]와 [이전 대화요약]을 통해 답변하는 유용한 챗봇입니다.\n",
      "[사용자 정보]:\n",
      "\n",
      "\n",
      "[이전 대화요약]:\n",
      "\n",
      "\u001b[0m\n",
      "\u001b[94m\n",
      "- 이름: 창우\n",
      "\u001b[0m\n"
     ]
    },
    {
     "data": {
      "text/plain": [
       "{'messages': [HumanMessage(content='안녕 나는 창우라고해', additional_kwargs={}, response_metadata={}, id='3074a39a-1d62-4e0c-918f-173c03b94be1'),\n",
       "  AIMessage(content='안녕하세요, 창우님! 만나서 반갑습니다. 오늘 어떻게 도와드릴까요?', additional_kwargs={'refusal': None}, response_metadata={'token_usage': {'completion_tokens': 22, 'prompt_tokens': 62, 'total_tokens': 84, 'completion_tokens_details': {'accepted_prediction_tokens': 0, 'audio_tokens': 0, 'reasoning_tokens': 0, 'rejected_prediction_tokens': 0}, 'prompt_tokens_details': {'audio_tokens': 0, 'cached_tokens': 0}}, 'model_name': 'gpt-4o-2024-08-06', 'system_fingerprint': 'fp_5f20662549', 'finish_reason': 'stop', 'logprobs': None}, id='run-544014af-4912-4b60-ae55-147665c14f86-0', usage_metadata={'input_tokens': 62, 'output_tokens': 22, 'total_tokens': 84, 'input_token_details': {'audio': 0, 'cache_read': 0}, 'output_token_details': {'audio': 0, 'reasoning': 0}})]}"
      ]
     },
     "execution_count": 7,
     "metadata": {},
     "output_type": "execute_result"
    }
   ],
   "source": [
    "graph.invoke({\"messages\":\"안녕 나는 창우라고해\"}, config=config)"
   ]
  },
  {
   "cell_type": "code",
   "execution_count": 8,
   "metadata": {},
   "outputs": [
    {
     "name": "stdout",
     "output_type": "stream",
     "text": [
      "\u001b[95m\n",
      "당신은 [사용자 정보]와 [이전 대화요약]을 통해 답변하는 유용한 챗봇입니다.\n",
      "[사용자 정보]:\n",
      "- 이름: 창우\n",
      "\n",
      "[이전 대화요약]:\n",
      "\n",
      "\u001b[0m\n",
      "\u001b[94m\n",
      "- 이름: 창우\n",
      "- 나이: 30살\n",
      "- 현재 소속: 부산대학교\n",
      "- 학위 과정: 박사과정\n",
      "\u001b[0m\n"
     ]
    },
    {
     "data": {
      "text/plain": [
       "{'messages': [HumanMessage(content='안녕 나는 창우라고해', additional_kwargs={}, response_metadata={}, id='3074a39a-1d62-4e0c-918f-173c03b94be1'),\n",
       "  AIMessage(content='안녕하세요, 창우님! 만나서 반갑습니다. 오늘 어떻게 도와드릴까요?', additional_kwargs={'refusal': None}, response_metadata={'token_usage': {'completion_tokens': 22, 'prompt_tokens': 62, 'total_tokens': 84, 'completion_tokens_details': {'accepted_prediction_tokens': 0, 'audio_tokens': 0, 'reasoning_tokens': 0, 'rejected_prediction_tokens': 0}, 'prompt_tokens_details': {'audio_tokens': 0, 'cached_tokens': 0}}, 'model_name': 'gpt-4o-2024-08-06', 'system_fingerprint': 'fp_5f20662549', 'finish_reason': 'stop', 'logprobs': None}, id='run-544014af-4912-4b60-ae55-147665c14f86-0', usage_metadata={'input_tokens': 62, 'output_tokens': 22, 'total_tokens': 84, 'input_token_details': {'audio': 0, 'cache_read': 0}, 'output_token_details': {'audio': 0, 'reasoning': 0}}),\n",
       "  HumanMessage(content='나는 올해 30살이고, 현재 부산대학교에서 박사과정을 하고있어.', additional_kwargs={}, response_metadata={}, id='0b78f81a-f2d9-409a-92a5-a773dd408173'),\n",
       "  AIMessage(content='멋지시네요, 창우님! 부산대학교에서 어떤 분야를 연구하고 계신가요? 연구와 관련된 도움이 필요하시면 언제든지 말씀해 주세요.', additional_kwargs={'refusal': None}, response_metadata={'token_usage': {'completion_tokens': 39, 'prompt_tokens': 116, 'total_tokens': 155, 'completion_tokens_details': {'accepted_prediction_tokens': 0, 'audio_tokens': 0, 'reasoning_tokens': 0, 'rejected_prediction_tokens': 0}, 'prompt_tokens_details': {'audio_tokens': 0, 'cached_tokens': 0}}, 'model_name': 'gpt-4o-2024-08-06', 'system_fingerprint': 'fp_d28bcae782', 'finish_reason': 'stop', 'logprobs': None}, id='run-73b6338c-2426-43ee-8ba6-501ac5d80073-0', usage_metadata={'input_tokens': 116, 'output_tokens': 39, 'total_tokens': 155, 'input_token_details': {'audio': 0, 'cache_read': 0}, 'output_token_details': {'audio': 0, 'reasoning': 0}})]}"
      ]
     },
     "execution_count": 8,
     "metadata": {},
     "output_type": "execute_result"
    }
   ],
   "source": [
    "graph.invoke({\"messages\":\"나는 올해 30살이고, 현재 부산대학교에서 박사과정을 하고있어.\"}, config=config)"
   ]
  },
  {
   "cell_type": "code",
   "execution_count": 9,
   "metadata": {},
   "outputs": [
    {
     "name": "stdout",
     "output_type": "stream",
     "text": [
      "\u001b[95m\n",
      "당신은 [사용자 정보]와 [이전 대화요약]을 통해 답변하는 유용한 챗봇입니다.\n",
      "[사용자 정보]:\n",
      "- 이름: 창우\n",
      "- 나이: 30살\n",
      "- 현재 소속: 부산대학교\n",
      "- 학위 과정: 박사과정\n",
      "\n",
      "[이전 대화요약]:\n",
      "\n",
      "\u001b[0m\n",
      "\u001b[94m\n",
      "- 이름: 창우\n",
      "- 나이: 30살\n",
      "- 현재 소속: 부산대학교\n",
      "- 학위 과정: 박사과정\n",
      "- 전공: 인공지능\n",
      "- 관심 분야: LLM (대규모 언어 모델) 분야\n",
      "\u001b[0m\n"
     ]
    },
    {
     "data": {
      "text/plain": [
       "{'messages': [HumanMessage(content='안녕 나는 창우라고해', additional_kwargs={}, response_metadata={}, id='3074a39a-1d62-4e0c-918f-173c03b94be1'),\n",
       "  AIMessage(content='안녕하세요, 창우님! 만나서 반갑습니다. 오늘 어떻게 도와드릴까요?', additional_kwargs={'refusal': None}, response_metadata={'token_usage': {'completion_tokens': 22, 'prompt_tokens': 62, 'total_tokens': 84, 'completion_tokens_details': {'accepted_prediction_tokens': 0, 'audio_tokens': 0, 'reasoning_tokens': 0, 'rejected_prediction_tokens': 0}, 'prompt_tokens_details': {'audio_tokens': 0, 'cached_tokens': 0}}, 'model_name': 'gpt-4o-2024-08-06', 'system_fingerprint': 'fp_5f20662549', 'finish_reason': 'stop', 'logprobs': None}, id='run-544014af-4912-4b60-ae55-147665c14f86-0', usage_metadata={'input_tokens': 62, 'output_tokens': 22, 'total_tokens': 84, 'input_token_details': {'audio': 0, 'cache_read': 0}, 'output_token_details': {'audio': 0, 'reasoning': 0}}),\n",
       "  HumanMessage(content='나는 올해 30살이고, 현재 부산대학교에서 박사과정을 하고있어.', additional_kwargs={}, response_metadata={}, id='0b78f81a-f2d9-409a-92a5-a773dd408173'),\n",
       "  AIMessage(content='멋지시네요, 창우님! 부산대학교에서 어떤 분야를 연구하고 계신가요? 연구와 관련된 도움이 필요하시면 언제든지 말씀해 주세요.', additional_kwargs={'refusal': None}, response_metadata={'token_usage': {'completion_tokens': 39, 'prompt_tokens': 116, 'total_tokens': 155, 'completion_tokens_details': {'accepted_prediction_tokens': 0, 'audio_tokens': 0, 'reasoning_tokens': 0, 'rejected_prediction_tokens': 0}, 'prompt_tokens_details': {'audio_tokens': 0, 'cached_tokens': 0}}, 'model_name': 'gpt-4o-2024-08-06', 'system_fingerprint': 'fp_d28bcae782', 'finish_reason': 'stop', 'logprobs': None}, id='run-73b6338c-2426-43ee-8ba6-501ac5d80073-0', usage_metadata={'input_tokens': 116, 'output_tokens': 39, 'total_tokens': 155, 'input_token_details': {'audio': 0, 'cache_read': 0}, 'output_token_details': {'audio': 0, 'reasoning': 0}}),\n",
       "  HumanMessage(content='내 전공은 인공지능이고, 요즘 LLM 분야에 관심이 많아.', additional_kwargs={}, response_metadata={}, id='0e3b7c69-68aa-4bab-98c1-2caa77e86cec'),\n",
       "  AIMessage(content='인공지능, 특히 LLM(대규모 언어 모델) 분야는 정말 흥미롭고 빠르게 발전하는 분야죠. 이 분야에서 특별히 궁금한 점이나 논의하고 싶은 주제가 있으신가요? 연구나 프로젝트에 도움이 될 수 있도록 지원해드릴 수 있어요.', additional_kwargs={'refusal': None}, response_metadata={'token_usage': {'completion_tokens': 68, 'prompt_tokens': 208, 'total_tokens': 276, 'completion_tokens_details': {'accepted_prediction_tokens': 0, 'audio_tokens': 0, 'reasoning_tokens': 0, 'rejected_prediction_tokens': 0}, 'prompt_tokens_details': {'audio_tokens': 0, 'cached_tokens': 0}}, 'model_name': 'gpt-4o-2024-08-06', 'system_fingerprint': 'fp_5f20662549', 'finish_reason': 'stop', 'logprobs': None}, id='run-5ad760ca-75f1-472e-b663-8ab7a9c59d4d-0', usage_metadata={'input_tokens': 208, 'output_tokens': 68, 'total_tokens': 276, 'input_token_details': {'audio': 0, 'cache_read': 0}, 'output_token_details': {'audio': 0, 'reasoning': 0}})]}"
      ]
     },
     "execution_count": 9,
     "metadata": {},
     "output_type": "execute_result"
    }
   ],
   "source": [
    "graph.invoke({\"messages\":\"내 전공은 인공지능이고, 요즘 LLM 분야에 관심이 많아.\"}, config=config)"
   ]
  },
  {
   "cell_type": "code",
   "execution_count": 10,
   "metadata": {},
   "outputs": [
    {
     "name": "stdout",
     "output_type": "stream",
     "text": [
      "\u001b[95m\n",
      "당신은 [사용자 정보]와 [이전 대화요약]을 통해 답변하는 유용한 챗봇입니다.\n",
      "[사용자 정보]:\n",
      "- 이름: 창우\n",
      "- 나이: 30살\n",
      "- 현재 소속: 부산대학교\n",
      "- 학위 과정: 박사과정\n",
      "- 전공: 인공지능\n",
      "- 관심 분야: LLM (대규모 언어 모델) 분야\n",
      "\n",
      "[이전 대화요약]:\n",
      "\n",
      "\u001b[0m\n",
      "\u001b[94m\n",
      "- 이름: 창우\n",
      "- 나이: 30살\n",
      "- 현재 소속: 부산대학교\n",
      "- 학위 과정: 박사과정\n",
      "- 전공: 인공지능\n",
      "- 관심 분야: LLM (대규모 언어 모델) 분야\n",
      "- 취미: 헬스장에서 운동하기\n",
      "\u001b[0m\n"
     ]
    },
    {
     "data": {
      "text/plain": [
       "{'messages': [HumanMessage(content='안녕 나는 창우라고해', additional_kwargs={}, response_metadata={}, id='3074a39a-1d62-4e0c-918f-173c03b94be1'),\n",
       "  AIMessage(content='안녕하세요, 창우님! 만나서 반갑습니다. 오늘 어떻게 도와드릴까요?', additional_kwargs={'refusal': None}, response_metadata={'token_usage': {'completion_tokens': 22, 'prompt_tokens': 62, 'total_tokens': 84, 'completion_tokens_details': {'accepted_prediction_tokens': 0, 'audio_tokens': 0, 'reasoning_tokens': 0, 'rejected_prediction_tokens': 0}, 'prompt_tokens_details': {'audio_tokens': 0, 'cached_tokens': 0}}, 'model_name': 'gpt-4o-2024-08-06', 'system_fingerprint': 'fp_5f20662549', 'finish_reason': 'stop', 'logprobs': None}, id='run-544014af-4912-4b60-ae55-147665c14f86-0', usage_metadata={'input_tokens': 62, 'output_tokens': 22, 'total_tokens': 84, 'input_token_details': {'audio': 0, 'cache_read': 0}, 'output_token_details': {'audio': 0, 'reasoning': 0}}),\n",
       "  HumanMessage(content='나는 올해 30살이고, 현재 부산대학교에서 박사과정을 하고있어.', additional_kwargs={}, response_metadata={}, id='0b78f81a-f2d9-409a-92a5-a773dd408173'),\n",
       "  AIMessage(content='멋지시네요, 창우님! 부산대학교에서 어떤 분야를 연구하고 계신가요? 연구와 관련된 도움이 필요하시면 언제든지 말씀해 주세요.', additional_kwargs={'refusal': None}, response_metadata={'token_usage': {'completion_tokens': 39, 'prompt_tokens': 116, 'total_tokens': 155, 'completion_tokens_details': {'accepted_prediction_tokens': 0, 'audio_tokens': 0, 'reasoning_tokens': 0, 'rejected_prediction_tokens': 0}, 'prompt_tokens_details': {'audio_tokens': 0, 'cached_tokens': 0}}, 'model_name': 'gpt-4o-2024-08-06', 'system_fingerprint': 'fp_d28bcae782', 'finish_reason': 'stop', 'logprobs': None}, id='run-73b6338c-2426-43ee-8ba6-501ac5d80073-0', usage_metadata={'input_tokens': 116, 'output_tokens': 39, 'total_tokens': 155, 'input_token_details': {'audio': 0, 'cache_read': 0}, 'output_token_details': {'audio': 0, 'reasoning': 0}}),\n",
       "  HumanMessage(content='내 전공은 인공지능이고, 요즘 LLM 분야에 관심이 많아.', additional_kwargs={}, response_metadata={}, id='0e3b7c69-68aa-4bab-98c1-2caa77e86cec'),\n",
       "  AIMessage(content='인공지능, 특히 LLM(대규모 언어 모델) 분야는 정말 흥미롭고 빠르게 발전하는 분야죠. 이 분야에서 특별히 궁금한 점이나 논의하고 싶은 주제가 있으신가요? 연구나 프로젝트에 도움이 될 수 있도록 지원해드릴 수 있어요.', additional_kwargs={'refusal': None}, response_metadata={'token_usage': {'completion_tokens': 68, 'prompt_tokens': 208, 'total_tokens': 276, 'completion_tokens_details': {'accepted_prediction_tokens': 0, 'audio_tokens': 0, 'reasoning_tokens': 0, 'rejected_prediction_tokens': 0}, 'prompt_tokens_details': {'audio_tokens': 0, 'cached_tokens': 0}}, 'model_name': 'gpt-4o-2024-08-06', 'system_fingerprint': 'fp_5f20662549', 'finish_reason': 'stop', 'logprobs': None}, id='run-5ad760ca-75f1-472e-b663-8ab7a9c59d4d-0', usage_metadata={'input_tokens': 208, 'output_tokens': 68, 'total_tokens': 276, 'input_token_details': {'audio': 0, 'cache_read': 0}, 'output_token_details': {'audio': 0, 'reasoning': 0}}),\n",
       "  HumanMessage(content='내 취미는 헬스장에서 운동하는거야', additional_kwargs={}, response_metadata={}, id='b2a478b5-9283-4c05-9fbf-67496d1cd305'),\n",
       "  AIMessage(content='운동은 정말 좋은 취미죠! 헬스장에서 운동을 하면 스트레스도 풀리고 건강도 챙길 수 있어서 좋죠. 특별히 즐겨하는 운동이 있나요? 아니면 운동 루틴에 대해 더 얘기해주실 수 있나요?', additional_kwargs={'refusal': None}, response_metadata={'token_usage': {'completion_tokens': 60, 'prompt_tokens': 319, 'total_tokens': 379, 'completion_tokens_details': {'accepted_prediction_tokens': 0, 'audio_tokens': 0, 'reasoning_tokens': 0, 'rejected_prediction_tokens': 0}, 'prompt_tokens_details': {'audio_tokens': 0, 'cached_tokens': 0}}, 'model_name': 'gpt-4o-2024-08-06', 'system_fingerprint': 'fp_d28bcae782', 'finish_reason': 'stop', 'logprobs': None}, id='run-ce38b547-9622-429e-995d-7a41d094bee6-0', usage_metadata={'input_tokens': 319, 'output_tokens': 60, 'total_tokens': 379, 'input_token_details': {'audio': 0, 'cache_read': 0}, 'output_token_details': {'audio': 0, 'reasoning': 0}})]}"
      ]
     },
     "execution_count": 10,
     "metadata": {},
     "output_type": "execute_result"
    }
   ],
   "source": [
    "graph.invoke({\"messages\":\"내 취미는 헬스장에서 운동하는거야\"}, config=config)"
   ]
  },
  {
   "cell_type": "code",
   "execution_count": 11,
   "metadata": {},
   "outputs": [
    {
     "name": "stdout",
     "output_type": "stream",
     "text": [
      "\u001b[95m\n",
      "당신은 [사용자 정보]와 [이전 대화요약]을 통해 답변하는 유용한 챗봇입니다.\n",
      "[사용자 정보]:\n",
      "- 이름: 창우\n",
      "- 나이: 30살\n",
      "- 현재 소속: 부산대학교\n",
      "- 학위 과정: 박사과정\n",
      "- 전공: 인공지능\n",
      "- 관심 분야: LLM (대규모 언어 모델) 분야\n",
      "- 취미: 헬스장에서 운동하기\n",
      "\n",
      "[이전 대화요약]:\n",
      "\n",
      "\u001b[0m\n",
      "\u001b[94m\n",
      "- 이름: 창우\n",
      "- 나이: 30살\n",
      "- 현재 소속: 부산대학교\n",
      "- 학위 과정: 박사과정\n",
      "- 전공: 인공지능\n",
      "- 관심 분야: LLM (대규모 언어 모델) 분야\n",
      "- 취미: 헬스장에서 운동하기\n",
      "- 좋아하는 음식: 돼지고기\n",
      "- 싫어하는 음식: 딱히 없음\n",
      "\u001b[0m\n"
     ]
    },
    {
     "data": {
      "text/plain": [
       "{'messages': [HumanMessage(content='안녕 나는 창우라고해', additional_kwargs={}, response_metadata={}, id='3074a39a-1d62-4e0c-918f-173c03b94be1'),\n",
       "  AIMessage(content='안녕하세요, 창우님! 만나서 반갑습니다. 오늘 어떻게 도와드릴까요?', additional_kwargs={'refusal': None}, response_metadata={'token_usage': {'completion_tokens': 22, 'prompt_tokens': 62, 'total_tokens': 84, 'completion_tokens_details': {'accepted_prediction_tokens': 0, 'audio_tokens': 0, 'reasoning_tokens': 0, 'rejected_prediction_tokens': 0}, 'prompt_tokens_details': {'audio_tokens': 0, 'cached_tokens': 0}}, 'model_name': 'gpt-4o-2024-08-06', 'system_fingerprint': 'fp_5f20662549', 'finish_reason': 'stop', 'logprobs': None}, id='run-544014af-4912-4b60-ae55-147665c14f86-0', usage_metadata={'input_tokens': 62, 'output_tokens': 22, 'total_tokens': 84, 'input_token_details': {'audio': 0, 'cache_read': 0}, 'output_token_details': {'audio': 0, 'reasoning': 0}}),\n",
       "  HumanMessage(content='나는 올해 30살이고, 현재 부산대학교에서 박사과정을 하고있어.', additional_kwargs={}, response_metadata={}, id='0b78f81a-f2d9-409a-92a5-a773dd408173'),\n",
       "  AIMessage(content='멋지시네요, 창우님! 부산대학교에서 어떤 분야를 연구하고 계신가요? 연구와 관련된 도움이 필요하시면 언제든지 말씀해 주세요.', additional_kwargs={'refusal': None}, response_metadata={'token_usage': {'completion_tokens': 39, 'prompt_tokens': 116, 'total_tokens': 155, 'completion_tokens_details': {'accepted_prediction_tokens': 0, 'audio_tokens': 0, 'reasoning_tokens': 0, 'rejected_prediction_tokens': 0}, 'prompt_tokens_details': {'audio_tokens': 0, 'cached_tokens': 0}}, 'model_name': 'gpt-4o-2024-08-06', 'system_fingerprint': 'fp_d28bcae782', 'finish_reason': 'stop', 'logprobs': None}, id='run-73b6338c-2426-43ee-8ba6-501ac5d80073-0', usage_metadata={'input_tokens': 116, 'output_tokens': 39, 'total_tokens': 155, 'input_token_details': {'audio': 0, 'cache_read': 0}, 'output_token_details': {'audio': 0, 'reasoning': 0}}),\n",
       "  HumanMessage(content='내 전공은 인공지능이고, 요즘 LLM 분야에 관심이 많아.', additional_kwargs={}, response_metadata={}, id='0e3b7c69-68aa-4bab-98c1-2caa77e86cec'),\n",
       "  AIMessage(content='인공지능, 특히 LLM(대규모 언어 모델) 분야는 정말 흥미롭고 빠르게 발전하는 분야죠. 이 분야에서 특별히 궁금한 점이나 논의하고 싶은 주제가 있으신가요? 연구나 프로젝트에 도움이 될 수 있도록 지원해드릴 수 있어요.', additional_kwargs={'refusal': None}, response_metadata={'token_usage': {'completion_tokens': 68, 'prompt_tokens': 208, 'total_tokens': 276, 'completion_tokens_details': {'accepted_prediction_tokens': 0, 'audio_tokens': 0, 'reasoning_tokens': 0, 'rejected_prediction_tokens': 0}, 'prompt_tokens_details': {'audio_tokens': 0, 'cached_tokens': 0}}, 'model_name': 'gpt-4o-2024-08-06', 'system_fingerprint': 'fp_5f20662549', 'finish_reason': 'stop', 'logprobs': None}, id='run-5ad760ca-75f1-472e-b663-8ab7a9c59d4d-0', usage_metadata={'input_tokens': 208, 'output_tokens': 68, 'total_tokens': 276, 'input_token_details': {'audio': 0, 'cache_read': 0}, 'output_token_details': {'audio': 0, 'reasoning': 0}}),\n",
       "  HumanMessage(content='내 취미는 헬스장에서 운동하는거야', additional_kwargs={}, response_metadata={}, id='b2a478b5-9283-4c05-9fbf-67496d1cd305'),\n",
       "  AIMessage(content='운동은 정말 좋은 취미죠! 헬스장에서 운동을 하면 스트레스도 풀리고 건강도 챙길 수 있어서 좋죠. 특별히 즐겨하는 운동이 있나요? 아니면 운동 루틴에 대해 더 얘기해주실 수 있나요?', additional_kwargs={'refusal': None}, response_metadata={'token_usage': {'completion_tokens': 60, 'prompt_tokens': 319, 'total_tokens': 379, 'completion_tokens_details': {'accepted_prediction_tokens': 0, 'audio_tokens': 0, 'reasoning_tokens': 0, 'rejected_prediction_tokens': 0}, 'prompt_tokens_details': {'audio_tokens': 0, 'cached_tokens': 0}}, 'model_name': 'gpt-4o-2024-08-06', 'system_fingerprint': 'fp_d28bcae782', 'finish_reason': 'stop', 'logprobs': None}, id='run-ce38b547-9622-429e-995d-7a41d094bee6-0', usage_metadata={'input_tokens': 319, 'output_tokens': 60, 'total_tokens': 379, 'input_token_details': {'audio': 0, 'cache_read': 0}, 'output_token_details': {'audio': 0, 'reasoning': 0}}),\n",
       "  HumanMessage(content='내가 제일 좋아하는 음식은 돼지고기고, 싫어하는 음식은 딱히 없어.', additional_kwargs={}, response_metadata={}, id='4219f43b-6fa0-4d3d-813c-a1bade8ed909'),\n",
       "  AIMessage(content='돼지고기를 좋아하시는군요! 다양한 요리로 즐길 수 있어서 좋아하는 분들이 많죠. 특별히 좋아하는 돼지고기 요리가 있나요? 아니면 새로운 요리법이나 레시피를 추천해드릴까요?', additional_kwargs={'refusal': None}, response_metadata={'token_usage': {'completion_tokens': 55, 'prompt_tokens': 422, 'total_tokens': 477, 'completion_tokens_details': {'accepted_prediction_tokens': 0, 'audio_tokens': 0, 'reasoning_tokens': 0, 'rejected_prediction_tokens': 0}, 'prompt_tokens_details': {'audio_tokens': 0, 'cached_tokens': 0}}, 'model_name': 'gpt-4o-2024-08-06', 'system_fingerprint': 'fp_5f20662549', 'finish_reason': 'stop', 'logprobs': None}, id='run-b637614d-bc72-4f6e-a40a-a96ff86c4c00-0', usage_metadata={'input_tokens': 422, 'output_tokens': 55, 'total_tokens': 477, 'input_token_details': {'audio': 0, 'cache_read': 0}, 'output_token_details': {'audio': 0, 'reasoning': 0}})]}"
      ]
     },
     "execution_count": 11,
     "metadata": {},
     "output_type": "execute_result"
    }
   ],
   "source": [
    "graph.invoke({\"messages\":\"내가 제일 좋아하는 음식은 돼지고기고, 싫어하는 음식은 딱히 없어.\"}, config=config)"
   ]
  },
  {
   "cell_type": "code",
   "execution_count": 12,
   "metadata": {},
   "outputs": [
    {
     "name": "stdout",
     "output_type": "stream",
     "text": [
      "\u001b[95m\n",
      "당신은 [사용자 정보]와 [이전 대화요약]을 통해 답변하는 유용한 챗봇입니다.\n",
      "[사용자 정보]:\n",
      "- 이름: 창우\n",
      "- 나이: 30살\n",
      "- 현재 소속: 부산대학교\n",
      "- 학위 과정: 박사과정\n",
      "- 전공: 인공지능\n",
      "- 관심 분야: LLM (대규모 언어 모델) 분야\n",
      "- 취미: 헬스장에서 운동하기\n",
      "- 좋아하는 음식: 돼지고기\n",
      "- 싫어하는 음식: 딱히 없음\n",
      "\n",
      "[이전 대화요약]:\n",
      "\n",
      "\u001b[0m\n",
      "\u001b[94m\n",
      "- 이름: 창우\n",
      "- 나이: 30살\n",
      "- 현재 소속: 부산대학교\n",
      "- 학위 과정: 박사과정\n",
      "- 전공: 인공지능\n",
      "- 관심 분야: LLM (대규모 언어 모델) 분야\n",
      "- 취미: 헬스장에서 운동하기\n",
      "- 좋아하는 음식: 돼지고기\n",
      "- 싫어하는 음식: 딱히 없음\n",
      "- 가족관계: 아버지, 어머니, 형, 형수님, 조카 2명\n",
      "\u001b[0m\n",
      "\u001b[93m\n",
      "대화 길이가 12 이상 (6번 이상 대화 주고받음) 이므로 요약 노드로 이동합니다.\n",
      "\u001b[0m\n"
     ]
    },
    {
     "data": {
      "text/plain": [
       "{'messages': [HumanMessage(content='내 취미는 헬스장에서 운동하는거야', additional_kwargs={}, response_metadata={}, id='b2a478b5-9283-4c05-9fbf-67496d1cd305'),\n",
       "  AIMessage(content='운동은 정말 좋은 취미죠! 헬스장에서 운동을 하면 스트레스도 풀리고 건강도 챙길 수 있어서 좋죠. 특별히 즐겨하는 운동이 있나요? 아니면 운동 루틴에 대해 더 얘기해주실 수 있나요?', additional_kwargs={'refusal': None}, response_metadata={'token_usage': {'completion_tokens': 60, 'prompt_tokens': 319, 'total_tokens': 379, 'completion_tokens_details': {'accepted_prediction_tokens': 0, 'audio_tokens': 0, 'reasoning_tokens': 0, 'rejected_prediction_tokens': 0}, 'prompt_tokens_details': {'audio_tokens': 0, 'cached_tokens': 0}}, 'model_name': 'gpt-4o-2024-08-06', 'system_fingerprint': 'fp_d28bcae782', 'finish_reason': 'stop', 'logprobs': None}, id='run-ce38b547-9622-429e-995d-7a41d094bee6-0', usage_metadata={'input_tokens': 319, 'output_tokens': 60, 'total_tokens': 379, 'input_token_details': {'audio': 0, 'cache_read': 0}, 'output_token_details': {'audio': 0, 'reasoning': 0}}),\n",
       "  HumanMessage(content='내가 제일 좋아하는 음식은 돼지고기고, 싫어하는 음식은 딱히 없어.', additional_kwargs={}, response_metadata={}, id='4219f43b-6fa0-4d3d-813c-a1bade8ed909'),\n",
       "  AIMessage(content='돼지고기를 좋아하시는군요! 다양한 요리로 즐길 수 있어서 좋아하는 분들이 많죠. 특별히 좋아하는 돼지고기 요리가 있나요? 아니면 새로운 요리법이나 레시피를 추천해드릴까요?', additional_kwargs={'refusal': None}, response_metadata={'token_usage': {'completion_tokens': 55, 'prompt_tokens': 422, 'total_tokens': 477, 'completion_tokens_details': {'accepted_prediction_tokens': 0, 'audio_tokens': 0, 'reasoning_tokens': 0, 'rejected_prediction_tokens': 0}, 'prompt_tokens_details': {'audio_tokens': 0, 'cached_tokens': 0}}, 'model_name': 'gpt-4o-2024-08-06', 'system_fingerprint': 'fp_5f20662549', 'finish_reason': 'stop', 'logprobs': None}, id='run-b637614d-bc72-4f6e-a40a-a96ff86c4c00-0', usage_metadata={'input_tokens': 422, 'output_tokens': 55, 'total_tokens': 477, 'input_token_details': {'audio': 0, 'cache_read': 0}, 'output_token_details': {'audio': 0, 'reasoning': 0}}),\n",
       "  HumanMessage(content='내 가족관계는 아버지, 어머니, 형, 형수님, 조카 2명이야.', additional_kwargs={}, response_metadata={}, id='604feec7-a7cc-463d-bf20-6f7538b4e9ac'),\n",
       "  AIMessage(content='가족이 많아서 참 좋겠어요! 조카들이랑 함께 시간을 보내면 즐거운 시간이 많을 것 같아요. 가족들과 함께 특별히 즐기는 활동이나 추억이 있나요?', additional_kwargs={'refusal': None}, response_metadata={'token_usage': {'completion_tokens': 44, 'prompt_tokens': 531, 'total_tokens': 575, 'completion_tokens_details': {'accepted_prediction_tokens': 0, 'audio_tokens': 0, 'reasoning_tokens': 0, 'rejected_prediction_tokens': 0}, 'prompt_tokens_details': {'audio_tokens': 0, 'cached_tokens': 0}}, 'model_name': 'gpt-4o-2024-08-06', 'system_fingerprint': 'fp_d28bcae782', 'finish_reason': 'stop', 'logprobs': None}, id='run-0f448cd9-0ab6-4046-943b-3641361d3d19-0', usage_metadata={'input_tokens': 531, 'output_tokens': 44, 'total_tokens': 575, 'input_token_details': {'audio': 0, 'cache_read': 0}, 'output_token_details': {'audio': 0, 'reasoning': 0}})],\n",
       " 'summary': '\"\"'}"
      ]
     },
     "execution_count": 12,
     "metadata": {},
     "output_type": "execute_result"
    }
   ],
   "source": [
    "graph.invoke({\"messages\":\"내 가족관계는 아버지, 어머니, 형, 형수님, 조카 2명이야.\"}, config=config)"
   ]
  },
  {
   "cell_type": "code",
   "execution_count": 13,
   "metadata": {},
   "outputs": [
    {
     "name": "stdout",
     "output_type": "stream",
     "text": [
      "\u001b[95m\n",
      "당신은 [사용자 정보]와 [이전 대화요약]을 통해 답변하는 유용한 챗봇입니다.\n",
      "[사용자 정보]:\n",
      "- 이름: 창우\n",
      "- 나이: 30살\n",
      "- 현재 소속: 부산대학교\n",
      "- 학위 과정: 박사과정\n",
      "- 전공: 인공지능\n",
      "- 관심 분야: LLM (대규모 언어 모델) 분야\n",
      "- 취미: 헬스장에서 운동하기\n",
      "- 좋아하는 음식: 돼지고기\n",
      "- 싫어하는 음식: 딱히 없음\n",
      "- 가족관계: 아버지, 어머니, 형, 형수님, 조카 2명\n",
      "\n",
      "[이전 대화요약]:\n",
      "\"\"\n",
      "\u001b[0m\n",
      "\u001b[94m\n",
      "- 이름: 창우\n",
      "- 나이: 30살\n",
      "- 현재 소속: 부산대학교\n",
      "- 학위 과정: 박사과정\n",
      "- 전공: 인공지능\n",
      "- 관심 분야: LLM (대규모 언어 모델) 분야\n",
      "- 취미: 헬스장에서 운동하기\n",
      "- 좋아하는 음식: 돼지고기\n",
      "- 싫어하는 음식: 딱히 없음\n",
      "- 가족관계: 아버지, 어머니, 형, 형수님, 조카 2명\n",
      "\u001b[0m\n"
     ]
    },
    {
     "data": {
      "text/plain": [
       "{'messages': [HumanMessage(content='내 취미는 헬스장에서 운동하는거야', additional_kwargs={}, response_metadata={}, id='b2a478b5-9283-4c05-9fbf-67496d1cd305'),\n",
       "  AIMessage(content='운동은 정말 좋은 취미죠! 헬스장에서 운동을 하면 스트레스도 풀리고 건강도 챙길 수 있어서 좋죠. 특별히 즐겨하는 운동이 있나요? 아니면 운동 루틴에 대해 더 얘기해주실 수 있나요?', additional_kwargs={'refusal': None}, response_metadata={'token_usage': {'completion_tokens': 60, 'prompt_tokens': 319, 'total_tokens': 379, 'completion_tokens_details': {'accepted_prediction_tokens': 0, 'audio_tokens': 0, 'reasoning_tokens': 0, 'rejected_prediction_tokens': 0}, 'prompt_tokens_details': {'audio_tokens': 0, 'cached_tokens': 0}}, 'model_name': 'gpt-4o-2024-08-06', 'system_fingerprint': 'fp_d28bcae782', 'finish_reason': 'stop', 'logprobs': None}, id='run-ce38b547-9622-429e-995d-7a41d094bee6-0', usage_metadata={'input_tokens': 319, 'output_tokens': 60, 'total_tokens': 379, 'input_token_details': {'audio': 0, 'cache_read': 0}, 'output_token_details': {'audio': 0, 'reasoning': 0}}),\n",
       "  HumanMessage(content='내가 제일 좋아하는 음식은 돼지고기고, 싫어하는 음식은 딱히 없어.', additional_kwargs={}, response_metadata={}, id='4219f43b-6fa0-4d3d-813c-a1bade8ed909'),\n",
       "  AIMessage(content='돼지고기를 좋아하시는군요! 다양한 요리로 즐길 수 있어서 좋아하는 분들이 많죠. 특별히 좋아하는 돼지고기 요리가 있나요? 아니면 새로운 요리법이나 레시피를 추천해드릴까요?', additional_kwargs={'refusal': None}, response_metadata={'token_usage': {'completion_tokens': 55, 'prompt_tokens': 422, 'total_tokens': 477, 'completion_tokens_details': {'accepted_prediction_tokens': 0, 'audio_tokens': 0, 'reasoning_tokens': 0, 'rejected_prediction_tokens': 0}, 'prompt_tokens_details': {'audio_tokens': 0, 'cached_tokens': 0}}, 'model_name': 'gpt-4o-2024-08-06', 'system_fingerprint': 'fp_5f20662549', 'finish_reason': 'stop', 'logprobs': None}, id='run-b637614d-bc72-4f6e-a40a-a96ff86c4c00-0', usage_metadata={'input_tokens': 422, 'output_tokens': 55, 'total_tokens': 477, 'input_token_details': {'audio': 0, 'cache_read': 0}, 'output_token_details': {'audio': 0, 'reasoning': 0}}),\n",
       "  HumanMessage(content='내 가족관계는 아버지, 어머니, 형, 형수님, 조카 2명이야.', additional_kwargs={}, response_metadata={}, id='604feec7-a7cc-463d-bf20-6f7538b4e9ac'),\n",
       "  AIMessage(content='가족이 많아서 참 좋겠어요! 조카들이랑 함께 시간을 보내면 즐거운 시간이 많을 것 같아요. 가족들과 함께 특별히 즐기는 활동이나 추억이 있나요?', additional_kwargs={'refusal': None}, response_metadata={'token_usage': {'completion_tokens': 44, 'prompt_tokens': 531, 'total_tokens': 575, 'completion_tokens_details': {'accepted_prediction_tokens': 0, 'audio_tokens': 0, 'reasoning_tokens': 0, 'rejected_prediction_tokens': 0}, 'prompt_tokens_details': {'audio_tokens': 0, 'cached_tokens': 0}}, 'model_name': 'gpt-4o-2024-08-06', 'system_fingerprint': 'fp_d28bcae782', 'finish_reason': 'stop', 'logprobs': None}, id='run-0f448cd9-0ab6-4046-943b-3641361d3d19-0', usage_metadata={'input_tokens': 531, 'output_tokens': 44, 'total_tokens': 575, 'input_token_details': {'audio': 0, 'cache_read': 0}, 'output_token_details': {'audio': 0, 'reasoning': 0}}),\n",
       "  HumanMessage(content='이순신 장군에 대해 간단히 알려줄래?', additional_kwargs={}, response_metadata={}, id='6990f93a-fb48-42a8-8cc6-02a780afe2d4'),\n",
       "  AIMessage(content='이순신 장군은 조선 시대의 유명한 군인으로, 임진왜란 당시 조선을 침략한 일본군과의 해전에서 큰 공을 세운 인물입니다. 특히 명량 해전과 한산도 대첩에서의 승리로 잘 알려져 있죠. 그의 뛰어난 전략과 리더십 덕분에 조선은 해상에서 일본군을 효과적으로 물리칠 수 있었습니다. 이순신 장군은 지금도 많은 사람들에게 존경받고 있는 역사적 인물입니다. 그의 삶과 업적은 많은 교훈을 주고 있죠.', additional_kwargs={'refusal': None}, response_metadata={'token_usage': {'completion_tokens': 133, 'prompt_tokens': 425, 'total_tokens': 558, 'completion_tokens_details': {'accepted_prediction_tokens': 0, 'audio_tokens': 0, 'reasoning_tokens': 0, 'rejected_prediction_tokens': 0}, 'prompt_tokens_details': {'audio_tokens': 0, 'cached_tokens': 0}}, 'model_name': 'gpt-4o-2024-08-06', 'system_fingerprint': 'fp_5f20662549', 'finish_reason': 'stop', 'logprobs': None}, id='run-3e09bd02-2a7d-4ed9-a121-fd7a421a5549-0', usage_metadata={'input_tokens': 425, 'output_tokens': 133, 'total_tokens': 558, 'input_token_details': {'audio': 0, 'cache_read': 0}, 'output_token_details': {'audio': 0, 'reasoning': 0}})],\n",
       " 'summary': '\"\"'}"
      ]
     },
     "execution_count": 13,
     "metadata": {},
     "output_type": "execute_result"
    }
   ],
   "source": [
    "graph.invoke({\"messages\":\"이순신 장군에 대해 간단히 알려줄래?\"}, config=config)"
   ]
  },
  {
   "cell_type": "code",
   "execution_count": 14,
   "metadata": {},
   "outputs": [
    {
     "name": "stdout",
     "output_type": "stream",
     "text": [
      "\u001b[95m\n",
      "당신은 [사용자 정보]와 [이전 대화요약]을 통해 답변하는 유용한 챗봇입니다.\n",
      "[사용자 정보]:\n",
      "- 이름: 창우\n",
      "- 나이: 30살\n",
      "- 현재 소속: 부산대학교\n",
      "- 학위 과정: 박사과정\n",
      "- 전공: 인공지능\n",
      "- 관심 분야: LLM (대규모 언어 모델) 분야\n",
      "- 취미: 헬스장에서 운동하기\n",
      "- 좋아하는 음식: 돼지고기\n",
      "- 싫어하는 음식: 딱히 없음\n",
      "- 가족관계: 아버지, 어머니, 형, 형수님, 조카 2명\n",
      "\n",
      "[이전 대화요약]:\n",
      "\"\"\n",
      "\u001b[0m\n",
      "\u001b[94m\n",
      "- 이름: 창우\n",
      "- 나이: 30살\n",
      "- 현재 소속: 부산대학교\n",
      "- 학위 과정: 박사과정\n",
      "- 전공: 인공지능\n",
      "- 관심 분야: LLM (대규모 언어 모델) 분야\n",
      "- 취미: 헬스장에서 운동하기\n",
      "- 좋아하는 음식: 돼지고기\n",
      "- 싫어하는 음식: 딱히 없음\n",
      "- 가족관계: 아버지, 어머니, 형, 형수님, 조카 2명\n",
      "\u001b[0m\n"
     ]
    },
    {
     "data": {
      "text/plain": [
       "{'messages': [HumanMessage(content='내 취미는 헬스장에서 운동하는거야', additional_kwargs={}, response_metadata={}, id='b2a478b5-9283-4c05-9fbf-67496d1cd305'),\n",
       "  AIMessage(content='운동은 정말 좋은 취미죠! 헬스장에서 운동을 하면 스트레스도 풀리고 건강도 챙길 수 있어서 좋죠. 특별히 즐겨하는 운동이 있나요? 아니면 운동 루틴에 대해 더 얘기해주실 수 있나요?', additional_kwargs={'refusal': None}, response_metadata={'token_usage': {'completion_tokens': 60, 'prompt_tokens': 319, 'total_tokens': 379, 'completion_tokens_details': {'accepted_prediction_tokens': 0, 'audio_tokens': 0, 'reasoning_tokens': 0, 'rejected_prediction_tokens': 0}, 'prompt_tokens_details': {'audio_tokens': 0, 'cached_tokens': 0}}, 'model_name': 'gpt-4o-2024-08-06', 'system_fingerprint': 'fp_d28bcae782', 'finish_reason': 'stop', 'logprobs': None}, id='run-ce38b547-9622-429e-995d-7a41d094bee6-0', usage_metadata={'input_tokens': 319, 'output_tokens': 60, 'total_tokens': 379, 'input_token_details': {'audio': 0, 'cache_read': 0}, 'output_token_details': {'audio': 0, 'reasoning': 0}}),\n",
       "  HumanMessage(content='내가 제일 좋아하는 음식은 돼지고기고, 싫어하는 음식은 딱히 없어.', additional_kwargs={}, response_metadata={}, id='4219f43b-6fa0-4d3d-813c-a1bade8ed909'),\n",
       "  AIMessage(content='돼지고기를 좋아하시는군요! 다양한 요리로 즐길 수 있어서 좋아하는 분들이 많죠. 특별히 좋아하는 돼지고기 요리가 있나요? 아니면 새로운 요리법이나 레시피를 추천해드릴까요?', additional_kwargs={'refusal': None}, response_metadata={'token_usage': {'completion_tokens': 55, 'prompt_tokens': 422, 'total_tokens': 477, 'completion_tokens_details': {'accepted_prediction_tokens': 0, 'audio_tokens': 0, 'reasoning_tokens': 0, 'rejected_prediction_tokens': 0}, 'prompt_tokens_details': {'audio_tokens': 0, 'cached_tokens': 0}}, 'model_name': 'gpt-4o-2024-08-06', 'system_fingerprint': 'fp_5f20662549', 'finish_reason': 'stop', 'logprobs': None}, id='run-b637614d-bc72-4f6e-a40a-a96ff86c4c00-0', usage_metadata={'input_tokens': 422, 'output_tokens': 55, 'total_tokens': 477, 'input_token_details': {'audio': 0, 'cache_read': 0}, 'output_token_details': {'audio': 0, 'reasoning': 0}}),\n",
       "  HumanMessage(content='내 가족관계는 아버지, 어머니, 형, 형수님, 조카 2명이야.', additional_kwargs={}, response_metadata={}, id='604feec7-a7cc-463d-bf20-6f7538b4e9ac'),\n",
       "  AIMessage(content='가족이 많아서 참 좋겠어요! 조카들이랑 함께 시간을 보내면 즐거운 시간이 많을 것 같아요. 가족들과 함께 특별히 즐기는 활동이나 추억이 있나요?', additional_kwargs={'refusal': None}, response_metadata={'token_usage': {'completion_tokens': 44, 'prompt_tokens': 531, 'total_tokens': 575, 'completion_tokens_details': {'accepted_prediction_tokens': 0, 'audio_tokens': 0, 'reasoning_tokens': 0, 'rejected_prediction_tokens': 0}, 'prompt_tokens_details': {'audio_tokens': 0, 'cached_tokens': 0}}, 'model_name': 'gpt-4o-2024-08-06', 'system_fingerprint': 'fp_d28bcae782', 'finish_reason': 'stop', 'logprobs': None}, id='run-0f448cd9-0ab6-4046-943b-3641361d3d19-0', usage_metadata={'input_tokens': 531, 'output_tokens': 44, 'total_tokens': 575, 'input_token_details': {'audio': 0, 'cache_read': 0}, 'output_token_details': {'audio': 0, 'reasoning': 0}}),\n",
       "  HumanMessage(content='이순신 장군에 대해 간단히 알려줄래?', additional_kwargs={}, response_metadata={}, id='6990f93a-fb48-42a8-8cc6-02a780afe2d4'),\n",
       "  AIMessage(content='이순신 장군은 조선 시대의 유명한 군인으로, 임진왜란 당시 조선을 침략한 일본군과의 해전에서 큰 공을 세운 인물입니다. 특히 명량 해전과 한산도 대첩에서의 승리로 잘 알려져 있죠. 그의 뛰어난 전략과 리더십 덕분에 조선은 해상에서 일본군을 효과적으로 물리칠 수 있었습니다. 이순신 장군은 지금도 많은 사람들에게 존경받고 있는 역사적 인물입니다. 그의 삶과 업적은 많은 교훈을 주고 있죠.', additional_kwargs={'refusal': None}, response_metadata={'token_usage': {'completion_tokens': 133, 'prompt_tokens': 425, 'total_tokens': 558, 'completion_tokens_details': {'accepted_prediction_tokens': 0, 'audio_tokens': 0, 'reasoning_tokens': 0, 'rejected_prediction_tokens': 0}, 'prompt_tokens_details': {'audio_tokens': 0, 'cached_tokens': 0}}, 'model_name': 'gpt-4o-2024-08-06', 'system_fingerprint': 'fp_5f20662549', 'finish_reason': 'stop', 'logprobs': None}, id='run-3e09bd02-2a7d-4ed9-a121-fd7a421a5549-0', usage_metadata={'input_tokens': 425, 'output_tokens': 133, 'total_tokens': 558, 'input_token_details': {'audio': 0, 'cache_read': 0}, 'output_token_details': {'audio': 0, 'reasoning': 0}}),\n",
       "  HumanMessage(content='2차전지가 뭐임?', additional_kwargs={}, response_metadata={}, id='055ec861-bbea-4f61-8a0c-46a4b5a0554f'),\n",
       "  AIMessage(content='2차 전지는 재충전이 가능한 배터리입니다. 일반적으로 사용하는 건전지와 달리, 방전된 후에도 다시 충전해서 여러 번 사용할 수 있는 특징이 있습니다. 리튬 이온 배터리, 니켈-카드뮴 배터리, 니켈-수소 배터리 등이 2차 전지에 속합니다. 이러한 배터리는 스마트폰, 노트북, 전기 자동차 등 다양한 전자 기기에 널리 사용되고 있습니다. 2차 전지는 에너지 저장 효율이 높고 환경에도 비교적 친화적이라서, 최근 많은 관심을 받고 있는 분야 중 하나입니다.', additional_kwargs={'refusal': None}, response_metadata={'token_usage': {'completion_tokens': 145, 'prompt_tokens': 572, 'total_tokens': 717, 'completion_tokens_details': {'accepted_prediction_tokens': 0, 'audio_tokens': 0, 'reasoning_tokens': 0, 'rejected_prediction_tokens': 0}, 'prompt_tokens_details': {'audio_tokens': 0, 'cached_tokens': 0}}, 'model_name': 'gpt-4o-2024-08-06', 'system_fingerprint': 'fp_5f20662549', 'finish_reason': 'stop', 'logprobs': None}, id='run-fa139ee8-e397-4e25-975d-066647930eb9-0', usage_metadata={'input_tokens': 572, 'output_tokens': 145, 'total_tokens': 717, 'input_token_details': {'audio': 0, 'cache_read': 0}, 'output_token_details': {'audio': 0, 'reasoning': 0}})],\n",
       " 'summary': '\"\"'}"
      ]
     },
     "execution_count": 14,
     "metadata": {},
     "output_type": "execute_result"
    }
   ],
   "source": [
    "graph.invoke({\"messages\":\"2차전지가 뭐임?\"}, config=config)"
   ]
  },
  {
   "cell_type": "code",
   "execution_count": 15,
   "metadata": {},
   "outputs": [
    {
     "name": "stdout",
     "output_type": "stream",
     "text": [
      "\u001b[95m\n",
      "당신은 [사용자 정보]와 [이전 대화요약]을 통해 답변하는 유용한 챗봇입니다.\n",
      "[사용자 정보]:\n",
      "- 이름: 창우\n",
      "- 나이: 30살\n",
      "- 현재 소속: 부산대학교\n",
      "- 학위 과정: 박사과정\n",
      "- 전공: 인공지능\n",
      "- 관심 분야: LLM (대규모 언어 모델) 분야\n",
      "- 취미: 헬스장에서 운동하기\n",
      "- 좋아하는 음식: 돼지고기\n",
      "- 싫어하는 음식: 딱히 없음\n",
      "- 가족관계: 아버지, 어머니, 형, 형수님, 조카 2명\n",
      "\n",
      "[이전 대화요약]:\n",
      "\"\"\n",
      "\u001b[0m\n",
      "\u001b[94m\n",
      "- 이름: 창우\n",
      "- 나이: 30살\n",
      "- 현재 소속: 부산대학교\n",
      "- 학위 과정: 박사과정\n",
      "- 전공: 인공지능\n",
      "- 관심 분야: LLM (대규모 언어 모델) 분야\n",
      "- 취미: 헬스장에서 운동하기\n",
      "- 좋아하는 음식: 돼지고기\n",
      "- 싫어하는 음식: 딱히 없음\n",
      "- 가족관계: 아버지, 어머니, 형, 형수님, 조카 2명\n",
      "\u001b[0m\n",
      "\u001b[93m\n",
      "대화 길이가 12 이상 (6번 이상 대화 주고받음) 이므로 요약 노드로 이동합니다.\n",
      "\u001b[0m\n"
     ]
    },
    {
     "data": {
      "text/plain": [
       "{'messages': [HumanMessage(content='이순신 장군에 대해 간단히 알려줄래?', additional_kwargs={}, response_metadata={}, id='6990f93a-fb48-42a8-8cc6-02a780afe2d4'),\n",
       "  AIMessage(content='이순신 장군은 조선 시대의 유명한 군인으로, 임진왜란 당시 조선을 침략한 일본군과의 해전에서 큰 공을 세운 인물입니다. 특히 명량 해전과 한산도 대첩에서의 승리로 잘 알려져 있죠. 그의 뛰어난 전략과 리더십 덕분에 조선은 해상에서 일본군을 효과적으로 물리칠 수 있었습니다. 이순신 장군은 지금도 많은 사람들에게 존경받고 있는 역사적 인물입니다. 그의 삶과 업적은 많은 교훈을 주고 있죠.', additional_kwargs={'refusal': None}, response_metadata={'token_usage': {'completion_tokens': 133, 'prompt_tokens': 425, 'total_tokens': 558, 'completion_tokens_details': {'accepted_prediction_tokens': 0, 'audio_tokens': 0, 'reasoning_tokens': 0, 'rejected_prediction_tokens': 0}, 'prompt_tokens_details': {'audio_tokens': 0, 'cached_tokens': 0}}, 'model_name': 'gpt-4o-2024-08-06', 'system_fingerprint': 'fp_5f20662549', 'finish_reason': 'stop', 'logprobs': None}, id='run-3e09bd02-2a7d-4ed9-a121-fd7a421a5549-0', usage_metadata={'input_tokens': 425, 'output_tokens': 133, 'total_tokens': 558, 'input_token_details': {'audio': 0, 'cache_read': 0}, 'output_token_details': {'audio': 0, 'reasoning': 0}}),\n",
       "  HumanMessage(content='2차전지가 뭐임?', additional_kwargs={}, response_metadata={}, id='055ec861-bbea-4f61-8a0c-46a4b5a0554f'),\n",
       "  AIMessage(content='2차 전지는 재충전이 가능한 배터리입니다. 일반적으로 사용하는 건전지와 달리, 방전된 후에도 다시 충전해서 여러 번 사용할 수 있는 특징이 있습니다. 리튬 이온 배터리, 니켈-카드뮴 배터리, 니켈-수소 배터리 등이 2차 전지에 속합니다. 이러한 배터리는 스마트폰, 노트북, 전기 자동차 등 다양한 전자 기기에 널리 사용되고 있습니다. 2차 전지는 에너지 저장 효율이 높고 환경에도 비교적 친화적이라서, 최근 많은 관심을 받고 있는 분야 중 하나입니다.', additional_kwargs={'refusal': None}, response_metadata={'token_usage': {'completion_tokens': 145, 'prompt_tokens': 572, 'total_tokens': 717, 'completion_tokens_details': {'accepted_prediction_tokens': 0, 'audio_tokens': 0, 'reasoning_tokens': 0, 'rejected_prediction_tokens': 0}, 'prompt_tokens_details': {'audio_tokens': 0, 'cached_tokens': 0}}, 'model_name': 'gpt-4o-2024-08-06', 'system_fingerprint': 'fp_5f20662549', 'finish_reason': 'stop', 'logprobs': None}, id='run-fa139ee8-e397-4e25-975d-066647930eb9-0', usage_metadata={'input_tokens': 572, 'output_tokens': 145, 'total_tokens': 717, 'input_token_details': {'audio': 0, 'cache_read': 0}, 'output_token_details': {'audio': 0, 'reasoning': 0}}),\n",
       "  HumanMessage(content='대한민국에 대해 알려줘 간단히', additional_kwargs={}, response_metadata={}, id='98f65986-bbaa-4e6c-81bd-211aadc50cef'),\n",
       "  AIMessage(content='대한민국은 동아시아에 위치한 나라로, 한반도의 남쪽에 자리잡고 있습니다. 수도는 서울이며, 인구는 약 5천만 명 정도입니다. 대한민국은 고도로 발전한 경제를 가지고 있으며, 특히 IT, 전자, 자동차 산업에서 세계적인 경쟁력을 자랑합니다. 문화적으로도 K-팝, 영화, 드라마 등이 전 세계적으로 인기를 끌고 있습니다. 역사적으로는 1948년에 독립하여 현재까지 민주주의 체제를 유지하고 있으며, 다양한 문화와 전통을 가진 나라입니다.', additional_kwargs={'refusal': None}, response_metadata={'token_usage': {'completion_tokens': 122, 'prompt_tokens': 733, 'total_tokens': 855, 'completion_tokens_details': {'accepted_prediction_tokens': 0, 'audio_tokens': 0, 'reasoning_tokens': 0, 'rejected_prediction_tokens': 0}, 'prompt_tokens_details': {'audio_tokens': 0, 'cached_tokens': 0}}, 'model_name': 'gpt-4o-2024-08-06', 'system_fingerprint': 'fp_5f20662549', 'finish_reason': 'stop', 'logprobs': None}, id='run-9ba43d8a-53f1-492b-8da4-f2dfc0887c8a-0', usage_metadata={'input_tokens': 733, 'output_tokens': 122, 'total_tokens': 855, 'input_token_details': {'audio': 0, 'cache_read': 0}, 'output_token_details': {'audio': 0, 'reasoning': 0}})],\n",
       " 'summary': '- 사용자는 헬스장에서 운동하는 것을 취미로 즐긴다.\\n- 돼지고기를 좋아하고, 싫어하는 음식은 없다.\\n- 가족 관계는 아버지, 어머니, 형, 형수님, 그리고 조카 두 명이다.\\n- 이순신 장군의 업적과 2차 전지에 대해 간단히 설명했다.\\n- 대한민국의 위치, 경제, 문화에 대해 간단히 설명했다.'}"
      ]
     },
     "execution_count": 15,
     "metadata": {},
     "output_type": "execute_result"
    }
   ],
   "source": [
    "graph.invoke({\"messages\":\"대한민국에 대해 알려줘 간단히\"}, config=config)"
   ]
  },
  {
   "cell_type": "code",
   "execution_count": 16,
   "metadata": {},
   "outputs": [
    {
     "name": "stdout",
     "output_type": "stream",
     "text": [
      "\u001b[95m\n",
      "당신은 [사용자 정보]와 [이전 대화요약]을 통해 답변하는 유용한 챗봇입니다.\n",
      "[사용자 정보]:\n",
      "- 이름: 창우\n",
      "- 나이: 30살\n",
      "- 현재 소속: 부산대학교\n",
      "- 학위 과정: 박사과정\n",
      "- 전공: 인공지능\n",
      "- 관심 분야: LLM (대규모 언어 모델) 분야\n",
      "- 취미: 헬스장에서 운동하기\n",
      "- 좋아하는 음식: 돼지고기\n",
      "- 싫어하는 음식: 딱히 없음\n",
      "- 가족관계: 아버지, 어머니, 형, 형수님, 조카 2명\n",
      "\n",
      "[이전 대화요약]:\n",
      "- 사용자는 헬스장에서 운동하는 것을 취미로 즐긴다.\n",
      "- 돼지고기를 좋아하고, 싫어하는 음식은 없다.\n",
      "- 가족 관계는 아버지, 어머니, 형, 형수님, 그리고 조카 두 명이다.\n",
      "- 이순신 장군의 업적과 2차 전지에 대해 간단히 설명했다.\n",
      "- 대한민국의 위치, 경제, 문화에 대해 간단히 설명했다.\n",
      "\u001b[0m\n",
      "\u001b[94m\n",
      "- 이름: 창우\n",
      "- 나이: 30살\n",
      "- 현재 소속: 부산대학교\n",
      "- 학위 과정: 박사과정\n",
      "- 전공: 인공지능\n",
      "- 관심 분야: LLM (대규모 언어 모델) 분야\n",
      "- 취미: 헬스장에서 운동하기\n",
      "- 좋아하는 음식: 돼지고기\n",
      "- 싫어하는 음식: 딱히 없음\n",
      "- 가족관계: 아버지, 어머니, 형, 형수님, 조카 2명\n",
      "\u001b[0m\n"
     ]
    },
    {
     "data": {
      "text/plain": [
       "{'messages': [HumanMessage(content='이순신 장군에 대해 간단히 알려줄래?', additional_kwargs={}, response_metadata={}, id='6990f93a-fb48-42a8-8cc6-02a780afe2d4'),\n",
       "  AIMessage(content='이순신 장군은 조선 시대의 유명한 군인으로, 임진왜란 당시 조선을 침략한 일본군과의 해전에서 큰 공을 세운 인물입니다. 특히 명량 해전과 한산도 대첩에서의 승리로 잘 알려져 있죠. 그의 뛰어난 전략과 리더십 덕분에 조선은 해상에서 일본군을 효과적으로 물리칠 수 있었습니다. 이순신 장군은 지금도 많은 사람들에게 존경받고 있는 역사적 인물입니다. 그의 삶과 업적은 많은 교훈을 주고 있죠.', additional_kwargs={'refusal': None}, response_metadata={'token_usage': {'completion_tokens': 133, 'prompt_tokens': 425, 'total_tokens': 558, 'completion_tokens_details': {'accepted_prediction_tokens': 0, 'audio_tokens': 0, 'reasoning_tokens': 0, 'rejected_prediction_tokens': 0}, 'prompt_tokens_details': {'audio_tokens': 0, 'cached_tokens': 0}}, 'model_name': 'gpt-4o-2024-08-06', 'system_fingerprint': 'fp_5f20662549', 'finish_reason': 'stop', 'logprobs': None}, id='run-3e09bd02-2a7d-4ed9-a121-fd7a421a5549-0', usage_metadata={'input_tokens': 425, 'output_tokens': 133, 'total_tokens': 558, 'input_token_details': {'audio': 0, 'cache_read': 0}, 'output_token_details': {'audio': 0, 'reasoning': 0}}),\n",
       "  HumanMessage(content='2차전지가 뭐임?', additional_kwargs={}, response_metadata={}, id='055ec861-bbea-4f61-8a0c-46a4b5a0554f'),\n",
       "  AIMessage(content='2차 전지는 재충전이 가능한 배터리입니다. 일반적으로 사용하는 건전지와 달리, 방전된 후에도 다시 충전해서 여러 번 사용할 수 있는 특징이 있습니다. 리튬 이온 배터리, 니켈-카드뮴 배터리, 니켈-수소 배터리 등이 2차 전지에 속합니다. 이러한 배터리는 스마트폰, 노트북, 전기 자동차 등 다양한 전자 기기에 널리 사용되고 있습니다. 2차 전지는 에너지 저장 효율이 높고 환경에도 비교적 친화적이라서, 최근 많은 관심을 받고 있는 분야 중 하나입니다.', additional_kwargs={'refusal': None}, response_metadata={'token_usage': {'completion_tokens': 145, 'prompt_tokens': 572, 'total_tokens': 717, 'completion_tokens_details': {'accepted_prediction_tokens': 0, 'audio_tokens': 0, 'reasoning_tokens': 0, 'rejected_prediction_tokens': 0}, 'prompt_tokens_details': {'audio_tokens': 0, 'cached_tokens': 0}}, 'model_name': 'gpt-4o-2024-08-06', 'system_fingerprint': 'fp_5f20662549', 'finish_reason': 'stop', 'logprobs': None}, id='run-fa139ee8-e397-4e25-975d-066647930eb9-0', usage_metadata={'input_tokens': 572, 'output_tokens': 145, 'total_tokens': 717, 'input_token_details': {'audio': 0, 'cache_read': 0}, 'output_token_details': {'audio': 0, 'reasoning': 0}}),\n",
       "  HumanMessage(content='대한민국에 대해 알려줘 간단히', additional_kwargs={}, response_metadata={}, id='98f65986-bbaa-4e6c-81bd-211aadc50cef'),\n",
       "  AIMessage(content='대한민국은 동아시아에 위치한 나라로, 한반도의 남쪽에 자리잡고 있습니다. 수도는 서울이며, 인구는 약 5천만 명 정도입니다. 대한민국은 고도로 발전한 경제를 가지고 있으며, 특히 IT, 전자, 자동차 산업에서 세계적인 경쟁력을 자랑합니다. 문화적으로도 K-팝, 영화, 드라마 등이 전 세계적으로 인기를 끌고 있습니다. 역사적으로는 1948년에 독립하여 현재까지 민주주의 체제를 유지하고 있으며, 다양한 문화와 전통을 가진 나라입니다.', additional_kwargs={'refusal': None}, response_metadata={'token_usage': {'completion_tokens': 122, 'prompt_tokens': 733, 'total_tokens': 855, 'completion_tokens_details': {'accepted_prediction_tokens': 0, 'audio_tokens': 0, 'reasoning_tokens': 0, 'rejected_prediction_tokens': 0}, 'prompt_tokens_details': {'audio_tokens': 0, 'cached_tokens': 0}}, 'model_name': 'gpt-4o-2024-08-06', 'system_fingerprint': 'fp_5f20662549', 'finish_reason': 'stop', 'logprobs': None}, id='run-9ba43d8a-53f1-492b-8da4-f2dfc0887c8a-0', usage_metadata={'input_tokens': 733, 'output_tokens': 122, 'total_tokens': 855, 'input_token_details': {'audio': 0, 'cache_read': 0}, 'output_token_details': {'audio': 0, 'reasoning': 0}}),\n",
       "  HumanMessage(content='대한민국 남자들은 군대 가야해?', additional_kwargs={}, response_metadata={}, id='87604c17-4105-4a58-b163-c8e6f675862a'),\n",
       "  AIMessage(content='네, 대한민국에서는 대부분의 남성에게 병역 의무가 부과됩니다. 일반적으로 만 18세 이상의 건강한 남성은 군 복무를 해야 하며, 복무 기간은 보통 18개월에서 21개월 정도입니다. 병역은 육군, 해군, 공군 등 다양한 군대 형태로 이루어지며, 일부는 사회복무요원 등 대체복무로 병역을 이행하기도 합니다. 병역 의무는 국가 안보와 관련된 중요한 제도이며, 모든 남성에게 동일하게 적용됩니다. 다만, 일부 예외적인 경우에는 면제되거나 다른 형태의 복무로 대체될 수 있습니다.', additional_kwargs={'refusal': None}, response_metadata={'token_usage': {'completion_tokens': 149, 'prompt_tokens': 726, 'total_tokens': 875, 'completion_tokens_details': {'accepted_prediction_tokens': 0, 'audio_tokens': 0, 'reasoning_tokens': 0, 'rejected_prediction_tokens': 0}, 'prompt_tokens_details': {'audio_tokens': 0, 'cached_tokens': 0}}, 'model_name': 'gpt-4o-2024-08-06', 'system_fingerprint': 'fp_5f20662549', 'finish_reason': 'stop', 'logprobs': None}, id='run-afc3df93-4c93-481f-9859-e606d4ada318-0', usage_metadata={'input_tokens': 726, 'output_tokens': 149, 'total_tokens': 875, 'input_token_details': {'audio': 0, 'cache_read': 0}, 'output_token_details': {'audio': 0, 'reasoning': 0}})],\n",
       " 'summary': '- 사용자는 헬스장에서 운동하는 것을 취미로 즐긴다.\\n- 돼지고기를 좋아하고, 싫어하는 음식은 없다.\\n- 가족 관계는 아버지, 어머니, 형, 형수님, 그리고 조카 두 명이다.\\n- 이순신 장군의 업적과 2차 전지에 대해 간단히 설명했다.\\n- 대한민국의 위치, 경제, 문화에 대해 간단히 설명했다.'}"
      ]
     },
     "execution_count": 16,
     "metadata": {},
     "output_type": "execute_result"
    }
   ],
   "source": [
    "graph.invoke({\"messages\":\"대한민국 남자들은 군대 가야해?\"}, config=config)"
   ]
  },
  {
   "cell_type": "code",
   "execution_count": 17,
   "metadata": {},
   "outputs": [
    {
     "name": "stdout",
     "output_type": "stream",
     "text": [
      "\u001b[95m\n",
      "당신은 [사용자 정보]와 [이전 대화요약]을 통해 답변하는 유용한 챗봇입니다.\n",
      "[사용자 정보]:\n",
      "- 이름: 창우\n",
      "- 나이: 30살\n",
      "- 현재 소속: 부산대학교\n",
      "- 학위 과정: 박사과정\n",
      "- 전공: 인공지능\n",
      "- 관심 분야: LLM (대규모 언어 모델) 분야\n",
      "- 취미: 헬스장에서 운동하기\n",
      "- 좋아하는 음식: 돼지고기\n",
      "- 싫어하는 음식: 딱히 없음\n",
      "- 가족관계: 아버지, 어머니, 형, 형수님, 조카 2명\n",
      "\n",
      "[이전 대화요약]:\n",
      "- 사용자는 헬스장에서 운동하는 것을 취미로 즐긴다.\n",
      "- 돼지고기를 좋아하고, 싫어하는 음식은 없다.\n",
      "- 가족 관계는 아버지, 어머니, 형, 형수님, 그리고 조카 두 명이다.\n",
      "- 이순신 장군의 업적과 2차 전지에 대해 간단히 설명했다.\n",
      "- 대한민국의 위치, 경제, 문화에 대해 간단히 설명했다.\n",
      "\u001b[0m\n",
      "\u001b[94m\n",
      "[현재 사용자 정보]\n",
      "\n",
      "- 이름: 창우\n",
      "- 나이: 30살\n",
      "- 현재 소속: 부산대학교\n",
      "- 학위 과정: 박사과정\n",
      "- 전공: 인공지능\n",
      "- 관심 분야: LLM (대규모 언어 모델) 분야\n",
      "- 취미: 헬스장에서 운동하기\n",
      "- 좋아하는 음식: 돼지고기\n",
      "- 싫어하는 음식: 딱히 없음\n",
      "- 가족관계: 아버지, 어머니, 형, 형수님, 조카 2명\n",
      "\u001b[0m\n"
     ]
    },
    {
     "data": {
      "text/plain": [
       "{'messages': [HumanMessage(content='이순신 장군에 대해 간단히 알려줄래?', additional_kwargs={}, response_metadata={}, id='6990f93a-fb48-42a8-8cc6-02a780afe2d4'),\n",
       "  AIMessage(content='이순신 장군은 조선 시대의 유명한 군인으로, 임진왜란 당시 조선을 침략한 일본군과의 해전에서 큰 공을 세운 인물입니다. 특히 명량 해전과 한산도 대첩에서의 승리로 잘 알려져 있죠. 그의 뛰어난 전략과 리더십 덕분에 조선은 해상에서 일본군을 효과적으로 물리칠 수 있었습니다. 이순신 장군은 지금도 많은 사람들에게 존경받고 있는 역사적 인물입니다. 그의 삶과 업적은 많은 교훈을 주고 있죠.', additional_kwargs={'refusal': None}, response_metadata={'token_usage': {'completion_tokens': 133, 'prompt_tokens': 425, 'total_tokens': 558, 'completion_tokens_details': {'accepted_prediction_tokens': 0, 'audio_tokens': 0, 'reasoning_tokens': 0, 'rejected_prediction_tokens': 0}, 'prompt_tokens_details': {'audio_tokens': 0, 'cached_tokens': 0}}, 'model_name': 'gpt-4o-2024-08-06', 'system_fingerprint': 'fp_5f20662549', 'finish_reason': 'stop', 'logprobs': None}, id='run-3e09bd02-2a7d-4ed9-a121-fd7a421a5549-0', usage_metadata={'input_tokens': 425, 'output_tokens': 133, 'total_tokens': 558, 'input_token_details': {'audio': 0, 'cache_read': 0}, 'output_token_details': {'audio': 0, 'reasoning': 0}}),\n",
       "  HumanMessage(content='2차전지가 뭐임?', additional_kwargs={}, response_metadata={}, id='055ec861-bbea-4f61-8a0c-46a4b5a0554f'),\n",
       "  AIMessage(content='2차 전지는 재충전이 가능한 배터리입니다. 일반적으로 사용하는 건전지와 달리, 방전된 후에도 다시 충전해서 여러 번 사용할 수 있는 특징이 있습니다. 리튬 이온 배터리, 니켈-카드뮴 배터리, 니켈-수소 배터리 등이 2차 전지에 속합니다. 이러한 배터리는 스마트폰, 노트북, 전기 자동차 등 다양한 전자 기기에 널리 사용되고 있습니다. 2차 전지는 에너지 저장 효율이 높고 환경에도 비교적 친화적이라서, 최근 많은 관심을 받고 있는 분야 중 하나입니다.', additional_kwargs={'refusal': None}, response_metadata={'token_usage': {'completion_tokens': 145, 'prompt_tokens': 572, 'total_tokens': 717, 'completion_tokens_details': {'accepted_prediction_tokens': 0, 'audio_tokens': 0, 'reasoning_tokens': 0, 'rejected_prediction_tokens': 0}, 'prompt_tokens_details': {'audio_tokens': 0, 'cached_tokens': 0}}, 'model_name': 'gpt-4o-2024-08-06', 'system_fingerprint': 'fp_5f20662549', 'finish_reason': 'stop', 'logprobs': None}, id='run-fa139ee8-e397-4e25-975d-066647930eb9-0', usage_metadata={'input_tokens': 572, 'output_tokens': 145, 'total_tokens': 717, 'input_token_details': {'audio': 0, 'cache_read': 0}, 'output_token_details': {'audio': 0, 'reasoning': 0}}),\n",
       "  HumanMessage(content='대한민국에 대해 알려줘 간단히', additional_kwargs={}, response_metadata={}, id='98f65986-bbaa-4e6c-81bd-211aadc50cef'),\n",
       "  AIMessage(content='대한민국은 동아시아에 위치한 나라로, 한반도의 남쪽에 자리잡고 있습니다. 수도는 서울이며, 인구는 약 5천만 명 정도입니다. 대한민국은 고도로 발전한 경제를 가지고 있으며, 특히 IT, 전자, 자동차 산업에서 세계적인 경쟁력을 자랑합니다. 문화적으로도 K-팝, 영화, 드라마 등이 전 세계적으로 인기를 끌고 있습니다. 역사적으로는 1948년에 독립하여 현재까지 민주주의 체제를 유지하고 있으며, 다양한 문화와 전통을 가진 나라입니다.', additional_kwargs={'refusal': None}, response_metadata={'token_usage': {'completion_tokens': 122, 'prompt_tokens': 733, 'total_tokens': 855, 'completion_tokens_details': {'accepted_prediction_tokens': 0, 'audio_tokens': 0, 'reasoning_tokens': 0, 'rejected_prediction_tokens': 0}, 'prompt_tokens_details': {'audio_tokens': 0, 'cached_tokens': 0}}, 'model_name': 'gpt-4o-2024-08-06', 'system_fingerprint': 'fp_5f20662549', 'finish_reason': 'stop', 'logprobs': None}, id='run-9ba43d8a-53f1-492b-8da4-f2dfc0887c8a-0', usage_metadata={'input_tokens': 733, 'output_tokens': 122, 'total_tokens': 855, 'input_token_details': {'audio': 0, 'cache_read': 0}, 'output_token_details': {'audio': 0, 'reasoning': 0}}),\n",
       "  HumanMessage(content='대한민국 남자들은 군대 가야해?', additional_kwargs={}, response_metadata={}, id='87604c17-4105-4a58-b163-c8e6f675862a'),\n",
       "  AIMessage(content='네, 대한민국에서는 대부분의 남성에게 병역 의무가 부과됩니다. 일반적으로 만 18세 이상의 건강한 남성은 군 복무를 해야 하며, 복무 기간은 보통 18개월에서 21개월 정도입니다. 병역은 육군, 해군, 공군 등 다양한 군대 형태로 이루어지며, 일부는 사회복무요원 등 대체복무로 병역을 이행하기도 합니다. 병역 의무는 국가 안보와 관련된 중요한 제도이며, 모든 남성에게 동일하게 적용됩니다. 다만, 일부 예외적인 경우에는 면제되거나 다른 형태의 복무로 대체될 수 있습니다.', additional_kwargs={'refusal': None}, response_metadata={'token_usage': {'completion_tokens': 149, 'prompt_tokens': 726, 'total_tokens': 875, 'completion_tokens_details': {'accepted_prediction_tokens': 0, 'audio_tokens': 0, 'reasoning_tokens': 0, 'rejected_prediction_tokens': 0}, 'prompt_tokens_details': {'audio_tokens': 0, 'cached_tokens': 0}}, 'model_name': 'gpt-4o-2024-08-06', 'system_fingerprint': 'fp_5f20662549', 'finish_reason': 'stop', 'logprobs': None}, id='run-afc3df93-4c93-481f-9859-e606d4ada318-0', usage_metadata={'input_tokens': 726, 'output_tokens': 149, 'total_tokens': 875, 'input_token_details': {'audio': 0, 'cache_read': 0}, 'output_token_details': {'audio': 0, 'reasoning': 0}}),\n",
       "  HumanMessage(content='지금 미국대통령 누구임? 2024년이야.', additional_kwargs={}, response_metadata={}, id='7872022e-0cf3-48ea-b6c6-bdc5e4f265e7'),\n",
       "  AIMessage(content='2024년 현재 미국 대통령은 조 바이든입니다. 그는 2021년 1월 20일에 제46대 대통령으로 취임했습니다. 다만, 올해가 대선이 있는 해이기 때문에, 2024년 말에는 새로운 대통령이 선출될 수도 있습니다.', additional_kwargs={'refusal': None}, response_metadata={'token_usage': {'completion_tokens': 63, 'prompt_tokens': 897, 'total_tokens': 960, 'completion_tokens_details': {'accepted_prediction_tokens': 0, 'audio_tokens': 0, 'reasoning_tokens': 0, 'rejected_prediction_tokens': 0}, 'prompt_tokens_details': {'audio_tokens': 0, 'cached_tokens': 0}}, 'model_name': 'gpt-4o-2024-08-06', 'system_fingerprint': 'fp_5f20662549', 'finish_reason': 'stop', 'logprobs': None}, id='run-df10bbae-fbdb-4120-898b-305fad0b70f3-0', usage_metadata={'input_tokens': 897, 'output_tokens': 63, 'total_tokens': 960, 'input_token_details': {'audio': 0, 'cache_read': 0}, 'output_token_details': {'audio': 0, 'reasoning': 0}})],\n",
       " 'summary': '- 사용자는 헬스장에서 운동하는 것을 취미로 즐긴다.\\n- 돼지고기를 좋아하고, 싫어하는 음식은 없다.\\n- 가족 관계는 아버지, 어머니, 형, 형수님, 그리고 조카 두 명이다.\\n- 이순신 장군의 업적과 2차 전지에 대해 간단히 설명했다.\\n- 대한민국의 위치, 경제, 문화에 대해 간단히 설명했다.'}"
      ]
     },
     "execution_count": 17,
     "metadata": {},
     "output_type": "execute_result"
    }
   ],
   "source": [
    "graph.invoke({\"messages\":\"지금 미국대통령 누구임? 2024년이야.\"}, config=config)"
   ]
  },
  {
   "cell_type": "code",
   "execution_count": 18,
   "metadata": {},
   "outputs": [
    {
     "name": "stdout",
     "output_type": "stream",
     "text": [
      "\u001b[95m\n",
      "당신은 [사용자 정보]와 [이전 대화요약]을 통해 답변하는 유용한 챗봇입니다.\n",
      "[사용자 정보]:\n",
      "[현재 사용자 정보]\n",
      "\n",
      "- 이름: 창우\n",
      "- 나이: 30살\n",
      "- 현재 소속: 부산대학교\n",
      "- 학위 과정: 박사과정\n",
      "- 전공: 인공지능\n",
      "- 관심 분야: LLM (대규모 언어 모델) 분야\n",
      "- 취미: 헬스장에서 운동하기\n",
      "- 좋아하는 음식: 돼지고기\n",
      "- 싫어하는 음식: 딱히 없음\n",
      "- 가족관계: 아버지, 어머니, 형, 형수님, 조카 2명\n",
      "\n",
      "[이전 대화요약]:\n",
      "- 사용자는 헬스장에서 운동하는 것을 취미로 즐긴다.\n",
      "- 돼지고기를 좋아하고, 싫어하는 음식은 없다.\n",
      "- 가족 관계는 아버지, 어머니, 형, 형수님, 그리고 조카 두 명이다.\n",
      "- 이순신 장군의 업적과 2차 전지에 대해 간단히 설명했다.\n",
      "- 대한민국의 위치, 경제, 문화에 대해 간단히 설명했다.\n",
      "\u001b[0m\n",
      "\u001b[94m\n",
      "- 이름: 창우\n",
      "- 나이: 30살\n",
      "- 현재 소속: 부산대학교\n",
      "- 학위 과정: 박사과정\n",
      "- 전공: 인공지능\n",
      "- 관심 분야: LLM (대규모 언어 모델) 분야\n",
      "- 취미: 헬스장에서 운동하기\n",
      "- 좋아하는 음식: 돼지고기\n",
      "- 싫어하는 음식: 딱히 없음\n",
      "- 가족관계: 아버지, 어머니, 형, 형수님, 조카 2명\n",
      "\u001b[0m\n",
      "\u001b[93m\n",
      "대화 길이가 12 이상 (6번 이상 대화 주고받음) 이므로 요약 노드로 이동합니다.\n",
      "\u001b[0m\n"
     ]
    },
    {
     "data": {
      "text/plain": [
       "{'messages': [HumanMessage(content='대한민국 남자들은 군대 가야해?', additional_kwargs={}, response_metadata={}, id='87604c17-4105-4a58-b163-c8e6f675862a'),\n",
       "  AIMessage(content='네, 대한민국에서는 대부분의 남성에게 병역 의무가 부과됩니다. 일반적으로 만 18세 이상의 건강한 남성은 군 복무를 해야 하며, 복무 기간은 보통 18개월에서 21개월 정도입니다. 병역은 육군, 해군, 공군 등 다양한 군대 형태로 이루어지며, 일부는 사회복무요원 등 대체복무로 병역을 이행하기도 합니다. 병역 의무는 국가 안보와 관련된 중요한 제도이며, 모든 남성에게 동일하게 적용됩니다. 다만, 일부 예외적인 경우에는 면제되거나 다른 형태의 복무로 대체될 수 있습니다.', additional_kwargs={'refusal': None}, response_metadata={'token_usage': {'completion_tokens': 149, 'prompt_tokens': 726, 'total_tokens': 875, 'completion_tokens_details': {'accepted_prediction_tokens': 0, 'audio_tokens': 0, 'reasoning_tokens': 0, 'rejected_prediction_tokens': 0}, 'prompt_tokens_details': {'audio_tokens': 0, 'cached_tokens': 0}}, 'model_name': 'gpt-4o-2024-08-06', 'system_fingerprint': 'fp_5f20662549', 'finish_reason': 'stop', 'logprobs': None}, id='run-afc3df93-4c93-481f-9859-e606d4ada318-0', usage_metadata={'input_tokens': 726, 'output_tokens': 149, 'total_tokens': 875, 'input_token_details': {'audio': 0, 'cache_read': 0}, 'output_token_details': {'audio': 0, 'reasoning': 0}}),\n",
       "  HumanMessage(content='지금 미국대통령 누구임? 2024년이야.', additional_kwargs={}, response_metadata={}, id='7872022e-0cf3-48ea-b6c6-bdc5e4f265e7'),\n",
       "  AIMessage(content='2024년 현재 미국 대통령은 조 바이든입니다. 그는 2021년 1월 20일에 제46대 대통령으로 취임했습니다. 다만, 올해가 대선이 있는 해이기 때문에, 2024년 말에는 새로운 대통령이 선출될 수도 있습니다.', additional_kwargs={'refusal': None}, response_metadata={'token_usage': {'completion_tokens': 63, 'prompt_tokens': 897, 'total_tokens': 960, 'completion_tokens_details': {'accepted_prediction_tokens': 0, 'audio_tokens': 0, 'reasoning_tokens': 0, 'rejected_prediction_tokens': 0}, 'prompt_tokens_details': {'audio_tokens': 0, 'cached_tokens': 0}}, 'model_name': 'gpt-4o-2024-08-06', 'system_fingerprint': 'fp_5f20662549', 'finish_reason': 'stop', 'logprobs': None}, id='run-df10bbae-fbdb-4120-898b-305fad0b70f3-0', usage_metadata={'input_tokens': 897, 'output_tokens': 63, 'total_tokens': 960, 'input_token_details': {'audio': 0, 'cache_read': 0}, 'output_token_details': {'audio': 0, 'reasoning': 0}}),\n",
       "  HumanMessage(content='한국 대통령에 대해도 알려줘', additional_kwargs={}, response_metadata={}, id='a6290fd4-6367-4979-81a8-33a189c548e9'),\n",
       "  AIMessage(content='2024년 현재 대한민국 대통령은 윤석열입니다. 그는 2022년 5월 10일에 제20대 대통령으로 취임했습니다. 윤석열 대통령은 법조인 출신으로, 서울중앙지검장과 검찰총장을 역임한 후 정치에 입문했습니다. 그의 행정부는 경제 활성화, 사회 안전망 강화, 외교 정책 등을 주요 과제로 삼고 있습니다. 대통령의 임기는 5년이며, 연임은 허용되지 않습니다.', additional_kwargs={'refusal': None}, response_metadata={'token_usage': {'completion_tokens': 108, 'prompt_tokens': 979, 'total_tokens': 1087, 'completion_tokens_details': {'accepted_prediction_tokens': 0, 'audio_tokens': 0, 'reasoning_tokens': 0, 'rejected_prediction_tokens': 0}, 'prompt_tokens_details': {'audio_tokens': 0, 'cached_tokens': 0}}, 'model_name': 'gpt-4o-2024-08-06', 'system_fingerprint': 'fp_e161c81bbd', 'finish_reason': 'stop', 'logprobs': None}, id='run-05ac8467-47d5-4017-937e-7aca4e82c8ab-0', usage_metadata={'input_tokens': 979, 'output_tokens': 108, 'total_tokens': 1087, 'input_token_details': {'audio': 0, 'cache_read': 0}, 'output_token_details': {'audio': 0, 'reasoning': 0}})],\n",
       " 'summary': '- 사용자는 헬스장에서 운동하는 것을 취미로 즐긴다.\\n- 돼지고기를 좋아하고, 싫어하는 음식은 없다.\\n- 가족 관계는 아버지, 어머니, 형, 형수님, 그리고 조카 두 명이다.\\n- 이순신 장군의 업적과 2차 전지에 대해 간단히 설명했다.\\n- 대한민국의 위치, 경제, 문화에 대해 간단히 설명했다.\\n- 대한민국의 병역 의무에 대해 설명했다.\\n- 미국 대통령은 조 바이든이며, 윤석열은 대한민국 대통령이다.'}"
      ]
     },
     "execution_count": 18,
     "metadata": {},
     "output_type": "execute_result"
    }
   ],
   "source": [
    "graph.invoke({\"messages\":\"한국 대통령에 대해도 알려줘\"}, config=config)"
   ]
  },
  {
   "cell_type": "code",
   "execution_count": 19,
   "metadata": {},
   "outputs": [
    {
     "name": "stdout",
     "output_type": "stream",
     "text": [
      "\u001b[95m\n",
      "당신은 [사용자 정보]와 [이전 대화요약]을 통해 답변하는 유용한 챗봇입니다.\n",
      "[사용자 정보]:\n",
      "- 이름: 창우\n",
      "- 나이: 30살\n",
      "- 현재 소속: 부산대학교\n",
      "- 학위 과정: 박사과정\n",
      "- 전공: 인공지능\n",
      "- 관심 분야: LLM (대규모 언어 모델) 분야\n",
      "- 취미: 헬스장에서 운동하기\n",
      "- 좋아하는 음식: 돼지고기\n",
      "- 싫어하는 음식: 딱히 없음\n",
      "- 가족관계: 아버지, 어머니, 형, 형수님, 조카 2명\n",
      "\n",
      "[이전 대화요약]:\n",
      "- 사용자는 헬스장에서 운동하는 것을 취미로 즐긴다.\n",
      "- 돼지고기를 좋아하고, 싫어하는 음식은 없다.\n",
      "- 가족 관계는 아버지, 어머니, 형, 형수님, 그리고 조카 두 명이다.\n",
      "- 이순신 장군의 업적과 2차 전지에 대해 간단히 설명했다.\n",
      "- 대한민국의 위치, 경제, 문화에 대해 간단히 설명했다.\n",
      "- 대한민국의 병역 의무에 대해 설명했다.\n",
      "- 미국 대통령은 조 바이든이며, 윤석열은 대한민국 대통령이다.\n",
      "\u001b[0m\n",
      "\u001b[94m\n",
      "- 이름: 창우\n",
      "- 나이: 30살\n",
      "- 현재 소속: 부산대학교\n",
      "- 학위 과정: 박사과정\n",
      "- 전공: 인공지능\n",
      "- 관심 분야: LLM (대규모 언어 모델) 분야\n",
      "- 취미: 헬스장에서 운동하기\n",
      "- 좋아하는 음식: 돼지고기\n",
      "- 싫어하는 음식: 딱히 없음\n",
      "- 가족관계: 아버지, 어머니, 형, 형수님, 조카 2명\n",
      "\u001b[0m\n"
     ]
    },
    {
     "data": {
      "text/plain": [
       "{'messages': [HumanMessage(content='대한민국 남자들은 군대 가야해?', additional_kwargs={}, response_metadata={}, id='87604c17-4105-4a58-b163-c8e6f675862a'),\n",
       "  AIMessage(content='네, 대한민국에서는 대부분의 남성에게 병역 의무가 부과됩니다. 일반적으로 만 18세 이상의 건강한 남성은 군 복무를 해야 하며, 복무 기간은 보통 18개월에서 21개월 정도입니다. 병역은 육군, 해군, 공군 등 다양한 군대 형태로 이루어지며, 일부는 사회복무요원 등 대체복무로 병역을 이행하기도 합니다. 병역 의무는 국가 안보와 관련된 중요한 제도이며, 모든 남성에게 동일하게 적용됩니다. 다만, 일부 예외적인 경우에는 면제되거나 다른 형태의 복무로 대체될 수 있습니다.', additional_kwargs={'refusal': None}, response_metadata={'token_usage': {'completion_tokens': 149, 'prompt_tokens': 726, 'total_tokens': 875, 'completion_tokens_details': {'accepted_prediction_tokens': 0, 'audio_tokens': 0, 'reasoning_tokens': 0, 'rejected_prediction_tokens': 0}, 'prompt_tokens_details': {'audio_tokens': 0, 'cached_tokens': 0}}, 'model_name': 'gpt-4o-2024-08-06', 'system_fingerprint': 'fp_5f20662549', 'finish_reason': 'stop', 'logprobs': None}, id='run-afc3df93-4c93-481f-9859-e606d4ada318-0', usage_metadata={'input_tokens': 726, 'output_tokens': 149, 'total_tokens': 875, 'input_token_details': {'audio': 0, 'cache_read': 0}, 'output_token_details': {'audio': 0, 'reasoning': 0}}),\n",
       "  HumanMessage(content='지금 미국대통령 누구임? 2024년이야.', additional_kwargs={}, response_metadata={}, id='7872022e-0cf3-48ea-b6c6-bdc5e4f265e7'),\n",
       "  AIMessage(content='2024년 현재 미국 대통령은 조 바이든입니다. 그는 2021년 1월 20일에 제46대 대통령으로 취임했습니다. 다만, 올해가 대선이 있는 해이기 때문에, 2024년 말에는 새로운 대통령이 선출될 수도 있습니다.', additional_kwargs={'refusal': None}, response_metadata={'token_usage': {'completion_tokens': 63, 'prompt_tokens': 897, 'total_tokens': 960, 'completion_tokens_details': {'accepted_prediction_tokens': 0, 'audio_tokens': 0, 'reasoning_tokens': 0, 'rejected_prediction_tokens': 0}, 'prompt_tokens_details': {'audio_tokens': 0, 'cached_tokens': 0}}, 'model_name': 'gpt-4o-2024-08-06', 'system_fingerprint': 'fp_5f20662549', 'finish_reason': 'stop', 'logprobs': None}, id='run-df10bbae-fbdb-4120-898b-305fad0b70f3-0', usage_metadata={'input_tokens': 897, 'output_tokens': 63, 'total_tokens': 960, 'input_token_details': {'audio': 0, 'cache_read': 0}, 'output_token_details': {'audio': 0, 'reasoning': 0}}),\n",
       "  HumanMessage(content='한국 대통령에 대해도 알려줘', additional_kwargs={}, response_metadata={}, id='a6290fd4-6367-4979-81a8-33a189c548e9'),\n",
       "  AIMessage(content='2024년 현재 대한민국 대통령은 윤석열입니다. 그는 2022년 5월 10일에 제20대 대통령으로 취임했습니다. 윤석열 대통령은 법조인 출신으로, 서울중앙지검장과 검찰총장을 역임한 후 정치에 입문했습니다. 그의 행정부는 경제 활성화, 사회 안전망 강화, 외교 정책 등을 주요 과제로 삼고 있습니다. 대통령의 임기는 5년이며, 연임은 허용되지 않습니다.', additional_kwargs={'refusal': None}, response_metadata={'token_usage': {'completion_tokens': 108, 'prompt_tokens': 979, 'total_tokens': 1087, 'completion_tokens_details': {'accepted_prediction_tokens': 0, 'audio_tokens': 0, 'reasoning_tokens': 0, 'rejected_prediction_tokens': 0}, 'prompt_tokens_details': {'audio_tokens': 0, 'cached_tokens': 0}}, 'model_name': 'gpt-4o-2024-08-06', 'system_fingerprint': 'fp_e161c81bbd', 'finish_reason': 'stop', 'logprobs': None}, id='run-05ac8467-47d5-4017-937e-7aca4e82c8ab-0', usage_metadata={'input_tokens': 979, 'output_tokens': 108, 'total_tokens': 1087, 'input_token_details': {'audio': 0, 'cache_read': 0}, 'output_token_details': {'audio': 0, 'reasoning': 0}}),\n",
       "  HumanMessage(content='김치에 대해 알려줄래? 어떻게만듦? 간단히', additional_kwargs={}, response_metadata={}, id='381a76f4-ea59-4c70-ad32-3e36e7d30604'),\n",
       "  AIMessage(content='김치는 한국 전통 발효 음식으로, 배추나 무와 같은 채소를 주 재료로 사용합니다. 김치를 만드는 과정은 다음과 같습니다:\\n\\n1. **재료 준비**: 배추, 무, 대파, 마늘, 생강 등의 채소와 고춧가루, 소금, 새우젓, 멸치액젓 등의 양념을 준비합니다.\\n\\n2. **절임**: 배추를 반으로 가르고 소금을 뿌려 절입니다. 이 과정은 배추의 수분을 빼고 아삭한 식감을 유지하는 데 중요합니다. 보통 몇 시간 동안 절입니다.\\n\\n3. **양념 준비**: 고춧가루, 다진 마늘, 생강, 새우젓, 멸치액젓 등을 섞어 양념장을 만듭니다. 여기에 잘게 썬 대파와 무를 추가하기도 합니다.\\n\\n4. **양념 바르기**: 절인 배추의 잎 사이사이에 양념을 골고루 발라줍니다.\\n\\n5. **발효**: 양념을 바른 배추를 통에 담아 실온에서 하루나 이틀 정도 발효시키고, 이후 냉장고에 보관하며 숙성시킵니다.\\n\\n이렇게 만들어진 김치는 다양한 한국 요리에 사용되며, 건강에도 좋은 발효 음식으로 알려져 있습니다.', additional_kwargs={'refusal': None}, response_metadata={'token_usage': {'completion_tokens': 308, 'prompt_tokens': 683, 'total_tokens': 991, 'completion_tokens_details': {'accepted_prediction_tokens': 0, 'audio_tokens': 0, 'reasoning_tokens': 0, 'rejected_prediction_tokens': 0}, 'prompt_tokens_details': {'audio_tokens': 0, 'cached_tokens': 0}}, 'model_name': 'gpt-4o-2024-08-06', 'system_fingerprint': 'fp_5f20662549', 'finish_reason': 'stop', 'logprobs': None}, id='run-a8c605bb-d9d2-4855-921a-4a4752efa0be-0', usage_metadata={'input_tokens': 683, 'output_tokens': 308, 'total_tokens': 991, 'input_token_details': {'audio': 0, 'cache_read': 0}, 'output_token_details': {'audio': 0, 'reasoning': 0}})],\n",
       " 'summary': '- 사용자는 헬스장에서 운동하는 것을 취미로 즐긴다.\\n- 돼지고기를 좋아하고, 싫어하는 음식은 없다.\\n- 가족 관계는 아버지, 어머니, 형, 형수님, 그리고 조카 두 명이다.\\n- 이순신 장군의 업적과 2차 전지에 대해 간단히 설명했다.\\n- 대한민국의 위치, 경제, 문화에 대해 간단히 설명했다.\\n- 대한민국의 병역 의무에 대해 설명했다.\\n- 미국 대통령은 조 바이든이며, 윤석열은 대한민국 대통령이다.'}"
      ]
     },
     "execution_count": 19,
     "metadata": {},
     "output_type": "execute_result"
    }
   ],
   "source": [
    "graph.invoke({\"messages\":\"김치에 대해 알려줄래? 어떻게만듦? 간단히\"}, config=config)"
   ]
  }
 ],
 "metadata": {
  "kernelspec": {
   "display_name": "langchain",
   "language": "python",
   "name": "langchain"
  },
  "language_info": {
   "codemirror_mode": {
    "name": "ipython",
    "version": 3
   },
   "file_extension": ".py",
   "mimetype": "text/x-python",
   "name": "python",
   "nbconvert_exporter": "python",
   "pygments_lexer": "ipython3",
   "version": "3.11.11"
  }
 },
 "nbformat": 4,
 "nbformat_minor": 2
}
