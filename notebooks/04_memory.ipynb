{
 "cells": [
  {
   "cell_type": "code",
   "execution_count": 2,
   "metadata": {},
   "outputs": [],
   "source": [
    "from modules.base import *"
   ]
  },
  {
   "cell_type": "markdown",
   "metadata": {},
   "source": [
    "#### 메모리 사용하기\n",
    "- 메모리 종류는 2가지\n",
    "\n",
    "- short term memory : 동일 thread 내에서 메모리 공유    \n",
    "    - 사용 라이브러리 : `from langgraph.checkpoint.memory import MemorySaver`\n",
    "    - build compile 시 checkpointer 인자로 사용\n",
    "    \n",
    "- long term memory : 동일 사용자 내에서 메모리 공유\n",
    "    - 사용 라이브러리 : `from langgraph.store.memory import InMemoryStore`\n",
    "    - 구조는 [namespace(directory, userid) -> key -> value]\n",
    "    - build compile 시 store 인자로 사용\n",
    "\n",
    "- 참고링크\n",
    "    - https://langchain-ai.github.io/langgraph/concepts/memory/#storing-memories\n",
    "    - https://blog.langchain.dev/semantic-search-for-langgraph-memory/ (Semantic Search)"
   ]
  },
  {
   "cell_type": "markdown",
   "metadata": {},
   "source": [
    "---"
   ]
  },
  {
   "cell_type": "markdown",
   "metadata": {},
   "source": [
    "##### 1. ShortTerm 테스트"
   ]
  },
  {
   "cell_type": "code",
   "execution_count": 5,
   "metadata": {},
   "outputs": [],
   "source": [
    "@trace_function()\n",
    "def node_answer(state:MessagesState)->MessagesState:\n",
    "    return {\"messages\": [llm.invoke(state[\"messages\"])]}\n",
    "builder = StateGraph(MessagesState)\n",
    "builder.add_node(\"node_answer\", node_answer)\n",
    "builder.add_edge(START, \"node_answer\")\n",
    "builder.add_edge(\"node_answer\", END)\n",
    "ShortTermMemory = MemorySaver()\n",
    "graph = builder.compile(checkpointer=ShortTermMemory)\n",
    "\n",
    "config = {\"configurable\": {\"thread_id\": \"initial_chat\", \n",
    "                           \"user_id\": \"changwoo\"}}"
   ]
  },
  {
   "cell_type": "code",
   "execution_count": 6,
   "metadata": {},
   "outputs": [
    {
     "name": "stdout",
     "output_type": "stream",
     "text": [
      "\n",
      "🚀 Passing Through [node_answer] ..\n",
      "\n",
      "#### [Input State]\n",
      "  args: ({'messages': [HumanMessage(content='안녕 나는 창우라고해', additional_kwargs={}, response_metadata={}, id='6030f64b-a404-481f-87c5-33ad936e614e')]},)\n",
      "  kwargs: {}\n",
      "\n",
      "#### [Output State]\n",
      "  result: {'messages': [AIMessage(content='안녕하세요, 창우님! 만나서 반갑습니다. 오늘 어떻게 도와드릴까요?', additional_kwargs={'refusal': None}, response_metadata={'token_usage': {'completion_tokens': 22, 'prompt_tokens': 14, 'total_tokens': 36, 'completion_tokens_details': {'accepted_prediction_tokens': 0, 'audio_tokens': 0, 'reasoning_tokens': 0, 'rejected_prediction_tokens': 0}, 'prompt_tokens_details': {'audio_tokens': 0, 'cached_tokens': 0}}, 'model_name': 'gpt-4o-2024-08-06', 'system_fingerprint': 'fp_703d4ff298', 'finish_reason': 'stop', 'logprobs': None}, id='run-3461bf85-a480-4af3-ad9e-8b983f1554dd-0', usage_metadata={'input_tokens': 14, 'output_tokens': 22, 'total_tokens': 36, 'input_token_details': {'audio': 0, 'cache_read': 0}, 'output_token_details': {'audio': 0, 'reasoning': 0}})]}\n"
     ]
    },
    {
     "data": {
      "text/plain": [
       "{'messages': [HumanMessage(content='안녕 나는 창우라고해', additional_kwargs={}, response_metadata={}, id='6030f64b-a404-481f-87c5-33ad936e614e'),\n",
       "  AIMessage(content='안녕하세요, 창우님! 만나서 반갑습니다. 오늘 어떻게 도와드릴까요?', additional_kwargs={'refusal': None}, response_metadata={'token_usage': {'completion_tokens': 22, 'prompt_tokens': 14, 'total_tokens': 36, 'completion_tokens_details': {'accepted_prediction_tokens': 0, 'audio_tokens': 0, 'reasoning_tokens': 0, 'rejected_prediction_tokens': 0}, 'prompt_tokens_details': {'audio_tokens': 0, 'cached_tokens': 0}}, 'model_name': 'gpt-4o-2024-08-06', 'system_fingerprint': 'fp_703d4ff298', 'finish_reason': 'stop', 'logprobs': None}, id='run-3461bf85-a480-4af3-ad9e-8b983f1554dd-0', usage_metadata={'input_tokens': 14, 'output_tokens': 22, 'total_tokens': 36, 'input_token_details': {'audio': 0, 'cache_read': 0}, 'output_token_details': {'audio': 0, 'reasoning': 0}})]}"
      ]
     },
     "execution_count": 6,
     "metadata": {},
     "output_type": "execute_result"
    }
   ],
   "source": [
    "graph.invoke({\"messages\":\"안녕 나는 창우라고해\"}, config)"
   ]
  },
  {
   "cell_type": "code",
   "execution_count": 4,
   "metadata": {},
   "outputs": [
    {
     "name": "stdout",
     "output_type": "stream",
     "text": [
      "\n",
      "\u001b[92m🚀 Passing Through [node_answer] ..\u001b[0m\n",
      "\n",
      "\u001b[91m#### [Input State]\u001b[0m\n",
      "  args: ({'messages': [HumanMessage(content='안녕 나는 창우라고해', additional_kwargs={}, response_metadata={}, id='fdb67c5e-5aa4-4baf-b354-a05b1725692d'), AIMessage(content='안녕하세요, 창우님! 만나서 반갑습니다. 오늘 어떻게 도와드릴까요?', additional_kwargs={'refusal': None}, response_metadata={'token_usage': {'completion_tokens': 22, 'prompt_tokens': 14, 'total_tokens': 36, 'completion_tokens_details': {'accepted_prediction_tokens': 0, 'audio_tokens': 0, 'reasoning_tokens': 0, 'rejected_prediction_tokens': 0}, 'prompt_tokens_details': {'audio_tokens': 0, 'cached_tokens': 0}}, 'model_name': 'gpt-4o-2024-08-06', 'system_fingerprint': 'fp_b7d65f1a5b', 'finish_reason': 'stop', 'logprobs': None}, id='run-189c7512-22a5-4224-8f76-a1aa3d938743-0', usage_metadata={'input_tokens': 14, 'output_tokens': 22, 'total_tokens': 36, 'input_token_details': {'audio': 0, 'cache_read': 0}, 'output_token_details': {'audio': 0, 'reasoning': 0}}), HumanMessage(content='내 이름이 뭐라고?', additional_kwargs={}, response_metadata={}, id='b063bffe-4e89-4fd0-bad8-61a17c2ea021')]},)\n",
      "  kwargs: {}\n",
      "\n",
      "\u001b[94m#### [Output State]\u001b[0m\n",
      "  result: {'messages': [AIMessage(content='당신의 이름은 창우라고 하셨습니다. 맞나요?', additional_kwargs={'refusal': None}, response_metadata={'token_usage': {'completion_tokens': 16, 'prompt_tokens': 49, 'total_tokens': 65, 'completion_tokens_details': {'accepted_prediction_tokens': 0, 'audio_tokens': 0, 'reasoning_tokens': 0, 'rejected_prediction_tokens': 0}, 'prompt_tokens_details': {'audio_tokens': 0, 'cached_tokens': 0}}, 'model_name': 'gpt-4o-2024-08-06', 'system_fingerprint': 'fp_d28bcae782', 'finish_reason': 'stop', 'logprobs': None}, id='run-e63afd2a-663a-4518-807a-385b850ee33d-0', usage_metadata={'input_tokens': 49, 'output_tokens': 16, 'total_tokens': 65, 'input_token_details': {'audio': 0, 'cache_read': 0}, 'output_token_details': {'audio': 0, 'reasoning': 0}})]}\n"
     ]
    },
    {
     "data": {
      "text/plain": [
       "{'messages': [HumanMessage(content='안녕 나는 창우라고해', additional_kwargs={}, response_metadata={}, id='fdb67c5e-5aa4-4baf-b354-a05b1725692d'),\n",
       "  AIMessage(content='안녕하세요, 창우님! 만나서 반갑습니다. 오늘 어떻게 도와드릴까요?', additional_kwargs={'refusal': None}, response_metadata={'token_usage': {'completion_tokens': 22, 'prompt_tokens': 14, 'total_tokens': 36, 'completion_tokens_details': {'accepted_prediction_tokens': 0, 'audio_tokens': 0, 'reasoning_tokens': 0, 'rejected_prediction_tokens': 0}, 'prompt_tokens_details': {'audio_tokens': 0, 'cached_tokens': 0}}, 'model_name': 'gpt-4o-2024-08-06', 'system_fingerprint': 'fp_b7d65f1a5b', 'finish_reason': 'stop', 'logprobs': None}, id='run-189c7512-22a5-4224-8f76-a1aa3d938743-0', usage_metadata={'input_tokens': 14, 'output_tokens': 22, 'total_tokens': 36, 'input_token_details': {'audio': 0, 'cache_read': 0}, 'output_token_details': {'audio': 0, 'reasoning': 0}}),\n",
       "  HumanMessage(content='내 이름이 뭐라고?', additional_kwargs={}, response_metadata={}, id='b063bffe-4e89-4fd0-bad8-61a17c2ea021'),\n",
       "  AIMessage(content='당신의 이름은 창우라고 하셨습니다. 맞나요?', additional_kwargs={'refusal': None}, response_metadata={'token_usage': {'completion_tokens': 16, 'prompt_tokens': 49, 'total_tokens': 65, 'completion_tokens_details': {'accepted_prediction_tokens': 0, 'audio_tokens': 0, 'reasoning_tokens': 0, 'rejected_prediction_tokens': 0}, 'prompt_tokens_details': {'audio_tokens': 0, 'cached_tokens': 0}}, 'model_name': 'gpt-4o-2024-08-06', 'system_fingerprint': 'fp_d28bcae782', 'finish_reason': 'stop', 'logprobs': None}, id='run-e63afd2a-663a-4518-807a-385b850ee33d-0', usage_metadata={'input_tokens': 49, 'output_tokens': 16, 'total_tokens': 65, 'input_token_details': {'audio': 0, 'cache_read': 0}, 'output_token_details': {'audio': 0, 'reasoning': 0}})]}"
      ]
     },
     "execution_count": 4,
     "metadata": {},
     "output_type": "execute_result"
    }
   ],
   "source": [
    "graph.invoke({\"messages\":\"내 이름이 뭐라고?\"}, config)"
   ]
  },
  {
   "cell_type": "markdown",
   "metadata": {},
   "source": [
    "주의할 점은 `단순히 graph만 새로 build하면 여전히 정보를 기억`한다는 점\n",
    "- option 1. `ShortTermMemory = MemorySaver()` 재 선언후 graph build\n",
    "- option 2. 세션 새로 시작\n",
    "- option 3. config의 thread_id 값 변경\n",
    "- LongTermMemory 도 동일함"
   ]
  },
  {
   "cell_type": "code",
   "execution_count": 5,
   "metadata": {},
   "outputs": [
    {
     "name": "stdout",
     "output_type": "stream",
     "text": [
      "\n",
      "\u001b[92m🚀 Passing Through [node_answer] ..\u001b[0m\n",
      "\n",
      "\u001b[91m#### [Input State]\u001b[0m\n",
      "  args: ({'messages': [HumanMessage(content='안녕 나는 창우라고해', additional_kwargs={}, response_metadata={}, id='fdb67c5e-5aa4-4baf-b354-a05b1725692d'), AIMessage(content='안녕하세요, 창우님! 만나서 반갑습니다. 오늘 어떻게 도와드릴까요?', additional_kwargs={'refusal': None}, response_metadata={'token_usage': {'completion_tokens': 22, 'prompt_tokens': 14, 'total_tokens': 36, 'completion_tokens_details': {'accepted_prediction_tokens': 0, 'audio_tokens': 0, 'reasoning_tokens': 0, 'rejected_prediction_tokens': 0}, 'prompt_tokens_details': {'audio_tokens': 0, 'cached_tokens': 0}}, 'model_name': 'gpt-4o-2024-08-06', 'system_fingerprint': 'fp_b7d65f1a5b', 'finish_reason': 'stop', 'logprobs': None}, id='run-189c7512-22a5-4224-8f76-a1aa3d938743-0', usage_metadata={'input_tokens': 14, 'output_tokens': 22, 'total_tokens': 36, 'input_token_details': {'audio': 0, 'cache_read': 0}, 'output_token_details': {'audio': 0, 'reasoning': 0}}), HumanMessage(content='내 이름이 뭐라고?', additional_kwargs={}, response_metadata={}, id='b063bffe-4e89-4fd0-bad8-61a17c2ea021'), AIMessage(content='당신의 이름은 창우라고 하셨습니다. 맞나요?', additional_kwargs={'refusal': None}, response_metadata={'token_usage': {'completion_tokens': 16, 'prompt_tokens': 49, 'total_tokens': 65, 'completion_tokens_details': {'accepted_prediction_tokens': 0, 'audio_tokens': 0, 'reasoning_tokens': 0, 'rejected_prediction_tokens': 0}, 'prompt_tokens_details': {'audio_tokens': 0, 'cached_tokens': 0}}, 'model_name': 'gpt-4o-2024-08-06', 'system_fingerprint': 'fp_d28bcae782', 'finish_reason': 'stop', 'logprobs': None}, id='run-e63afd2a-663a-4518-807a-385b850ee33d-0', usage_metadata={'input_tokens': 49, 'output_tokens': 16, 'total_tokens': 65, 'input_token_details': {'audio': 0, 'cache_read': 0}, 'output_token_details': {'audio': 0, 'reasoning': 0}}), HumanMessage(content='내 이름이 뭐라고?', additional_kwargs={}, response_metadata={}, id='4fa162bc-f47d-4157-af78-59999074a4f4')]},)\n",
      "  kwargs: {}\n",
      "\n",
      "\u001b[94m#### [Output State]\u001b[0m\n",
      "  result: {'messages': [AIMessage(content='당신은 \"창우\"라고 소개하셨습니다. 맞나요?', additional_kwargs={'refusal': None}, response_metadata={'token_usage': {'completion_tokens': 17, 'prompt_tokens': 78, 'total_tokens': 95, 'completion_tokens_details': {'accepted_prediction_tokens': 0, 'audio_tokens': 0, 'reasoning_tokens': 0, 'rejected_prediction_tokens': 0}, 'prompt_tokens_details': {'audio_tokens': 0, 'cached_tokens': 0}}, 'model_name': 'gpt-4o-2024-08-06', 'system_fingerprint': 'fp_5f20662549', 'finish_reason': 'stop', 'logprobs': None}, id='run-35ae640d-f4d6-4ea3-9e81-01f4a9841664-0', usage_metadata={'input_tokens': 78, 'output_tokens': 17, 'total_tokens': 95, 'input_token_details': {'audio': 0, 'cache_read': 0}, 'output_token_details': {'audio': 0, 'reasoning': 0}})]}\n"
     ]
    },
    {
     "data": {
      "text/plain": [
       "{'messages': [HumanMessage(content='안녕 나는 창우라고해', additional_kwargs={}, response_metadata={}, id='fdb67c5e-5aa4-4baf-b354-a05b1725692d'),\n",
       "  AIMessage(content='안녕하세요, 창우님! 만나서 반갑습니다. 오늘 어떻게 도와드릴까요?', additional_kwargs={'refusal': None}, response_metadata={'token_usage': {'completion_tokens': 22, 'prompt_tokens': 14, 'total_tokens': 36, 'completion_tokens_details': {'accepted_prediction_tokens': 0, 'audio_tokens': 0, 'reasoning_tokens': 0, 'rejected_prediction_tokens': 0}, 'prompt_tokens_details': {'audio_tokens': 0, 'cached_tokens': 0}}, 'model_name': 'gpt-4o-2024-08-06', 'system_fingerprint': 'fp_b7d65f1a5b', 'finish_reason': 'stop', 'logprobs': None}, id='run-189c7512-22a5-4224-8f76-a1aa3d938743-0', usage_metadata={'input_tokens': 14, 'output_tokens': 22, 'total_tokens': 36, 'input_token_details': {'audio': 0, 'cache_read': 0}, 'output_token_details': {'audio': 0, 'reasoning': 0}}),\n",
       "  HumanMessage(content='내 이름이 뭐라고?', additional_kwargs={}, response_metadata={}, id='b063bffe-4e89-4fd0-bad8-61a17c2ea021'),\n",
       "  AIMessage(content='당신의 이름은 창우라고 하셨습니다. 맞나요?', additional_kwargs={'refusal': None}, response_metadata={'token_usage': {'completion_tokens': 16, 'prompt_tokens': 49, 'total_tokens': 65, 'completion_tokens_details': {'accepted_prediction_tokens': 0, 'audio_tokens': 0, 'reasoning_tokens': 0, 'rejected_prediction_tokens': 0}, 'prompt_tokens_details': {'audio_tokens': 0, 'cached_tokens': 0}}, 'model_name': 'gpt-4o-2024-08-06', 'system_fingerprint': 'fp_d28bcae782', 'finish_reason': 'stop', 'logprobs': None}, id='run-e63afd2a-663a-4518-807a-385b850ee33d-0', usage_metadata={'input_tokens': 49, 'output_tokens': 16, 'total_tokens': 65, 'input_token_details': {'audio': 0, 'cache_read': 0}, 'output_token_details': {'audio': 0, 'reasoning': 0}}),\n",
       "  HumanMessage(content='내 이름이 뭐라고?', additional_kwargs={}, response_metadata={}, id='4fa162bc-f47d-4157-af78-59999074a4f4'),\n",
       "  AIMessage(content='당신은 \"창우\"라고 소개하셨습니다. 맞나요?', additional_kwargs={'refusal': None}, response_metadata={'token_usage': {'completion_tokens': 17, 'prompt_tokens': 78, 'total_tokens': 95, 'completion_tokens_details': {'accepted_prediction_tokens': 0, 'audio_tokens': 0, 'reasoning_tokens': 0, 'rejected_prediction_tokens': 0}, 'prompt_tokens_details': {'audio_tokens': 0, 'cached_tokens': 0}}, 'model_name': 'gpt-4o-2024-08-06', 'system_fingerprint': 'fp_5f20662549', 'finish_reason': 'stop', 'logprobs': None}, id='run-35ae640d-f4d6-4ea3-9e81-01f4a9841664-0', usage_metadata={'input_tokens': 78, 'output_tokens': 17, 'total_tokens': 95, 'input_token_details': {'audio': 0, 'cache_read': 0}, 'output_token_details': {'audio': 0, 'reasoning': 0}})]}"
      ]
     },
     "execution_count": 5,
     "metadata": {},
     "output_type": "execute_result"
    }
   ],
   "source": [
    "# 초기화안하고 graph만 다시 build 할경우 기록남아있음.\n",
    "# ShortTermMemory = MemorySaver() \n",
    "graph = builder.compile(checkpointer=ShortTermMemory)\n",
    "graph.invoke({\"messages\":\"내 이름이 뭐라고?\"}, config)"
   ]
  },
  {
   "cell_type": "markdown",
   "metadata": {},
   "source": [
    "##### 2. LongTerm 테스트"
   ]
  },
  {
   "cell_type": "markdown",
   "metadata": {},
   "source": [
    "단순 테스트"
   ]
  },
  {
   "cell_type": "code",
   "execution_count": 6,
   "metadata": {},
   "outputs": [
    {
     "name": "stdout",
     "output_type": "stream",
     "text": [
      "{'나이': '29', '전공': 'Computer Engineering', '취미': 'working out', '좋아하는 음식': 'pork'}\n",
      "{'나이': '29', '전공': 'Computer Engineering', '취미': 'working out', '좋아하는 음식': 'pork'}\n"
     ]
    }
   ],
   "source": [
    "directory = \"memories\"\n",
    "userid = \"changwoo\"\n",
    "key = \"chat_user_memory\"\n",
    "value = {\"나이\" : \"29\", \n",
    "         \"전공\": \"Computer Engineering\",\n",
    "         \"취미\": \"working out\",\n",
    "         \"좋아하는 음식\": \"pork\"}\n",
    "\n",
    "LongTermMemory = InMemoryStore()\n",
    "\n",
    "# 값 넣기\n",
    "LongTermMemory.put(namespace=(directory, userid),\n",
    "                   key=key,  \n",
    "                   value=value)\n",
    "\n",
    "# 값 가져오기 (1) - search 함수 사용 (리턴타입 : list)\n",
    "memory = LongTermMemory.search((directory, userid))\n",
    "print(memory[0].dict()['value'])\n",
    "\n",
    "\n",
    "# 값 가져오기 (2) - get 함수 사용 (리턴타입 : dict)\n",
    "memory = LongTermMemory.get((directory, userid),key)\n",
    "print(memory.dict()['value'])"
   ]
  },
  {
   "cell_type": "markdown",
   "metadata": {},
   "source": [
    "그래프를 활용한 테스트"
   ]
  },
  {
   "cell_type": "code",
   "execution_count": 7,
   "metadata": {},
   "outputs": [],
   "source": [
    "prompt_config = ConfigDict()\n",
    "prompt_config.answer_prompt = \"\"\"당신은 사용자의 정보를 기억하고, 이를 활용해 개인화된 정보를 제공하는 유용한 조력자입니다. \n",
    "사용자에 대한 기억이 있다면 이를 사용해 응답을 맞춤화하세요.\n",
    "다음은 사용자의 기억입니다 (비어 있을 수도 있습니다): {memory}\"\"\"\n",
    "\n",
    "prompt_config.create_memory_prompt =\"\"\"당신은 사용자의 응답을 개인화하기 위해 사용자에 대한 정보를 수집하고 있습니다.\n",
    "\n",
    "현재 사용자 정보:\n",
    "{memory}\n",
    "\n",
    "지침:\n",
    "1. 아래의 채팅 기록을 주의 깊게 검토하세요.\n",
    "2. 사용자에 대한 새로운 정보를 식별하세요. 예를 들면:\n",
    "   - 개인 정보 (이름, 위치 등)\n",
    "   - 선호 사항 (좋아하는 것, 싫어하는 것 등)\n",
    "   - 관심사와 취미\n",
    "   - 과거 경험\n",
    "   - 목표나 미래 계획\n",
    "3. 새로운 정보를 기존 메모리와 병합하세요.\n",
    "4. 메모리는 명확한 불릿 리스트 형식으로 작성하세요.\n",
    "5. 새로운 정보가 기존 메모리와 충돌할 경우, 가장 최근 정보를 유지하세요.\n",
    "\n",
    "기억하세요: 사용자가 직접적으로 언급한 사실적인 정보만 포함해야 합니다. 추측이나 추론을 하지 마세요.\n",
    "\n",
    "아래의 채팅 기록을 바탕으로 사용자 정보를 업데이트하세요:\"\"\"\n",
    "\n",
    "@trace_function()\n",
    "def get_memory(namespace, \n",
    "               key,\n",
    "               store:BaseStore):\n",
    "    \"\"\"\n",
    "        Des:\n",
    "            현재 저장된 사용자 정보를 가져오는 함수\n",
    "    \"\"\"\n",
    "    existing_memory = store.get(namespace=namespace,\n",
    "                                key=key)\n",
    "    return existing_memory.value.get('memory') if existing_memory else \"현재 저장된 사용자 정보가 없습니다.\"\n",
    "    \n",
    "\n",
    "@trace_function()\n",
    "def node_get_response(state: MessagesState, \n",
    "                      config: RunnableConfig, \n",
    "                      store: BaseStore):\n",
    "    \"\"\"\n",
    "        Des:\n",
    "            답변 생성 노드\n",
    "    \"\"\"\n",
    "    namespace = (\"memories\", config[\"configurable\"][\"user_id\"])\n",
    "    key = \"chat_user_memory\"\n",
    "    existing_memory_content = get_memory(namespace=namespace, \n",
    "                                         key=key, \n",
    "                                         store=store)\n",
    "    system_message = prompt_config.answer_prompt.format(memory=existing_memory_content)\n",
    "    prompt = [SystemMessage(content=system_message)]+state[\"messages\"]\n",
    "    response = llm.invoke(prompt)\n",
    "    return {\"messages\":response}\n",
    "\n",
    "@trace_function()\n",
    "def node_write_memory(state: MessagesState, \n",
    "                      config: RunnableConfig, \n",
    "                      store: BaseStore):\n",
    "    \"\"\"\n",
    "        Des:\n",
    "            사용자 메시지를 인식하고, 개인정보로 저장하는 노드\n",
    "    \"\"\"\n",
    "    namespace = (\"memories\", config[\"configurable\"][\"user_id\"])\n",
    "    key = \"chat_user_memory\"\n",
    "    existing_memory_content = get_memory(namespace=namespace, \n",
    "                                         key=key, \n",
    "                                         store=store)\n",
    "    system_message = prompt_config.create_memory_prompt.format(memory=existing_memory_content)\n",
    "    prompt = [SystemMessage(content=system_message)]+state[\"messages\"]\n",
    "    response = llm.invoke(prompt)\n",
    "    store.put(namespace=namespace, \n",
    "              key=key, \n",
    "              value={\"memory\":response.content})\n",
    "    \n",
    "builder = StateGraph(MessagesState)\n",
    "builder.add_node(\"node_get_response\", node_get_response)\n",
    "builder.add_node(\"node_write_memory\", node_write_memory)\n",
    "builder.add_edge(START, \"node_get_response\")\n",
    "builder.add_edge(\"node_get_response\", \"node_write_memory\")\n",
    "builder.add_edge(\"node_write_memory\", END)\n",
    "graph = builder.compile(checkpointer=ShortTermMemory,\n",
    "                        store=LongTermMemory)\n",
    "\n",
    "config = {\"configurable\": {\"thread_id\": \"second_chat\", \n",
    "                           \"user_id\": \"changwoo\"}}"
   ]
  },
  {
   "cell_type": "code",
   "execution_count": 8,
   "metadata": {},
   "outputs": [
    {
     "data": {
      "text/plain": [
       "{'messages': [HumanMessage(content='안녕 나는 창우라고해', additional_kwargs={}, response_metadata={}, id='f75232eb-74f7-405a-8f38-6acb372df9af'),\n",
       "  AIMessage(content='안녕하세요, 창우님! 만나서 반갑습니다. 오늘 어떻게 도와드릴까요?', additional_kwargs={'refusal': None}, response_metadata={'token_usage': {'completion_tokens': 22, 'prompt_tokens': 79, 'total_tokens': 101, 'completion_tokens_details': {'accepted_prediction_tokens': 0, 'audio_tokens': 0, 'reasoning_tokens': 0, 'rejected_prediction_tokens': 0}, 'prompt_tokens_details': {'audio_tokens': 0, 'cached_tokens': 0}}, 'model_name': 'gpt-4o-2024-08-06', 'system_fingerprint': 'fp_5f20662549', 'finish_reason': 'stop', 'logprobs': None}, id='run-6cd08191-7310-482d-9b02-07c55c627425-0', usage_metadata={'input_tokens': 79, 'output_tokens': 22, 'total_tokens': 101, 'input_token_details': {'audio': 0, 'cache_read': 0}, 'output_token_details': {'audio': 0, 'reasoning': 0}})]}"
      ]
     },
     "execution_count": 8,
     "metadata": {},
     "output_type": "execute_result"
    }
   ],
   "source": [
    "graph.invoke({\"messages\":\"안녕 나는 창우라고해\"}, \n",
    "             config=config)"
   ]
  },
  {
   "cell_type": "code",
   "execution_count": 9,
   "metadata": {},
   "outputs": [
    {
     "data": {
      "text/plain": [
       "{'messages': [HumanMessage(content='안녕 나는 창우라고해', additional_kwargs={}, response_metadata={}, id='f75232eb-74f7-405a-8f38-6acb372df9af'),\n",
       "  AIMessage(content='안녕하세요, 창우님! 만나서 반갑습니다. 오늘 어떻게 도와드릴까요?', additional_kwargs={'refusal': None}, response_metadata={'token_usage': {'completion_tokens': 22, 'prompt_tokens': 79, 'total_tokens': 101, 'completion_tokens_details': {'accepted_prediction_tokens': 0, 'audio_tokens': 0, 'reasoning_tokens': 0, 'rejected_prediction_tokens': 0}, 'prompt_tokens_details': {'audio_tokens': 0, 'cached_tokens': 0}}, 'model_name': 'gpt-4o-2024-08-06', 'system_fingerprint': 'fp_5f20662549', 'finish_reason': 'stop', 'logprobs': None}, id='run-6cd08191-7310-482d-9b02-07c55c627425-0', usage_metadata={'input_tokens': 79, 'output_tokens': 22, 'total_tokens': 101, 'input_token_details': {'audio': 0, 'cache_read': 0}, 'output_token_details': {'audio': 0, 'reasoning': 0}}),\n",
       "  HumanMessage(content='나는 올해 30살이고, 현재 부산대학교에서 박사과정을 하고있어.', additional_kwargs={}, response_metadata={}, id='b9a4bd4b-315f-4ce0-968c-0cbb86ec0342'),\n",
       "  AIMessage(content='훌륭하시네요, 창우님! 부산대학교에서 박사과정을 하고 계시다니 정말 멋집니다. 연구나 학업에 대해 도움이 필요하시거나 휴식을 위한 추천이 필요하시면 언제든 말씀해 주세요.', additional_kwargs={'refusal': None}, response_metadata={'token_usage': {'completion_tokens': 54, 'prompt_tokens': 131, 'total_tokens': 185, 'completion_tokens_details': {'accepted_prediction_tokens': 0, 'audio_tokens': 0, 'reasoning_tokens': 0, 'rejected_prediction_tokens': 0}, 'prompt_tokens_details': {'audio_tokens': 0, 'cached_tokens': 0}}, 'model_name': 'gpt-4o-2024-08-06', 'system_fingerprint': 'fp_5f20662549', 'finish_reason': 'stop', 'logprobs': None}, id='run-a5c33f53-c83d-4385-847f-05174cc63c8d-0', usage_metadata={'input_tokens': 131, 'output_tokens': 54, 'total_tokens': 185, 'input_token_details': {'audio': 0, 'cache_read': 0}, 'output_token_details': {'audio': 0, 'reasoning': 0}})]}"
      ]
     },
     "execution_count": 9,
     "metadata": {},
     "output_type": "execute_result"
    }
   ],
   "source": [
    "graph.invoke({\"messages\":\"나는 올해 30살이고, 현재 부산대학교에서 박사과정을 하고있어.\"}, config)"
   ]
  },
  {
   "cell_type": "code",
   "execution_count": 10,
   "metadata": {},
   "outputs": [
    {
     "data": {
      "text/plain": [
       "{'messages': [HumanMessage(content='안녕 나는 창우라고해', additional_kwargs={}, response_metadata={}, id='f75232eb-74f7-405a-8f38-6acb372df9af'),\n",
       "  AIMessage(content='안녕하세요, 창우님! 만나서 반갑습니다. 오늘 어떻게 도와드릴까요?', additional_kwargs={'refusal': None}, response_metadata={'token_usage': {'completion_tokens': 22, 'prompt_tokens': 79, 'total_tokens': 101, 'completion_tokens_details': {'accepted_prediction_tokens': 0, 'audio_tokens': 0, 'reasoning_tokens': 0, 'rejected_prediction_tokens': 0}, 'prompt_tokens_details': {'audio_tokens': 0, 'cached_tokens': 0}}, 'model_name': 'gpt-4o-2024-08-06', 'system_fingerprint': 'fp_5f20662549', 'finish_reason': 'stop', 'logprobs': None}, id='run-6cd08191-7310-482d-9b02-07c55c627425-0', usage_metadata={'input_tokens': 79, 'output_tokens': 22, 'total_tokens': 101, 'input_token_details': {'audio': 0, 'cache_read': 0}, 'output_token_details': {'audio': 0, 'reasoning': 0}}),\n",
       "  HumanMessage(content='나는 올해 30살이고, 현재 부산대학교에서 박사과정을 하고있어.', additional_kwargs={}, response_metadata={}, id='b9a4bd4b-315f-4ce0-968c-0cbb86ec0342'),\n",
       "  AIMessage(content='훌륭하시네요, 창우님! 부산대학교에서 박사과정을 하고 계시다니 정말 멋집니다. 연구나 학업에 대해 도움이 필요하시거나 휴식을 위한 추천이 필요하시면 언제든 말씀해 주세요.', additional_kwargs={'refusal': None}, response_metadata={'token_usage': {'completion_tokens': 54, 'prompt_tokens': 131, 'total_tokens': 185, 'completion_tokens_details': {'accepted_prediction_tokens': 0, 'audio_tokens': 0, 'reasoning_tokens': 0, 'rejected_prediction_tokens': 0}, 'prompt_tokens_details': {'audio_tokens': 0, 'cached_tokens': 0}}, 'model_name': 'gpt-4o-2024-08-06', 'system_fingerprint': 'fp_5f20662549', 'finish_reason': 'stop', 'logprobs': None}, id='run-a5c33f53-c83d-4385-847f-05174cc63c8d-0', usage_metadata={'input_tokens': 131, 'output_tokens': 54, 'total_tokens': 185, 'input_token_details': {'audio': 0, 'cache_read': 0}, 'output_token_details': {'audio': 0, 'reasoning': 0}}),\n",
       "  HumanMessage(content='내 취미는 헬스장에서 운동하는거고, 돼지고기를 제일좋아해', additional_kwargs={}, response_metadata={}, id='c04eff32-091c-4671-9b2e-01c237d9ca10'),\n",
       "  AIMessage(content='헬스장에서 운동하는 것이 취미시군요! 건강을 유지하는 데 정말 좋죠. 그리고 돼지고기를 좋아하신다니, 맛있는 삼겹살이나 제육볶음 같은 요리도 즐기시겠네요. 운동 후에 맛있는 돼지고기 요리로 에너지를 보충하시면 딱일 것 같습니다. 다른 취미나 관심사가 있으시면 언제든지 나눠 주세요!', additional_kwargs={'refusal': None}, response_metadata={'token_usage': {'completion_tokens': 97, 'prompt_tokens': 235, 'total_tokens': 332, 'completion_tokens_details': {'accepted_prediction_tokens': 0, 'audio_tokens': 0, 'reasoning_tokens': 0, 'rejected_prediction_tokens': 0}, 'prompt_tokens_details': {'audio_tokens': 0, 'cached_tokens': 0}}, 'model_name': 'gpt-4o-2024-08-06', 'system_fingerprint': 'fp_b7d65f1a5b', 'finish_reason': 'stop', 'logprobs': None}, id='run-723e1b8d-dbd6-450a-a91b-11b1f6f755ca-0', usage_metadata={'input_tokens': 235, 'output_tokens': 97, 'total_tokens': 332, 'input_token_details': {'audio': 0, 'cache_read': 0}, 'output_token_details': {'audio': 0, 'reasoning': 0}})]}"
      ]
     },
     "execution_count": 10,
     "metadata": {},
     "output_type": "execute_result"
    }
   ],
   "source": [
    "graph.invoke({\"messages\":\"내 취미는 헬스장에서 운동하는거고, 돼지고기를 제일좋아해\"}, config)"
   ]
  },
  {
   "cell_type": "code",
   "execution_count": 11,
   "metadata": {},
   "outputs": [
    {
     "data": {
      "text/plain": [
       "{'messages': [HumanMessage(content='안녕 나는 창우라고해', additional_kwargs={}, response_metadata={}, id='f75232eb-74f7-405a-8f38-6acb372df9af'),\n",
       "  AIMessage(content='안녕하세요, 창우님! 만나서 반갑습니다. 오늘 어떻게 도와드릴까요?', additional_kwargs={'refusal': None}, response_metadata={'token_usage': {'completion_tokens': 22, 'prompt_tokens': 79, 'total_tokens': 101, 'completion_tokens_details': {'accepted_prediction_tokens': 0, 'audio_tokens': 0, 'reasoning_tokens': 0, 'rejected_prediction_tokens': 0}, 'prompt_tokens_details': {'audio_tokens': 0, 'cached_tokens': 0}}, 'model_name': 'gpt-4o-2024-08-06', 'system_fingerprint': 'fp_5f20662549', 'finish_reason': 'stop', 'logprobs': None}, id='run-6cd08191-7310-482d-9b02-07c55c627425-0', usage_metadata={'input_tokens': 79, 'output_tokens': 22, 'total_tokens': 101, 'input_token_details': {'audio': 0, 'cache_read': 0}, 'output_token_details': {'audio': 0, 'reasoning': 0}}),\n",
       "  HumanMessage(content='나는 올해 30살이고, 현재 부산대학교에서 박사과정을 하고있어.', additional_kwargs={}, response_metadata={}, id='b9a4bd4b-315f-4ce0-968c-0cbb86ec0342'),\n",
       "  AIMessage(content='훌륭하시네요, 창우님! 부산대학교에서 박사과정을 하고 계시다니 정말 멋집니다. 연구나 학업에 대해 도움이 필요하시거나 휴식을 위한 추천이 필요하시면 언제든 말씀해 주세요.', additional_kwargs={'refusal': None}, response_metadata={'token_usage': {'completion_tokens': 54, 'prompt_tokens': 131, 'total_tokens': 185, 'completion_tokens_details': {'accepted_prediction_tokens': 0, 'audio_tokens': 0, 'reasoning_tokens': 0, 'rejected_prediction_tokens': 0}, 'prompt_tokens_details': {'audio_tokens': 0, 'cached_tokens': 0}}, 'model_name': 'gpt-4o-2024-08-06', 'system_fingerprint': 'fp_5f20662549', 'finish_reason': 'stop', 'logprobs': None}, id='run-a5c33f53-c83d-4385-847f-05174cc63c8d-0', usage_metadata={'input_tokens': 131, 'output_tokens': 54, 'total_tokens': 185, 'input_token_details': {'audio': 0, 'cache_read': 0}, 'output_token_details': {'audio': 0, 'reasoning': 0}}),\n",
       "  HumanMessage(content='내 취미는 헬스장에서 운동하는거고, 돼지고기를 제일좋아해', additional_kwargs={}, response_metadata={}, id='c04eff32-091c-4671-9b2e-01c237d9ca10'),\n",
       "  AIMessage(content='헬스장에서 운동하는 것이 취미시군요! 건강을 유지하는 데 정말 좋죠. 그리고 돼지고기를 좋아하신다니, 맛있는 삼겹살이나 제육볶음 같은 요리도 즐기시겠네요. 운동 후에 맛있는 돼지고기 요리로 에너지를 보충하시면 딱일 것 같습니다. 다른 취미나 관심사가 있으시면 언제든지 나눠 주세요!', additional_kwargs={'refusal': None}, response_metadata={'token_usage': {'completion_tokens': 97, 'prompt_tokens': 235, 'total_tokens': 332, 'completion_tokens_details': {'accepted_prediction_tokens': 0, 'audio_tokens': 0, 'reasoning_tokens': 0, 'rejected_prediction_tokens': 0}, 'prompt_tokens_details': {'audio_tokens': 0, 'cached_tokens': 0}}, 'model_name': 'gpt-4o-2024-08-06', 'system_fingerprint': 'fp_b7d65f1a5b', 'finish_reason': 'stop', 'logprobs': None}, id='run-723e1b8d-dbd6-450a-a91b-11b1f6f755ca-0', usage_metadata={'input_tokens': 235, 'output_tokens': 97, 'total_tokens': 332, 'input_token_details': {'audio': 0, 'cache_read': 0}, 'output_token_details': {'audio': 0, 'reasoning': 0}}),\n",
       "  HumanMessage(content='나에 대해서 알고있는게 있어?', additional_kwargs={}, response_metadata={}, id='f76ba50c-87a6-41ea-8840-192b31863a7d'),\n",
       "  AIMessage(content='네, 창우님! 저는 창우님이 30살이고, 부산대학교에서 박사과정을 하고 계신다는 것과 헬스장에서 운동하는 것을 취미로 삼고 계시며, 돼지고기를 좋아하신다는 것을 알고 있습니다. 혹시 더 추가하고 싶은 정보가 있거나 업데이트할 사항이 있으면 언제든지 알려주세요!', additional_kwargs={'refusal': None}, response_metadata={'token_usage': {'completion_tokens': 80, 'prompt_tokens': 368, 'total_tokens': 448, 'completion_tokens_details': {'accepted_prediction_tokens': 0, 'audio_tokens': 0, 'reasoning_tokens': 0, 'rejected_prediction_tokens': 0}, 'prompt_tokens_details': {'audio_tokens': 0, 'cached_tokens': 0}}, 'model_name': 'gpt-4o-2024-08-06', 'system_fingerprint': 'fp_b7d65f1a5b', 'finish_reason': 'stop', 'logprobs': None}, id='run-332aa385-98e3-40d7-9e3d-01b1f2c2121b-0', usage_metadata={'input_tokens': 368, 'output_tokens': 80, 'total_tokens': 448, 'input_token_details': {'audio': 0, 'cache_read': 0}, 'output_token_details': {'audio': 0, 'reasoning': 0}})]}"
      ]
     },
     "execution_count": 11,
     "metadata": {},
     "output_type": "execute_result"
    }
   ],
   "source": [
    "graph.invoke({\"messages\":\"나에 대해서 알고있는게 있어?\"}, config)"
   ]
  },
  {
   "cell_type": "code",
   "execution_count": 12,
   "metadata": {},
   "outputs": [
    {
     "data": {
      "text/plain": [
       "{'messages': [HumanMessage(content='안녕 나는 창우라고해', additional_kwargs={}, response_metadata={}, id='f75232eb-74f7-405a-8f38-6acb372df9af'),\n",
       "  AIMessage(content='안녕하세요, 창우님! 만나서 반갑습니다. 오늘 어떻게 도와드릴까요?', additional_kwargs={'refusal': None}, response_metadata={'token_usage': {'completion_tokens': 22, 'prompt_tokens': 79, 'total_tokens': 101, 'completion_tokens_details': {'accepted_prediction_tokens': 0, 'audio_tokens': 0, 'reasoning_tokens': 0, 'rejected_prediction_tokens': 0}, 'prompt_tokens_details': {'audio_tokens': 0, 'cached_tokens': 0}}, 'model_name': 'gpt-4o-2024-08-06', 'system_fingerprint': 'fp_5f20662549', 'finish_reason': 'stop', 'logprobs': None}, id='run-6cd08191-7310-482d-9b02-07c55c627425-0', usage_metadata={'input_tokens': 79, 'output_tokens': 22, 'total_tokens': 101, 'input_token_details': {'audio': 0, 'cache_read': 0}, 'output_token_details': {'audio': 0, 'reasoning': 0}}),\n",
       "  HumanMessage(content='나는 올해 30살이고, 현재 부산대학교에서 박사과정을 하고있어.', additional_kwargs={}, response_metadata={}, id='b9a4bd4b-315f-4ce0-968c-0cbb86ec0342'),\n",
       "  AIMessage(content='훌륭하시네요, 창우님! 부산대학교에서 박사과정을 하고 계시다니 정말 멋집니다. 연구나 학업에 대해 도움이 필요하시거나 휴식을 위한 추천이 필요하시면 언제든 말씀해 주세요.', additional_kwargs={'refusal': None}, response_metadata={'token_usage': {'completion_tokens': 54, 'prompt_tokens': 131, 'total_tokens': 185, 'completion_tokens_details': {'accepted_prediction_tokens': 0, 'audio_tokens': 0, 'reasoning_tokens': 0, 'rejected_prediction_tokens': 0}, 'prompt_tokens_details': {'audio_tokens': 0, 'cached_tokens': 0}}, 'model_name': 'gpt-4o-2024-08-06', 'system_fingerprint': 'fp_5f20662549', 'finish_reason': 'stop', 'logprobs': None}, id='run-a5c33f53-c83d-4385-847f-05174cc63c8d-0', usage_metadata={'input_tokens': 131, 'output_tokens': 54, 'total_tokens': 185, 'input_token_details': {'audio': 0, 'cache_read': 0}, 'output_token_details': {'audio': 0, 'reasoning': 0}}),\n",
       "  HumanMessage(content='내 취미는 헬스장에서 운동하는거고, 돼지고기를 제일좋아해', additional_kwargs={}, response_metadata={}, id='c04eff32-091c-4671-9b2e-01c237d9ca10'),\n",
       "  AIMessage(content='헬스장에서 운동하는 것이 취미시군요! 건강을 유지하는 데 정말 좋죠. 그리고 돼지고기를 좋아하신다니, 맛있는 삼겹살이나 제육볶음 같은 요리도 즐기시겠네요. 운동 후에 맛있는 돼지고기 요리로 에너지를 보충하시면 딱일 것 같습니다. 다른 취미나 관심사가 있으시면 언제든지 나눠 주세요!', additional_kwargs={'refusal': None}, response_metadata={'token_usage': {'completion_tokens': 97, 'prompt_tokens': 235, 'total_tokens': 332, 'completion_tokens_details': {'accepted_prediction_tokens': 0, 'audio_tokens': 0, 'reasoning_tokens': 0, 'rejected_prediction_tokens': 0}, 'prompt_tokens_details': {'audio_tokens': 0, 'cached_tokens': 0}}, 'model_name': 'gpt-4o-2024-08-06', 'system_fingerprint': 'fp_b7d65f1a5b', 'finish_reason': 'stop', 'logprobs': None}, id='run-723e1b8d-dbd6-450a-a91b-11b1f6f755ca-0', usage_metadata={'input_tokens': 235, 'output_tokens': 97, 'total_tokens': 332, 'input_token_details': {'audio': 0, 'cache_read': 0}, 'output_token_details': {'audio': 0, 'reasoning': 0}}),\n",
       "  HumanMessage(content='나에 대해서 알고있는게 있어?', additional_kwargs={}, response_metadata={}, id='f76ba50c-87a6-41ea-8840-192b31863a7d'),\n",
       "  AIMessage(content='네, 창우님! 저는 창우님이 30살이고, 부산대학교에서 박사과정을 하고 계신다는 것과 헬스장에서 운동하는 것을 취미로 삼고 계시며, 돼지고기를 좋아하신다는 것을 알고 있습니다. 혹시 더 추가하고 싶은 정보가 있거나 업데이트할 사항이 있으면 언제든지 알려주세요!', additional_kwargs={'refusal': None}, response_metadata={'token_usage': {'completion_tokens': 80, 'prompt_tokens': 368, 'total_tokens': 448, 'completion_tokens_details': {'accepted_prediction_tokens': 0, 'audio_tokens': 0, 'reasoning_tokens': 0, 'rejected_prediction_tokens': 0}, 'prompt_tokens_details': {'audio_tokens': 0, 'cached_tokens': 0}}, 'model_name': 'gpt-4o-2024-08-06', 'system_fingerprint': 'fp_b7d65f1a5b', 'finish_reason': 'stop', 'logprobs': None}, id='run-332aa385-98e3-40d7-9e3d-01b1f2c2121b-0', usage_metadata={'input_tokens': 368, 'output_tokens': 80, 'total_tokens': 448, 'input_token_details': {'audio': 0, 'cache_read': 0}, 'output_token_details': {'audio': 0, 'reasoning': 0}}),\n",
       "  HumanMessage(content='아니야. 잘못말했어. 내이름은 김호원이고, 나이는 54살이야. 현재 스마트엠투엠 대표로 일하고있어.', additional_kwargs={}, response_metadata={}, id='7106eb12-aecd-4e09-bb1e-c02603b3dfab'),\n",
       "  AIMessage(content='알겠습니다, 호원님! 정보를 업데이트했습니다. 스마트엠투엠의 대표로 일하고 계시다니 정말 멋지십니다. 혹시 회사와 관련된 지원이 필요하시거나 다른 도움이 필요하시면 언제든지 말씀해 주세요.', additional_kwargs={'refusal': None}, response_metadata={'token_usage': {'completion_tokens': 57, 'prompt_tokens': 496, 'total_tokens': 553, 'completion_tokens_details': {'accepted_prediction_tokens': 0, 'audio_tokens': 0, 'reasoning_tokens': 0, 'rejected_prediction_tokens': 0}, 'prompt_tokens_details': {'audio_tokens': 0, 'cached_tokens': 0}}, 'model_name': 'gpt-4o-2024-08-06', 'system_fingerprint': 'fp_b7d65f1a5b', 'finish_reason': 'stop', 'logprobs': None}, id='run-7ca0fb2c-083d-4cd6-8e7e-14cc94568fe2-0', usage_metadata={'input_tokens': 496, 'output_tokens': 57, 'total_tokens': 553, 'input_token_details': {'audio': 0, 'cache_read': 0}, 'output_token_details': {'audio': 0, 'reasoning': 0}})]}"
      ]
     },
     "execution_count": 12,
     "metadata": {},
     "output_type": "execute_result"
    }
   ],
   "source": [
    "graph.invoke({\"messages\":\"아니야. 잘못말했어. 내이름은 김호원이고, 나이는 54살이야. 현재 스마트엠투엠 대표로 일하고있어.\"}, config)"
   ]
  },
  {
   "cell_type": "code",
   "execution_count": 13,
   "metadata": {},
   "outputs": [
    {
     "data": {
      "text/plain": [
       "{'messages': [HumanMessage(content='안녕 나는 창우라고해', additional_kwargs={}, response_metadata={}, id='f75232eb-74f7-405a-8f38-6acb372df9af'),\n",
       "  AIMessage(content='안녕하세요, 창우님! 만나서 반갑습니다. 오늘 어떻게 도와드릴까요?', additional_kwargs={'refusal': None}, response_metadata={'token_usage': {'completion_tokens': 22, 'prompt_tokens': 79, 'total_tokens': 101, 'completion_tokens_details': {'accepted_prediction_tokens': 0, 'audio_tokens': 0, 'reasoning_tokens': 0, 'rejected_prediction_tokens': 0}, 'prompt_tokens_details': {'audio_tokens': 0, 'cached_tokens': 0}}, 'model_name': 'gpt-4o-2024-08-06', 'system_fingerprint': 'fp_5f20662549', 'finish_reason': 'stop', 'logprobs': None}, id='run-6cd08191-7310-482d-9b02-07c55c627425-0', usage_metadata={'input_tokens': 79, 'output_tokens': 22, 'total_tokens': 101, 'input_token_details': {'audio': 0, 'cache_read': 0}, 'output_token_details': {'audio': 0, 'reasoning': 0}}),\n",
       "  HumanMessage(content='나는 올해 30살이고, 현재 부산대학교에서 박사과정을 하고있어.', additional_kwargs={}, response_metadata={}, id='b9a4bd4b-315f-4ce0-968c-0cbb86ec0342'),\n",
       "  AIMessage(content='훌륭하시네요, 창우님! 부산대학교에서 박사과정을 하고 계시다니 정말 멋집니다. 연구나 학업에 대해 도움이 필요하시거나 휴식을 위한 추천이 필요하시면 언제든 말씀해 주세요.', additional_kwargs={'refusal': None}, response_metadata={'token_usage': {'completion_tokens': 54, 'prompt_tokens': 131, 'total_tokens': 185, 'completion_tokens_details': {'accepted_prediction_tokens': 0, 'audio_tokens': 0, 'reasoning_tokens': 0, 'rejected_prediction_tokens': 0}, 'prompt_tokens_details': {'audio_tokens': 0, 'cached_tokens': 0}}, 'model_name': 'gpt-4o-2024-08-06', 'system_fingerprint': 'fp_5f20662549', 'finish_reason': 'stop', 'logprobs': None}, id='run-a5c33f53-c83d-4385-847f-05174cc63c8d-0', usage_metadata={'input_tokens': 131, 'output_tokens': 54, 'total_tokens': 185, 'input_token_details': {'audio': 0, 'cache_read': 0}, 'output_token_details': {'audio': 0, 'reasoning': 0}}),\n",
       "  HumanMessage(content='내 취미는 헬스장에서 운동하는거고, 돼지고기를 제일좋아해', additional_kwargs={}, response_metadata={}, id='c04eff32-091c-4671-9b2e-01c237d9ca10'),\n",
       "  AIMessage(content='헬스장에서 운동하는 것이 취미시군요! 건강을 유지하는 데 정말 좋죠. 그리고 돼지고기를 좋아하신다니, 맛있는 삼겹살이나 제육볶음 같은 요리도 즐기시겠네요. 운동 후에 맛있는 돼지고기 요리로 에너지를 보충하시면 딱일 것 같습니다. 다른 취미나 관심사가 있으시면 언제든지 나눠 주세요!', additional_kwargs={'refusal': None}, response_metadata={'token_usage': {'completion_tokens': 97, 'prompt_tokens': 235, 'total_tokens': 332, 'completion_tokens_details': {'accepted_prediction_tokens': 0, 'audio_tokens': 0, 'reasoning_tokens': 0, 'rejected_prediction_tokens': 0}, 'prompt_tokens_details': {'audio_tokens': 0, 'cached_tokens': 0}}, 'model_name': 'gpt-4o-2024-08-06', 'system_fingerprint': 'fp_b7d65f1a5b', 'finish_reason': 'stop', 'logprobs': None}, id='run-723e1b8d-dbd6-450a-a91b-11b1f6f755ca-0', usage_metadata={'input_tokens': 235, 'output_tokens': 97, 'total_tokens': 332, 'input_token_details': {'audio': 0, 'cache_read': 0}, 'output_token_details': {'audio': 0, 'reasoning': 0}}),\n",
       "  HumanMessage(content='나에 대해서 알고있는게 있어?', additional_kwargs={}, response_metadata={}, id='f76ba50c-87a6-41ea-8840-192b31863a7d'),\n",
       "  AIMessage(content='네, 창우님! 저는 창우님이 30살이고, 부산대학교에서 박사과정을 하고 계신다는 것과 헬스장에서 운동하는 것을 취미로 삼고 계시며, 돼지고기를 좋아하신다는 것을 알고 있습니다. 혹시 더 추가하고 싶은 정보가 있거나 업데이트할 사항이 있으면 언제든지 알려주세요!', additional_kwargs={'refusal': None}, response_metadata={'token_usage': {'completion_tokens': 80, 'prompt_tokens': 368, 'total_tokens': 448, 'completion_tokens_details': {'accepted_prediction_tokens': 0, 'audio_tokens': 0, 'reasoning_tokens': 0, 'rejected_prediction_tokens': 0}, 'prompt_tokens_details': {'audio_tokens': 0, 'cached_tokens': 0}}, 'model_name': 'gpt-4o-2024-08-06', 'system_fingerprint': 'fp_b7d65f1a5b', 'finish_reason': 'stop', 'logprobs': None}, id='run-332aa385-98e3-40d7-9e3d-01b1f2c2121b-0', usage_metadata={'input_tokens': 368, 'output_tokens': 80, 'total_tokens': 448, 'input_token_details': {'audio': 0, 'cache_read': 0}, 'output_token_details': {'audio': 0, 'reasoning': 0}}),\n",
       "  HumanMessage(content='아니야. 잘못말했어. 내이름은 김호원이고, 나이는 54살이야. 현재 스마트엠투엠 대표로 일하고있어.', additional_kwargs={}, response_metadata={}, id='7106eb12-aecd-4e09-bb1e-c02603b3dfab'),\n",
       "  AIMessage(content='알겠습니다, 호원님! 정보를 업데이트했습니다. 스마트엠투엠의 대표로 일하고 계시다니 정말 멋지십니다. 혹시 회사와 관련된 지원이 필요하시거나 다른 도움이 필요하시면 언제든지 말씀해 주세요.', additional_kwargs={'refusal': None}, response_metadata={'token_usage': {'completion_tokens': 57, 'prompt_tokens': 496, 'total_tokens': 553, 'completion_tokens_details': {'accepted_prediction_tokens': 0, 'audio_tokens': 0, 'reasoning_tokens': 0, 'rejected_prediction_tokens': 0}, 'prompt_tokens_details': {'audio_tokens': 0, 'cached_tokens': 0}}, 'model_name': 'gpt-4o-2024-08-06', 'system_fingerprint': 'fp_b7d65f1a5b', 'finish_reason': 'stop', 'logprobs': None}, id='run-7ca0fb2c-083d-4cd6-8e7e-14cc94568fe2-0', usage_metadata={'input_tokens': 496, 'output_tokens': 57, 'total_tokens': 553, 'input_token_details': {'audio': 0, 'cache_read': 0}, 'output_token_details': {'audio': 0, 'reasoning': 0}}),\n",
       "  HumanMessage(content='나에 대해서 알고있는게 있어?', additional_kwargs={}, response_metadata={}, id='1609bc50-0e03-4cec-97b7-7d85e7a07983'),\n",
       "  AIMessage(content='네, 호원님에 대해 알고 있는 내용은 다음과 같습니다: 호원님은 54세이며, 스마트엠투엠의 대표로 일하고 계십니다. 취미는 헬스장에서 운동하기이고, 좋아하는 음식은 돼지고기입니다. 혹시 더 추가하고 싶은 정보가 있으신가요? 언제든지 알려주세요!', additional_kwargs={'refusal': None}, response_metadata={'token_usage': {'completion_tokens': 80, 'prompt_tokens': 569, 'total_tokens': 649, 'completion_tokens_details': {'accepted_prediction_tokens': 0, 'audio_tokens': 0, 'reasoning_tokens': 0, 'rejected_prediction_tokens': 0}, 'prompt_tokens_details': {'audio_tokens': 0, 'cached_tokens': 0}}, 'model_name': 'gpt-4o-2024-08-06', 'system_fingerprint': 'fp_d28bcae782', 'finish_reason': 'stop', 'logprobs': None}, id='run-9e063d7f-0f58-4e0e-a9d3-e3e70598ea2a-0', usage_metadata={'input_tokens': 569, 'output_tokens': 80, 'total_tokens': 649, 'input_token_details': {'audio': 0, 'cache_read': 0}, 'output_token_details': {'audio': 0, 'reasoning': 0}})]}"
      ]
     },
     "execution_count": 13,
     "metadata": {},
     "output_type": "execute_result"
    }
   ],
   "source": [
    "graph.invoke({\"messages\":\"나에 대해서 알고있는게 있어?\"}, config)"
   ]
  }
 ],
 "metadata": {
  "kernelspec": {
   "display_name": "langchain",
   "language": "python",
   "name": "langchain"
  },
  "language_info": {
   "codemirror_mode": {
    "name": "ipython",
    "version": 3
   },
   "file_extension": ".py",
   "mimetype": "text/x-python",
   "name": "python",
   "nbconvert_exporter": "python",
   "pygments_lexer": "ipython3",
   "version": "3.11.11"
  }
 },
 "nbformat": 4,
 "nbformat_minor": 2
}
