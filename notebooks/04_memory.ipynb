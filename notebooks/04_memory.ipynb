{
 "cells": [
  {
   "cell_type": "code",
   "execution_count": 1,
   "metadata": {},
   "outputs": [],
   "source": [
    "from modules.base import *"
   ]
  },
  {
   "cell_type": "markdown",
   "metadata": {},
   "source": [
    "#### 메모리 사용하기\n",
    "- 메모리 종류는 2가지\n",
    "\n",
    "- short term memory : 동일 thread 내에서 메모리 공유    \n",
    "    - 사용 라이브러리 : `from langgraph.checkpoint.memory import MemorySaver`\n",
    "\n",
    "    - build compile 시 checkpointer 인자로 사용\n",
    "    \n",
    "- long term memory : 동일 사용자 내에서 메모리 공유\n",
    "    - 사용 라이브러리 : `from langgraph.store.memory import InMemoryStore`\n",
    "\n",
    "    - 구조는 [namespace(directory, userid) -> key -> value]\n",
    "\n",
    "    - build compile 시 store 인자로 사용\n"
   ]
  },
  {
   "cell_type": "markdown",
   "metadata": {},
   "source": [
    "![Sample Image](../public/short_term_long_term.png)"
   ]
  },
  {
   "cell_type": "markdown",
   "metadata": {},
   "source": [
    "---"
   ]
  },
  {
   "cell_type": "markdown",
   "metadata": {},
   "source": [
    "##### 1. ShortTerm 테스트"
   ]
  },
  {
   "cell_type": "code",
   "execution_count": 2,
   "metadata": {},
   "outputs": [],
   "source": [
    "@trace_function(only_func_name=False, print_json_format=True)\n",
    "def node_answer(state:MessagesState)->MessagesState:\n",
    "    return {\"messages\": [llm.invoke(state[\"messages\"])]}\n",
    "builder = StateGraph(MessagesState)\n",
    "builder.add_node(\"node_answer\", node_answer)\n",
    "builder.add_edge(START, \"node_answer\")\n",
    "builder.add_edge(\"node_answer\", END)\n",
    "ShortTermMemory = MemorySaver()\n",
    "graph = builder.compile(checkpointer=ShortTermMemory)\n",
    "\n",
    "config = {\"configurable\": {\"thread_id\": \"initial_chat\", \n",
    "                           \"user_id\": \"changwoo\"}}"
   ]
  },
  {
   "cell_type": "code",
   "execution_count": 3,
   "metadata": {},
   "outputs": [
    {
     "name": "stdout",
     "output_type": "stream",
     "text": [
      "\u001b[92m\n",
      "🚀 Passing Through [node_answer] ..\u001b[0m\n",
      "\u001b[91m\n",
      "#### [Input State]\u001b[0m\n",
      "args: [\n",
      "    {\n",
      "        \"messages\": [\n",
      "            {\n",
      "                \"content\": \"안녕 나는 창우라고해\",\n",
      "                \"additional_kwargs\": {},\n",
      "                \"type\": \"human\",\n",
      "                \"name\": null,\n",
      "                \"id\": \"ef8f3c61-a26c-472f-af6d-b7c032ae6dae\",\n",
      "                \"example\": false\n",
      "            }\n",
      "        ]\n",
      "    }\n",
      "]\n",
      "\u001b[94m\n",
      "#### [Output State]\u001b[0m\n",
      "result: {\n",
      "    \"messages\": [\n",
      "        {\n",
      "            \"content\": \"안녕하세요, 창우님! 만나서 반갑습니다. 오늘 어떻게 도와드릴까요?\",\n",
      "            \"additional_kwargs\": {\n",
      "                \"refusal\": null\n",
      "            },\n",
      "            \"type\": \"ai\",\n",
      "            \"name\": null,\n",
      "            \"id\": \"run-a6c4c00a-e659-480a-8acd-7d808212d769-0\",\n",
      "            \"example\": false,\n",
      "            \"tool_calls\": [],\n",
      "            \"invalid_tool_calls\": []\n",
      "        }\n",
      "    ]\n",
      "}\n"
     ]
    },
    {
     "data": {
      "text/plain": [
       "{'messages': [HumanMessage(content='안녕 나는 창우라고해', additional_kwargs={}, response_metadata={}, id='ef8f3c61-a26c-472f-af6d-b7c032ae6dae'),\n",
       "  AIMessage(content='안녕하세요, 창우님! 만나서 반갑습니다. 오늘 어떻게 도와드릴까요?', additional_kwargs={'refusal': None}, response_metadata={'token_usage': {'completion_tokens': 22, 'prompt_tokens': 14, 'total_tokens': 36, 'completion_tokens_details': {'accepted_prediction_tokens': 0, 'audio_tokens': 0, 'reasoning_tokens': 0, 'rejected_prediction_tokens': 0}, 'prompt_tokens_details': {'audio_tokens': 0, 'cached_tokens': 0}}, 'model_name': 'gpt-4o-2024-08-06', 'system_fingerprint': 'fp_b7d65f1a5b', 'finish_reason': 'stop', 'logprobs': None}, id='run-a6c4c00a-e659-480a-8acd-7d808212d769-0', usage_metadata={'input_tokens': 14, 'output_tokens': 22, 'total_tokens': 36, 'input_token_details': {'audio': 0, 'cache_read': 0}, 'output_token_details': {'audio': 0, 'reasoning': 0}})]}"
      ]
     },
     "execution_count": 3,
     "metadata": {},
     "output_type": "execute_result"
    }
   ],
   "source": [
    "graph.invoke({\"messages\":\"안녕 나는 창우라고해\"}, config)"
   ]
  },
  {
   "cell_type": "code",
   "execution_count": 4,
   "metadata": {},
   "outputs": [
    {
     "name": "stdout",
     "output_type": "stream",
     "text": [
      "\u001b[92m\n",
      "🚀 Passing Through [node_answer] ..\u001b[0m\n",
      "\u001b[91m\n",
      "#### [Input State]\u001b[0m\n",
      "args: [\n",
      "    {\n",
      "        \"messages\": [\n",
      "            {\n",
      "                \"content\": \"안녕 나는 창우라고해\",\n",
      "                \"additional_kwargs\": {},\n",
      "                \"type\": \"human\",\n",
      "                \"name\": null,\n",
      "                \"id\": \"ef8f3c61-a26c-472f-af6d-b7c032ae6dae\",\n",
      "                \"example\": false\n",
      "            },\n",
      "            {\n",
      "                \"content\": \"안녕하세요, 창우님! 만나서 반갑습니다. 오늘 어떻게 도와드릴까요?\",\n",
      "                \"additional_kwargs\": {\n",
      "                    \"refusal\": null\n",
      "                },\n",
      "                \"type\": \"ai\",\n",
      "                \"name\": null,\n",
      "                \"id\": \"run-a6c4c00a-e659-480a-8acd-7d808212d769-0\",\n",
      "                \"example\": false,\n",
      "                \"tool_calls\": [],\n",
      "                \"invalid_tool_calls\": []\n",
      "            },\n",
      "            {\n",
      "                \"content\": \"내 이름이 뭐라고?\",\n",
      "                \"additional_kwargs\": {},\n",
      "                \"type\": \"human\",\n",
      "                \"name\": null,\n",
      "                \"id\": \"9fbe4a5f-3a3c-4e06-848d-0d3790d2041e\",\n",
      "                \"example\": false\n",
      "            }\n",
      "        ]\n",
      "    }\n",
      "]\n",
      "\u001b[94m\n",
      "#### [Output State]\u001b[0m\n",
      "result: {\n",
      "    \"messages\": [\n",
      "        {\n",
      "            \"content\": \"당신은 창우라고 소개해주셨습니다. 맞나요?\",\n",
      "            \"additional_kwargs\": {\n",
      "                \"refusal\": null\n",
      "            },\n",
      "            \"type\": \"ai\",\n",
      "            \"name\": null,\n",
      "            \"id\": \"run-cf8557bf-c09a-4bd3-a505-2d72a5cf467e-0\",\n",
      "            \"example\": false,\n",
      "            \"tool_calls\": [],\n",
      "            \"invalid_tool_calls\": []\n",
      "        }\n",
      "    ]\n",
      "}\n"
     ]
    },
    {
     "data": {
      "text/plain": [
       "{'messages': [HumanMessage(content='안녕 나는 창우라고해', additional_kwargs={}, response_metadata={}, id='ef8f3c61-a26c-472f-af6d-b7c032ae6dae'),\n",
       "  AIMessage(content='안녕하세요, 창우님! 만나서 반갑습니다. 오늘 어떻게 도와드릴까요?', additional_kwargs={'refusal': None}, response_metadata={'token_usage': {'completion_tokens': 22, 'prompt_tokens': 14, 'total_tokens': 36, 'completion_tokens_details': {'accepted_prediction_tokens': 0, 'audio_tokens': 0, 'reasoning_tokens': 0, 'rejected_prediction_tokens': 0}, 'prompt_tokens_details': {'audio_tokens': 0, 'cached_tokens': 0}}, 'model_name': 'gpt-4o-2024-08-06', 'system_fingerprint': 'fp_b7d65f1a5b', 'finish_reason': 'stop', 'logprobs': None}, id='run-a6c4c00a-e659-480a-8acd-7d808212d769-0', usage_metadata={'input_tokens': 14, 'output_tokens': 22, 'total_tokens': 36, 'input_token_details': {'audio': 0, 'cache_read': 0}, 'output_token_details': {'audio': 0, 'reasoning': 0}}),\n",
       "  HumanMessage(content='내 이름이 뭐라고?', additional_kwargs={}, response_metadata={}, id='9fbe4a5f-3a3c-4e06-848d-0d3790d2041e'),\n",
       "  AIMessage(content='당신은 창우라고 소개해주셨습니다. 맞나요?', additional_kwargs={'refusal': None}, response_metadata={'token_usage': {'completion_tokens': 16, 'prompt_tokens': 49, 'total_tokens': 65, 'completion_tokens_details': {'accepted_prediction_tokens': 0, 'audio_tokens': 0, 'reasoning_tokens': 0, 'rejected_prediction_tokens': 0}, 'prompt_tokens_details': {'audio_tokens': 0, 'cached_tokens': 0}}, 'model_name': 'gpt-4o-2024-08-06', 'system_fingerprint': 'fp_703d4ff298', 'finish_reason': 'stop', 'logprobs': None}, id='run-cf8557bf-c09a-4bd3-a505-2d72a5cf467e-0', usage_metadata={'input_tokens': 49, 'output_tokens': 16, 'total_tokens': 65, 'input_token_details': {'audio': 0, 'cache_read': 0}, 'output_token_details': {'audio': 0, 'reasoning': 0}})]}"
      ]
     },
     "execution_count": 4,
     "metadata": {},
     "output_type": "execute_result"
    }
   ],
   "source": [
    "graph.invoke({\"messages\":\"내 이름이 뭐라고?\"}, config)"
   ]
  },
  {
   "cell_type": "markdown",
   "metadata": {},
   "source": [
    "주의할 점은 `단순히 graph만 새로 build하면 여전히 정보를 기억`한다는 점\n",
    "\n",
    "- 아래 3가지 방식중에 하나로 초기화 해주어야 함\n",
    "    - option 1. `ShortTermMemory = MemorySaver()` 재 선언후 graph build\n",
    "    - option 2. 세션 새로 시작\n",
    "    - option 3. config의 thread_id 값 변경\n",
    "\n",
    "- LongTermMemory 도 동일함"
   ]
  },
  {
   "cell_type": "code",
   "execution_count": 6,
   "metadata": {},
   "outputs": [
    {
     "name": "stdout",
     "output_type": "stream",
     "text": [
      "\u001b[92m\n",
      "🚀 Passing Through [node_answer] ..\u001b[0m\n",
      "\u001b[91m\n",
      "#### [Input State]\u001b[0m\n",
      "args: [\n",
      "    {\n",
      "        \"messages\": [\n",
      "            {\n",
      "                \"content\": \"안녕 나는 창우라고해\",\n",
      "                \"additional_kwargs\": {},\n",
      "                \"type\": \"human\",\n",
      "                \"name\": null,\n",
      "                \"id\": \"8b1e414f-227e-4c85-9eca-b8b5174ea026\",\n",
      "                \"example\": false\n",
      "            },\n",
      "            {\n",
      "                \"content\": \"안녕하세요, 창우님! 만나서 반갑습니다. 어떻게 도와드릴까요?\",\n",
      "                \"additional_kwargs\": {\n",
      "                    \"refusal\": null\n",
      "                },\n",
      "                \"type\": \"ai\",\n",
      "                \"name\": null,\n",
      "                \"id\": \"run-5fd79542-c987-46a7-a746-d361c68dbaec-0\",\n",
      "                \"example\": false,\n",
      "                \"tool_calls\": [],\n",
      "                \"invalid_tool_calls\": []\n",
      "            },\n",
      "            {\n",
      "                \"content\": \"내 이름이 뭐라고?\",\n",
      "                \"additional_kwargs\": {},\n",
      "                \"type\": \"human\",\n",
      "                \"name\": null,\n",
      "                \"id\": \"b7012b75-0242-4de0-bc3b-418cd800fc36\",\n",
      "                \"example\": false\n",
      "            },\n",
      "            {\n",
      "                \"content\": \"당신의 이름은 창우라고 하셨습니다. 맞나요?\",\n",
      "                \"additional_kwargs\": {\n",
      "                    \"refusal\": null\n",
      "                },\n",
      "                \"type\": \"ai\",\n",
      "                \"name\": null,\n",
      "                \"id\": \"run-dbe4f94d-7606-45d1-99d9-6085317902f6-0\",\n",
      "                \"example\": false,\n",
      "                \"tool_calls\": [],\n",
      "                \"invalid_tool_calls\": []\n",
      "            },\n",
      "            {\n",
      "                \"content\": \"내 이름이 뭐라고?\",\n",
      "                \"additional_kwargs\": {},\n",
      "                \"type\": \"human\",\n",
      "                \"name\": null,\n",
      "                \"id\": \"abdc3a7f-1825-4077-ab58-737c8da3f153\",\n",
      "                \"example\": false\n",
      "            }\n",
      "        ]\n",
      "    }\n",
      "]\n",
      "\u001b[94m\n",
      "#### [Output State]\u001b[0m\n",
      "result: {\n",
      "    \"messages\": [\n",
      "        {\n",
      "            \"content\": \"당신의 이름은 창우라고 하셨습니다. 맞나요?\",\n",
      "            \"additional_kwargs\": {\n",
      "                \"refusal\": null\n",
      "            },\n",
      "            \"type\": \"ai\",\n",
      "            \"name\": null,\n",
      "            \"id\": \"run-a48dd226-329c-4878-9308-32c4f6051093-0\",\n",
      "            \"example\": false,\n",
      "            \"tool_calls\": [],\n",
      "            \"invalid_tool_calls\": []\n",
      "        }\n",
      "    ]\n",
      "}\n"
     ]
    },
    {
     "data": {
      "text/plain": [
       "{'messages': [HumanMessage(content='안녕 나는 창우라고해', additional_kwargs={}, response_metadata={}, id='8b1e414f-227e-4c85-9eca-b8b5174ea026'),\n",
       "  AIMessage(content='안녕하세요, 창우님! 만나서 반갑습니다. 어떻게 도와드릴까요?', additional_kwargs={'refusal': None}, response_metadata={'token_usage': {'completion_tokens': 21, 'prompt_tokens': 14, 'total_tokens': 35, 'completion_tokens_details': {'accepted_prediction_tokens': 0, 'audio_tokens': 0, 'reasoning_tokens': 0, 'rejected_prediction_tokens': 0}, 'prompt_tokens_details': {'audio_tokens': 0, 'cached_tokens': 0}}, 'model_name': 'gpt-4o-2024-08-06', 'system_fingerprint': 'fp_703d4ff298', 'finish_reason': 'stop', 'logprobs': None}, id='run-5fd79542-c987-46a7-a746-d361c68dbaec-0', usage_metadata={'input_tokens': 14, 'output_tokens': 21, 'total_tokens': 35, 'input_token_details': {'audio': 0, 'cache_read': 0}, 'output_token_details': {'audio': 0, 'reasoning': 0}}),\n",
       "  HumanMessage(content='내 이름이 뭐라고?', additional_kwargs={}, response_metadata={}, id='b7012b75-0242-4de0-bc3b-418cd800fc36'),\n",
       "  AIMessage(content='당신의 이름은 창우라고 하셨습니다. 맞나요?', additional_kwargs={'refusal': None}, response_metadata={'token_usage': {'completion_tokens': 16, 'prompt_tokens': 48, 'total_tokens': 64, 'completion_tokens_details': {'accepted_prediction_tokens': 0, 'audio_tokens': 0, 'reasoning_tokens': 0, 'rejected_prediction_tokens': 0}, 'prompt_tokens_details': {'audio_tokens': 0, 'cached_tokens': 0}}, 'model_name': 'gpt-4o-2024-08-06', 'system_fingerprint': 'fp_703d4ff298', 'finish_reason': 'stop', 'logprobs': None}, id='run-dbe4f94d-7606-45d1-99d9-6085317902f6-0', usage_metadata={'input_tokens': 48, 'output_tokens': 16, 'total_tokens': 64, 'input_token_details': {'audio': 0, 'cache_read': 0}, 'output_token_details': {'audio': 0, 'reasoning': 0}}),\n",
       "  HumanMessage(content='내 이름이 뭐라고?', additional_kwargs={}, response_metadata={}, id='abdc3a7f-1825-4077-ab58-737c8da3f153'),\n",
       "  AIMessage(content='당신의 이름은 창우라고 하셨습니다. 맞나요?', additional_kwargs={'refusal': None}, response_metadata={'token_usage': {'completion_tokens': 16, 'prompt_tokens': 77, 'total_tokens': 93, 'completion_tokens_details': {'accepted_prediction_tokens': 0, 'audio_tokens': 0, 'reasoning_tokens': 0, 'rejected_prediction_tokens': 0}, 'prompt_tokens_details': {'audio_tokens': 0, 'cached_tokens': 0}}, 'model_name': 'gpt-4o-2024-08-06', 'system_fingerprint': 'fp_b7d65f1a5b', 'finish_reason': 'stop', 'logprobs': None}, id='run-a48dd226-329c-4878-9308-32c4f6051093-0', usage_metadata={'input_tokens': 77, 'output_tokens': 16, 'total_tokens': 93, 'input_token_details': {'audio': 0, 'cache_read': 0}, 'output_token_details': {'audio': 0, 'reasoning': 0}})]}"
      ]
     },
     "execution_count": 6,
     "metadata": {},
     "output_type": "execute_result"
    }
   ],
   "source": [
    "# 초기화안하고 graph만 다시 build 할경우 기록남아있음.\n",
    "# ShortTermMemory = MemorySaver() \n",
    "graph = builder.compile(checkpointer=ShortTermMemory)\n",
    "graph.invoke({\"messages\":\"내 이름이 뭐라고?\"}, config)"
   ]
  },
  {
   "cell_type": "markdown",
   "metadata": {},
   "source": [
    "##### 2. LongTerm 테스트"
   ]
  },
  {
   "cell_type": "markdown",
   "metadata": {},
   "source": [
    "단순 테스트"
   ]
  },
  {
   "cell_type": "code",
   "execution_count": 7,
   "metadata": {},
   "outputs": [
    {
     "name": "stdout",
     "output_type": "stream",
     "text": [
      "{'나이': '29', '전공': 'Computer Engineering', '취미': 'working out', '좋아하는 음식': 'pork'}\n",
      "{'나이': '29', '전공': 'Computer Engineering', '취미': 'working out', '좋아하는 음식': 'pork'}\n"
     ]
    }
   ],
   "source": [
    "directory = \"memories\"\n",
    "userid = \"changwoo\"\n",
    "key = \"chat_user_memory\"\n",
    "value = {\"나이\" : \"29\", \n",
    "         \"전공\": \"Computer Engineering\",\n",
    "         \"취미\": \"working out\",\n",
    "         \"좋아하는 음식\": \"pork\"}\n",
    "\n",
    "LongTermMemory = InMemoryStore()\n",
    "\n",
    "# 값 넣기\n",
    "LongTermMemory.put(namespace=(directory, userid),\n",
    "                   key=key,  \n",
    "                   value=value)\n",
    "\n",
    "# 값 가져오기 (1) - search 함수 사용 (리턴타입 : list)\n",
    "memory = LongTermMemory.search((directory, userid))\n",
    "print(memory[0].dict()['value'])\n",
    "\n",
    "\n",
    "# 값 가져오기 (2) - get 함수 사용 (리턴타입 : dict)\n",
    "memory = LongTermMemory.get((directory, userid),key)\n",
    "print(memory.dict()['value'])"
   ]
  },
  {
   "cell_type": "markdown",
   "metadata": {},
   "source": [
    "그래프를 활용한 테스트"
   ]
  },
  {
   "cell_type": "code",
   "execution_count": 8,
   "metadata": {},
   "outputs": [],
   "source": [
    "prompt_config = ConfigDict()\n",
    "prompt_config.answer_prompt = \"\"\"당신은 사용자의 정보를 기억하고, 이를 활용해 개인화된 정보를 제공하는 유용한 조력자입니다. \n",
    "사용자에 대한 기억이 있다면 이를 사용해 응답을 맞춤화하세요.\n",
    "다음은 사용자의 기억입니다 (비어 있을 수도 있습니다): {memory}\"\"\"\n",
    "\n",
    "prompt_config.create_memory_prompt =\"\"\"당신은 사용자의 응답을 개인화하기 위해 사용자에 대한 정보를 수집하고 있습니다.\n",
    "\n",
    "현재 사용자 정보:\n",
    "{memory}\n",
    "\n",
    "지침:\n",
    "1. 아래의 채팅 기록을 주의 깊게 검토하세요.\n",
    "2. 사용자에 대한 새로운 정보를 식별하세요. 예를 들면:\n",
    "   - 개인 정보 (이름, 위치 등)\n",
    "   - 선호 사항 (좋아하는 것, 싫어하는 것 등)\n",
    "   - 관심사와 취미\n",
    "   - 과거 경험\n",
    "   - 목표나 미래 계획\n",
    "3. 새로운 정보를 기존 메모리와 병합하세요.\n",
    "4. 메모리는 명확한 불릿 리스트 형식으로 작성하세요.\n",
    "5. 새로운 정보가 기존 메모리와 충돌할 경우, 가장 최근 정보를 유지하세요.\n",
    "\n",
    "기억하세요: 사용자가 직접적으로 언급한 사실적인 정보만 포함해야 합니다. 추측이나 추론을 하지 마세요.\n",
    "\n",
    "아래의 채팅 기록을 바탕으로 사용자 정보를 업데이트하세요:\"\"\"\n",
    "\n",
    "def get_memory(namespace, \n",
    "               key,\n",
    "               store:BaseStore):\n",
    "    \"\"\"\n",
    "        Des:\n",
    "            현재 저장된 사용자 정보를 가져오는 함수\n",
    "    \"\"\"\n",
    "    existing_memory = store.get(namespace=namespace,\n",
    "                                key=key)\n",
    "    return existing_memory.value.get('memory') if existing_memory else \"현재 저장된 사용자 정보가 없습니다.\"\n",
    "    \n",
    "\n",
    "def node_get_response(state: MessagesState, \n",
    "                      config: RunnableConfig, \n",
    "                      store: BaseStore):\n",
    "    \"\"\"\n",
    "        Des:\n",
    "            답변 생성 노드\n",
    "    \"\"\"\n",
    "    namespace = (\"memories\", config[\"configurable\"][\"user_id\"])\n",
    "    key = \"chat_user_memory\"\n",
    "    existing_memory_content = get_memory(namespace=namespace, \n",
    "                                         key=key, \n",
    "                                         store=store)\n",
    "    system_message = prompt_config.answer_prompt.format(memory=existing_memory_content)\n",
    "    prompt = [SystemMessage(content=system_message)]+state[\"messages\"]\n",
    "    response = llm.invoke(prompt)\n",
    "    return {\"messages\":response}\n",
    "\n",
    "def node_write_memory(state: MessagesState, \n",
    "                      config: RunnableConfig, \n",
    "                      store: BaseStore):\n",
    "    \"\"\"\n",
    "        Des:\n",
    "            사용자 메시지를 인식하고, 개인정보로 저장하는 노드\n",
    "    \"\"\"\n",
    "    namespace = (\"memories\", config[\"configurable\"][\"user_id\"])\n",
    "    key = \"chat_user_memory\"\n",
    "    existing_memory_content = get_memory(namespace=namespace, \n",
    "                                         key=key, \n",
    "                                         store=store)\n",
    "    system_message = prompt_config.create_memory_prompt.format(memory=existing_memory_content)\n",
    "    prompt = [SystemMessage(content=system_message)]+state[\"messages\"]\n",
    "    response = llm.invoke(prompt)\n",
    "    store.put(namespace=namespace, \n",
    "              key=key, \n",
    "              value={\"memory\":response.content})\n",
    "    \n",
    "builder = StateGraph(MessagesState)\n",
    "builder.add_node(\"node_get_response\", node_get_response)\n",
    "builder.add_node(\"node_write_memory\", node_write_memory)\n",
    "builder.add_edge(START, \"node_get_response\")\n",
    "builder.add_edge(\"node_get_response\", \"node_write_memory\")\n",
    "builder.add_edge(\"node_write_memory\", END)\n",
    "graph = builder.compile(checkpointer=ShortTermMemory,\n",
    "                        store=LongTermMemory)\n",
    "\n",
    "config = {\"configurable\": {\"thread_id\": \"second_chat\", \n",
    "                           \"user_id\": \"changwoo\"}}"
   ]
  },
  {
   "cell_type": "code",
   "execution_count": 9,
   "metadata": {},
   "outputs": [
    {
     "data": {
      "text/plain": [
       "{'messages': [HumanMessage(content='안녕 나는 창우라고해', additional_kwargs={}, response_metadata={}, id='79d67190-8066-42e2-94a5-a0a1f393d4e2'),\n",
       "  AIMessage(content='안녕하세요, 창우님! 만나서 반갑습니다. 어떻게 도와드릴까요?', additional_kwargs={'refusal': None}, response_metadata={'token_usage': {'completion_tokens': 21, 'prompt_tokens': 79, 'total_tokens': 100, 'completion_tokens_details': {'accepted_prediction_tokens': 0, 'audio_tokens': 0, 'reasoning_tokens': 0, 'rejected_prediction_tokens': 0}, 'prompt_tokens_details': {'audio_tokens': 0, 'cached_tokens': 0}}, 'model_name': 'gpt-4o-2024-08-06', 'system_fingerprint': 'fp_703d4ff298', 'finish_reason': 'stop', 'logprobs': None}, id='run-2ecce0cd-a7fa-49d4-8471-8b53d61b4525-0', usage_metadata={'input_tokens': 79, 'output_tokens': 21, 'total_tokens': 100, 'input_token_details': {'audio': 0, 'cache_read': 0}, 'output_token_details': {'audio': 0, 'reasoning': 0}})]}"
      ]
     },
     "execution_count": 9,
     "metadata": {},
     "output_type": "execute_result"
    }
   ],
   "source": [
    "graph.invoke({\"messages\":\"안녕 나는 창우라고해\"}, \n",
    "             config=config)"
   ]
  },
  {
   "cell_type": "code",
   "execution_count": 10,
   "metadata": {},
   "outputs": [
    {
     "data": {
      "text/plain": [
       "{'messages': [HumanMessage(content='안녕 나는 창우라고해', additional_kwargs={}, response_metadata={}, id='79d67190-8066-42e2-94a5-a0a1f393d4e2'),\n",
       "  AIMessage(content='안녕하세요, 창우님! 만나서 반갑습니다. 어떻게 도와드릴까요?', additional_kwargs={'refusal': None}, response_metadata={'token_usage': {'completion_tokens': 21, 'prompt_tokens': 79, 'total_tokens': 100, 'completion_tokens_details': {'accepted_prediction_tokens': 0, 'audio_tokens': 0, 'reasoning_tokens': 0, 'rejected_prediction_tokens': 0}, 'prompt_tokens_details': {'audio_tokens': 0, 'cached_tokens': 0}}, 'model_name': 'gpt-4o-2024-08-06', 'system_fingerprint': 'fp_703d4ff298', 'finish_reason': 'stop', 'logprobs': None}, id='run-2ecce0cd-a7fa-49d4-8471-8b53d61b4525-0', usage_metadata={'input_tokens': 79, 'output_tokens': 21, 'total_tokens': 100, 'input_token_details': {'audio': 0, 'cache_read': 0}, 'output_token_details': {'audio': 0, 'reasoning': 0}}),\n",
       "  HumanMessage(content='나는 올해 30살이고, 현재 부산대학교에서 박사과정을 하고있어.', additional_kwargs={}, response_metadata={}, id='f107f3db-a2c7-456a-a584-79c5ed4b6166'),\n",
       "  AIMessage(content='박사과정을 진행 중이시군요, 창우님! 부산대학교에서 어떤 분야를 연구하고 계신가요? 연구 주제에 대해 말씀해 주시면 더 많은 이야기를 나눌 수 있을 것 같아요.', additional_kwargs={'refusal': None}, response_metadata={'token_usage': {'completion_tokens': 51, 'prompt_tokens': 134, 'total_tokens': 185, 'completion_tokens_details': {'accepted_prediction_tokens': 0, 'audio_tokens': 0, 'reasoning_tokens': 0, 'rejected_prediction_tokens': 0}, 'prompt_tokens_details': {'audio_tokens': 0, 'cached_tokens': 0}}, 'model_name': 'gpt-4o-2024-08-06', 'system_fingerprint': 'fp_703d4ff298', 'finish_reason': 'stop', 'logprobs': None}, id='run-afc3f026-b55a-4379-9436-198645f50b65-0', usage_metadata={'input_tokens': 134, 'output_tokens': 51, 'total_tokens': 185, 'input_token_details': {'audio': 0, 'cache_read': 0}, 'output_token_details': {'audio': 0, 'reasoning': 0}})]}"
      ]
     },
     "execution_count": 10,
     "metadata": {},
     "output_type": "execute_result"
    }
   ],
   "source": [
    "graph.invoke({\"messages\":\"나는 올해 30살이고, 현재 부산대학교에서 박사과정을 하고있어.\"}, config)"
   ]
  },
  {
   "cell_type": "code",
   "execution_count": 11,
   "metadata": {},
   "outputs": [
    {
     "data": {
      "text/plain": [
       "{'messages': [HumanMessage(content='안녕 나는 창우라고해', additional_kwargs={}, response_metadata={}, id='79d67190-8066-42e2-94a5-a0a1f393d4e2'),\n",
       "  AIMessage(content='안녕하세요, 창우님! 만나서 반갑습니다. 어떻게 도와드릴까요?', additional_kwargs={'refusal': None}, response_metadata={'token_usage': {'completion_tokens': 21, 'prompt_tokens': 79, 'total_tokens': 100, 'completion_tokens_details': {'accepted_prediction_tokens': 0, 'audio_tokens': 0, 'reasoning_tokens': 0, 'rejected_prediction_tokens': 0}, 'prompt_tokens_details': {'audio_tokens': 0, 'cached_tokens': 0}}, 'model_name': 'gpt-4o-2024-08-06', 'system_fingerprint': 'fp_703d4ff298', 'finish_reason': 'stop', 'logprobs': None}, id='run-2ecce0cd-a7fa-49d4-8471-8b53d61b4525-0', usage_metadata={'input_tokens': 79, 'output_tokens': 21, 'total_tokens': 100, 'input_token_details': {'audio': 0, 'cache_read': 0}, 'output_token_details': {'audio': 0, 'reasoning': 0}}),\n",
       "  HumanMessage(content='나는 올해 30살이고, 현재 부산대학교에서 박사과정을 하고있어.', additional_kwargs={}, response_metadata={}, id='f107f3db-a2c7-456a-a584-79c5ed4b6166'),\n",
       "  AIMessage(content='박사과정을 진행 중이시군요, 창우님! 부산대학교에서 어떤 분야를 연구하고 계신가요? 연구 주제에 대해 말씀해 주시면 더 많은 이야기를 나눌 수 있을 것 같아요.', additional_kwargs={'refusal': None}, response_metadata={'token_usage': {'completion_tokens': 51, 'prompt_tokens': 134, 'total_tokens': 185, 'completion_tokens_details': {'accepted_prediction_tokens': 0, 'audio_tokens': 0, 'reasoning_tokens': 0, 'rejected_prediction_tokens': 0}, 'prompt_tokens_details': {'audio_tokens': 0, 'cached_tokens': 0}}, 'model_name': 'gpt-4o-2024-08-06', 'system_fingerprint': 'fp_703d4ff298', 'finish_reason': 'stop', 'logprobs': None}, id='run-afc3f026-b55a-4379-9436-198645f50b65-0', usage_metadata={'input_tokens': 134, 'output_tokens': 51, 'total_tokens': 185, 'input_token_details': {'audio': 0, 'cache_read': 0}, 'output_token_details': {'audio': 0, 'reasoning': 0}}),\n",
       "  HumanMessage(content='내 취미는 헬스장에서 운동하는거고, 돼지고기를 제일좋아해', additional_kwargs={}, response_metadata={}, id='11556ebf-40a8-4eec-83ca-5ddc4886f2de'),\n",
       "  AIMessage(content='운동을 즐기시고, 특히 돼지고기를 좋아하시는군요! 운동 후에 맛있는 돼지고기는 정말 좋은 선택이죠. 창우님은 헬스장에서 주로 어떤 운동을 하시나요? 그리고 좋아하는 돼지고기 요리가 있다면 무엇인지 궁금하네요.', additional_kwargs={'refusal': None}, response_metadata={'token_usage': {'completion_tokens': 70, 'prompt_tokens': 237, 'total_tokens': 307, 'completion_tokens_details': {'accepted_prediction_tokens': 0, 'audio_tokens': 0, 'reasoning_tokens': 0, 'rejected_prediction_tokens': 0}, 'prompt_tokens_details': {'audio_tokens': 0, 'cached_tokens': 0}}, 'model_name': 'gpt-4o-2024-08-06', 'system_fingerprint': 'fp_703d4ff298', 'finish_reason': 'stop', 'logprobs': None}, id='run-1f935d7e-2a87-497f-b78a-d50f85b22591-0', usage_metadata={'input_tokens': 237, 'output_tokens': 70, 'total_tokens': 307, 'input_token_details': {'audio': 0, 'cache_read': 0}, 'output_token_details': {'audio': 0, 'reasoning': 0}})]}"
      ]
     },
     "execution_count": 11,
     "metadata": {},
     "output_type": "execute_result"
    }
   ],
   "source": [
    "graph.invoke({\"messages\":\"내 취미는 헬스장에서 운동하는거고, 돼지고기를 제일좋아해\"}, config)"
   ]
  },
  {
   "cell_type": "code",
   "execution_count": 12,
   "metadata": {},
   "outputs": [
    {
     "data": {
      "text/plain": [
       "{'messages': [HumanMessage(content='안녕 나는 창우라고해', additional_kwargs={}, response_metadata={}, id='79d67190-8066-42e2-94a5-a0a1f393d4e2'),\n",
       "  AIMessage(content='안녕하세요, 창우님! 만나서 반갑습니다. 어떻게 도와드릴까요?', additional_kwargs={'refusal': None}, response_metadata={'token_usage': {'completion_tokens': 21, 'prompt_tokens': 79, 'total_tokens': 100, 'completion_tokens_details': {'accepted_prediction_tokens': 0, 'audio_tokens': 0, 'reasoning_tokens': 0, 'rejected_prediction_tokens': 0}, 'prompt_tokens_details': {'audio_tokens': 0, 'cached_tokens': 0}}, 'model_name': 'gpt-4o-2024-08-06', 'system_fingerprint': 'fp_703d4ff298', 'finish_reason': 'stop', 'logprobs': None}, id='run-2ecce0cd-a7fa-49d4-8471-8b53d61b4525-0', usage_metadata={'input_tokens': 79, 'output_tokens': 21, 'total_tokens': 100, 'input_token_details': {'audio': 0, 'cache_read': 0}, 'output_token_details': {'audio': 0, 'reasoning': 0}}),\n",
       "  HumanMessage(content='나는 올해 30살이고, 현재 부산대학교에서 박사과정을 하고있어.', additional_kwargs={}, response_metadata={}, id='f107f3db-a2c7-456a-a584-79c5ed4b6166'),\n",
       "  AIMessage(content='박사과정을 진행 중이시군요, 창우님! 부산대학교에서 어떤 분야를 연구하고 계신가요? 연구 주제에 대해 말씀해 주시면 더 많은 이야기를 나눌 수 있을 것 같아요.', additional_kwargs={'refusal': None}, response_metadata={'token_usage': {'completion_tokens': 51, 'prompt_tokens': 134, 'total_tokens': 185, 'completion_tokens_details': {'accepted_prediction_tokens': 0, 'audio_tokens': 0, 'reasoning_tokens': 0, 'rejected_prediction_tokens': 0}, 'prompt_tokens_details': {'audio_tokens': 0, 'cached_tokens': 0}}, 'model_name': 'gpt-4o-2024-08-06', 'system_fingerprint': 'fp_703d4ff298', 'finish_reason': 'stop', 'logprobs': None}, id='run-afc3f026-b55a-4379-9436-198645f50b65-0', usage_metadata={'input_tokens': 134, 'output_tokens': 51, 'total_tokens': 185, 'input_token_details': {'audio': 0, 'cache_read': 0}, 'output_token_details': {'audio': 0, 'reasoning': 0}}),\n",
       "  HumanMessage(content='내 취미는 헬스장에서 운동하는거고, 돼지고기를 제일좋아해', additional_kwargs={}, response_metadata={}, id='11556ebf-40a8-4eec-83ca-5ddc4886f2de'),\n",
       "  AIMessage(content='운동을 즐기시고, 특히 돼지고기를 좋아하시는군요! 운동 후에 맛있는 돼지고기는 정말 좋은 선택이죠. 창우님은 헬스장에서 주로 어떤 운동을 하시나요? 그리고 좋아하는 돼지고기 요리가 있다면 무엇인지 궁금하네요.', additional_kwargs={'refusal': None}, response_metadata={'token_usage': {'completion_tokens': 70, 'prompt_tokens': 237, 'total_tokens': 307, 'completion_tokens_details': {'accepted_prediction_tokens': 0, 'audio_tokens': 0, 'reasoning_tokens': 0, 'rejected_prediction_tokens': 0}, 'prompt_tokens_details': {'audio_tokens': 0, 'cached_tokens': 0}}, 'model_name': 'gpt-4o-2024-08-06', 'system_fingerprint': 'fp_703d4ff298', 'finish_reason': 'stop', 'logprobs': None}, id='run-1f935d7e-2a87-497f-b78a-d50f85b22591-0', usage_metadata={'input_tokens': 237, 'output_tokens': 70, 'total_tokens': 307, 'input_token_details': {'audio': 0, 'cache_read': 0}, 'output_token_details': {'audio': 0, 'reasoning': 0}}),\n",
       "  HumanMessage(content='나에 대해서 알고있는게 있어?', additional_kwargs={}, response_metadata={}, id='8747f62e-1987-4142-a4bc-f28c741761c8'),\n",
       "  AIMessage(content='네, 창우님에 대해 몇 가지 기억하고 있습니다. 창우님은 30살이고, 부산대학교에서 박사과정을 하고 계시며, 헬스장에서 운동하는 것을 취미로 삼고 계십니다. 또한, 돼지고기를 가장 좋아하신다고 하셨죠. 혹시 더 추가하거나 수정할 정보가 있다면 말씀해 주세요!', additional_kwargs={'refusal': None}, response_metadata={'token_usage': {'completion_tokens': 81, 'prompt_tokens': 336, 'total_tokens': 417, 'completion_tokens_details': {'accepted_prediction_tokens': 0, 'audio_tokens': 0, 'reasoning_tokens': 0, 'rejected_prediction_tokens': 0}, 'prompt_tokens_details': {'audio_tokens': 0, 'cached_tokens': 0}}, 'model_name': 'gpt-4o-2024-08-06', 'system_fingerprint': 'fp_703d4ff298', 'finish_reason': 'stop', 'logprobs': None}, id='run-006be46f-7093-45e6-91c7-ae6cdb8bf10d-0', usage_metadata={'input_tokens': 336, 'output_tokens': 81, 'total_tokens': 417, 'input_token_details': {'audio': 0, 'cache_read': 0}, 'output_token_details': {'audio': 0, 'reasoning': 0}})]}"
      ]
     },
     "execution_count": 12,
     "metadata": {},
     "output_type": "execute_result"
    }
   ],
   "source": [
    "graph.invoke({\"messages\":\"나에 대해서 알고있는게 있어?\"}, config)"
   ]
  },
  {
   "cell_type": "code",
   "execution_count": 13,
   "metadata": {},
   "outputs": [
    {
     "data": {
      "text/plain": [
       "{'messages': [HumanMessage(content='안녕 나는 창우라고해', additional_kwargs={}, response_metadata={}, id='79d67190-8066-42e2-94a5-a0a1f393d4e2'),\n",
       "  AIMessage(content='안녕하세요, 창우님! 만나서 반갑습니다. 어떻게 도와드릴까요?', additional_kwargs={'refusal': None}, response_metadata={'token_usage': {'completion_tokens': 21, 'prompt_tokens': 79, 'total_tokens': 100, 'completion_tokens_details': {'accepted_prediction_tokens': 0, 'audio_tokens': 0, 'reasoning_tokens': 0, 'rejected_prediction_tokens': 0}, 'prompt_tokens_details': {'audio_tokens': 0, 'cached_tokens': 0}}, 'model_name': 'gpt-4o-2024-08-06', 'system_fingerprint': 'fp_703d4ff298', 'finish_reason': 'stop', 'logprobs': None}, id='run-2ecce0cd-a7fa-49d4-8471-8b53d61b4525-0', usage_metadata={'input_tokens': 79, 'output_tokens': 21, 'total_tokens': 100, 'input_token_details': {'audio': 0, 'cache_read': 0}, 'output_token_details': {'audio': 0, 'reasoning': 0}}),\n",
       "  HumanMessage(content='나는 올해 30살이고, 현재 부산대학교에서 박사과정을 하고있어.', additional_kwargs={}, response_metadata={}, id='f107f3db-a2c7-456a-a584-79c5ed4b6166'),\n",
       "  AIMessage(content='박사과정을 진행 중이시군요, 창우님! 부산대학교에서 어떤 분야를 연구하고 계신가요? 연구 주제에 대해 말씀해 주시면 더 많은 이야기를 나눌 수 있을 것 같아요.', additional_kwargs={'refusal': None}, response_metadata={'token_usage': {'completion_tokens': 51, 'prompt_tokens': 134, 'total_tokens': 185, 'completion_tokens_details': {'accepted_prediction_tokens': 0, 'audio_tokens': 0, 'reasoning_tokens': 0, 'rejected_prediction_tokens': 0}, 'prompt_tokens_details': {'audio_tokens': 0, 'cached_tokens': 0}}, 'model_name': 'gpt-4o-2024-08-06', 'system_fingerprint': 'fp_703d4ff298', 'finish_reason': 'stop', 'logprobs': None}, id='run-afc3f026-b55a-4379-9436-198645f50b65-0', usage_metadata={'input_tokens': 134, 'output_tokens': 51, 'total_tokens': 185, 'input_token_details': {'audio': 0, 'cache_read': 0}, 'output_token_details': {'audio': 0, 'reasoning': 0}}),\n",
       "  HumanMessage(content='내 취미는 헬스장에서 운동하는거고, 돼지고기를 제일좋아해', additional_kwargs={}, response_metadata={}, id='11556ebf-40a8-4eec-83ca-5ddc4886f2de'),\n",
       "  AIMessage(content='운동을 즐기시고, 특히 돼지고기를 좋아하시는군요! 운동 후에 맛있는 돼지고기는 정말 좋은 선택이죠. 창우님은 헬스장에서 주로 어떤 운동을 하시나요? 그리고 좋아하는 돼지고기 요리가 있다면 무엇인지 궁금하네요.', additional_kwargs={'refusal': None}, response_metadata={'token_usage': {'completion_tokens': 70, 'prompt_tokens': 237, 'total_tokens': 307, 'completion_tokens_details': {'accepted_prediction_tokens': 0, 'audio_tokens': 0, 'reasoning_tokens': 0, 'rejected_prediction_tokens': 0}, 'prompt_tokens_details': {'audio_tokens': 0, 'cached_tokens': 0}}, 'model_name': 'gpt-4o-2024-08-06', 'system_fingerprint': 'fp_703d4ff298', 'finish_reason': 'stop', 'logprobs': None}, id='run-1f935d7e-2a87-497f-b78a-d50f85b22591-0', usage_metadata={'input_tokens': 237, 'output_tokens': 70, 'total_tokens': 307, 'input_token_details': {'audio': 0, 'cache_read': 0}, 'output_token_details': {'audio': 0, 'reasoning': 0}}),\n",
       "  HumanMessage(content='나에 대해서 알고있는게 있어?', additional_kwargs={}, response_metadata={}, id='8747f62e-1987-4142-a4bc-f28c741761c8'),\n",
       "  AIMessage(content='네, 창우님에 대해 몇 가지 기억하고 있습니다. 창우님은 30살이고, 부산대학교에서 박사과정을 하고 계시며, 헬스장에서 운동하는 것을 취미로 삼고 계십니다. 또한, 돼지고기를 가장 좋아하신다고 하셨죠. 혹시 더 추가하거나 수정할 정보가 있다면 말씀해 주세요!', additional_kwargs={'refusal': None}, response_metadata={'token_usage': {'completion_tokens': 81, 'prompt_tokens': 336, 'total_tokens': 417, 'completion_tokens_details': {'accepted_prediction_tokens': 0, 'audio_tokens': 0, 'reasoning_tokens': 0, 'rejected_prediction_tokens': 0}, 'prompt_tokens_details': {'audio_tokens': 0, 'cached_tokens': 0}}, 'model_name': 'gpt-4o-2024-08-06', 'system_fingerprint': 'fp_703d4ff298', 'finish_reason': 'stop', 'logprobs': None}, id='run-006be46f-7093-45e6-91c7-ae6cdb8bf10d-0', usage_metadata={'input_tokens': 336, 'output_tokens': 81, 'total_tokens': 417, 'input_token_details': {'audio': 0, 'cache_read': 0}, 'output_token_details': {'audio': 0, 'reasoning': 0}}),\n",
       "  HumanMessage(content='아니야. 잘못말했어. 내이름은 김호원이고, 나이는 54살이야. 현재 스마트엠투엠 대표로 일하고있어.', additional_kwargs={}, response_metadata={}, id='24275704-5226-409a-8b9c-d38ef917d4ba'),\n",
       "  AIMessage(content='알겠습니다, 호원님! 스마트엠투엠의 대표로 일하신다니 정말 대단하십니다. 회사 운영이나 사업과 관련해 도움이 필요하시거나, 다른 관심사가 있다면 언제든지 말씀해 주세요. 추가적인 정보를 기억하겠습니다.', additional_kwargs={'refusal': None}, response_metadata={'token_usage': {'completion_tokens': 60, 'prompt_tokens': 464, 'total_tokens': 524, 'completion_tokens_details': {'accepted_prediction_tokens': 0, 'audio_tokens': 0, 'reasoning_tokens': 0, 'rejected_prediction_tokens': 0}, 'prompt_tokens_details': {'audio_tokens': 0, 'cached_tokens': 0}}, 'model_name': 'gpt-4o-2024-08-06', 'system_fingerprint': 'fp_703d4ff298', 'finish_reason': 'stop', 'logprobs': None}, id='run-fccf2555-b124-424a-b5e1-3ed37c63744f-0', usage_metadata={'input_tokens': 464, 'output_tokens': 60, 'total_tokens': 524, 'input_token_details': {'audio': 0, 'cache_read': 0}, 'output_token_details': {'audio': 0, 'reasoning': 0}})]}"
      ]
     },
     "execution_count": 13,
     "metadata": {},
     "output_type": "execute_result"
    }
   ],
   "source": [
    "graph.invoke({\"messages\":\"아니야. 잘못말했어. 내이름은 김호원이고, 나이는 54살이야. 현재 스마트엠투엠 대표로 일하고있어.\"}, config)"
   ]
  },
  {
   "cell_type": "code",
   "execution_count": 14,
   "metadata": {},
   "outputs": [
    {
     "data": {
      "text/plain": [
       "{'messages': [HumanMessage(content='안녕 나는 창우라고해', additional_kwargs={}, response_metadata={}, id='79d67190-8066-42e2-94a5-a0a1f393d4e2'),\n",
       "  AIMessage(content='안녕하세요, 창우님! 만나서 반갑습니다. 어떻게 도와드릴까요?', additional_kwargs={'refusal': None}, response_metadata={'token_usage': {'completion_tokens': 21, 'prompt_tokens': 79, 'total_tokens': 100, 'completion_tokens_details': {'accepted_prediction_tokens': 0, 'audio_tokens': 0, 'reasoning_tokens': 0, 'rejected_prediction_tokens': 0}, 'prompt_tokens_details': {'audio_tokens': 0, 'cached_tokens': 0}}, 'model_name': 'gpt-4o-2024-08-06', 'system_fingerprint': 'fp_703d4ff298', 'finish_reason': 'stop', 'logprobs': None}, id='run-2ecce0cd-a7fa-49d4-8471-8b53d61b4525-0', usage_metadata={'input_tokens': 79, 'output_tokens': 21, 'total_tokens': 100, 'input_token_details': {'audio': 0, 'cache_read': 0}, 'output_token_details': {'audio': 0, 'reasoning': 0}}),\n",
       "  HumanMessage(content='나는 올해 30살이고, 현재 부산대학교에서 박사과정을 하고있어.', additional_kwargs={}, response_metadata={}, id='f107f3db-a2c7-456a-a584-79c5ed4b6166'),\n",
       "  AIMessage(content='박사과정을 진행 중이시군요, 창우님! 부산대학교에서 어떤 분야를 연구하고 계신가요? 연구 주제에 대해 말씀해 주시면 더 많은 이야기를 나눌 수 있을 것 같아요.', additional_kwargs={'refusal': None}, response_metadata={'token_usage': {'completion_tokens': 51, 'prompt_tokens': 134, 'total_tokens': 185, 'completion_tokens_details': {'accepted_prediction_tokens': 0, 'audio_tokens': 0, 'reasoning_tokens': 0, 'rejected_prediction_tokens': 0}, 'prompt_tokens_details': {'audio_tokens': 0, 'cached_tokens': 0}}, 'model_name': 'gpt-4o-2024-08-06', 'system_fingerprint': 'fp_703d4ff298', 'finish_reason': 'stop', 'logprobs': None}, id='run-afc3f026-b55a-4379-9436-198645f50b65-0', usage_metadata={'input_tokens': 134, 'output_tokens': 51, 'total_tokens': 185, 'input_token_details': {'audio': 0, 'cache_read': 0}, 'output_token_details': {'audio': 0, 'reasoning': 0}}),\n",
       "  HumanMessage(content='내 취미는 헬스장에서 운동하는거고, 돼지고기를 제일좋아해', additional_kwargs={}, response_metadata={}, id='11556ebf-40a8-4eec-83ca-5ddc4886f2de'),\n",
       "  AIMessage(content='운동을 즐기시고, 특히 돼지고기를 좋아하시는군요! 운동 후에 맛있는 돼지고기는 정말 좋은 선택이죠. 창우님은 헬스장에서 주로 어떤 운동을 하시나요? 그리고 좋아하는 돼지고기 요리가 있다면 무엇인지 궁금하네요.', additional_kwargs={'refusal': None}, response_metadata={'token_usage': {'completion_tokens': 70, 'prompt_tokens': 237, 'total_tokens': 307, 'completion_tokens_details': {'accepted_prediction_tokens': 0, 'audio_tokens': 0, 'reasoning_tokens': 0, 'rejected_prediction_tokens': 0}, 'prompt_tokens_details': {'audio_tokens': 0, 'cached_tokens': 0}}, 'model_name': 'gpt-4o-2024-08-06', 'system_fingerprint': 'fp_703d4ff298', 'finish_reason': 'stop', 'logprobs': None}, id='run-1f935d7e-2a87-497f-b78a-d50f85b22591-0', usage_metadata={'input_tokens': 237, 'output_tokens': 70, 'total_tokens': 307, 'input_token_details': {'audio': 0, 'cache_read': 0}, 'output_token_details': {'audio': 0, 'reasoning': 0}}),\n",
       "  HumanMessage(content='나에 대해서 알고있는게 있어?', additional_kwargs={}, response_metadata={}, id='8747f62e-1987-4142-a4bc-f28c741761c8'),\n",
       "  AIMessage(content='네, 창우님에 대해 몇 가지 기억하고 있습니다. 창우님은 30살이고, 부산대학교에서 박사과정을 하고 계시며, 헬스장에서 운동하는 것을 취미로 삼고 계십니다. 또한, 돼지고기를 가장 좋아하신다고 하셨죠. 혹시 더 추가하거나 수정할 정보가 있다면 말씀해 주세요!', additional_kwargs={'refusal': None}, response_metadata={'token_usage': {'completion_tokens': 81, 'prompt_tokens': 336, 'total_tokens': 417, 'completion_tokens_details': {'accepted_prediction_tokens': 0, 'audio_tokens': 0, 'reasoning_tokens': 0, 'rejected_prediction_tokens': 0}, 'prompt_tokens_details': {'audio_tokens': 0, 'cached_tokens': 0}}, 'model_name': 'gpt-4o-2024-08-06', 'system_fingerprint': 'fp_703d4ff298', 'finish_reason': 'stop', 'logprobs': None}, id='run-006be46f-7093-45e6-91c7-ae6cdb8bf10d-0', usage_metadata={'input_tokens': 336, 'output_tokens': 81, 'total_tokens': 417, 'input_token_details': {'audio': 0, 'cache_read': 0}, 'output_token_details': {'audio': 0, 'reasoning': 0}}),\n",
       "  HumanMessage(content='아니야. 잘못말했어. 내이름은 김호원이고, 나이는 54살이야. 현재 스마트엠투엠 대표로 일하고있어.', additional_kwargs={}, response_metadata={}, id='24275704-5226-409a-8b9c-d38ef917d4ba'),\n",
       "  AIMessage(content='알겠습니다, 호원님! 스마트엠투엠의 대표로 일하신다니 정말 대단하십니다. 회사 운영이나 사업과 관련해 도움이 필요하시거나, 다른 관심사가 있다면 언제든지 말씀해 주세요. 추가적인 정보를 기억하겠습니다.', additional_kwargs={'refusal': None}, response_metadata={'token_usage': {'completion_tokens': 60, 'prompt_tokens': 464, 'total_tokens': 524, 'completion_tokens_details': {'accepted_prediction_tokens': 0, 'audio_tokens': 0, 'reasoning_tokens': 0, 'rejected_prediction_tokens': 0}, 'prompt_tokens_details': {'audio_tokens': 0, 'cached_tokens': 0}}, 'model_name': 'gpt-4o-2024-08-06', 'system_fingerprint': 'fp_703d4ff298', 'finish_reason': 'stop', 'logprobs': None}, id='run-fccf2555-b124-424a-b5e1-3ed37c63744f-0', usage_metadata={'input_tokens': 464, 'output_tokens': 60, 'total_tokens': 524, 'input_token_details': {'audio': 0, 'cache_read': 0}, 'output_token_details': {'audio': 0, 'reasoning': 0}}),\n",
       "  HumanMessage(content='나에 대해서 알고있는게 있어?', additional_kwargs={}, response_metadata={}, id='a04e010e-d676-47e5-a1ce-46f464f2e4bf'),\n",
       "  AIMessage(content='네, 호원님에 대해 알고 있는 것은 다음과 같습니다. 호원님은 54살이고, 스마트엠투엠의 대표로 일하고 계십니다. 이전에 부산대학교에서 박사과정을 밟으셨고, 헬스장에서 운동하는 것을 취미로 삼으셨습니다. 또한, 돼지고기를 좋아하신다고 말씀해 주셨습니다. 혹시 더 추가하거나 수정할 정보가 있다면 언제든지 말씀해 주세요!', additional_kwargs={'refusal': None}, response_metadata={'token_usage': {'completion_tokens': 103, 'prompt_tokens': 580, 'total_tokens': 683, 'completion_tokens_details': {'accepted_prediction_tokens': 0, 'audio_tokens': 0, 'reasoning_tokens': 0, 'rejected_prediction_tokens': 0}, 'prompt_tokens_details': {'audio_tokens': 0, 'cached_tokens': 0}}, 'model_name': 'gpt-4o-2024-08-06', 'system_fingerprint': 'fp_703d4ff298', 'finish_reason': 'stop', 'logprobs': None}, id='run-7ce14d0c-c04f-4a5a-8df0-7d20e6d3b2ba-0', usage_metadata={'input_tokens': 580, 'output_tokens': 103, 'total_tokens': 683, 'input_token_details': {'audio': 0, 'cache_read': 0}, 'output_token_details': {'audio': 0, 'reasoning': 0}})]}"
      ]
     },
     "execution_count": 14,
     "metadata": {},
     "output_type": "execute_result"
    }
   ],
   "source": [
    "graph.invoke({\"messages\":\"나에 대해서 알고있는게 있어?\"}, config)"
   ]
  }
 ],
 "metadata": {
  "kernelspec": {
   "display_name": "langchain",
   "language": "python",
   "name": "langchain"
  },
  "language_info": {
   "codemirror_mode": {
    "name": "ipython",
    "version": 3
   },
   "file_extension": ".py",
   "mimetype": "text/x-python",
   "name": "python",
   "nbconvert_exporter": "python",
   "pygments_lexer": "ipython3",
   "version": "3.11.11"
  }
 },
 "nbformat": 4,
 "nbformat_minor": 2
}
