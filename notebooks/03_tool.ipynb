{
 "cells": [
  {
   "cell_type": "code",
   "execution_count": 1,
   "metadata": {},
   "outputs": [],
   "source": [
    "from modules.base import *"
   ]
  },
  {
   "cell_type": "markdown",
   "metadata": {},
   "source": [
    "#### tool 사용하기\n",
    "- LLM이 판단했을때, Tool을 사용해야 할 경우, AIMessage 에 툴 호출 정보가 추가됨.\n",
    "    - content 비어있음.\n",
    "\n",
    "    - additional_kwargs에 tool_calls 정보 추가됨.\n",
    "\n",
    "    - `예시) AIMessage(content='', additional_kwargs={'tool_calls'..`\n",
    "\n",
    "- tools_condition : 메시지가 tool call 인지 아닌지 판단하는 함수\n",
    "    - tool call 인 경우, tool 노드로 이동\n",
    "    \n",
    "    - tool call 이 아닌 경우, END로 이동"
   ]
  },
  {
   "cell_type": "markdown",
   "metadata": {},
   "source": [
    "---"
   ]
  },
  {
   "cell_type": "code",
   "execution_count": 2,
   "metadata": {},
   "outputs": [
    {
     "data": {
      "image/png": "[encoded data removed]",
      "text/plain": [
       "<IPython.core.display.Image object>"
      ]
     },
     "metadata": {},
     "output_type": "display_data"
    }
   ],
   "source": [
    "@trace_function()\n",
    "def multiply(a: int, b: int) -> int:\n",
    "    \"\"\"Multiply a and b.\n",
    "\n",
    "    Args:\n",
    "        a: first int\n",
    "        b: second int\n",
    "    \"\"\"\n",
    "    return a * b\n",
    "\n",
    "@trace_function()\n",
    "def add(a: int, b: int) -> int:\n",
    "    \"\"\"Adds a and b.\n",
    "\n",
    "    Args:\n",
    "        a: first int\n",
    "        b: second int\n",
    "    \"\"\"\n",
    "    return a + b\n",
    "\n",
    "@trace_function()\n",
    "def divide(a: int, b: int) -> float:\n",
    "    \"\"\"Divide a and b.\n",
    "\n",
    "    Args:\n",
    "        a: first int\n",
    "        b: second int\n",
    "    \"\"\"\n",
    "    return a / b\n",
    "\n",
    "tools = [divide, add, multiply]\n",
    "llm_with_tools = llm.bind_tools(tools, parallel_tool_calls=False)\n",
    "\n",
    "@trace_function()\n",
    "def node_assistant(state:MessagesState):\n",
    "   system_message = SystemMessage(content=\"You are a helpful assistant tasked with performing arithmetic on a set of inputs.\")\n",
    "   return_state = {\"messages\": [llm_with_tools.invoke([system_message] + state[\"messages\"])]}\n",
    "   return return_state\n",
    "\n",
    "builder = StateGraph(MessagesState)\n",
    "builder.add_node(\"node_assistant\", node_assistant)\n",
    "builder.add_node(\"tools\", ToolNode(tools)) # execute tool when AI message is tool call\n",
    "builder.add_edge(START, \"node_assistant\")\n",
    "builder.add_conditional_edges(\"node_assistant\", tools_condition)\n",
    "builder.add_edge(\"tools\", \"node_assistant\")\n",
    "graph = builder.compile()\n",
    "display(Image(graph.get_graph().draw_mermaid_png()))"
   ]
  },
  {
   "cell_type": "code",
   "execution_count": 4,
   "metadata": {},
   "outputs": [
    {
     "name": "stdout",
     "output_type": "stream",
     "text": [
      "\n",
      "\u001b[92m🚀 Passing Through [node_assistant] ..\u001b[0m\n",
      "\n",
      "\u001b[91m#### [Input State]\u001b[0m\n",
      "  args: ({'messages': [HumanMessage(content='Add 3 and 4. Multiply the output by 2. Divide the output by 5', additional_kwargs={}, response_metadata={}, id='98510fe5-e302-4855-ae9b-8f1609dac9e4')]},)\n",
      "  kwargs: {}\n",
      "\n",
      "\u001b[94m#### [Output State]\u001b[0m\n",
      "  result: {'messages': [AIMessage(content='', additional_kwargs={'tool_calls': [{'id': 'call_h4LCC6GLzJbdaX3a2c82UCdR', 'function': {'arguments': '{\"a\":3,\"b\":4}', 'name': 'add'}, 'type': 'function'}], 'refusal': None}, response_metadata={'token_usage': {'completion_tokens': 18, 'prompt_tokens': 145, 'total_tokens': 163, 'completion_tokens_details': {'accepted_prediction_tokens': 0, 'audio_tokens': 0, 'reasoning_tokens': 0, 'rejected_prediction_tokens': 0}, 'prompt_tokens_details': {'audio_tokens': 0, 'cached_tokens': 0}}, 'model_name': 'gpt-4o-2024-08-06', 'system_fingerprint': 'fp_b7d65f1a5b', 'finish_reason': 'tool_calls', 'logprobs': None}, id='run-2a41e35f-dfa1-4797-aa91-f607ad6f744c-0', tool_calls=[{'name': 'add', 'args': {'a': 3, 'b': 4}, 'id': 'call_h4LCC6GLzJbdaX3a2c82UCdR', 'type': 'tool_call'}], usage_metadata={'input_tokens': 145, 'output_tokens': 18, 'total_tokens': 163, 'input_token_details': {'audio': 0, 'cache_read': 0}, 'output_token_details': {'audio': 0, 'reasoning': 0}})]}\n",
      "\n",
      "\u001b[92m🚀 Passing Through [add] ..\u001b[0m\n",
      "\n",
      "\u001b[91m#### [Input State]\u001b[0m\n",
      "  args: ()\n",
      "  kwargs: {'a': 3, 'b': 4}\n",
      "\n",
      "\u001b[94m#### [Output State]\u001b[0m\n",
      "  result: 7\n",
      "\n",
      "\u001b[92m🚀 Passing Through [node_assistant] ..\u001b[0m\n",
      "\n",
      "\u001b[91m#### [Input State]\u001b[0m\n",
      "  args: ({'messages': [HumanMessage(content='Add 3 and 4. Multiply the output by 2. Divide the output by 5', additional_kwargs={}, response_metadata={}, id='98510fe5-e302-4855-ae9b-8f1609dac9e4'), AIMessage(content='', additional_kwargs={'tool_calls': [{'id': 'call_h4LCC6GLzJbdaX3a2c82UCdR', 'function': {'arguments': '{\"a\":3,\"b\":4}', 'name': 'add'}, 'type': 'function'}], 'refusal': None}, response_metadata={'token_usage': {'completion_tokens': 18, 'prompt_tokens': 145, 'total_tokens': 163, 'completion_tokens_details': {'accepted_prediction_tokens': 0, 'audio_tokens': 0, 'reasoning_tokens': 0, 'rejected_prediction_tokens': 0}, 'prompt_tokens_details': {'audio_tokens': 0, 'cached_tokens': 0}}, 'model_name': 'gpt-4o-2024-08-06', 'system_fingerprint': 'fp_b7d65f1a5b', 'finish_reason': 'tool_calls', 'logprobs': None}, id='run-2a41e35f-dfa1-4797-aa91-f607ad6f744c-0', tool_calls=[{'name': 'add', 'args': {'a': 3, 'b': 4}, 'id': 'call_h4LCC6GLzJbdaX3a2c82UCdR', 'type': 'tool_call'}], usage_metadata={'input_tokens': 145, 'output_tokens': 18, 'total_tokens': 163, 'input_token_details': {'audio': 0, 'cache_read': 0}, 'output_token_details': {'audio': 0, 'reasoning': 0}}), ToolMessage(content='7', name='add', id='4201bf12-55f4-4e9e-bfa1-18ed719d54c3', tool_call_id='call_h4LCC6GLzJbdaX3a2c82UCdR')]},)\n",
      "  kwargs: {}\n",
      "\n",
      "\u001b[94m#### [Output State]\u001b[0m\n",
      "  result: {'messages': [AIMessage(content='', additional_kwargs={'tool_calls': [{'id': 'call_hoy6qRXYyrrIerynhPd5IbCW', 'function': {'arguments': '{\"a\":7,\"b\":2}', 'name': 'multiply'}, 'type': 'function'}], 'refusal': None}, response_metadata={'token_usage': {'completion_tokens': 18, 'prompt_tokens': 170, 'total_tokens': 188, 'completion_tokens_details': {'accepted_prediction_tokens': 0, 'audio_tokens': 0, 'reasoning_tokens': 0, 'rejected_prediction_tokens': 0}, 'prompt_tokens_details': {'audio_tokens': 0, 'cached_tokens': 0}}, 'model_name': 'gpt-4o-2024-08-06', 'system_fingerprint': 'fp_b7d65f1a5b', 'finish_reason': 'tool_calls', 'logprobs': None}, id='run-db76d69b-2f78-42b2-98e6-71f8cf77fc65-0', tool_calls=[{'name': 'multiply', 'args': {'a': 7, 'b': 2}, 'id': 'call_hoy6qRXYyrrIerynhPd5IbCW', 'type': 'tool_call'}], usage_metadata={'input_tokens': 170, 'output_tokens': 18, 'total_tokens': 188, 'input_token_details': {'audio': 0, 'cache_read': 0}, 'output_token_details': {'audio': 0, 'reasoning': 0}})]}\n",
      "\n",
      "\u001b[92m🚀 Passing Through [multiply] ..\u001b[0m\n",
      "\n",
      "\u001b[91m#### [Input State]\u001b[0m\n",
      "  args: ()\n",
      "  kwargs: {'a': 7, 'b': 2}\n",
      "\n",
      "\u001b[94m#### [Output State]\u001b[0m\n",
      "  result: 14\n",
      "\n",
      "\u001b[92m🚀 Passing Through [node_assistant] ..\u001b[0m\n",
      "\n",
      "\u001b[91m#### [Input State]\u001b[0m\n",
      "  args: ({'messages': [HumanMessage(content='Add 3 and 4. Multiply the output by 2. Divide the output by 5', additional_kwargs={}, response_metadata={}, id='98510fe5-e302-4855-ae9b-8f1609dac9e4'), AIMessage(content='', additional_kwargs={'tool_calls': [{'id': 'call_h4LCC6GLzJbdaX3a2c82UCdR', 'function': {'arguments': '{\"a\":3,\"b\":4}', 'name': 'add'}, 'type': 'function'}], 'refusal': None}, response_metadata={'token_usage': {'completion_tokens': 18, 'prompt_tokens': 145, 'total_tokens': 163, 'completion_tokens_details': {'accepted_prediction_tokens': 0, 'audio_tokens': 0, 'reasoning_tokens': 0, 'rejected_prediction_tokens': 0}, 'prompt_tokens_details': {'audio_tokens': 0, 'cached_tokens': 0}}, 'model_name': 'gpt-4o-2024-08-06', 'system_fingerprint': 'fp_b7d65f1a5b', 'finish_reason': 'tool_calls', 'logprobs': None}, id='run-2a41e35f-dfa1-4797-aa91-f607ad6f744c-0', tool_calls=[{'name': 'add', 'args': {'a': 3, 'b': 4}, 'id': 'call_h4LCC6GLzJbdaX3a2c82UCdR', 'type': 'tool_call'}], usage_metadata={'input_tokens': 145, 'output_tokens': 18, 'total_tokens': 163, 'input_token_details': {'audio': 0, 'cache_read': 0}, 'output_token_details': {'audio': 0, 'reasoning': 0}}), ToolMessage(content='7', name='add', id='4201bf12-55f4-4e9e-bfa1-18ed719d54c3', tool_call_id='call_h4LCC6GLzJbdaX3a2c82UCdR'), AIMessage(content='', additional_kwargs={'tool_calls': [{'id': 'call_hoy6qRXYyrrIerynhPd5IbCW', 'function': {'arguments': '{\"a\":7,\"b\":2}', 'name': 'multiply'}, 'type': 'function'}], 'refusal': None}, response_metadata={'token_usage': {'completion_tokens': 18, 'prompt_tokens': 170, 'total_tokens': 188, 'completion_tokens_details': {'accepted_prediction_tokens': 0, 'audio_tokens': 0, 'reasoning_tokens': 0, 'rejected_prediction_tokens': 0}, 'prompt_tokens_details': {'audio_tokens': 0, 'cached_tokens': 0}}, 'model_name': 'gpt-4o-2024-08-06', 'system_fingerprint': 'fp_b7d65f1a5b', 'finish_reason': 'tool_calls', 'logprobs': None}, id='run-db76d69b-2f78-42b2-98e6-71f8cf77fc65-0', tool_calls=[{'name': 'multiply', 'args': {'a': 7, 'b': 2}, 'id': 'call_hoy6qRXYyrrIerynhPd5IbCW', 'type': 'tool_call'}], usage_metadata={'input_tokens': 170, 'output_tokens': 18, 'total_tokens': 188, 'input_token_details': {'audio': 0, 'cache_read': 0}, 'output_token_details': {'audio': 0, 'reasoning': 0}}), ToolMessage(content='14', name='multiply', id='82049fdb-01dd-4307-9894-0c282a7eaa60', tool_call_id='call_hoy6qRXYyrrIerynhPd5IbCW')]},)\n",
      "  kwargs: {}\n",
      "\n",
      "\u001b[94m#### [Output State]\u001b[0m\n",
      "  result: {'messages': [AIMessage(content='', additional_kwargs={'tool_calls': [{'id': 'call_jYsG90wjxIx0UQLefo3TYcRp', 'function': {'arguments': '{\"a\":14,\"b\":5}', 'name': 'divide'}, 'type': 'function'}], 'refusal': None}, response_metadata={'token_usage': {'completion_tokens': 18, 'prompt_tokens': 195, 'total_tokens': 213, 'completion_tokens_details': {'accepted_prediction_tokens': 0, 'audio_tokens': 0, 'reasoning_tokens': 0, 'rejected_prediction_tokens': 0}, 'prompt_tokens_details': {'audio_tokens': 0, 'cached_tokens': 0}}, 'model_name': 'gpt-4o-2024-08-06', 'system_fingerprint': 'fp_b7d65f1a5b', 'finish_reason': 'tool_calls', 'logprobs': None}, id='run-6931a82c-ed9e-41e7-9df2-d0788818a50b-0', tool_calls=[{'name': 'divide', 'args': {'a': 14, 'b': 5}, 'id': 'call_jYsG90wjxIx0UQLefo3TYcRp', 'type': 'tool_call'}], usage_metadata={'input_tokens': 195, 'output_tokens': 18, 'total_tokens': 213, 'input_token_details': {'audio': 0, 'cache_read': 0}, 'output_token_details': {'audio': 0, 'reasoning': 0}})]}\n",
      "\n",
      "\u001b[92m🚀 Passing Through [divide] ..\u001b[0m\n",
      "\n",
      "\u001b[91m#### [Input State]\u001b[0m\n",
      "  args: ()\n",
      "  kwargs: {'a': 14, 'b': 5}\n",
      "\n",
      "\u001b[94m#### [Output State]\u001b[0m\n",
      "  result: 2.8\n",
      "\n",
      "\u001b[92m🚀 Passing Through [node_assistant] ..\u001b[0m\n",
      "\n",
      "\u001b[91m#### [Input State]\u001b[0m\n",
      "  args: ({'messages': [HumanMessage(content='Add 3 and 4. Multiply the output by 2. Divide the output by 5', additional_kwargs={}, response_metadata={}, id='98510fe5-e302-4855-ae9b-8f1609dac9e4'), AIMessage(content='', additional_kwargs={'tool_calls': [{'id': 'call_h4LCC6GLzJbdaX3a2c82UCdR', 'function': {'arguments': '{\"a\":3,\"b\":4}', 'name': 'add'}, 'type': 'function'}], 'refusal': None}, response_metadata={'token_usage': {'completion_tokens': 18, 'prompt_tokens': 145, 'total_tokens': 163, 'completion_tokens_details': {'accepted_prediction_tokens': 0, 'audio_tokens': 0, 'reasoning_tokens': 0, 'rejected_prediction_tokens': 0}, 'prompt_tokens_details': {'audio_tokens': 0, 'cached_tokens': 0}}, 'model_name': 'gpt-4o-2024-08-06', 'system_fingerprint': 'fp_b7d65f1a5b', 'finish_reason': 'tool_calls', 'logprobs': None}, id='run-2a41e35f-dfa1-4797-aa91-f607ad6f744c-0', tool_calls=[{'name': 'add', 'args': {'a': 3, 'b': 4}, 'id': 'call_h4LCC6GLzJbdaX3a2c82UCdR', 'type': 'tool_call'}], usage_metadata={'input_tokens': 145, 'output_tokens': 18, 'total_tokens': 163, 'input_token_details': {'audio': 0, 'cache_read': 0}, 'output_token_details': {'audio': 0, 'reasoning': 0}}), ToolMessage(content='7', name='add', id='4201bf12-55f4-4e9e-bfa1-18ed719d54c3', tool_call_id='call_h4LCC6GLzJbdaX3a2c82UCdR'), AIMessage(content='', additional_kwargs={'tool_calls': [{'id': 'call_hoy6qRXYyrrIerynhPd5IbCW', 'function': {'arguments': '{\"a\":7,\"b\":2}', 'name': 'multiply'}, 'type': 'function'}], 'refusal': None}, response_metadata={'token_usage': {'completion_tokens': 18, 'prompt_tokens': 170, 'total_tokens': 188, 'completion_tokens_details': {'accepted_prediction_tokens': 0, 'audio_tokens': 0, 'reasoning_tokens': 0, 'rejected_prediction_tokens': 0}, 'prompt_tokens_details': {'audio_tokens': 0, 'cached_tokens': 0}}, 'model_name': 'gpt-4o-2024-08-06', 'system_fingerprint': 'fp_b7d65f1a5b', 'finish_reason': 'tool_calls', 'logprobs': None}, id='run-db76d69b-2f78-42b2-98e6-71f8cf77fc65-0', tool_calls=[{'name': 'multiply', 'args': {'a': 7, 'b': 2}, 'id': 'call_hoy6qRXYyrrIerynhPd5IbCW', 'type': 'tool_call'}], usage_metadata={'input_tokens': 170, 'output_tokens': 18, 'total_tokens': 188, 'input_token_details': {'audio': 0, 'cache_read': 0}, 'output_token_details': {'audio': 0, 'reasoning': 0}}), ToolMessage(content='14', name='multiply', id='82049fdb-01dd-4307-9894-0c282a7eaa60', tool_call_id='call_hoy6qRXYyrrIerynhPd5IbCW'), AIMessage(content='', additional_kwargs={'tool_calls': [{'id': 'call_jYsG90wjxIx0UQLefo3TYcRp', 'function': {'arguments': '{\"a\":14,\"b\":5}', 'name': 'divide'}, 'type': 'function'}], 'refusal': None}, response_metadata={'token_usage': {'completion_tokens': 18, 'prompt_tokens': 195, 'total_tokens': 213, 'completion_tokens_details': {'accepted_prediction_tokens': 0, 'audio_tokens': 0, 'reasoning_tokens': 0, 'rejected_prediction_tokens': 0}, 'prompt_tokens_details': {'audio_tokens': 0, 'cached_tokens': 0}}, 'model_name': 'gpt-4o-2024-08-06', 'system_fingerprint': 'fp_b7d65f1a5b', 'finish_reason': 'tool_calls', 'logprobs': None}, id='run-6931a82c-ed9e-41e7-9df2-d0788818a50b-0', tool_calls=[{'name': 'divide', 'args': {'a': 14, 'b': 5}, 'id': 'call_jYsG90wjxIx0UQLefo3TYcRp', 'type': 'tool_call'}], usage_metadata={'input_tokens': 195, 'output_tokens': 18, 'total_tokens': 213, 'input_token_details': {'audio': 0, 'cache_read': 0}, 'output_token_details': {'audio': 0, 'reasoning': 0}}), ToolMessage(content='2.8', name='divide', id='65f91bd3-af47-4540-8107-9e5455a47153', tool_call_id='call_jYsG90wjxIx0UQLefo3TYcRp')]},)\n",
      "  kwargs: {}\n",
      "\n",
      "\u001b[94m#### [Output State]\u001b[0m\n",
      "  result: {'messages': [AIMessage(content='The result is 2.8.', additional_kwargs={'refusal': None}, response_metadata={'token_usage': {'completion_tokens': 10, 'prompt_tokens': 222, 'total_tokens': 232, 'completion_tokens_details': {'accepted_prediction_tokens': 0, 'audio_tokens': 0, 'reasoning_tokens': 0, 'rejected_prediction_tokens': 0}, 'prompt_tokens_details': {'audio_tokens': 0, 'cached_tokens': 0}}, 'model_name': 'gpt-4o-2024-08-06', 'system_fingerprint': 'fp_b7d65f1a5b', 'finish_reason': 'stop', 'logprobs': None}, id='run-521827f9-e678-47ae-b6fa-7c3bfe25ff6b-0', usage_metadata={'input_tokens': 222, 'output_tokens': 10, 'total_tokens': 232, 'input_token_details': {'audio': 0, 'cache_read': 0}, 'output_token_details': {'audio': 0, 'reasoning': 0}})]}\n"
     ]
    }
   ],
   "source": [
    "messages = [HumanMessage(content=\"Add 3 and 4. Multiply the output by 2. Divide the output by 5\")]\n",
    "messages = graph.invoke({\"messages\": messages})"
   ]
  },
  {
   "cell_type": "code",
   "execution_count": 6,
   "metadata": {},
   "outputs": [
    {
     "data": {
      "text/plain": [
       "{'messages': [HumanMessage(content='Add 3 and 4. Multiply the output by 2. Divide the output by 5', additional_kwargs={}, response_metadata={}, id='98510fe5-e302-4855-ae9b-8f1609dac9e4'),\n",
       "  AIMessage(content='', additional_kwargs={'tool_calls': [{'id': 'call_h4LCC6GLzJbdaX3a2c82UCdR', 'function': {'arguments': '{\"a\":3,\"b\":4}', 'name': 'add'}, 'type': 'function'}], 'refusal': None}, response_metadata={'token_usage': {'completion_tokens': 18, 'prompt_tokens': 145, 'total_tokens': 163, 'completion_tokens_details': {'accepted_prediction_tokens': 0, 'audio_tokens': 0, 'reasoning_tokens': 0, 'rejected_prediction_tokens': 0}, 'prompt_tokens_details': {'audio_tokens': 0, 'cached_tokens': 0}}, 'model_name': 'gpt-4o-2024-08-06', 'system_fingerprint': 'fp_b7d65f1a5b', 'finish_reason': 'tool_calls', 'logprobs': None}, id='run-2a41e35f-dfa1-4797-aa91-f607ad6f744c-0', tool_calls=[{'name': 'add', 'args': {'a': 3, 'b': 4}, 'id': 'call_h4LCC6GLzJbdaX3a2c82UCdR', 'type': 'tool_call'}], usage_metadata={'input_tokens': 145, 'output_tokens': 18, 'total_tokens': 163, 'input_token_details': {'audio': 0, 'cache_read': 0}, 'output_token_details': {'audio': 0, 'reasoning': 0}}),\n",
       "  ToolMessage(content='7', name='add', id='4201bf12-55f4-4e9e-bfa1-18ed719d54c3', tool_call_id='call_h4LCC6GLzJbdaX3a2c82UCdR'),\n",
       "  AIMessage(content='', additional_kwargs={'tool_calls': [{'id': 'call_hoy6qRXYyrrIerynhPd5IbCW', 'function': {'arguments': '{\"a\":7,\"b\":2}', 'name': 'multiply'}, 'type': 'function'}], 'refusal': None}, response_metadata={'token_usage': {'completion_tokens': 18, 'prompt_tokens': 170, 'total_tokens': 188, 'completion_tokens_details': {'accepted_prediction_tokens': 0, 'audio_tokens': 0, 'reasoning_tokens': 0, 'rejected_prediction_tokens': 0}, 'prompt_tokens_details': {'audio_tokens': 0, 'cached_tokens': 0}}, 'model_name': 'gpt-4o-2024-08-06', 'system_fingerprint': 'fp_b7d65f1a5b', 'finish_reason': 'tool_calls', 'logprobs': None}, id='run-db76d69b-2f78-42b2-98e6-71f8cf77fc65-0', tool_calls=[{'name': 'multiply', 'args': {'a': 7, 'b': 2}, 'id': 'call_hoy6qRXYyrrIerynhPd5IbCW', 'type': 'tool_call'}], usage_metadata={'input_tokens': 170, 'output_tokens': 18, 'total_tokens': 188, 'input_token_details': {'audio': 0, 'cache_read': 0}, 'output_token_details': {'audio': 0, 'reasoning': 0}}),\n",
       "  ToolMessage(content='14', name='multiply', id='82049fdb-01dd-4307-9894-0c282a7eaa60', tool_call_id='call_hoy6qRXYyrrIerynhPd5IbCW'),\n",
       "  AIMessage(content='', additional_kwargs={'tool_calls': [{'id': 'call_jYsG90wjxIx0UQLefo3TYcRp', 'function': {'arguments': '{\"a\":14,\"b\":5}', 'name': 'divide'}, 'type': 'function'}], 'refusal': None}, response_metadata={'token_usage': {'completion_tokens': 18, 'prompt_tokens': 195, 'total_tokens': 213, 'completion_tokens_details': {'accepted_prediction_tokens': 0, 'audio_tokens': 0, 'reasoning_tokens': 0, 'rejected_prediction_tokens': 0}, 'prompt_tokens_details': {'audio_tokens': 0, 'cached_tokens': 0}}, 'model_name': 'gpt-4o-2024-08-06', 'system_fingerprint': 'fp_b7d65f1a5b', 'finish_reason': 'tool_calls', 'logprobs': None}, id='run-6931a82c-ed9e-41e7-9df2-d0788818a50b-0', tool_calls=[{'name': 'divide', 'args': {'a': 14, 'b': 5}, 'id': 'call_jYsG90wjxIx0UQLefo3TYcRp', 'type': 'tool_call'}], usage_metadata={'input_tokens': 195, 'output_tokens': 18, 'total_tokens': 213, 'input_token_details': {'audio': 0, 'cache_read': 0}, 'output_token_details': {'audio': 0, 'reasoning': 0}}),\n",
       "  ToolMessage(content='2.8', name='divide', id='65f91bd3-af47-4540-8107-9e5455a47153', tool_call_id='call_jYsG90wjxIx0UQLefo3TYcRp'),\n",
       "  AIMessage(content='The result is 2.8.', additional_kwargs={'refusal': None}, response_metadata={'token_usage': {'completion_tokens': 10, 'prompt_tokens': 222, 'total_tokens': 232, 'completion_tokens_details': {'accepted_prediction_tokens': 0, 'audio_tokens': 0, 'reasoning_tokens': 0, 'rejected_prediction_tokens': 0}, 'prompt_tokens_details': {'audio_tokens': 0, 'cached_tokens': 0}}, 'model_name': 'gpt-4o-2024-08-06', 'system_fingerprint': 'fp_b7d65f1a5b', 'finish_reason': 'stop', 'logprobs': None}, id='run-521827f9-e678-47ae-b6fa-7c3bfe25ff6b-0', usage_metadata={'input_tokens': 222, 'output_tokens': 10, 'total_tokens': 232, 'input_token_details': {'audio': 0, 'cache_read': 0}, 'output_token_details': {'audio': 0, 'reasoning': 0}})]}"
      ]
     },
     "execution_count": 6,
     "metadata": {},
     "output_type": "execute_result"
    }
   ],
   "source": [
    "messages"
   ]
  }
 ],
 "metadata": {
  "kernelspec": {
   "display_name": "langchain",
   "language": "python",
   "name": "langchain"
  },
  "language_info": {
   "codemirror_mode": {
    "name": "ipython",
    "version": 3
   },
   "file_extension": ".py",
   "mimetype": "text/x-python",
   "name": "python",
   "nbconvert_exporter": "python",
   "pygments_lexer": "ipython3",
   "version": "3.11.11"
  }
 },
 "nbformat": 4,
 "nbformat_minor": 2
}
