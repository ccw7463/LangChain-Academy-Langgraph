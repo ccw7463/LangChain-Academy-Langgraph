{
 "cells": [
  {
   "cell_type": "markdown",
   "metadata": {},
   "source": [
    "참고\n",
    "- `@trace_function()` 은 제가 자체적으로 작성한 데코레이터입니다. 경로는 `utils/util.py` 입니다.\n",
    "\n",
    "- 랭그래프를 실행하기 위한 라이브러리 목록은 `modules/base.py` 에 있습니다."
   ]
  },
  {
   "cell_type": "code",
   "execution_count": 11,
   "metadata": {},
   "outputs": [],
   "source": [
    "from modules.base import *"
   ]
  },
  {
   "cell_type": "markdown",
   "metadata": {},
   "source": [
    "#### 메시지 이해하기\n",
    "- 노드는 특정 기능을 수행하는 함수\n",
    "\n",
    "- 에지는 노드를 연결하는 역할"
   ]
  },
  {
   "cell_type": "markdown",
   "metadata": {},
   "source": [
    "---"
   ]
  },
  {
   "cell_type": "markdown",
   "metadata": {},
   "source": [
    "##### 1. override : state는 기본적으로 override 됨."
   ]
  },
  {
   "cell_type": "code",
   "execution_count": 2,
   "metadata": {},
   "outputs": [
    {
     "name": "stdout",
     "output_type": "stream",
     "text": [
      "\n",
      "\u001b[92m🚀 Passing Through [node_1] ..\u001b[0m\n",
      "\n",
      "\u001b[91m#### [Input State]\u001b[0m\n",
      "  args: ({'cnt': 1},)\n",
      "  kwargs: {}\n",
      "\n",
      "\u001b[94m#### [Output State]\u001b[0m\n",
      "  result: {'cnt': 2}\n"
     ]
    },
    {
     "data": {
      "text/plain": [
       "{'cnt': 2}"
      ]
     },
     "execution_count": 2,
     "metadata": {},
     "output_type": "execute_result"
    }
   ],
   "source": [
    "class TypedDictState(TypedDict):\n",
    "    cnt: int\n",
    "    \n",
    "@trace_function()\n",
    "def node_1(state):\n",
    "    return {\"cnt\": state['cnt'] + 1}\n",
    "\n",
    "builder = StateGraph(TypedDictState)\n",
    "builder.add_node(\"node_1\", node_1)\n",
    "builder.add_edge(START, \"node_1\")\n",
    "builder.add_edge(\"node_1\", END)\n",
    "graph = builder.compile()\n",
    "graph.invoke({\"cnt\":1})"
   ]
  },
  {
   "cell_type": "markdown",
   "metadata": {},
   "source": [
    "##### 2. append : append 되는 형태로 하면, 멀티턴 쉽게 구현 가능"
   ]
  },
  {
   "cell_type": "markdown",
   "metadata": {},
   "source": [
    "- 단순 state 일 경우 `from operator import add` 사용"
   ]
  },
  {
   "cell_type": "code",
   "execution_count": 3,
   "metadata": {},
   "outputs": [
    {
     "name": "stdout",
     "output_type": "stream",
     "text": [
      "\n",
      "\u001b[92m🚀 Passing Through [node_1] ..\u001b[0m\n",
      "\n",
      "\u001b[91m#### [Input State]\u001b[0m\n",
      "  args: ({'cnt': [1]},)\n",
      "  kwargs: {}\n",
      "\n",
      "\u001b[94m#### [Output State]\u001b[0m\n",
      "  result: {'cnt': [2]}\n"
     ]
    },
    {
     "data": {
      "text/plain": [
       "{'cnt': [1, 2]}"
      ]
     },
     "execution_count": 3,
     "metadata": {},
     "output_type": "execute_result"
    }
   ],
   "source": [
    "class State(TypedDict): \n",
    "    cnt: Annotated[list[int], add]\n",
    "\n",
    "@trace_function()\n",
    "def node_1(state):\n",
    "    return {\"cnt\": [state['cnt'][0] + 1]}\n",
    "\n",
    "builder = StateGraph(State)\n",
    "builder.add_node(\"node_1\", node_1)\n",
    "builder.add_edge(START, \"node_1\")\n",
    "builder.add_edge(\"node_1\", END)\n",
    "graph = builder.compile()\n",
    "graph.invoke({\"cnt\":[1]})"
   ]
  },
  {
   "cell_type": "markdown",
   "metadata": {},
   "source": [
    "- messages 일 경우 `from langgraph.graph.message import add_messages` 사용\n",
    "\n",
    "- 중요한점은, add_messages를 추가한 MessagesState 클래스를 직접 선언해도되지만\n",
    "\n",
    "- 사전에 정의된 `from langgraph.graph import MessagesState` 를 사용해도됨"
   ]
  },
  {
   "cell_type": "code",
   "execution_count": 4,
   "metadata": {},
   "outputs": [
    {
     "name": "stdout",
     "output_type": "stream",
     "text": [
      "\n",
      "\u001b[92m🚀 Passing Through [node_1] ..\u001b[0m\n",
      "\n",
      "\u001b[91m#### [Input State]\u001b[0m\n",
      "  args: ({'messages': [HumanMessage(content='Hi, this is changwoo.', additional_kwargs={}, response_metadata={}, id='bfaca658-a2ef-440a-9265-9453f7e7b391')]},)\n",
      "  kwargs: {}\n",
      "\n",
      "\u001b[94m#### [Output State]\u001b[0m\n",
      "  result: {'messages': [AIMessage(content='Hello Changwoo! How can I assist you today?', additional_kwargs={'refusal': None}, response_metadata={'token_usage': {'completion_tokens': 12, 'prompt_tokens': 14, 'total_tokens': 26, 'completion_tokens_details': {'accepted_prediction_tokens': 0, 'audio_tokens': 0, 'reasoning_tokens': 0, 'rejected_prediction_tokens': 0}, 'prompt_tokens_details': {'audio_tokens': 0, 'cached_tokens': 0}}, 'model_name': 'gpt-4o-2024-08-06', 'system_fingerprint': 'fp_703d4ff298', 'finish_reason': 'stop', 'logprobs': None}, id='run-6b66d71b-ae61-4218-882a-070c92fbca8d-0', usage_metadata={'input_tokens': 14, 'output_tokens': 12, 'total_tokens': 26, 'input_token_details': {'audio': 0, 'cache_read': 0}, 'output_token_details': {'audio': 0, 'reasoning': 0}})]}\n",
      "\n",
      "\u001b[92m🚀 Passing Through [node_2] ..\u001b[0m\n",
      "\n",
      "\u001b[91m#### [Input State]\u001b[0m\n",
      "  args: ({'messages': [HumanMessage(content='Hi, this is changwoo.', additional_kwargs={}, response_metadata={}, id='bfaca658-a2ef-440a-9265-9453f7e7b391'), AIMessage(content='Hello Changwoo! How can I assist you today?', additional_kwargs={'refusal': None}, response_metadata={'token_usage': {'completion_tokens': 12, 'prompt_tokens': 14, 'total_tokens': 26, 'completion_tokens_details': {'accepted_prediction_tokens': 0, 'audio_tokens': 0, 'reasoning_tokens': 0, 'rejected_prediction_tokens': 0}, 'prompt_tokens_details': {'audio_tokens': 0, 'cached_tokens': 0}}, 'model_name': 'gpt-4o-2024-08-06', 'system_fingerprint': 'fp_703d4ff298', 'finish_reason': 'stop', 'logprobs': None}, id='run-6b66d71b-ae61-4218-882a-070c92fbca8d-0', usage_metadata={'input_tokens': 14, 'output_tokens': 12, 'total_tokens': 26, 'input_token_details': {'audio': 0, 'cache_read': 0}, 'output_token_details': {'audio': 0, 'reasoning': 0}})]},)\n",
      "  kwargs: {}\n",
      "\n",
      "\u001b[94m#### [Output State]\u001b[0m\n",
      "  result: {'messages': [AIMessage(content='You mentioned that your name is Changwoo.', additional_kwargs={'refusal': None}, response_metadata={'token_usage': {'completion_tokens': 10, 'prompt_tokens': 38, 'total_tokens': 48, 'completion_tokens_details': {'accepted_prediction_tokens': 0, 'audio_tokens': 0, 'reasoning_tokens': 0, 'rejected_prediction_tokens': 0}, 'prompt_tokens_details': {'audio_tokens': 0, 'cached_tokens': 0}}, 'model_name': 'gpt-4o-2024-08-06', 'system_fingerprint': 'fp_d28bcae782', 'finish_reason': 'stop', 'logprobs': None}, id='run-1d354589-ee0c-49c7-8c8e-02f91dda4440-0', usage_metadata={'input_tokens': 38, 'output_tokens': 10, 'total_tokens': 48, 'input_token_details': {'audio': 0, 'cache_read': 0}, 'output_token_details': {'audio': 0, 'reasoning': 0}})]}\n"
     ]
    }
   ],
   "source": [
    "# option 1 : 직접 정의\n",
    "class MessagesState(TypedDict):\n",
    "    messages: Annotated[list[AnyMessage], add_messages]\n",
    "\n",
    "# option 2 : 사전에 정의된 Component\n",
    "# from langgraph.graph import MessagesState\n",
    "\n",
    "# option 3 : 상속받기 (아래처럼 상속받으면, messages 와 summary 사용 가능)\n",
    "# class State(MessagesState):\n",
    "#     summary: str\n",
    "\n",
    "@trace_function()\n",
    "def node_1(state:MessagesState):\n",
    "    return {\"messages\": [llm.invoke(state[\"messages\"])]}\n",
    "\n",
    "@trace_function()\n",
    "def node_2(state:MessagesState):\n",
    "    return {\"messages\": [llm.invoke(state[\"messages\"] + [HumanMessage(content=\"what is my name?\")])]}\n",
    "\n",
    "# Build graph\n",
    "builder = StateGraph(MessagesState)\n",
    "builder.add_node(\"node_1\", node_1)\n",
    "builder.add_node(\"node_2\", node_2)\n",
    "builder.add_edge(START, \"node_1\")\n",
    "builder.add_edge(\"node_1\", \"node_2\")\n",
    "builder.add_edge(\"node_2\", END)\n",
    "graph = builder.compile()\n",
    "result = graph.invoke({\"messages\":\"Hi, this is changwoo.\"})"
   ]
  },
  {
   "cell_type": "markdown",
   "metadata": {},
   "source": [
    "##### 3. add_messages 이해\n",
    "- id 값이 없을 경우 무조건 append\n",
    "- id 값이 있을 경우, 해당 id 값이 있는 경우 overwrite"
   ]
  },
  {
   "cell_type": "code",
   "execution_count": 5,
   "metadata": {},
   "outputs": [
    {
     "data": {
      "text/plain": [
       "[AIMessage(content='Hello! How can I assist you?', additional_kwargs={}, response_metadata={}, name='Model', id='208c9916-f5e6-4055-b7ff-92aef5be4e4f'),\n",
       " HumanMessage(content=\"I'm looking for information on marine biology.\", additional_kwargs={}, response_metadata={}, name='Lance', id='51f15061-e8e8-40d1-be27-975489f805f4'),\n",
       " AIMessage(content='Sure, I can help with that. What specifically are you interested in?', additional_kwargs={}, response_metadata={}, name='Model', id='b729b556-6fb2-4fe0-b5cc-845757933e56')]"
      ]
     },
     "execution_count": 5,
     "metadata": {},
     "output_type": "execute_result"
    }
   ],
   "source": [
    "initial_messages = [AIMessage(content=\"Hello! How can I assist you?\", \n",
    "                              name=\"Model\"),\n",
    "                    HumanMessage(content=\"I'm looking for information on marine biology.\", \n",
    "                                 name=\"Lance\")]\n",
    "new_message = AIMessage(content=\"Sure, I can help with that. What specifically are you interested in?\", \n",
    "                        name=\"Model\")\n",
    "add_messages(initial_messages , new_message)"
   ]
  },
  {
   "cell_type": "code",
   "execution_count": 6,
   "metadata": {},
   "outputs": [
    {
     "data": {
      "text/plain": [
       "[AIMessage(content='Hello! How can I assist you?', additional_kwargs={}, response_metadata={}, name='Model', id='1'),\n",
       " HumanMessage(content=\"I'm looking for information on whales, specifically\", additional_kwargs={}, response_metadata={}, name='changwoo', id='2')]"
      ]
     },
     "execution_count": 6,
     "metadata": {},
     "output_type": "execute_result"
    }
   ],
   "source": [
    "# with id -> append and overwrite\n",
    "initial_messages = [AIMessage(content=\"Hello! How can I assist you?\", \n",
    "                              name=\"Model\", \n",
    "                              id=\"1\"),\n",
    "                    HumanMessage(content=\"I'm looking for information on marine biology.\", \n",
    "                                 name=\"Lance\", \n",
    "                                 id=\"2\")]\n",
    "new_message = HumanMessage(content=\"I'm looking for information on whales, specifically\", \n",
    "                           name=\"changwoo\", \n",
    "                           id=\"2\")\n",
    "add_messages(initial_messages , new_message)"
   ]
  },
  {
   "cell_type": "markdown",
   "metadata": {},
   "source": [
    "##### 4. add_messages + RemoveMessage 이해\n",
    "- add_messages 사용시, RemoveMessage 값을 넘기면 지울수있음.\n",
    "\n",
    "- 참고사항 1) 단순히 `RemoveMessage 사용시, id 값이 없으면 삭제할때 에러`발생 (id 값 없어서)\n",
    "\n",
    "- 참고사항 2) 만약, `graph로 구성하고 RemoveMessage 사용시`에는 문제없음 (id 값 자동부여됨.)"
   ]
  },
  {
   "cell_type": "markdown",
   "metadata": {},
   "source": [
    "RemoveMessage 사용"
   ]
  },
  {
   "cell_type": "code",
   "execution_count": 7,
   "metadata": {},
   "outputs": [
    {
     "data": {
      "text/plain": [
       "[AIMessage(content='So you said you were researching ocean mammals?', additional_kwargs={}, response_metadata={}, name='Bot', id='3'),\n",
       " HumanMessage(content='Yes, I know about whales. But what others should I learn about?', additional_kwargs={}, response_metadata={}, name='Lance', id='4')]"
      ]
     },
     "execution_count": 7,
     "metadata": {},
     "output_type": "execute_result"
    }
   ],
   "source": [
    "messages = [AIMessage(\"Hi.\", \n",
    "                      name=\"Bot\", \n",
    "                      id=\"1\")]\n",
    "messages.append(HumanMessage(\"Hi.\", \n",
    "                             name=\"Lance\", \n",
    "                             id=\"2\"))\n",
    "messages.append(AIMessage(\"So you said you were researching ocean mammals?\", \n",
    "                          name=\"Bot\", \n",
    "                          id=\"3\"))\n",
    "messages.append(HumanMessage(\"Yes, I know about whales. But what others should I learn about?\", \n",
    "                             name=\"Lance\", \n",
    "                             id=\"4\"))\n",
    "\n",
    "delete_messages = [RemoveMessage(id=m.id) for m in messages[:-2]]\n",
    "add_messages(messages , delete_messages)"
   ]
  },
  {
   "cell_type": "markdown",
   "metadata": {},
   "source": [
    "Graph + RemoveMessage 사용"
   ]
  },
  {
   "cell_type": "code",
   "execution_count": 14,
   "metadata": {},
   "outputs": [
    {
     "name": "stdout",
     "output_type": "stream",
     "text": [
      "\n",
      "\u001b[92m🚀 Passing Through [filter_messages] ..\u001b[0m\n",
      "\n",
      "\u001b[91m#### [Input State]\u001b[0m\n",
      "  args: ({'messages': [AIMessage(content='Hi.', additional_kwargs={}, response_metadata={}, id='f6c7b12e-daf9-4b4e-9c6f-c4d9f7f0d4e1'), HumanMessage(content='Hi.', additional_kwargs={}, response_metadata={}, id='fe6bf41f-df7f-49c2-b8d0-19ed4d2f72d6'), AIMessage(content='So you said you were researching ocean mammals?', additional_kwargs={}, response_metadata={}, id='124545d4-4ec9-4036-9072-33a0a1ce1bc4'), HumanMessage(content='Yes, I know about whales. But what others should I learn about?', additional_kwargs={}, response_metadata={}, id='cedc66dd-8f7f-4ad5-9834-fb56401eafc9')]},)\n",
      "  kwargs: {}\n",
      "content='Hi.' additional_kwargs={} response_metadata={} id='f6c7b12e-daf9-4b4e-9c6f-c4d9f7f0d4e1'\n",
      "content='Hi.' additional_kwargs={} response_metadata={} id='fe6bf41f-df7f-49c2-b8d0-19ed4d2f72d6'\n",
      "\n",
      "\u001b[94m#### [Output State]\u001b[0m\n",
      "  result: {'messages': [RemoveMessage(content='', additional_kwargs={}, response_metadata={}, id='f6c7b12e-daf9-4b4e-9c6f-c4d9f7f0d4e1'), RemoveMessage(content='', additional_kwargs={}, response_metadata={}, id='fe6bf41f-df7f-49c2-b8d0-19ed4d2f72d6')]}\n",
      "\n",
      "\u001b[92m🚀 Passing Through [chat_model_node] ..\u001b[0m\n",
      "\n",
      "\u001b[91m#### [Input State]\u001b[0m\n",
      "  args: ({'messages': [AIMessage(content='So you said you were researching ocean mammals?', additional_kwargs={}, response_metadata={}, id='124545d4-4ec9-4036-9072-33a0a1ce1bc4'), HumanMessage(content='Yes, I know about whales. But what others should I learn about?', additional_kwargs={}, response_metadata={}, id='cedc66dd-8f7f-4ad5-9834-fb56401eafc9')]},)\n",
      "  kwargs: {}\n",
      "\n",
      "\u001b[94m#### [Output State]\u001b[0m\n",
      "  result: {'messages': [AIMessage(content='In addition to whales, there are several other fascinating ocean mammals you might want to explore:\\n\\n1. **Dolphins**: Known for their intelligence and playful behavior, dolphins are highly social creatures. There are many species, including the bottlenose dolphin and the orca, or killer whale, which is actually the largest member of the dolphin family.\\n\\n2. **Porpoises**: Often confused with dolphins, porpoises are generally smaller and have different shaped teeth and dorsal fins. The harbor porpoise is one of the most well-known species.\\n\\n3. **Seals**: These pinnipeds are known for their sleek bodies and excellent swimming abilities. Common species include the harbor seal and the gray seal.\\n\\n4. **Sea Lions**: Similar to seals but with external ear flaps and the ability to \"walk\" on land using their flippers. The California sea lion is a well-known species.\\n\\n5. **Walruses**: Recognizable by their large tusks and whiskers, walruses are social animals found in Arctic regions.\\n\\n6. **Manatees and Dugongs**: Often called \"sea cows,\" these gentle herbivores graze on underwater vegetation. Manatees are found in the Atlantic, while dugongs inhabit the Indo-Pacific region.\\n\\n7. **Sea Otters**: Known for their use of tools to open shellfish, sea otters have dense fur to keep them warm in cold waters and are often seen floating on their backs.\\n\\n8. **Polar Bears**: While primarily land animals, polar bears are excellent swimmers and spend much of their time on sea ice hunting for seals.\\n\\nEach of these mammals has unique adaptations to life in the ocean, and learning about them can provide insights into marine ecosystems and conservation challenges.', additional_kwargs={'refusal': None}, response_metadata={'token_usage': {'completion_tokens': 361, 'prompt_tokens': 35, 'total_tokens': 396, 'completion_tokens_details': {'accepted_prediction_tokens': 0, 'audio_tokens': 0, 'reasoning_tokens': 0, 'rejected_prediction_tokens': 0}, 'prompt_tokens_details': {'audio_tokens': 0, 'cached_tokens': 0}}, 'model_name': 'gpt-4o-2024-08-06', 'system_fingerprint': 'fp_b7d65f1a5b', 'finish_reason': 'stop', 'logprobs': None}, id='run-f2f48d2a-dab4-4f5f-8ff1-5d4691fc1c51-0', usage_metadata={'input_tokens': 35, 'output_tokens': 361, 'total_tokens': 396, 'input_token_details': {'audio': 0, 'cache_read': 0}, 'output_token_details': {'audio': 0, 'reasoning': 0}})]}\n"
     ]
    },
    {
     "data": {
      "text/plain": [
       "{'messages': [AIMessage(content='So you said you were researching ocean mammals?', additional_kwargs={}, response_metadata={}, id='124545d4-4ec9-4036-9072-33a0a1ce1bc4'),\n",
       "  HumanMessage(content='Yes, I know about whales. But what others should I learn about?', additional_kwargs={}, response_metadata={}, id='cedc66dd-8f7f-4ad5-9834-fb56401eafc9'),\n",
       "  AIMessage(content='In addition to whales, there are several other fascinating ocean mammals you might want to explore:\\n\\n1. **Dolphins**: Known for their intelligence and playful behavior, dolphins are highly social creatures. There are many species, including the bottlenose dolphin and the orca, or killer whale, which is actually the largest member of the dolphin family.\\n\\n2. **Porpoises**: Often confused with dolphins, porpoises are generally smaller and have different shaped teeth and dorsal fins. The harbor porpoise is one of the most well-known species.\\n\\n3. **Seals**: These pinnipeds are known for their sleek bodies and excellent swimming abilities. Common species include the harbor seal and the gray seal.\\n\\n4. **Sea Lions**: Similar to seals but with external ear flaps and the ability to \"walk\" on land using their flippers. The California sea lion is a well-known species.\\n\\n5. **Walruses**: Recognizable by their large tusks and whiskers, walruses are social animals found in Arctic regions.\\n\\n6. **Manatees and Dugongs**: Often called \"sea cows,\" these gentle herbivores graze on underwater vegetation. Manatees are found in the Atlantic, while dugongs inhabit the Indo-Pacific region.\\n\\n7. **Sea Otters**: Known for their use of tools to open shellfish, sea otters have dense fur to keep them warm in cold waters and are often seen floating on their backs.\\n\\n8. **Polar Bears**: While primarily land animals, polar bears are excellent swimmers and spend much of their time on sea ice hunting for seals.\\n\\nEach of these mammals has unique adaptations to life in the ocean, and learning about them can provide insights into marine ecosystems and conservation challenges.', additional_kwargs={'refusal': None}, response_metadata={'token_usage': {'completion_tokens': 361, 'prompt_tokens': 35, 'total_tokens': 396, 'completion_tokens_details': {'accepted_prediction_tokens': 0, 'audio_tokens': 0, 'reasoning_tokens': 0, 'rejected_prediction_tokens': 0}, 'prompt_tokens_details': {'audio_tokens': 0, 'cached_tokens': 0}}, 'model_name': 'gpt-4o-2024-08-06', 'system_fingerprint': 'fp_b7d65f1a5b', 'finish_reason': 'stop', 'logprobs': None}, id='run-f2f48d2a-dab4-4f5f-8ff1-5d4691fc1c51-0', usage_metadata={'input_tokens': 35, 'output_tokens': 361, 'total_tokens': 396, 'input_token_details': {'audio': 0, 'cache_read': 0}, 'output_token_details': {'audio': 0, 'reasoning': 0}})]}"
      ]
     },
     "execution_count": 14,
     "metadata": {},
     "output_type": "execute_result"
    }
   ],
   "source": [
    "messages = [AIMessage(\"Hi.\"),\n",
    "            HumanMessage(\"Hi.\"),\n",
    "            AIMessage(\"So you said you were researching ocean mammals?\"),\n",
    "            HumanMessage(\"Yes, I know about whales. But what others should I learn about?\")]\n",
    "\n",
    "@trace_function()\n",
    "def filter_messages(state: MessagesState):\n",
    "    for m in state[\"messages\"][:-2]:\n",
    "        print(m)\n",
    "    delete_messages = [RemoveMessage(id=m.id) for m in state[\"messages\"][:-2]]\n",
    "    return {\"messages\": delete_messages}\n",
    "\n",
    "@trace_function()\n",
    "def chat_model_node(state: MessagesState):    \n",
    "    return {\"messages\": [llm.invoke(state[\"messages\"])]}\n",
    "\n",
    "builder = StateGraph(MessagesState)\n",
    "builder.add_node(\"filter\", filter_messages)\n",
    "builder.add_node(\"chat_model\", chat_model_node)\n",
    "builder.add_edge(START, \"filter\")\n",
    "builder.add_edge(\"filter\", \"chat_model\")\n",
    "builder.add_edge(\"chat_model\", END)\n",
    "graph = builder.compile()\n",
    "graph.invoke({'messages': messages})"
   ]
  },
  {
   "cell_type": "markdown",
   "metadata": {},
   "source": [
    "##### 5. trim messages 이해\n",
    "- 전체 대화 텍스트에 대해 max_token 기준으로 자름.\n",
    "- 아래 예시에서는 max_tokens=80으로 잘랐을경우, 최근 대화 2개만 남음."
   ]
  },
  {
   "cell_type": "code",
   "execution_count": 26,
   "metadata": {},
   "outputs": [
    {
     "data": {
      "text/plain": [
       "[HumanMessage(content=\"I'm looking for information on whales. What should I know about them?\", additional_kwargs={}, response_metadata={}),\n",
       " AIMessage(content='Whales are fascinating creatures. They are the largest animals on Earth. They are found in all oceans, but they are most commonly found in the Pacific Ocean. They are known for their intelligence and their ability to communicate with each other.', additional_kwargs={}, response_metadata={})]"
      ]
     },
     "execution_count": 26,
     "metadata": {},
     "output_type": "execute_result"
    }
   ],
   "source": [
    "test_messages = [HumanMessage(content=\"Hi, this is changwoo. How are you?\"),\n",
    "                 AIMessage(content=\"I'm fine, thank you. How can I help you?\"),\n",
    "                 HumanMessage(content=\"I'm looking for information on whales. What should I know about them?\"),\n",
    "                 AIMessage(content=\"Whales are fascinating creatures. They are the largest animals on Earth. They are found in all oceans, but they are most commonly found in the Pacific Ocean. They are known for their intelligence and their ability to communicate with each other.\")]\n",
    "messages = trim_messages(test_messages,\n",
    "                         max_tokens=80,\n",
    "                         strategy=\"last\",\n",
    "                         token_counter=ChatOpenAI(model=\"gpt-4o\"),\n",
    "                         allow_partial=False)\n",
    "messages"
   ]
  }
 ],
 "metadata": {
  "kernelspec": {
   "display_name": "langchain",
   "language": "python",
   "name": "langchain"
  },
  "language_info": {
   "codemirror_mode": {
    "name": "ipython",
    "version": 3
   },
   "file_extension": ".py",
   "mimetype": "text/x-python",
   "name": "python",
   "nbconvert_exporter": "python",
   "pygments_lexer": "ipython3",
   "version": "3.11.11"
  }
 },
 "nbformat": 4,
 "nbformat_minor": 2
}
